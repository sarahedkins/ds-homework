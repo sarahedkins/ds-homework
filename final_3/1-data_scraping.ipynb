{
 "cells": [
  {
   "cell_type": "markdown",
   "metadata": {},
   "source": [
    "# 1. Data Scraping"
   ]
  },
  {
   "cell_type": "code",
   "execution_count": 1,
   "metadata": {
    "collapsed": true
   },
   "outputs": [],
   "source": [
    "import pandas as pd\n",
    "import numpy as np\n",
    "import urllib2\n",
    "import bs4\n",
    "from bs4 import BeautifulSoup\n",
    "import json\n",
    "from urllib2 import Request, urlopen, URLError"
   ]
  },
  {
   "cell_type": "code",
   "execution_count": 2,
   "metadata": {
    "collapsed": false
   },
   "outputs": [],
   "source": [
    "# List of Topic landing pages as starting points for collecting article URLS\n",
    "landing_pages =  [\n",
    "    \"https://www.americanexpress.com/us/small-business/openforum/wp-admin/admin-ajax.php?action=getTopicPageData&topicId=21622&pageType=topic\",\n",
    "    \"https://www.americanexpress.com/us/small-business/openforum/wp-admin/admin-ajax.php?action=getTopicPageData&topicId=20907&pageType=topic\",\n",
    "    \"https://www.americanexpress.com/us/small-business/openforum/wp-admin/admin-ajax.php?action=getTopicPageData&topicId=20911&pageType=topic\",\n",
    "    \"https://www.americanexpress.com/us/small-business/openforum/wp-admin/admin-ajax.php?action=getTopicPageData&topicId=20909&pageType=topic\",\n",
    "    \"https://www.americanexpress.com/us/small-business/openforum/wp-admin/admin-ajax.php?action=getTopicPageData&topicId=20909&pageType=topic\",\n",
    "    \"https://www.americanexpress.com/us/small-business/openforum/wp-admin/admin-ajax.php?action=getTopicPageData&topicId=2462&pageType=topic\",\n",
    "    \"https://www.americanexpress.com/us/small-business/openforum/wp-admin/admin-ajax.php?action=getTopicPageData&topicId=20883&pageType=topic\",\n",
    "    \"https://www.americanexpress.com/us/small-business/openforum/wp-admin/admin-ajax.php?action=getTopicPageData&topicId=5353&pageType=topic\",\n",
    "    \"https://www.americanexpress.com/us/small-business/openforum/wp-admin/admin-ajax.php?action=getTopicPageData&topicId=2731&pageType=topic\",\n",
    "    \"https://www.americanexpress.com/us/small-business/openforum/wp-admin/admin-ajax.php?action=getTopicPageData&topicId=21616&pageType=topic\",\n",
    "    \"https://www.americanexpress.com/us/small-business/openforum/wp-admin/admin-ajax.php?action=getTopicPageData&topicId=2755&pageType=topic\",\n",
    "    \"https://www.americanexpress.com/us/small-business/openforum/wp-admin/admin-ajax.php?action=getTopicPageData&topicId=8390&pageType=topic\",\n",
    "    \"https://www.americanexpress.com/us/small-business/openforum/wp-admin/admin-ajax.php?action=getTopicPageData&topicId=22060&pageType=topic\",\n",
    "    \"https://www.americanexpress.com/us/small-business/openforum/wp-admin/admin-ajax.php?action=getTopicPageData&topicId=3685&pageType=topic\",\n",
    "    \"https://www.americanexpress.com/us/small-business/openforum/wp-admin/admin-ajax.php?action=getTopicPageData&topicId=20882&pageType=topic\",\n",
    "    \"https://www.americanexpress.com/us/small-business/openforum/wp-admin/admin-ajax.php?action=getTopicPageData&topicId=11766&pageType=topic\",\n",
    "    \"https://www.americanexpress.com/us/small-business/openforum/wp-admin/admin-ajax.php?action=getTopicPageData&topicId=20889&pageType=topic\",\n",
    "    \"https://www.americanexpress.com/us/small-business/openforum/wp-admin/admin-ajax.php?action=getTopicPageData&topicId=21610&pageType=topic\",\n",
    "    \"https://www.americanexpress.com/us/small-business/openforum/wp-admin/admin-ajax.php?action=getTopicPageData&topicId=3083&pageType=topic\",\n",
    "    \"https://www.americanexpress.com/us/small-business/openforum/wp-admin/admin-ajax.php?action=getTopicPageData&topicId=4310&pageType=topic\",\n",
    "    \"https://www.americanexpress.com/us/small-business/openforum/wp-admin/admin-ajax.php?action=getTopicPageData&topicId=21620&pageType=topic\",\n",
    "    \"https://www.americanexpress.com/us/small-business/openforum/wp-admin/admin-ajax.php?action=getTopicPageData&topicId=2603&pageType=topic\",\n",
    "    \"https://www.americanexpress.com/us/small-business/openforum/wp-admin/admin-ajax.php?action=getTopicPageData&topicId=19417&pageType=topic\",\n",
    "    \"https://www.americanexpress.com/us/small-business/openforum/wp-admin/admin-ajax.php?action=getTopicPageData&topicId=2673&pageType=topic\",\n",
    "    \"https://www.americanexpress.com/us/small-business/openforum/wp-admin/admin-ajax.php?action=getTopicPageData&topicId=20970&pageType=topic\",\n",
    "    \"https://www.americanexpress.com/us/small-business/openforum/wp-admin/admin-ajax.php?action=getTopicPageData&topicId=2357&pageType=topic\",\n",
    "    \"https://www.americanexpress.com/us/small-business/openforum/wp-admin/admin-ajax.php?action=getTopicPageData&topicId=2538&pageType=topic\",\n",
    "    \"https://www.americanexpress.com/us/small-business/openforum/wp-admin/admin-ajax.php?action=getTopicPageData&topicId=2349&pageType=topic\",\n",
    "    \"https://www.americanexpress.com/us/small-business/openforum/wp-admin/admin-ajax.php?action=getTopicPageData&topicId=20897&pageType=topic\",\n",
    "    \"https://www.americanexpress.com/us/small-business/openforum/wp-admin/admin-ajax.php?action=getTopicPageData&topicId=20947&pageType=topic\",\n",
    "    \"https://www.americanexpress.com/us/small-business/openforum/wp-admin/admin-ajax.php?action=getTopicPageData&topicId=2341&pageType=topic\",\n",
    "    \"https://www.americanexpress.com/us/small-business/openforum/wp-admin/admin-ajax.php?action=getTopicPageData&topicId=10353&pageType=topic\",\n",
    "    \"https://www.americanexpress.com/us/small-business/openforum/wp-admin/admin-ajax.php?action=getTopicPageData&topicId=2813&pageType=topic\",\n",
    "    \"https://www.americanexpress.com/us/small-business/openforum/wp-admin/admin-ajax.php?action=getTopicPageData&topicId=22058&pageType=topic\",\n",
    "    \"https://www.americanexpress.com/us/small-business/openforum/wp-admin/admin-ajax.php?action=getTopicPageData&topicId=10359&pageType=topic\",\n",
    "    \"https://www.americanexpress.com/us/small-business/openforum/wp-admin/admin-ajax.php?action=getTopicPageData&topicId=11636&pageType=topic\",\n",
    "    \"https://www.americanexpress.com/us/small-business/openforum/wp-admin/admin-ajax.php?action=getTopicPageData&topicId=21617&pageType=topic\",\n",
    "    \"https://www.americanexpress.com/us/small-business/openforum/wp-admin/admin-ajax.php?action=getTopicPageData&topicId=14558&pageType=topic\",\n",
    "    \"https://www.americanexpress.com/us/small-business/openforum/wp-admin/admin-ajax.php?action=getTopicPageData&topicId=10349&pageType=topic\",\n",
    "    \"https://www.americanexpress.com/us/small-business/openforum/wp-admin/admin-ajax.php?action=getTopicPageData&topicId=2469&pageType=topic\",\n",
    "    \"https://www.americanexpress.com/us/small-business/openforum/wp-admin/admin-ajax.php?action=getTopicPageData&topicId=21615&pageType=topic\",\n",
    "    \"https://www.americanexpress.com/us/small-business/openforum/wp-admin/admin-ajax.php?action=getTopicPageData&topicId=16977&pageType=topic\",\n",
    "    \"https://www.americanexpress.com/us/small-business/openforum/wp-admin/admin-ajax.php?action=getTopicPageData&topicId=2758&pageType=topic\",\n",
    "    \"https://www.americanexpress.com/us/small-business/openforum/wp-admin/admin-ajax.php?action=getTopicPageData&topicId=21613&pageType=topic\",\n",
    "    \"https://www.americanexpress.com/us/small-business/openforum/wp-admin/admin-ajax.php?action=getTopicPageData&topicId=21607&pageType=topic\",\n",
    "    \"https://www.americanexpress.com/us/small-business/openforum/wp-admin/admin-ajax.php?action=getTopicPageData&topicId=21614&pageType=topic\",\n",
    "    \"https://www.americanexpress.com/us/small-business/openforum/wp-admin/admin-ajax.php?action=getTopicPageData&topicId=3562&pageType=topic\",\n",
    "    \"https://www.americanexpress.com/us/small-business/openforum/wp-admin/admin-ajax.php?action=getTopicPageData&topicId=22054&pageType=topic\",\n",
    "    \"https://www.americanexpress.com/us/small-business/openforum/wp-admin/admin-ajax.php?action=getTopicPageData&topicId=22055&pageType=topic\",\n",
    "    \"https://www.americanexpress.com/us/small-business/openforum/wp-admin/admin-ajax.php?action=getTopicPageData&topicId=15354&pageType=topic\",\n",
    "    \"https://www.americanexpress.com/us/small-business/openforum/wp-admin/admin-ajax.php?action=getTopicPageData&topicId=3374&pageType=topic\",\n",
    "    \"https://www.americanexpress.com/us/small-business/openforum/wp-admin/admin-ajax.php?action=getTopicPageData&topicId=2611&pageType=topic\",\n",
    "    \"https://www.americanexpress.com/us/small-business/openforum/wp-admin/admin-ajax.php?action=getTopicPageData&topicId=20891&pageType=topic\",\n",
    "    \"https://www.americanexpress.com/us/small-business/openforum/wp-admin/admin-ajax.php?action=getTopicPageData&topicId=16496&pageType=topic\",\n",
    "    \"https://www.americanexpress.com/us/small-business/openforum/wp-admin/admin-ajax.php?action=getTopicPageData&topicId=2381&pageType=topic\",\n",
    "    \"https://www.americanexpress.com/us/small-business/openforum/wp-admin/admin-ajax.php?action=getTopicPageData&topicId=3130&pageType=topic\",\n",
    "    \"https://www.americanexpress.com/us/small-business/openforum/wp-admin/admin-ajax.php?action=getTopicPageData&topicId=10365&pageType=topic\",\n",
    "    \"https://www.americanexpress.com/us/small-business/openforum/wp-admin/admin-ajax.php?action=getTopicPageData&topicId=22057&pageType=topic\",\n",
    "    \"https://www.americanexpress.com/us/small-business/openforum/wp-admin/admin-ajax.php?action=getTopicPageData&topicId=22056&pageType=topic\"\n",
    "]\n"
   ]
  },
  {
   "cell_type": "code",
   "execution_count": 3,
   "metadata": {
    "collapsed": false,
    "scrolled": false
   },
   "outputs": [
    {
     "ename": "KeyboardInterrupt",
     "evalue": "",
     "output_type": "error",
     "traceback": [
      "\u001b[0;31m---------------------------------------------------------------------------\u001b[0m",
      "\u001b[0;31mKeyboardInterrupt\u001b[0m                         Traceback (most recent call last)",
      "\u001b[0;32m<ipython-input-3-2f9251811081>\u001b[0m in \u001b[0;36m<module>\u001b[0;34m()\u001b[0m\n\u001b[1;32m      4\u001b[0m \u001b[0;32mfor\u001b[0m \u001b[0murl\u001b[0m \u001b[0;32min\u001b[0m \u001b[0mlanding_pages\u001b[0m\u001b[0;34m:\u001b[0m\u001b[0;34m\u001b[0m\u001b[0m\n\u001b[1;32m      5\u001b[0m     \u001b[0;32mtry\u001b[0m\u001b[0;34m:\u001b[0m\u001b[0;34m\u001b[0m\u001b[0m\n\u001b[0;32m----> 6\u001b[0;31m         \u001b[0mresponse\u001b[0m \u001b[0;34m=\u001b[0m \u001b[0murlopen\u001b[0m\u001b[0;34m(\u001b[0m\u001b[0murl\u001b[0m\u001b[0;34m)\u001b[0m\u001b[0;34m\u001b[0m\u001b[0m\n\u001b[0m\u001b[1;32m      7\u001b[0m         \u001b[0mresp\u001b[0m \u001b[0;34m=\u001b[0m \u001b[0mresponse\u001b[0m\u001b[0;34m.\u001b[0m\u001b[0mread\u001b[0m\u001b[0;34m(\u001b[0m\u001b[0;34m)\u001b[0m\u001b[0;34m\u001b[0m\u001b[0m\n\u001b[1;32m      8\u001b[0m         \u001b[0mscriptdata\u001b[0m \u001b[0;34m=\u001b[0m \u001b[0mjson\u001b[0m\u001b[0;34m.\u001b[0m\u001b[0mloads\u001b[0m\u001b[0;34m(\u001b[0m\u001b[0mresp\u001b[0m\u001b[0;34m)\u001b[0m\u001b[0;34m\u001b[0m\u001b[0m\n",
      "\u001b[0;32m/Users/sedkin/anaconda/lib/python2.7/urllib2.pyc\u001b[0m in \u001b[0;36murlopen\u001b[0;34m(url, data, timeout, cafile, capath, cadefault, context)\u001b[0m\n\u001b[1;32m    152\u001b[0m     \u001b[0;32melse\u001b[0m\u001b[0;34m:\u001b[0m\u001b[0;34m\u001b[0m\u001b[0m\n\u001b[1;32m    153\u001b[0m         \u001b[0mopener\u001b[0m \u001b[0;34m=\u001b[0m \u001b[0m_opener\u001b[0m\u001b[0;34m\u001b[0m\u001b[0m\n\u001b[0;32m--> 154\u001b[0;31m     \u001b[0;32mreturn\u001b[0m \u001b[0mopener\u001b[0m\u001b[0;34m.\u001b[0m\u001b[0mopen\u001b[0m\u001b[0;34m(\u001b[0m\u001b[0murl\u001b[0m\u001b[0;34m,\u001b[0m \u001b[0mdata\u001b[0m\u001b[0;34m,\u001b[0m \u001b[0mtimeout\u001b[0m\u001b[0;34m)\u001b[0m\u001b[0;34m\u001b[0m\u001b[0m\n\u001b[0m\u001b[1;32m    155\u001b[0m \u001b[0;34m\u001b[0m\u001b[0m\n\u001b[1;32m    156\u001b[0m \u001b[0;32mdef\u001b[0m \u001b[0minstall_opener\u001b[0m\u001b[0;34m(\u001b[0m\u001b[0mopener\u001b[0m\u001b[0;34m)\u001b[0m\u001b[0;34m:\u001b[0m\u001b[0;34m\u001b[0m\u001b[0m\n",
      "\u001b[0;32m/Users/sedkin/anaconda/lib/python2.7/urllib2.pyc\u001b[0m in \u001b[0;36mopen\u001b[0;34m(self, fullurl, data, timeout)\u001b[0m\n\u001b[1;32m    427\u001b[0m             \u001b[0mreq\u001b[0m \u001b[0;34m=\u001b[0m \u001b[0mmeth\u001b[0m\u001b[0;34m(\u001b[0m\u001b[0mreq\u001b[0m\u001b[0;34m)\u001b[0m\u001b[0;34m\u001b[0m\u001b[0m\n\u001b[1;32m    428\u001b[0m \u001b[0;34m\u001b[0m\u001b[0m\n\u001b[0;32m--> 429\u001b[0;31m         \u001b[0mresponse\u001b[0m \u001b[0;34m=\u001b[0m \u001b[0mself\u001b[0m\u001b[0;34m.\u001b[0m\u001b[0m_open\u001b[0m\u001b[0;34m(\u001b[0m\u001b[0mreq\u001b[0m\u001b[0;34m,\u001b[0m \u001b[0mdata\u001b[0m\u001b[0;34m)\u001b[0m\u001b[0;34m\u001b[0m\u001b[0m\n\u001b[0m\u001b[1;32m    430\u001b[0m \u001b[0;34m\u001b[0m\u001b[0m\n\u001b[1;32m    431\u001b[0m         \u001b[0;31m# post-process response\u001b[0m\u001b[0;34m\u001b[0m\u001b[0;34m\u001b[0m\u001b[0m\n",
      "\u001b[0;32m/Users/sedkin/anaconda/lib/python2.7/urllib2.pyc\u001b[0m in \u001b[0;36m_open\u001b[0;34m(self, req, data)\u001b[0m\n\u001b[1;32m    445\u001b[0m         \u001b[0mprotocol\u001b[0m \u001b[0;34m=\u001b[0m \u001b[0mreq\u001b[0m\u001b[0;34m.\u001b[0m\u001b[0mget_type\u001b[0m\u001b[0;34m(\u001b[0m\u001b[0;34m)\u001b[0m\u001b[0;34m\u001b[0m\u001b[0m\n\u001b[1;32m    446\u001b[0m         result = self._call_chain(self.handle_open, protocol, protocol +\n\u001b[0;32m--> 447\u001b[0;31m                                   '_open', req)\n\u001b[0m\u001b[1;32m    448\u001b[0m         \u001b[0;32mif\u001b[0m \u001b[0mresult\u001b[0m\u001b[0;34m:\u001b[0m\u001b[0;34m\u001b[0m\u001b[0m\n\u001b[1;32m    449\u001b[0m             \u001b[0;32mreturn\u001b[0m \u001b[0mresult\u001b[0m\u001b[0;34m\u001b[0m\u001b[0m\n",
      "\u001b[0;32m/Users/sedkin/anaconda/lib/python2.7/urllib2.pyc\u001b[0m in \u001b[0;36m_call_chain\u001b[0;34m(self, chain, kind, meth_name, *args)\u001b[0m\n\u001b[1;32m    405\u001b[0m             \u001b[0mfunc\u001b[0m \u001b[0;34m=\u001b[0m \u001b[0mgetattr\u001b[0m\u001b[0;34m(\u001b[0m\u001b[0mhandler\u001b[0m\u001b[0;34m,\u001b[0m \u001b[0mmeth_name\u001b[0m\u001b[0;34m)\u001b[0m\u001b[0;34m\u001b[0m\u001b[0m\n\u001b[1;32m    406\u001b[0m \u001b[0;34m\u001b[0m\u001b[0m\n\u001b[0;32m--> 407\u001b[0;31m             \u001b[0mresult\u001b[0m \u001b[0;34m=\u001b[0m \u001b[0mfunc\u001b[0m\u001b[0;34m(\u001b[0m\u001b[0;34m*\u001b[0m\u001b[0margs\u001b[0m\u001b[0;34m)\u001b[0m\u001b[0;34m\u001b[0m\u001b[0m\n\u001b[0m\u001b[1;32m    408\u001b[0m             \u001b[0;32mif\u001b[0m \u001b[0mresult\u001b[0m \u001b[0;32mis\u001b[0m \u001b[0;32mnot\u001b[0m \u001b[0mNone\u001b[0m\u001b[0;34m:\u001b[0m\u001b[0;34m\u001b[0m\u001b[0m\n\u001b[1;32m    409\u001b[0m                 \u001b[0;32mreturn\u001b[0m \u001b[0mresult\u001b[0m\u001b[0;34m\u001b[0m\u001b[0m\n",
      "\u001b[0;32m/Users/sedkin/anaconda/lib/python2.7/urllib2.pyc\u001b[0m in \u001b[0;36mhttps_open\u001b[0;34m(self, req)\u001b[0m\n\u001b[1;32m   1239\u001b[0m         \u001b[0;32mdef\u001b[0m \u001b[0mhttps_open\u001b[0m\u001b[0;34m(\u001b[0m\u001b[0mself\u001b[0m\u001b[0;34m,\u001b[0m \u001b[0mreq\u001b[0m\u001b[0;34m)\u001b[0m\u001b[0;34m:\u001b[0m\u001b[0;34m\u001b[0m\u001b[0m\n\u001b[1;32m   1240\u001b[0m             return self.do_open(httplib.HTTPSConnection, req,\n\u001b[0;32m-> 1241\u001b[0;31m                 context=self._context)\n\u001b[0m\u001b[1;32m   1242\u001b[0m \u001b[0;34m\u001b[0m\u001b[0m\n\u001b[1;32m   1243\u001b[0m         \u001b[0mhttps_request\u001b[0m \u001b[0;34m=\u001b[0m \u001b[0mAbstractHTTPHandler\u001b[0m\u001b[0;34m.\u001b[0m\u001b[0mdo_request_\u001b[0m\u001b[0;34m\u001b[0m\u001b[0m\n",
      "\u001b[0;32m/Users/sedkin/anaconda/lib/python2.7/urllib2.pyc\u001b[0m in \u001b[0;36mdo_open\u001b[0;34m(self, http_class, req, **http_conn_args)\u001b[0m\n\u001b[1;32m   1199\u001b[0m         \u001b[0;32melse\u001b[0m\u001b[0;34m:\u001b[0m\u001b[0;34m\u001b[0m\u001b[0m\n\u001b[1;32m   1200\u001b[0m             \u001b[0;32mtry\u001b[0m\u001b[0;34m:\u001b[0m\u001b[0;34m\u001b[0m\u001b[0m\n\u001b[0;32m-> 1201\u001b[0;31m                 \u001b[0mr\u001b[0m \u001b[0;34m=\u001b[0m \u001b[0mh\u001b[0m\u001b[0;34m.\u001b[0m\u001b[0mgetresponse\u001b[0m\u001b[0;34m(\u001b[0m\u001b[0mbuffering\u001b[0m\u001b[0;34m=\u001b[0m\u001b[0mTrue\u001b[0m\u001b[0;34m)\u001b[0m\u001b[0;34m\u001b[0m\u001b[0m\n\u001b[0m\u001b[1;32m   1202\u001b[0m             \u001b[0;32mexcept\u001b[0m \u001b[0mTypeError\u001b[0m\u001b[0;34m:\u001b[0m \u001b[0;31m# buffering kw not supported\u001b[0m\u001b[0;34m\u001b[0m\u001b[0m\n\u001b[1;32m   1203\u001b[0m                 \u001b[0mr\u001b[0m \u001b[0;34m=\u001b[0m \u001b[0mh\u001b[0m\u001b[0;34m.\u001b[0m\u001b[0mgetresponse\u001b[0m\u001b[0;34m(\u001b[0m\u001b[0;34m)\u001b[0m\u001b[0;34m\u001b[0m\u001b[0m\n",
      "\u001b[0;32m/Users/sedkin/anaconda/lib/python2.7/httplib.pyc\u001b[0m in \u001b[0;36mgetresponse\u001b[0;34m(self, buffering)\u001b[0m\n\u001b[1;32m   1134\u001b[0m \u001b[0;34m\u001b[0m\u001b[0m\n\u001b[1;32m   1135\u001b[0m         \u001b[0;32mtry\u001b[0m\u001b[0;34m:\u001b[0m\u001b[0;34m\u001b[0m\u001b[0m\n\u001b[0;32m-> 1136\u001b[0;31m             \u001b[0mresponse\u001b[0m\u001b[0;34m.\u001b[0m\u001b[0mbegin\u001b[0m\u001b[0;34m(\u001b[0m\u001b[0;34m)\u001b[0m\u001b[0;34m\u001b[0m\u001b[0m\n\u001b[0m\u001b[1;32m   1137\u001b[0m             \u001b[0;32massert\u001b[0m \u001b[0mresponse\u001b[0m\u001b[0;34m.\u001b[0m\u001b[0mwill_close\u001b[0m \u001b[0;34m!=\u001b[0m \u001b[0m_UNKNOWN\u001b[0m\u001b[0;34m\u001b[0m\u001b[0m\n\u001b[1;32m   1138\u001b[0m             \u001b[0mself\u001b[0m\u001b[0;34m.\u001b[0m\u001b[0m__state\u001b[0m \u001b[0;34m=\u001b[0m \u001b[0m_CS_IDLE\u001b[0m\u001b[0;34m\u001b[0m\u001b[0m\n",
      "\u001b[0;32m/Users/sedkin/anaconda/lib/python2.7/httplib.pyc\u001b[0m in \u001b[0;36mbegin\u001b[0;34m(self)\u001b[0m\n\u001b[1;32m    451\u001b[0m         \u001b[0;31m# read until we get a non-100 response\u001b[0m\u001b[0;34m\u001b[0m\u001b[0;34m\u001b[0m\u001b[0m\n\u001b[1;32m    452\u001b[0m         \u001b[0;32mwhile\u001b[0m \u001b[0mTrue\u001b[0m\u001b[0;34m:\u001b[0m\u001b[0;34m\u001b[0m\u001b[0m\n\u001b[0;32m--> 453\u001b[0;31m             \u001b[0mversion\u001b[0m\u001b[0;34m,\u001b[0m \u001b[0mstatus\u001b[0m\u001b[0;34m,\u001b[0m \u001b[0mreason\u001b[0m \u001b[0;34m=\u001b[0m \u001b[0mself\u001b[0m\u001b[0;34m.\u001b[0m\u001b[0m_read_status\u001b[0m\u001b[0;34m(\u001b[0m\u001b[0;34m)\u001b[0m\u001b[0;34m\u001b[0m\u001b[0m\n\u001b[0m\u001b[1;32m    454\u001b[0m             \u001b[0;32mif\u001b[0m \u001b[0mstatus\u001b[0m \u001b[0;34m!=\u001b[0m \u001b[0mCONTINUE\u001b[0m\u001b[0;34m:\u001b[0m\u001b[0;34m\u001b[0m\u001b[0m\n\u001b[1;32m    455\u001b[0m                 \u001b[0;32mbreak\u001b[0m\u001b[0;34m\u001b[0m\u001b[0m\n",
      "\u001b[0;32m/Users/sedkin/anaconda/lib/python2.7/httplib.pyc\u001b[0m in \u001b[0;36m_read_status\u001b[0;34m(self)\u001b[0m\n\u001b[1;32m    407\u001b[0m     \u001b[0;32mdef\u001b[0m \u001b[0m_read_status\u001b[0m\u001b[0;34m(\u001b[0m\u001b[0mself\u001b[0m\u001b[0;34m)\u001b[0m\u001b[0;34m:\u001b[0m\u001b[0;34m\u001b[0m\u001b[0m\n\u001b[1;32m    408\u001b[0m         \u001b[0;31m# Initialize with Simple-Response defaults\u001b[0m\u001b[0;34m\u001b[0m\u001b[0;34m\u001b[0m\u001b[0m\n\u001b[0;32m--> 409\u001b[0;31m         \u001b[0mline\u001b[0m \u001b[0;34m=\u001b[0m \u001b[0mself\u001b[0m\u001b[0;34m.\u001b[0m\u001b[0mfp\u001b[0m\u001b[0;34m.\u001b[0m\u001b[0mreadline\u001b[0m\u001b[0;34m(\u001b[0m\u001b[0m_MAXLINE\u001b[0m \u001b[0;34m+\u001b[0m \u001b[0;36m1\u001b[0m\u001b[0;34m)\u001b[0m\u001b[0;34m\u001b[0m\u001b[0m\n\u001b[0m\u001b[1;32m    410\u001b[0m         \u001b[0;32mif\u001b[0m \u001b[0mlen\u001b[0m\u001b[0;34m(\u001b[0m\u001b[0mline\u001b[0m\u001b[0;34m)\u001b[0m \u001b[0;34m>\u001b[0m \u001b[0m_MAXLINE\u001b[0m\u001b[0;34m:\u001b[0m\u001b[0;34m\u001b[0m\u001b[0m\n\u001b[1;32m    411\u001b[0m             \u001b[0;32mraise\u001b[0m \u001b[0mLineTooLong\u001b[0m\u001b[0;34m(\u001b[0m\u001b[0;34m\"header line\"\u001b[0m\u001b[0;34m)\u001b[0m\u001b[0;34m\u001b[0m\u001b[0m\n",
      "\u001b[0;32m/Users/sedkin/anaconda/lib/python2.7/socket.pyc\u001b[0m in \u001b[0;36mreadline\u001b[0;34m(self, size)\u001b[0m\n\u001b[1;32m    478\u001b[0m             \u001b[0;32mwhile\u001b[0m \u001b[0mTrue\u001b[0m\u001b[0;34m:\u001b[0m\u001b[0;34m\u001b[0m\u001b[0m\n\u001b[1;32m    479\u001b[0m                 \u001b[0;32mtry\u001b[0m\u001b[0;34m:\u001b[0m\u001b[0;34m\u001b[0m\u001b[0m\n\u001b[0;32m--> 480\u001b[0;31m                     \u001b[0mdata\u001b[0m \u001b[0;34m=\u001b[0m \u001b[0mself\u001b[0m\u001b[0;34m.\u001b[0m\u001b[0m_sock\u001b[0m\u001b[0;34m.\u001b[0m\u001b[0mrecv\u001b[0m\u001b[0;34m(\u001b[0m\u001b[0mself\u001b[0m\u001b[0;34m.\u001b[0m\u001b[0m_rbufsize\u001b[0m\u001b[0;34m)\u001b[0m\u001b[0;34m\u001b[0m\u001b[0m\n\u001b[0m\u001b[1;32m    481\u001b[0m                 \u001b[0;32mexcept\u001b[0m \u001b[0merror\u001b[0m\u001b[0;34m,\u001b[0m \u001b[0me\u001b[0m\u001b[0;34m:\u001b[0m\u001b[0;34m\u001b[0m\u001b[0m\n\u001b[1;32m    482\u001b[0m                     \u001b[0;32mif\u001b[0m \u001b[0me\u001b[0m\u001b[0;34m.\u001b[0m\u001b[0margs\u001b[0m\u001b[0;34m[\u001b[0m\u001b[0;36m0\u001b[0m\u001b[0;34m]\u001b[0m \u001b[0;34m==\u001b[0m \u001b[0mEINTR\u001b[0m\u001b[0;34m:\u001b[0m\u001b[0;34m\u001b[0m\u001b[0m\n",
      "\u001b[0;32m/Users/sedkin/anaconda/lib/python2.7/ssl.pyc\u001b[0m in \u001b[0;36mrecv\u001b[0;34m(self, buflen, flags)\u001b[0m\n\u001b[1;32m    754\u001b[0m                     \u001b[0;34m\"non-zero flags not allowed in calls to recv() on %s\"\u001b[0m \u001b[0;34m%\u001b[0m\u001b[0;34m\u001b[0m\u001b[0m\n\u001b[1;32m    755\u001b[0m                     self.__class__)\n\u001b[0;32m--> 756\u001b[0;31m             \u001b[0;32mreturn\u001b[0m \u001b[0mself\u001b[0m\u001b[0;34m.\u001b[0m\u001b[0mread\u001b[0m\u001b[0;34m(\u001b[0m\u001b[0mbuflen\u001b[0m\u001b[0;34m)\u001b[0m\u001b[0;34m\u001b[0m\u001b[0m\n\u001b[0m\u001b[1;32m    757\u001b[0m         \u001b[0;32melse\u001b[0m\u001b[0;34m:\u001b[0m\u001b[0;34m\u001b[0m\u001b[0m\n\u001b[1;32m    758\u001b[0m             \u001b[0;32mreturn\u001b[0m \u001b[0mself\u001b[0m\u001b[0;34m.\u001b[0m\u001b[0m_sock\u001b[0m\u001b[0;34m.\u001b[0m\u001b[0mrecv\u001b[0m\u001b[0;34m(\u001b[0m\u001b[0mbuflen\u001b[0m\u001b[0;34m,\u001b[0m \u001b[0mflags\u001b[0m\u001b[0;34m)\u001b[0m\u001b[0;34m\u001b[0m\u001b[0m\n",
      "\u001b[0;32m/Users/sedkin/anaconda/lib/python2.7/ssl.pyc\u001b[0m in \u001b[0;36mread\u001b[0;34m(self, len, buffer)\u001b[0m\n\u001b[1;32m    641\u001b[0m                 \u001b[0mv\u001b[0m \u001b[0;34m=\u001b[0m \u001b[0mself\u001b[0m\u001b[0;34m.\u001b[0m\u001b[0m_sslobj\u001b[0m\u001b[0;34m.\u001b[0m\u001b[0mread\u001b[0m\u001b[0;34m(\u001b[0m\u001b[0mlen\u001b[0m\u001b[0;34m,\u001b[0m \u001b[0mbuffer\u001b[0m\u001b[0;34m)\u001b[0m\u001b[0;34m\u001b[0m\u001b[0m\n\u001b[1;32m    642\u001b[0m             \u001b[0;32melse\u001b[0m\u001b[0;34m:\u001b[0m\u001b[0;34m\u001b[0m\u001b[0m\n\u001b[0;32m--> 643\u001b[0;31m                 \u001b[0mv\u001b[0m \u001b[0;34m=\u001b[0m \u001b[0mself\u001b[0m\u001b[0;34m.\u001b[0m\u001b[0m_sslobj\u001b[0m\u001b[0;34m.\u001b[0m\u001b[0mread\u001b[0m\u001b[0;34m(\u001b[0m\u001b[0mlen\u001b[0m\u001b[0;34m)\u001b[0m\u001b[0;34m\u001b[0m\u001b[0m\n\u001b[0m\u001b[1;32m    644\u001b[0m             \u001b[0;32mreturn\u001b[0m \u001b[0mv\u001b[0m\u001b[0;34m\u001b[0m\u001b[0m\n\u001b[1;32m    645\u001b[0m         \u001b[0;32mexcept\u001b[0m \u001b[0mSSLError\u001b[0m \u001b[0;32mas\u001b[0m \u001b[0mx\u001b[0m\u001b[0;34m:\u001b[0m\u001b[0;34m\u001b[0m\u001b[0m\n",
      "\u001b[0;31mKeyboardInterrupt\u001b[0m: "
     ]
    }
   ],
   "source": [
    "# This section scrapes URLS from Topic landing pages\n",
    "request = Request('https://www.americanexpress.com/us/small-business/openforum/wp-admin/admin-ajax.php?action=getTopicPageData&topicId=20970&pageType=topic')\n",
    "scrapeURLS = []\n",
    "for url in landing_pages:\n",
    "    try:\n",
    "        response = urlopen(url)\n",
    "        resp = response.read()\n",
    "        scriptdata = json.loads(resp)\n",
    "        for article in scriptdata[\"getStartedData\"]:\n",
    "            if article.has_key('isArticle'):\n",
    "                if article['isArticle'] == True:\n",
    "                    scrapeURLS.append(article[\"permalink\"])    \n",
    "\n",
    "    except URLError, e:\n",
    "        print 'Got an error code:', e    "
   ]
  },
  {
   "cell_type": "code",
   "execution_count": null,
   "metadata": {
    "collapsed": false
   },
   "outputs": [],
   "source": [
    "# This section takes scraped article URLS and puts their content into a dataframe.\n",
    "data = {\n",
    "    'title' : [],\n",
    "    'author_name' : [],\n",
    "    'article_section' : [],\n",
    "    'article_topic' : [],\n",
    "    'article_subtopic' : [],\n",
    "    'article_pubtime' : [],\n",
    "    'article_description' : [],\n",
    "    'article_tags' : [],\n",
    "    'content' : []\n",
    "}\n",
    "\n",
    "for website in scrapeURLS:\n",
    "    page = urllib2.urlopen(website)\n",
    "    soup = BeautifulSoup(page)\n",
    "    soup.prettify()\n",
    "    \n",
    "    title = soup.find(lambda tag: tag.name == 'meta' and 'property' in tag.attrs and tag.attrs['property'] == \"og:title\")\n",
    "    data['title'].append(title['content'])\n",
    "    \n",
    "    author_name = soup.find(lambda tag: tag.name == 'meta' and 'property' in tag.attrs and tag.attrs['property'] == \"article:author_name\")\n",
    "    data['author_name'].append(author_name['content'])\n",
    "    \n",
    "    article_section = soup.find(lambda tag: tag.name == 'meta' and 'property' in tag.attrs and tag.attrs['property'] == \"article:section\")\n",
    "    data['article_section'].append(article_section['content'])\n",
    "    \n",
    "    article_topic = soup.find(lambda tag: tag.name == 'meta' and 'property' in tag.attrs and tag.attrs['property'] == \"article:topic\")\n",
    "    data['article_topic'].append(article_topic['content'])\n",
    "    \n",
    "    article_subtopic = soup.find(lambda tag: tag.name == 'meta' and 'property' in tag.attrs and tag.attrs['property'] == \"article:sub_topic\")\n",
    "    data['article_subtopic'].append(article_subtopic['content'])\n",
    "\n",
    "    article_pubtime = soup.find(lambda tag: tag.name == 'meta' and 'property' in tag.attrs and tag.attrs['property'] == \"article:published_time\")\n",
    "    data['article_pubtime'].append(article_pubtime['content'])\n",
    "    \n",
    "    article_description = soup.find(lambda tag: tag.name == 'meta' and 'property' in tag.attrs and tag.attrs['property'] == \"og:description\")\n",
    "    data['article_description'].append(article_description['content'])\n",
    "    \n",
    "    article_tags = soup.find_all(lambda tag: tag.name == 'meta' and 'property' in tag.attrs and tag.attrs['property'] == \"article:tag\")\n",
    "    article_tags = [tag['content'] for tag in article_tags]\n",
    "    data['article_tags'].append(article_tags)\n",
    "    \n",
    "    content = soup.findAll('noscript', attrs={'id':'seo-output'})\n",
    "    data['content'].append(content[0])\n",
    "\n",
    "    \n",
    "data = pd.DataFrame(data)   "
   ]
  },
  {
   "cell_type": "code",
   "execution_count": null,
   "metadata": {
    "collapsed": true
   },
   "outputs": [],
   "source": []
  },
  {
   "cell_type": "code",
   "execution_count": null,
   "metadata": {
    "collapsed": false
   },
   "outputs": [],
   "source": [
    "# Export the DataFrame to CSV file\n",
    "data.to_csv('article_data.csv', encoding='utf-8', index=False)"
   ]
  },
  {
   "cell_type": "code",
   "execution_count": null,
   "metadata": {
    "collapsed": true
   },
   "outputs": [],
   "source": []
  },
  {
   "cell_type": "code",
   "execution_count": null,
   "metadata": {
    "collapsed": true
   },
   "outputs": [],
   "source": []
  },
  {
   "cell_type": "code",
   "execution_count": null,
   "metadata": {
    "collapsed": true
   },
   "outputs": [],
   "source": []
  }
 ],
 "metadata": {
  "anaconda-cloud": {},
  "kernelspec": {
   "display_name": "Python [Root]",
   "language": "python",
   "name": "Python [Root]"
  },
  "language_info": {
   "codemirror_mode": {
    "name": "ipython",
    "version": 2
   },
   "file_extension": ".py",
   "mimetype": "text/x-python",
   "name": "python",
   "nbconvert_exporter": "python",
   "pygments_lexer": "ipython2",
   "version": "2.7.12"
  }
 },
 "nbformat": 4,
 "nbformat_minor": 0
}
