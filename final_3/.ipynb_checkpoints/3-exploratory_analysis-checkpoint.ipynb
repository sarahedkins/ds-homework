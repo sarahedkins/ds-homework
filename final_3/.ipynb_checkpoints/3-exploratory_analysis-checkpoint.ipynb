{
 "cells": [
  {
   "cell_type": "markdown",
   "metadata": {},
   "source": [
    "# 3. Exploratory Analysis"
   ]
  },
  {
   "cell_type": "markdown",
   "metadata": {},
   "source": [
    "## Hypothesis\n",
    "\n",
    "The content in the article can be used to predict an appropriate content tag. To avoid dealing with multiple outcome buckets for a single observation, I will use the article_subtopic field as the outcome bucket. This represents the article's primary tag. "
   ]
  },
  {
   "cell_type": "code",
   "execution_count": 2,
   "metadata": {
    "collapsed": false
   },
   "outputs": [
    {
     "name": "stderr",
     "output_type": "stream",
     "text": [
      "/Users/sedkin/anaconda/lib/python2.7/site-packages/matplotlib/font_manager.py:273: UserWarning: Matplotlib is building the font cache using fc-list. This may take a moment.\n",
      "  warnings.warn('Matplotlib is building the font cache using fc-list. This may take a moment.')\n"
     ]
    }
   ],
   "source": [
    "import numpy as np\n",
    "import pandas as pd\n",
    "import seaborn as sns\n",
    "%matplotlib inline"
   ]
  },
  {
   "cell_type": "code",
   "execution_count": 3,
   "metadata": {
    "collapsed": true
   },
   "outputs": [],
   "source": [
    "Location = r'./clean_data.csv'\n",
    "df = pd.read_csv(Location,  encoding='utf-8')"
   ]
  },
  {
   "cell_type": "code",
   "execution_count": 4,
   "metadata": {
    "collapsed": false
   },
   "outputs": [
    {
     "data": {
      "text/html": [
       "<div>\n",
       "<table border=\"1\" class=\"dataframe\">\n",
       "  <thead>\n",
       "    <tr style=\"text-align: right;\">\n",
       "      <th></th>\n",
       "      <th>article_description</th>\n",
       "      <th>article_pubtime</th>\n",
       "      <th>article_section</th>\n",
       "      <th>article_subtopic</th>\n",
       "      <th>article_tags</th>\n",
       "      <th>article_topic</th>\n",
       "      <th>author_name</th>\n",
       "      <th>content</th>\n",
       "      <th>title</th>\n",
       "    </tr>\n",
       "  </thead>\n",
       "  <tbody>\n",
       "    <tr>\n",
       "      <th>0</th>\n",
       "      <td>If you're having trouble trying to be more inn...</td>\n",
       "      <td>2016-11-11T20:00:15+00:00</td>\n",
       "      <td>Planning for Growth</td>\n",
       "      <td>Growth Opportunities</td>\n",
       "      <td>[Growth Opportunities, Innovation, Personal Pr...</td>\n",
       "      <td>Planning for Growth</td>\n",
       "      <td>Heather Willems</td>\n",
       "      <td>The Power of Non-Linear ThinkingHeather Willem...</td>\n",
       "      <td>The Power of Non-Linear Thinking</td>\n",
       "    </tr>\n",
       "    <tr>\n",
       "      <th>1</th>\n",
       "      <td>Huge growth may be possible for businesses of ...</td>\n",
       "      <td>2016-11-09T22:30:34+00:00</td>\n",
       "      <td>Planning for Growth</td>\n",
       "      <td>Operations</td>\n",
       "      <td>[Business Expansion, Business Plan, Cash Flow,...</td>\n",
       "      <td>Planning for Growth</td>\n",
       "      <td>Andrew J. Sherman</td>\n",
       "      <td>3 Growth Strategies for Businesses With Limite...</td>\n",
       "      <td>3 Growth Strategies for Businesses With Limite...</td>\n",
       "    </tr>\n",
       "    <tr>\n",
       "      <th>2</th>\n",
       "      <td>What sets your business apart from the competi...</td>\n",
       "      <td>2016-11-11T22:30:47+00:00</td>\n",
       "      <td>Getting Customers</td>\n",
       "      <td>Marketing &amp; Sales</td>\n",
       "      <td>[Advertising, Brainstorming, Branding, Busines...</td>\n",
       "      <td>Getting Customers</td>\n",
       "      <td>Rieva Lesonsky</td>\n",
       "      <td>USP 101: How to Uncover Your Unique Selling Pr...</td>\n",
       "      <td>USP 101: How to Uncover Your Unique Selling Pr...</td>\n",
       "    </tr>\n",
       "    <tr>\n",
       "      <th>3</th>\n",
       "      <td>Organizational changes are rarely fun or easy,...</td>\n",
       "      <td>2016-11-03T23:30:02+00:00</td>\n",
       "      <td>Building Your Team</td>\n",
       "      <td>Company Culture</td>\n",
       "      <td>[Building Your Team, Business Expansion, Busin...</td>\n",
       "      <td>Building Your Team</td>\n",
       "      <td>David Niu</td>\n",
       "      <td>8 Strategies for Big (or Small) Organizational...</td>\n",
       "      <td>8 Strategies for Big (or Small) Organizational...</td>\n",
       "    </tr>\n",
       "    <tr>\n",
       "      <th>4</th>\n",
       "      <td>When expanding your business, exporting to int...</td>\n",
       "      <td>2016-10-27T19:00:39+00:00</td>\n",
       "      <td>Planning for Growth</td>\n",
       "      <td>Growth Opportunities</td>\n",
       "      <td>[Growth Opportunities, Importing &amp; Exporting, ...</td>\n",
       "      <td>Planning for Growth</td>\n",
       "      <td>Greg Sandler</td>\n",
       "      <td>Lessons Learned: Four Stories From Experienced...</td>\n",
       "      <td>Lessons Learned: Four Stories From Experienced...</td>\n",
       "    </tr>\n",
       "  </tbody>\n",
       "</table>\n",
       "</div>"
      ],
      "text/plain": [
       "                                 article_description  \\\n",
       "0  If you're having trouble trying to be more inn...   \n",
       "1  Huge growth may be possible for businesses of ...   \n",
       "2  What sets your business apart from the competi...   \n",
       "3  Organizational changes are rarely fun or easy,...   \n",
       "4  When expanding your business, exporting to int...   \n",
       "\n",
       "             article_pubtime      article_section      article_subtopic  \\\n",
       "0  2016-11-11T20:00:15+00:00  Planning for Growth  Growth Opportunities   \n",
       "1  2016-11-09T22:30:34+00:00  Planning for Growth            Operations   \n",
       "2  2016-11-11T22:30:47+00:00    Getting Customers     Marketing & Sales   \n",
       "3  2016-11-03T23:30:02+00:00   Building Your Team       Company Culture   \n",
       "4  2016-10-27T19:00:39+00:00  Planning for Growth  Growth Opportunities   \n",
       "\n",
       "                                        article_tags        article_topic  \\\n",
       "0  [Growth Opportunities, Innovation, Personal Pr...  Planning for Growth   \n",
       "1  [Business Expansion, Business Plan, Cash Flow,...  Planning for Growth   \n",
       "2  [Advertising, Brainstorming, Branding, Busines...    Getting Customers   \n",
       "3  [Building Your Team, Business Expansion, Busin...   Building Your Team   \n",
       "4  [Growth Opportunities, Importing & Exporting, ...  Planning for Growth   \n",
       "\n",
       "         author_name                                            content  \\\n",
       "0    Heather Willems  The Power of Non-Linear ThinkingHeather Willem...   \n",
       "1  Andrew J. Sherman  3 Growth Strategies for Businesses With Limite...   \n",
       "2     Rieva Lesonsky  USP 101: How to Uncover Your Unique Selling Pr...   \n",
       "3          David Niu  8 Strategies for Big (or Small) Organizational...   \n",
       "4       Greg Sandler  Lessons Learned: Four Stories From Experienced...   \n",
       "\n",
       "                                               title  \n",
       "0                   The Power of Non-Linear Thinking  \n",
       "1  3 Growth Strategies for Businesses With Limite...  \n",
       "2  USP 101: How to Uncover Your Unique Selling Pr...  \n",
       "3  8 Strategies for Big (or Small) Organizational...  \n",
       "4  Lessons Learned: Four Stories From Experienced...  "
      ]
     },
     "execution_count": 4,
     "metadata": {},
     "output_type": "execute_result"
    }
   ],
   "source": [
    "df.head()"
   ]
  },
  {
   "cell_type": "code",
   "execution_count": 5,
   "metadata": {
    "collapsed": false
   },
   "outputs": [],
   "source": [
    "# # spacy for pre-processing and traditional NLP\n",
    "# import spacy\n",
    "# from spacy.en import English\n",
    "\n",
    "# # Initializing the nlp_toolkit\n",
    "# nlp_toolkit = English()"
   ]
  },
  {
   "cell_type": "code",
   "execution_count": 6,
   "metadata": {
    "collapsed": false
   },
   "outputs": [],
   "source": [
    "# content = unicode(df.loc[0]['content'], \"utf-8\")\n",
    "# parsed = nlp_toolkit(content)\n",
    "\n",
    "# for i, word in enumerate(parsed): \n",
    "#     print \"Word: {}\".format(word)\n",
    "#     print \"\\t Phrase type: {}\".format(word.dep_)\n",
    "#     print \"\\t Is the word a known entity type? {}\".format(\n",
    "#         word.ent_type_  if word.ent_type_ else \"No\")\n",
    "#     print \"\\t Lemma: {}\".format(word.lemma_)\n",
    "#     print \"\\t Parent of this word: {}\".format(word.head.lemma_)"
   ]
  },
  {
   "cell_type": "code",
   "execution_count": 7,
   "metadata": {
    "collapsed": false
   },
   "outputs": [
    {
     "name": "stdout",
     "output_type": "stream",
     "text": [
      "<class 'scipy.sparse.csr.csr_matrix'>\n",
      "(83, 1000)\n",
      "  (0, 12)\t1\n",
      "  (0, 13)\t1\n",
      "  (0, 27)\t1\n",
      "  (0, 52)\t1\n",
      "  (0, 55)\t1\n",
      "  (0, 61)\t1\n",
      "  (0, 66)\t1\n",
      "  (0, 68)\t1\n",
      "  (0, 69)\t1\n",
      "  (0, 73)\t1\n",
      "  (0, 82)\t1\n",
      "  (0, 85)\t1\n",
      "  (0, 97)\t1\n",
      "  (0, 98)\t1\n",
      "  (0, 103)\t1\n",
      "  (0, 107)\t1\n",
      "  (0, 113)\t1\n",
      "  (0, 123)\t1\n",
      "  (0, 128)\t1\n",
      "  (0, 130)\t1\n",
      "  (0, 134)\t1\n",
      "  (0, 144)\t1\n",
      "  (0, 162)\t1\n",
      "  (0, 183)\t1\n",
      "  (0, 191)\t1\n",
      "  :\t:\n",
      "  (82, 836)\t1\n",
      "  (82, 845)\t1\n",
      "  (82, 872)\t1\n",
      "  (82, 888)\t1\n",
      "  (82, 889)\t1\n",
      "  (82, 890)\t1\n",
      "  (82, 894)\t1\n",
      "  (82, 895)\t1\n",
      "  (82, 896)\t1\n",
      "  (82, 900)\t1\n",
      "  (82, 903)\t1\n",
      "  (82, 905)\t1\n",
      "  (82, 909)\t1\n",
      "  (82, 923)\t1\n",
      "  (82, 924)\t1\n",
      "  (82, 936)\t1\n",
      "  (82, 937)\t1\n",
      "  (82, 940)\t1\n",
      "  (82, 942)\t1\n",
      "  (82, 959)\t1\n",
      "  (82, 961)\t1\n",
      "  (82, 965)\t1\n",
      "  (82, 967)\t1\n",
      "  (82, 979)\t1\n",
      "  (82, 997)\t1\n"
     ]
    },
    {
     "data": {
      "text/plain": [
       "array([[0, 0, 0, ..., 0, 0, 0],\n",
       "       [0, 1, 0, ..., 1, 0, 0],\n",
       "       [0, 0, 0, ..., 1, 0, 1],\n",
       "       ..., \n",
       "       [0, 0, 0, ..., 0, 0, 0],\n",
       "       [0, 0, 0, ..., 1, 0, 0],\n",
       "       [0, 0, 0, ..., 1, 0, 0]])"
      ]
     },
     "execution_count": 7,
     "metadata": {},
     "output_type": "execute_result"
    }
   ],
   "source": [
    "content = df['content']\n",
    "from sklearn.feature_extraction.text import CountVectorizer\n",
    "\n",
    "vectorizer = CountVectorizer(max_features = 1000, \n",
    "                             ngram_range=(1, 2), \n",
    "                             stop_words='english',\n",
    "                             binary=True)\n",
    "\n",
    "# Use `fit` to learn the vocabulary of the titles\n",
    "vectorizer.fit(content)\n",
    "\n",
    "# Use `tranform` to generate the sample X word matrix - one column per feature (word or n-grams)\n",
    "X = vectorizer.transform(content)\n",
    "print type(X)\n",
    "print X.shape\n",
    "print X\n",
    "X.toarray()"
   ]
  },
  {
   "cell_type": "code",
   "execution_count": 8,
   "metadata": {
    "collapsed": false
   },
   "outputs": [
    {
     "data": {
      "image/png": "[encoded data removed]",
      "text/plain": [
       "<matplotlib.figure.Figure at 0x119ae4310>"
      ]
     },
     "metadata": {},
     "output_type": "display_data"
    }
   ],
   "source": [
    "sns.heatmap(X.toarray());"
   ]
  },
  {
   "cell_type": "code",
   "execution_count": 9,
   "metadata": {
    "collapsed": false,
    "scrolled": false
   },
   "outputs": [
    {
     "data": {
      "text/plain": [
       "[u'american',\n",
       " u'american express',\n",
       " u'answer',\n",
       " u'answers',\n",
       " u'apply',\n",
       " u'approach',\n",
       " u'approach specific',\n",
       " u'appropriateness',\n",
       " u'appropriateness financial',\n",
       " u'area',\n",
       " u'areas',\n",
       " u'arent',\n",
       " u'article',\n",
       " u'article generalized',\n",
       " u'article originally',\n",
       " u'article substitute',\n",
       " u'articles',\n",
       " u'articles open',\n",
       " u'ask',\n",
       " u'asked',\n",
       " u'asking',\n",
       " u'assistance',\n",
       " u'attention',\n",
       " u'audience',\n",
       " u'author',\n",
       " u'author necessarily',\n",
       " u'author publisher',\n",
       " u'authored',\n",
       " u'authored articles',\n",
       " u'available',\n",
       " u'avoid',\n",
       " u'aware',\n",
       " u'away',\n",
       " u'bad',\n",
       " u'bank',\n",
       " u'based',\n",
       " u'based orange',\n",
       " u'basic',\n",
       " u'basis',\n",
       " u'bawden',\n",
       " u'bawden daviswriter',\n",
       " u'began',\n",
       " u'beginning',\n",
       " u'believe',\n",
       " u'believes',\n",
       " u'benefit',\n",
       " u'benefits',\n",
       " u'best',\n",
       " u'better',\n",
       " u'big']"
      ]
     },
     "execution_count": 9,
     "metadata": {},
     "output_type": "execute_result"
    }
   ],
   "source": [
    "names = vectorizer.get_feature_names()\n",
    "names[50:100]"
   ]
  },
  {
   "cell_type": "code",
   "execution_count": 10,
   "metadata": {
    "collapsed": false
   },
   "outputs": [
    {
     "name": "stdout",
     "output_type": "stream",
     "text": [
      "<class 'pandas.core.frame.DataFrame'>\n",
      "RangeIndex: 83 entries, 0 to 82\n",
      "Columns: 1000 entries, 000 to youve\n",
      "dtypes: int64(1000)\n",
      "memory usage: 648.5 KB\n"
     ]
    }
   ],
   "source": [
    "# Let's check out which words (tokens) made it into our matrix\n",
    "tokenized = pd.DataFrame(data=X.toarray(), columns=vectorizer.get_feature_names())\n",
    "tokenized.info()"
   ]
  },
  {
   "cell_type": "code",
   "execution_count": 11,
   "metadata": {
    "collapsed": false
   },
   "outputs": [
    {
     "data": {
      "text/plain": [
       "time                   76\n",
       "business               75\n",
       "help                   73\n",
       "center                 73\n",
       "alignment              72\n",
       "pullquote              72\n",
       "alignment center       72\n",
       "make                   72\n",
       "company                70\n",
       "photo                  68\n",
       "showtweet false        67\n",
       "showtweet              67\n",
       "pullquote showtweet    67\n",
       "false                  67\n",
       "like                   64\n",
       "want                   62\n",
       "read                   61\n",
       "articles               60\n",
       "dont                   59\n",
       "work                   59\n",
       "read articles          58\n",
       "new                    57\n",
       "people                 54\n",
       "good                   53\n",
       "way                    53\n",
       "istock                 51\n",
       "just                   49\n",
       "based                  49\n",
       "use                    48\n",
       "need                   48\n",
       "                       ..\n",
       "items                   7\n",
       "unless                  7\n",
       "language                7\n",
       "united                  7\n",
       "leaders                 7\n",
       "lean                    7\n",
       "united states           7\n",
       "youre going             7\n",
       "night                   7\n",
       "video                   7\n",
       "amazon                  7\n",
       "view                    7\n",
       "assistance              7\n",
       "thousands dollars       7\n",
       "board                   7\n",
       "boost                   7\n",
       "business access         7\n",
       "business forward        7\n",
       "business read           7\n",
       "buyers                  7\n",
       "todays                  7\n",
       "calls                   7\n",
       "candidates              7\n",
       "told                    7\n",
       "chief                   7\n",
       "trade                   7\n",
       "production              7\n",
       "voice                   7\n",
       "vision                  7\n",
       "invest                  7\n",
       "dtype: int64"
      ]
     },
     "execution_count": 11,
     "metadata": {},
     "output_type": "execute_result"
    }
   ],
   "source": [
    "tokens = tokenized.sum().sort_values(ascending=False)\n",
    "# tokens = pd.DataFrame(tokens)\n",
    "# tokens.head()\n",
    "tokens\n",
    "\n"
   ]
  },
  {
   "cell_type": "code",
   "execution_count": 12,
   "metadata": {
    "collapsed": false
   },
   "outputs": [],
   "source": [
    "X_text_features = vectorizer.transform(content)\n",
    "\n",
    "# Identify the features you want from the original dataset\n",
    "# other_features_columns = ['article_subtopic']\n",
    "# other_features = df[other_features_columns]\n",
    "\n",
    "from scipy.sparse import hstack\n",
    "X = pd.concat([pd.DataFrame(X_text_features.toarray())], axis=1)\n",
    "#print X \n",
    "#sns.factorplot(data=X, palette=\"BuPu\")\n",
    "\n"
   ]
  },
  {
   "cell_type": "code",
   "execution_count": null,
   "metadata": {
    "collapsed": true
   },
   "outputs": [],
   "source": [
    "\n"
   ]
  },
  {
   "cell_type": "code",
   "execution_count": 13,
   "metadata": {
    "collapsed": false
   },
   "outputs": [
    {
     "name": "stderr",
     "output_type": "stream",
     "text": [
      "/Users/sedkin/anaconda/lib/python2.7/site-packages/sklearn/cross_validation.py:516: Warning: The least populated class in y has only 1 members, which is too few. The minimum number of labels for any class cannot be less than n_folds=6.\n",
      "  % (min_labels, self.n_folds)), Warning)\n"
     ]
    },
    {
     "name": "stdout",
     "output_type": "stream",
     "text": [
      "Accuracy - Score [ 0.1         0.26315789  0.4         0.09090909  0.22222222  0.        ], Average Score 0.179381534645\n"
     ]
    }
   ],
   "source": [
    "# Random Forest \n",
    "from sklearn.ensemble import RandomForestClassifier\n",
    "model = RandomForestClassifier(n_estimators = 10)\n",
    "vectorizer.fit(content)\n",
    "X = vectorizer.transform(content).toarray()\n",
    "y = df['article_subtopic']\n",
    "y = y.astype(str)\n",
    "\n",
    "from sklearn import datasets, neighbors, metrics\n",
    "from sklearn.cross_validation import cross_val_score\n",
    "\n",
    "scores = cross_val_score(model, X, y, scoring='accuracy', cv=6)\n",
    "print('Accuracy - Score {}, Average Score {}'.format(scores, scores.mean()))\n",
    "\n"
   ]
  },
  {
   "cell_type": "code",
   "execution_count": 14,
   "metadata": {
    "collapsed": false
   },
   "outputs": [
    {
     "data": {
      "text/plain": [
       "Customer Relations       12\n",
       "Leadership               12\n",
       "Marketing & Sales         9\n",
       "Company Culture           8\n",
       "Growth Opportunities      8\n",
       "Cash Flow                 6\n",
       "Hiring & HR               6\n",
       "Strategy                  4\n",
       "Taxes                     4\n",
       "Social Media Strategy     3\n",
       "Research                  3\n",
       "Operations                3\n",
       "Financing                 2\n",
       "Digital Tools             2\n",
       "Productivity              1\n",
       "Name: article_subtopic, dtype: int64"
      ]
     },
     "execution_count": 14,
     "metadata": {},
     "output_type": "execute_result"
    }
   ],
   "source": [
    "# Get frequencies of the types of articles by article_subtopic\n",
    "df['article_subtopic'].value_counts()\n",
    "\n"
   ]
  },
  {
   "cell_type": "code",
   "execution_count": 15,
   "metadata": {
    "collapsed": false
   },
   "outputs": [
    {
     "data": {
      "text/plain": [
       "Building Your Team     26\n",
       "Getting Customers      26\n",
       "Planning for Growth    19\n",
       "Managing Money         12\n",
       "Name: article_topic, dtype: int64"
      ]
     },
     "execution_count": 15,
     "metadata": {},
     "output_type": "execute_result"
    }
   ],
   "source": [
    "df['article_topic'].value_counts()"
   ]
  },
  {
   "cell_type": "markdown",
   "metadata": {},
   "source": [
    "##### Frequency of topics\n",
    "Since \"Productivity\" topic only has one article there is probably not enough information to know what makes a good Productivity article. It is a risk for overfitting. Topics \"Customer Relations,\" \"Leadership,\" and \"Marketing & Sales\" have enough articles to be considered useful."
   ]
  },
  {
   "cell_type": "code",
   "execution_count": 20,
   "metadata": {
    "collapsed": false
   },
   "outputs": [
    {
     "data": {
      "text/plain": [
       "<matplotlib.axes._subplots.AxesSubplot at 0x11eb06610>"
      ]
     },
     "execution_count": 20,
     "metadata": {},
     "output_type": "execute_result"
    },
    {
     "data": {
      "image/png": "[encoded data removed]",
      "text/plain": [
       "<matplotlib.figure.Figure at 0x11e986950>"
      ]
     },
     "metadata": {},
     "output_type": "display_data"
    }
   ],
   "source": [
    "subtopic_freq = pd.DataFrame(df['article_subtopic'].value_counts())\n",
    "sns.boxplot(data=subtopic_freq)"
   ]
  },
  {
   "cell_type": "code",
   "execution_count": 21,
   "metadata": {
    "collapsed": false
   },
   "outputs": [
    {
     "data": {
      "text/plain": [
       "<matplotlib.axes._subplots.AxesSubplot at 0x11eb4f950>"
      ]
     },
     "execution_count": 21,
     "metadata": {},
     "output_type": "execute_result"
    },
    {
     "data": {
      "image/png": "[encoded data removed]",
      "text/plain": [
       "<matplotlib.figure.Figure at 0x11eb6f310>"
      ]
     },
     "metadata": {},
     "output_type": "display_data"
    }
   ],
   "source": [
    "topic_freq = pd.DataFrame(df['article_topic'].value_counts())\n",
    "sns.boxplot(data=topic_freq)"
   ]
  },
  {
   "cell_type": "code",
   "execution_count": 19,
   "metadata": {
    "collapsed": false
   },
   "outputs": [
    {
     "data": {
      "text/html": [
       "<div>\n",
       "<table border=\"1\" class=\"dataframe\">\n",
       "  <thead>\n",
       "    <tr style=\"text-align: right;\">\n",
       "      <th></th>\n",
       "      <th>article_topic</th>\n",
       "    </tr>\n",
       "  </thead>\n",
       "  <tbody>\n",
       "    <tr>\n",
       "      <th>Building Your Team</th>\n",
       "      <td>26</td>\n",
       "    </tr>\n",
       "    <tr>\n",
       "      <th>Getting Customers</th>\n",
       "      <td>26</td>\n",
       "    </tr>\n",
       "    <tr>\n",
       "      <th>Planning for Growth</th>\n",
       "      <td>19</td>\n",
       "    </tr>\n",
       "    <tr>\n",
       "      <th>Managing Money</th>\n",
       "      <td>12</td>\n",
       "    </tr>\n",
       "  </tbody>\n",
       "</table>\n",
       "</div>"
      ],
      "text/plain": [
       "                     article_topic\n",
       "Building Your Team              26\n",
       "Getting Customers               26\n",
       "Planning for Growth             19\n",
       "Managing Money                  12"
      ]
     },
     "execution_count": 19,
     "metadata": {},
     "output_type": "execute_result"
    }
   ],
   "source": [
    "topic_freq.head()"
   ]
  },
  {
   "cell_type": "code",
   "execution_count": 24,
   "metadata": {
    "collapsed": false
   },
   "outputs": [
    {
     "data": {
      "text/html": [
       "<div>\n",
       "<table border=\"1\" class=\"dataframe\">\n",
       "  <thead>\n",
       "    <tr style=\"text-align: right;\">\n",
       "      <th></th>\n",
       "      <th>article_subtopic</th>\n",
       "    </tr>\n",
       "  </thead>\n",
       "  <tbody>\n",
       "    <tr>\n",
       "      <th>Customer Relations</th>\n",
       "      <td>12</td>\n",
       "    </tr>\n",
       "    <tr>\n",
       "      <th>Leadership</th>\n",
       "      <td>12</td>\n",
       "    </tr>\n",
       "    <tr>\n",
       "      <th>Marketing &amp; Sales</th>\n",
       "      <td>9</td>\n",
       "    </tr>\n",
       "    <tr>\n",
       "      <th>Company Culture</th>\n",
       "      <td>8</td>\n",
       "    </tr>\n",
       "    <tr>\n",
       "      <th>Growth Opportunities</th>\n",
       "      <td>8</td>\n",
       "    </tr>\n",
       "  </tbody>\n",
       "</table>\n",
       "</div>"
      ],
      "text/plain": [
       "                      article_subtopic\n",
       "Customer Relations                  12\n",
       "Leadership                          12\n",
       "Marketing & Sales                    9\n",
       "Company Culture                      8\n",
       "Growth Opportunities                 8"
      ]
     },
     "execution_count": 24,
     "metadata": {},
     "output_type": "execute_result"
    }
   ],
   "source": [
    "subtopic_freq.head()"
   ]
  },
  {
   "cell_type": "code",
   "execution_count": null,
   "metadata": {
    "collapsed": true
   },
   "outputs": [],
   "source": []
  },
  {
   "cell_type": "code",
   "execution_count": 32,
   "metadata": {
    "collapsed": false
   },
   "outputs": [
    {
     "data": {
      "text/plain": [
       "<matplotlib.axes._subplots.AxesSubplot at 0x11eddb2d0>"
      ]
     },
     "execution_count": 32,
     "metadata": {},
     "output_type": "execute_result"
    },
    {
     "data": {
      "image/png": "[encoded data removed]",
      "text/plain": [
       "<matplotlib.figure.Figure at 0x11edc5c50>"
      ]
     },
     "metadata": {},
     "output_type": "display_data"
    }
   ],
   "source": [
    "frames = [topic_freq, subtopic_freq]\n",
    "cat = pd.concat(frames)\n",
    "cat.head()\n",
    "sns.boxplot(data=cat)"
   ]
  },
  {
   "cell_type": "markdown",
   "metadata": {},
   "source": [
    "The plot above shows the median amount of articles in a given topic is 4. Outliers are 12, and 1. Most fall between 3 and 8. "
   ]
  },
  {
   "cell_type": "code",
   "execution_count": 120,
   "metadata": {
    "collapsed": false
   },
   "outputs": [
    {
     "data": {
      "text/html": [
       "<div>\n",
       "<table border=\"1\" class=\"dataframe\">\n",
       "  <thead>\n",
       "    <tr style=\"text-align: right;\">\n",
       "      <th></th>\n",
       "      <th>Cash Flow</th>\n",
       "      <th>Company Culture</th>\n",
       "      <th>Customer Relations</th>\n",
       "      <th>Digital Tools</th>\n",
       "      <th>Financing</th>\n",
       "      <th>Growth Opportunities</th>\n",
       "      <th>Hiring &amp; HR</th>\n",
       "      <th>Leadership</th>\n",
       "      <th>Marketing &amp; Sales</th>\n",
       "      <th>Operations</th>\n",
       "      <th>Productivity</th>\n",
       "      <th>Research</th>\n",
       "      <th>Social Media Strategy</th>\n",
       "      <th>Strategy</th>\n",
       "      <th>Taxes</th>\n",
       "    </tr>\n",
       "  </thead>\n",
       "  <tbody>\n",
       "    <tr>\n",
       "      <th>0</th>\n",
       "      <td>0.0</td>\n",
       "      <td>0.0</td>\n",
       "      <td>0.0</td>\n",
       "      <td>0.0</td>\n",
       "      <td>0.0</td>\n",
       "      <td>1.0</td>\n",
       "      <td>0.0</td>\n",
       "      <td>0.0</td>\n",
       "      <td>0.0</td>\n",
       "      <td>0.0</td>\n",
       "      <td>0.0</td>\n",
       "      <td>0.0</td>\n",
       "      <td>0.0</td>\n",
       "      <td>0.0</td>\n",
       "      <td>0.0</td>\n",
       "    </tr>\n",
       "    <tr>\n",
       "      <th>1</th>\n",
       "      <td>0.0</td>\n",
       "      <td>0.0</td>\n",
       "      <td>0.0</td>\n",
       "      <td>0.0</td>\n",
       "      <td>0.0</td>\n",
       "      <td>0.0</td>\n",
       "      <td>0.0</td>\n",
       "      <td>0.0</td>\n",
       "      <td>0.0</td>\n",
       "      <td>1.0</td>\n",
       "      <td>0.0</td>\n",
       "      <td>0.0</td>\n",
       "      <td>0.0</td>\n",
       "      <td>0.0</td>\n",
       "      <td>0.0</td>\n",
       "    </tr>\n",
       "    <tr>\n",
       "      <th>2</th>\n",
       "      <td>0.0</td>\n",
       "      <td>0.0</td>\n",
       "      <td>0.0</td>\n",
       "      <td>0.0</td>\n",
       "      <td>0.0</td>\n",
       "      <td>0.0</td>\n",
       "      <td>0.0</td>\n",
       "      <td>0.0</td>\n",
       "      <td>1.0</td>\n",
       "      <td>0.0</td>\n",
       "      <td>0.0</td>\n",
       "      <td>0.0</td>\n",
       "      <td>0.0</td>\n",
       "      <td>0.0</td>\n",
       "      <td>0.0</td>\n",
       "    </tr>\n",
       "    <tr>\n",
       "      <th>3</th>\n",
       "      <td>0.0</td>\n",
       "      <td>1.0</td>\n",
       "      <td>0.0</td>\n",
       "      <td>0.0</td>\n",
       "      <td>0.0</td>\n",
       "      <td>0.0</td>\n",
       "      <td>0.0</td>\n",
       "      <td>0.0</td>\n",
       "      <td>0.0</td>\n",
       "      <td>0.0</td>\n",
       "      <td>0.0</td>\n",
       "      <td>0.0</td>\n",
       "      <td>0.0</td>\n",
       "      <td>0.0</td>\n",
       "      <td>0.0</td>\n",
       "    </tr>\n",
       "    <tr>\n",
       "      <th>4</th>\n",
       "      <td>0.0</td>\n",
       "      <td>0.0</td>\n",
       "      <td>0.0</td>\n",
       "      <td>0.0</td>\n",
       "      <td>0.0</td>\n",
       "      <td>1.0</td>\n",
       "      <td>0.0</td>\n",
       "      <td>0.0</td>\n",
       "      <td>0.0</td>\n",
       "      <td>0.0</td>\n",
       "      <td>0.0</td>\n",
       "      <td>0.0</td>\n",
       "      <td>0.0</td>\n",
       "      <td>0.0</td>\n",
       "      <td>0.0</td>\n",
       "    </tr>\n",
       "  </tbody>\n",
       "</table>\n",
       "</div>"
      ],
      "text/plain": [
       "   Cash Flow  Company Culture  Customer Relations  Digital Tools  Financing  \\\n",
       "0        0.0              0.0                 0.0            0.0        0.0   \n",
       "1        0.0              0.0                 0.0            0.0        0.0   \n",
       "2        0.0              0.0                 0.0            0.0        0.0   \n",
       "3        0.0              1.0                 0.0            0.0        0.0   \n",
       "4        0.0              0.0                 0.0            0.0        0.0   \n",
       "\n",
       "   Growth Opportunities  Hiring & HR  Leadership  Marketing & Sales  \\\n",
       "0                   1.0          0.0         0.0                0.0   \n",
       "1                   0.0          0.0         0.0                0.0   \n",
       "2                   0.0          0.0         0.0                1.0   \n",
       "3                   0.0          0.0         0.0                0.0   \n",
       "4                   1.0          0.0         0.0                0.0   \n",
       "\n",
       "   Operations  Productivity  Research  Social Media Strategy  Strategy  Taxes  \n",
       "0         0.0           0.0       0.0                    0.0       0.0    0.0  \n",
       "1         1.0           0.0       0.0                    0.0       0.0    0.0  \n",
       "2         0.0           0.0       0.0                    0.0       0.0    0.0  \n",
       "3         0.0           0.0       0.0                    0.0       0.0    0.0  \n",
       "4         0.0           0.0       0.0                    0.0       0.0    0.0  "
      ]
     },
     "execution_count": 120,
     "metadata": {},
     "output_type": "execute_result"
    }
   ],
   "source": [
    "# Create dummies for categorical data article_subtopic  \n",
    "subtopic_dummies = pd.get_dummies(df['article_subtopic'])\n",
    "subtopic_dummies.head()\n"
   ]
  },
  {
   "cell_type": "code",
   "execution_count": 121,
   "metadata": {
    "collapsed": false
   },
   "outputs": [],
   "source": [
    "# df = pd.concat([df, subtopic_dummies], axis=1);\n",
    "# df.head()"
   ]
  },
  {
   "cell_type": "code",
   "execution_count": 122,
   "metadata": {
    "collapsed": false
   },
   "outputs": [],
   "source": [
    "# plot the distribution of words in one article\n",
    "hiringhr_df = df.loc[df['article_subtopic'] == 'Hiring & HR']\n",
    "#hiring_vect = vectorizer.fit(hiringhr_df['content'])\n",
    "#sns.scatterplot()"
   ]
  },
  {
   "cell_type": "markdown",
   "metadata": {},
   "source": [
    "#### Examining Authorship"
   ]
  },
  {
   "cell_type": "code",
   "execution_count": 34,
   "metadata": {
    "collapsed": false
   },
   "outputs": [
    {
     "data": {
      "text/plain": [
       "Julie Bawden Davis          10\n",
       "Rieva Lesonsky               5\n",
       "Mike Michalowicz             5\n",
       "Mike Periu                   5\n",
       "Bruna Martinuzzi             4\n",
       "Anne Miller                  4\n",
       "Geoff Williams               4\n",
       "Erika Napoletano             4\n",
       "Cara Cannella                3\n",
       "John Rampton                 2\n",
       "Brian Moran                  2\n",
       "Tim Berry                    2\n",
       "Kate Silver                  2\n",
       "Charisse Conanan Johnson     2\n",
       "Anthonia Akitunde            2\n",
       "Glen Stansberry              2\n",
       "Shawn Porat                  1\n",
       "Rod Kurtz                    1\n",
       "Mike Trevino                 1\n",
       "Gabriel Shaoolian            1\n",
       "Katie Morell                 1\n",
       "Christopher Conner           1\n",
       "Mark Henricks                1\n",
       "Michael Koral                1\n",
       "Seth Rand                    1\n",
       "Dean Kaplan                  1\n",
       "Heather Willems              1\n",
       "Amy Cortese                  1\n",
       "David Niu                    1\n",
       "Greg Sandler                 1\n",
       "Phaedra Hise                 1\n",
       "Richard Israel               1\n",
       "Hal Shelton                  1\n",
       "Anita Campbell               1\n",
       "John Suh                     1\n",
       "Ed Marsh                     1\n",
       "Kuty Shalev                  1\n",
       "Sarah Robinson               1\n",
       "Meredith Wood                1\n",
       "John Ruhlin                  1\n",
       "Andrew J. Sherman            1\n",
       "Name: author_name, dtype: int64"
      ]
     },
     "execution_count": 34,
     "metadata": {},
     "output_type": "execute_result"
    }
   ],
   "source": [
    "df['author_name'].value_counts()"
   ]
  },
  {
   "cell_type": "code",
   "execution_count": 36,
   "metadata": {
    "collapsed": false
   },
   "outputs": [
    {
     "data": {
      "text/plain": [
       "<matplotlib.axes._subplots.AxesSubplot at 0x1201a6c10>"
      ]
     },
     "execution_count": 36,
     "metadata": {},
     "output_type": "execute_result"
    },
    {
     "data": {
      "image/png": "[encoded data removed]",
      "text/plain": [
       "<matplotlib.figure.Figure at 0x11ec701d0>"
      ]
     },
     "metadata": {},
     "output_type": "display_data"
    }
   ],
   "source": [
    "author_freq = pd.DataFrame(df['author_name'].value_counts())\n",
    "sns.violinplot(data=author_freq)"
   ]
  },
  {
   "cell_type": "markdown",
   "metadata": {},
   "source": [
    "Many authors only appear once in the dataset, but Julie Bawden Davis appears frequently. Let's take a look at if she write articles for a particular topic."
   ]
  },
  {
   "cell_type": "code",
   "execution_count": 124,
   "metadata": {
    "collapsed": false
   },
   "outputs": [
    {
     "data": {
      "text/html": [
       "<div>\n",
       "<table border=\"1\" class=\"dataframe\">\n",
       "  <thead>\n",
       "    <tr style=\"text-align: right;\">\n",
       "      <th></th>\n",
       "      <th>article_description</th>\n",
       "      <th>article_pubtime</th>\n",
       "      <th>article_section</th>\n",
       "      <th>article_subtopic</th>\n",
       "      <th>article_tags</th>\n",
       "      <th>article_topic</th>\n",
       "      <th>author_name</th>\n",
       "      <th>content</th>\n",
       "      <th>title</th>\n",
       "    </tr>\n",
       "  </thead>\n",
       "  <tbody>\n",
       "    <tr>\n",
       "      <th>13</th>\n",
       "      <td>Floods, storms, earthquakes—no one wants disas...</td>\n",
       "      <td>2016-08-16T22:30:03+00:00</td>\n",
       "      <td>Building Your Team</td>\n",
       "      <td>Leadership</td>\n",
       "      <td>[Building Your Team, Business Plan, Insurance,...</td>\n",
       "      <td>Building Your Team</td>\n",
       "      <td>Julie Bawden Davis</td>\n",
       "      <td>Is Your Business Prepared for a Natural Disast...</td>\n",
       "      <td>Is Your Business Prepared for a Natural Disaster?</td>\n",
       "    </tr>\n",
       "    <tr>\n",
       "      <th>16</th>\n",
       "      <td>Small businesses can be just as volatile as th...</td>\n",
       "      <td>2016-08-23T22:30:24+00:00</td>\n",
       "      <td>Planning for Growth</td>\n",
       "      <td>Strategy</td>\n",
       "      <td>[Accounts Receivable/Payable, Building Your Te...</td>\n",
       "      <td>Planning for Growth</td>\n",
       "      <td>Julie Bawden Davis</td>\n",
       "      <td>Economic Ups and Downs: How to Help Prepare Yo...</td>\n",
       "      <td>Economic Ups and Downs: How to Help Prepare Yo...</td>\n",
       "    </tr>\n",
       "    <tr>\n",
       "      <th>24</th>\n",
       "      <td>On Veterans Day, and every day, business owner...</td>\n",
       "      <td>2016-11-08T22:00:57+00:00</td>\n",
       "      <td>Building Your Team</td>\n",
       "      <td>Leadership</td>\n",
       "      <td>[Brainstorming, Building Your Team, Business P...</td>\n",
       "      <td>Building Your Team</td>\n",
       "      <td>Julie Bawden Davis</td>\n",
       "      <td>How Veterans Can Play a Vital Role in Small Bu...</td>\n",
       "      <td>How Veterans Can Play a Vital Role in Small Bu...</td>\n",
       "    </tr>\n",
       "    <tr>\n",
       "      <th>26</th>\n",
       "      <td>Maybe, if your business has grown so much that...</td>\n",
       "      <td>2016-10-24T22:30:22+00:00</td>\n",
       "      <td>Building Your Team</td>\n",
       "      <td>Company Culture</td>\n",
       "      <td>[Building Your Team, Company Culture, Hiring &amp;...</td>\n",
       "      <td>Building Your Team</td>\n",
       "      <td>Julie Bawden Davis</td>\n",
       "      <td>Is It Time to Hire a CEO?Julie Bawden DavisWri...</td>\n",
       "      <td>Is It Time to Hire a CEO?</td>\n",
       "    </tr>\n",
       "    <tr>\n",
       "      <th>49</th>\n",
       "      <td>In light of recent attacks, cybersecurity is m...</td>\n",
       "      <td>2016-10-28T21:30:59+00:00</td>\n",
       "      <td>Getting Customers</td>\n",
       "      <td>Digital Tools</td>\n",
       "      <td>[Cybersecurity, Digital Tools, Getting Custome...</td>\n",
       "      <td>Getting Customers</td>\n",
       "      <td>Julie Bawden Davis</td>\n",
       "      <td>How to Help Protect Your Business From Todays ...</td>\n",
       "      <td>How to Help Protect Your Business From Today's...</td>\n",
       "    </tr>\n",
       "  </tbody>\n",
       "</table>\n",
       "</div>"
      ],
      "text/plain": [
       "                                  article_description  \\\n",
       "13  Floods, storms, earthquakes—no one wants disas...   \n",
       "16  Small businesses can be just as volatile as th...   \n",
       "24  On Veterans Day, and every day, business owner...   \n",
       "26  Maybe, if your business has grown so much that...   \n",
       "49  In light of recent attacks, cybersecurity is m...   \n",
       "\n",
       "              article_pubtime      article_section article_subtopic  \\\n",
       "13  2016-08-16T22:30:03+00:00   Building Your Team       Leadership   \n",
       "16  2016-08-23T22:30:24+00:00  Planning for Growth         Strategy   \n",
       "24  2016-11-08T22:00:57+00:00   Building Your Team       Leadership   \n",
       "26  2016-10-24T22:30:22+00:00   Building Your Team  Company Culture   \n",
       "49  2016-10-28T21:30:59+00:00    Getting Customers    Digital Tools   \n",
       "\n",
       "                                         article_tags        article_topic  \\\n",
       "13  [Building Your Team, Business Plan, Insurance,...   Building Your Team   \n",
       "16  [Accounts Receivable/Payable, Building Your Te...  Planning for Growth   \n",
       "24  [Brainstorming, Building Your Team, Business P...   Building Your Team   \n",
       "26  [Building Your Team, Company Culture, Hiring &...   Building Your Team   \n",
       "49  [Cybersecurity, Digital Tools, Getting Custome...    Getting Customers   \n",
       "\n",
       "           author_name                                            content  \\\n",
       "13  Julie Bawden Davis  Is Your Business Prepared for a Natural Disast...   \n",
       "16  Julie Bawden Davis  Economic Ups and Downs: How to Help Prepare Yo...   \n",
       "24  Julie Bawden Davis  How Veterans Can Play a Vital Role in Small Bu...   \n",
       "26  Julie Bawden Davis  Is It Time to Hire a CEO?Julie Bawden DavisWri...   \n",
       "49  Julie Bawden Davis  How to Help Protect Your Business From Todays ...   \n",
       "\n",
       "                                                title  \n",
       "13  Is Your Business Prepared for a Natural Disaster?  \n",
       "16  Economic Ups and Downs: How to Help Prepare Yo...  \n",
       "24  How Veterans Can Play a Vital Role in Small Bu...  \n",
       "26                          Is It Time to Hire a CEO?  \n",
       "49  How to Help Protect Your Business From Today's...  "
      ]
     },
     "execution_count": 124,
     "metadata": {},
     "output_type": "execute_result"
    }
   ],
   "source": [
    "julie = df.loc[df['author_name'] == \"Julie Bawden Davis\"]\n",
    "julie.head()"
   ]
  },
  {
   "cell_type": "code",
   "execution_count": 125,
   "metadata": {
    "collapsed": false
   },
   "outputs": [
    {
     "data": {
      "text/plain": [
       "Leadership         4\n",
       "Company Culture    2\n",
       "Hiring & HR        2\n",
       "Strategy           1\n",
       "Digital Tools      1\n",
       "Name: article_subtopic, dtype: int64"
      ]
     },
     "execution_count": 125,
     "metadata": {},
     "output_type": "execute_result"
    }
   ],
   "source": [
    "julie['article_subtopic'].value_counts()"
   ]
  },
  {
   "cell_type": "code",
   "execution_count": 127,
   "metadata": {
    "collapsed": false
   },
   "outputs": [],
   "source": [
    "# sns.set(rc={\"figure.figsize\": (8, 4)}); np.random.seed(0)\n",
    "# ax = sns.distplot(julie['Leadership'])"
   ]
  },
  {
   "cell_type": "code",
   "execution_count": 128,
   "metadata": {
    "collapsed": false
   },
   "outputs": [
    {
     "data": {
      "text/plain": [
       "Customer Relations      2\n",
       "Marketing & Sales       1\n",
       "Leadership              1\n",
       "Growth Opportunities    1\n",
       "Name: article_subtopic, dtype: int64"
      ]
     },
     "execution_count": 128,
     "metadata": {},
     "output_type": "execute_result"
    }
   ],
   "source": [
    "rieva = df.loc[df['author_name'] == \"Rieva Lesonsky\"]\n",
    "rieva['article_subtopic'].value_counts()\n"
   ]
  },
  {
   "cell_type": "code",
   "execution_count": 129,
   "metadata": {
    "collapsed": false
   },
   "outputs": [
    {
     "data": {
      "text/plain": [
       "Leadership            2\n",
       "Customer Relations    2\n",
       "Strategy              1\n",
       "Name: article_subtopic, dtype: int64"
      ]
     },
     "execution_count": 129,
     "metadata": {},
     "output_type": "execute_result"
    }
   ],
   "source": [
    "mikem = df.loc[df['author_name'] == \"Mike Michalowicz\"]\n",
    "mikem['article_subtopic'].value_counts()\n"
   ]
  },
  {
   "cell_type": "code",
   "execution_count": 130,
   "metadata": {
    "collapsed": false
   },
   "outputs": [
    {
     "data": {
      "text/plain": [
       "Taxes                   2\n",
       "Financing               1\n",
       "Growth Opportunities    1\n",
       "Operations              1\n",
       "Name: article_subtopic, dtype: int64"
      ]
     },
     "execution_count": 130,
     "metadata": {},
     "output_type": "execute_result"
    }
   ],
   "source": [
    "mikep = df.loc[df['author_name'] == \"Mike Periu\"]\n",
    "mikep['article_subtopic'].value_counts()\n"
   ]
  },
  {
   "cell_type": "markdown",
   "metadata": {
    "collapsed": false
   },
   "source": [
    "### Looking at content tags "
   ]
  },
  {
   "cell_type": "code",
   "execution_count": 39,
   "metadata": {
    "collapsed": false
   },
   "outputs": [
    {
     "name": "stdout",
     "output_type": "stream",
     "text": [
      "Length of unique tags: 92\n"
     ]
    },
    {
     "data": {
      "text/plain": [
       "[u'Growth Opportunities',\n",
       " u'Innovation',\n",
       " u'Personal Productivity',\n",
       " u'Planning for Growth',\n",
       " u'Productivity',\n",
       " u'Business Expansion',\n",
       " u'Business Plan',\n",
       " u'Cash Flow',\n",
       " u'Franchising',\n",
       " u'Managing Money',\n",
       " u'Operations',\n",
       " u'Partnerships',\n",
       " u'Risk Assessment',\n",
       " u'ROI',\n",
       " u'Saving Money',\n",
       " u'Strategy',\n",
       " u'Best of OPEN Forum',\n",
       " u'Recommended Reads',\n",
       " u'Advertising',\n",
       " u'Brainstorming',\n",
       " u'Branding',\n",
       " u'Competitive Research',\n",
       " u'Critical Numbers',\n",
       " u'Customer Engagement',\n",
       " u'Customer Feedback',\n",
       " u'Customer Relations',\n",
       " u'Customer Research',\n",
       " u'Finding New Customers',\n",
       " u'Getting Customers',\n",
       " u'Making a Sale',\n",
       " u'Market Research',\n",
       " u'Marketing & Sales',\n",
       " u'Pivoting',\n",
       " u'Research',\n",
       " u'Sales Pitches',\n",
       " u'Optimize Your Day',\n",
       " u'Building Your Team',\n",
       " u'Company Culture',\n",
       " u'Hiring & HR',\n",
       " u'Leadership',\n",
       " u'Leadership Skills',\n",
       " u'Motivating Employees',\n",
       " u'Organizational Productivity',\n",
       " u'Team Structure',\n",
       " u'Importing & Exporting',\n",
       " u'Insurance',\n",
       " u'Product Development',\n",
       " u'Grow Global',\n",
       " u'Legal',\n",
       " u'American Express OPEN',\n",
       " u'Card Member Spotlight',\n",
       " u'Ready for Growth',\n",
       " u'Industry Trends',\n",
       " u'A Day in the Life',\n",
       " u'Digital Tools',\n",
       " u'Team-Building Activities',\n",
       " u'Websites',\n",
       " u'Featured Member Stories',\n",
       " u'Women in Business',\n",
       " u'Outsourcing',\n",
       " u'Accounts Receivable/Payable',\n",
       " u'Tax Preparation',\n",
       " u'Taxes',\n",
       " u'Employee Retention',\n",
       " u'Facebook',\n",
       " u'Social Media Strategy',\n",
       " u'E-Commerce',\n",
       " u'Financing',\n",
       " u'Interviewing',\n",
       " u'Loans',\n",
       " u'Mentoring',\n",
       " u'Recruiting',\n",
       " u'Accounting',\n",
       " u'Raising Capital',\n",
       " u'Tax Deductions',\n",
       " u'Content Marketing',\n",
       " u'Instagram',\n",
       " u'SEO',\n",
       " u'Mobile',\n",
       " u'Email Marketing',\n",
       " u'Small Business Saturday',\n",
       " u'Cybersecurity',\n",
       " u'Events',\n",
       " u'Twitter',\n",
       " u'Networking',\n",
       " u'PR',\n",
       " u'Presenting',\n",
       " u'Work-Life Balance',\n",
       " u'HR',\n",
       " u'Firing',\n",
       " u'Benefits',\n",
       " u'Healthcare']"
      ]
     },
     "execution_count": 39,
     "metadata": {},
     "output_type": "execute_result"
    }
   ],
   "source": [
    "unique_tags = []   \n",
    "\n",
    "df['article_tags_list'] = df['article_tags'].apply(lambda x: x[1:-1].split(','))\n",
    "for taglist in df['article_tags_list']:\n",
    "    for idx, tag in enumerate(taglist):\n",
    "        if tag[0] == ' ':\n",
    "            tag = tag[1:]\n",
    "            taglist[idx] = tag\n",
    "        if tag not in unique_tags:\n",
    "            unique_tags.append(tag) \n",
    "        \n",
    "\n",
    "# df['article_tags_list'].apply(lambda x: x[1:] if (x[0] == ' ') else x)\n",
    "# df['article_tags_list'][0]\n",
    "print \"Length of unique tags:\", len(unique_tags)\n",
    "unique_tags"
   ]
  },
  {
   "cell_type": "code",
   "execution_count": 152,
   "metadata": {
    "collapsed": false
   },
   "outputs": [
    {
     "data": {
      "text/html": [
       "<div>\n",
       "<table border=\"1\" class=\"dataframe\">\n",
       "  <thead>\n",
       "    <tr style=\"text-align: right;\">\n",
       "      <th></th>\n",
       "      <th>article_description</th>\n",
       "      <th>article_pubtime</th>\n",
       "      <th>article_section</th>\n",
       "      <th>article_subtopic</th>\n",
       "      <th>article_tags</th>\n",
       "      <th>article_topic</th>\n",
       "      <th>author_name</th>\n",
       "      <th>content</th>\n",
       "      <th>title</th>\n",
       "      <th>article_tags_list</th>\n",
       "      <th>...</th>\n",
       "      <th>Events</th>\n",
       "      <th>Twitter</th>\n",
       "      <th>Networking</th>\n",
       "      <th>PR</th>\n",
       "      <th>Presenting</th>\n",
       "      <th>Work-Life Balance</th>\n",
       "      <th>HR</th>\n",
       "      <th>Firing</th>\n",
       "      <th>Benefits</th>\n",
       "      <th>Healthcare</th>\n",
       "    </tr>\n",
       "  </thead>\n",
       "  <tbody>\n",
       "    <tr>\n",
       "      <th>53</th>\n",
       "      <td>Getting shoppers riled up for a big in-store s...</td>\n",
       "      <td>2016-10-27T14:30:58+00:00</td>\n",
       "      <td>Getting Customers</td>\n",
       "      <td>Social Media Strategy</td>\n",
       "      <td>[Content Marketing, Customer Engagement, Custo...</td>\n",
       "      <td>Getting Customers</td>\n",
       "      <td>Mike Trevino</td>\n",
       "      <td>How E-Commerce Sites and Storefronts Alike Can...</td>\n",
       "      <td>How E-Commerce Sites and Storefronts Alike Can...</td>\n",
       "      <td>[Content Marketing, Customer Engagement, Custo...</td>\n",
       "      <td>...</td>\n",
       "      <td>1</td>\n",
       "      <td>1</td>\n",
       "      <td>0</td>\n",
       "      <td>0</td>\n",
       "      <td>0</td>\n",
       "      <td>0</td>\n",
       "      <td>0</td>\n",
       "      <td>0</td>\n",
       "      <td>0</td>\n",
       "      <td>0</td>\n",
       "    </tr>\n",
       "    <tr>\n",
       "      <th>61</th>\n",
       "      <td>The social media expert explains how he gets 3...</td>\n",
       "      <td>2016-09-06T17:30:42+00:00</td>\n",
       "      <td>Getting Customers</td>\n",
       "      <td>Social Media Strategy</td>\n",
       "      <td>[Getting Customers, Social Media Strategy, Twi...</td>\n",
       "      <td>Getting Customers</td>\n",
       "      <td>Bruna Martinuzzi</td>\n",
       "      <td>3 Twitter Marketing Practices for Growing Foll...</td>\n",
       "      <td>3 Twitter Marketing Practices for Growing Foll...</td>\n",
       "      <td>[Getting Customers, Social Media Strategy, Twi...</td>\n",
       "      <td>...</td>\n",
       "      <td>0</td>\n",
       "      <td>1</td>\n",
       "      <td>0</td>\n",
       "      <td>0</td>\n",
       "      <td>0</td>\n",
       "      <td>0</td>\n",
       "      <td>0</td>\n",
       "      <td>0</td>\n",
       "      <td>0</td>\n",
       "      <td>0</td>\n",
       "    </tr>\n",
       "    <tr>\n",
       "      <th>62</th>\n",
       "      <td>The social media strategist and expert gives p...</td>\n",
       "      <td>2016-08-31T13:30:15+00:00</td>\n",
       "      <td>Getting Customers</td>\n",
       "      <td>Social Media Strategy</td>\n",
       "      <td>[Getting Customers, Marketing &amp; Sales, Social ...</td>\n",
       "      <td>Getting Customers</td>\n",
       "      <td>Bruna Martinuzzi</td>\n",
       "      <td>Neal Schaffer on How to Help Take Your Twitter...</td>\n",
       "      <td>Neal Schaffer on How to Help Take Your Twitter...</td>\n",
       "      <td>[Getting Customers, Marketing &amp; Sales, Social ...</td>\n",
       "      <td>...</td>\n",
       "      <td>0</td>\n",
       "      <td>1</td>\n",
       "      <td>0</td>\n",
       "      <td>0</td>\n",
       "      <td>0</td>\n",
       "      <td>0</td>\n",
       "      <td>0</td>\n",
       "      <td>0</td>\n",
       "      <td>0</td>\n",
       "      <td>0</td>\n",
       "    </tr>\n",
       "  </tbody>\n",
       "</table>\n",
       "<p>3 rows × 102 columns</p>\n",
       "</div>"
      ],
      "text/plain": [
       "                                  article_description  \\\n",
       "53  Getting shoppers riled up for a big in-store s...   \n",
       "61  The social media expert explains how he gets 3...   \n",
       "62  The social media strategist and expert gives p...   \n",
       "\n",
       "              article_pubtime    article_section       article_subtopic  \\\n",
       "53  2016-10-27T14:30:58+00:00  Getting Customers  Social Media Strategy   \n",
       "61  2016-09-06T17:30:42+00:00  Getting Customers  Social Media Strategy   \n",
       "62  2016-08-31T13:30:15+00:00  Getting Customers  Social Media Strategy   \n",
       "\n",
       "                                         article_tags      article_topic  \\\n",
       "53  [Content Marketing, Customer Engagement, Custo...  Getting Customers   \n",
       "61  [Getting Customers, Social Media Strategy, Twi...  Getting Customers   \n",
       "62  [Getting Customers, Marketing & Sales, Social ...  Getting Customers   \n",
       "\n",
       "         author_name                                            content  \\\n",
       "53      Mike Trevino  How E-Commerce Sites and Storefronts Alike Can...   \n",
       "61  Bruna Martinuzzi  3 Twitter Marketing Practices for Growing Foll...   \n",
       "62  Bruna Martinuzzi  Neal Schaffer on How to Help Take Your Twitter...   \n",
       "\n",
       "                                                title  \\\n",
       "53  How E-Commerce Sites and Storefronts Alike Can...   \n",
       "61  3 Twitter Marketing Practices for Growing Foll...   \n",
       "62  Neal Schaffer on How to Help Take Your Twitter...   \n",
       "\n",
       "                                    article_tags_list     ...      Events  \\\n",
       "53  [Content Marketing, Customer Engagement, Custo...     ...           1   \n",
       "61  [Getting Customers, Social Media Strategy, Twi...     ...           0   \n",
       "62  [Getting Customers, Marketing & Sales, Social ...     ...           0   \n",
       "\n",
       "    Twitter  Networking  PR  Presenting  Work-Life Balance  HR  Firing  \\\n",
       "53        1           0   0           0                  0   0       0   \n",
       "61        1           0   0           0                  0   0       0   \n",
       "62        1           0   0           0                  0   0       0   \n",
       "\n",
       "    Benefits  Healthcare  \n",
       "53         0           0  \n",
       "61         0           0  \n",
       "62         0           0  \n",
       "\n",
       "[3 rows x 102 columns]"
      ]
     },
     "execution_count": 152,
     "metadata": {},
     "output_type": "execute_result"
    }
   ],
   "source": [
    "## append tags to dataframe with 1 if the tag is in the row's article_tags list \n",
    "\n",
    "\n",
    "# Create dummies for tags \n",
    "tag_dummies = pd.get_dummies(unique_tags)\n",
    "\n",
    "for tag in unique_tags:\n",
    "    df[tag] = 0\n",
    "    \n",
    "for idx, taglist in enumerate(df['article_tags_list']):\n",
    "    for tag in taglist:\n",
    "        df.loc[idx, tag] = 1\n",
    "    \n",
    "df[df['Twitter'] == 1]"
   ]
  },
  {
   "cell_type": "code",
   "execution_count": 155,
   "metadata": {
    "collapsed": false
   },
   "outputs": [
    {
     "data": {
      "text/html": [
       "<div>\n",
       "<table border=\"1\" class=\"dataframe\">\n",
       "  <thead>\n",
       "    <tr style=\"text-align: right;\">\n",
       "      <th>Websites</th>\n",
       "      <th>0</th>\n",
       "      <th>1</th>\n",
       "    </tr>\n",
       "    <tr>\n",
       "      <th>Twitter</th>\n",
       "      <th></th>\n",
       "      <th></th>\n",
       "    </tr>\n",
       "  </thead>\n",
       "  <tbody>\n",
       "    <tr>\n",
       "      <th>0</th>\n",
       "      <td>72</td>\n",
       "      <td>8</td>\n",
       "    </tr>\n",
       "    <tr>\n",
       "      <th>1</th>\n",
       "      <td>2</td>\n",
       "      <td>1</td>\n",
       "    </tr>\n",
       "  </tbody>\n",
       "</table>\n",
       "</div>"
      ],
      "text/plain": [
       "Websites   0  1\n",
       "Twitter        \n",
       "0         72  8\n",
       "1          2  1"
      ]
     },
     "execution_count": 155,
     "metadata": {},
     "output_type": "execute_result"
    }
   ],
   "source": [
    "pd.crosstab(df['Twitter'], df['Websites'], rownames=['Twitter'], colnames=['Websites'])"
   ]
  },
  {
   "cell_type": "code",
   "execution_count": 157,
   "metadata": {
    "collapsed": false
   },
   "outputs": [
    {
     "data": {
      "image/png": "[encoded data removed]",
      "text/plain": [
       "<matplotlib.figure.Figure at 0x122706610>"
      ]
     },
     "metadata": {},
     "output_type": "display_data"
    }
   ],
   "source": [
    "sns.heatmap([df['Twitter'], df['Websites']]);"
   ]
  },
  {
   "cell_type": "code",
   "execution_count": 158,
   "metadata": {
    "collapsed": false
   },
   "outputs": [
    {
     "data": {
      "text/html": [
       "<div>\n",
       "<table border=\"1\" class=\"dataframe\">\n",
       "  <thead>\n",
       "    <tr style=\"text-align: right;\">\n",
       "      <th>Facebook</th>\n",
       "      <th>0</th>\n",
       "      <th>1</th>\n",
       "    </tr>\n",
       "    <tr>\n",
       "      <th>Twitter</th>\n",
       "      <th></th>\n",
       "      <th></th>\n",
       "    </tr>\n",
       "  </thead>\n",
       "  <tbody>\n",
       "    <tr>\n",
       "      <th>0</th>\n",
       "      <td>77</td>\n",
       "      <td>3</td>\n",
       "    </tr>\n",
       "    <tr>\n",
       "      <th>1</th>\n",
       "      <td>2</td>\n",
       "      <td>1</td>\n",
       "    </tr>\n",
       "  </tbody>\n",
       "</table>\n",
       "</div>"
      ],
      "text/plain": [
       "Facebook   0  1\n",
       "Twitter        \n",
       "0         77  3\n",
       "1          2  1"
      ]
     },
     "execution_count": 158,
     "metadata": {},
     "output_type": "execute_result"
    }
   ],
   "source": [
    "pd.crosstab(df['Twitter'], df['Facebook'], rownames=['Twitter'], colnames=['Facebook'])"
   ]
  },
  {
   "cell_type": "code",
   "execution_count": 168,
   "metadata": {
    "collapsed": false
   },
   "outputs": [
    {
     "name": "stdout",
     "output_type": "stream",
     "text": [
      "Growth Opportunities :  18\n",
      "Innovation :  6\n",
      "Personal Productivity :  5\n",
      "Planning for Growth :  29\n",
      "Productivity :  7\n",
      "Business Expansion :  12\n",
      "Business Plan :  18\n",
      "Cash Flow :  15\n",
      "Franchising :  3\n",
      "Managing Money :  26\n",
      "Operations :  13\n",
      "Partnerships :  4\n",
      "Risk Assessment :  5\n",
      "ROI :  3\n",
      "Saving Money :  6\n",
      "Strategy :  20\n",
      "Best of OPEN Forum :  18\n",
      "Recommended Reads :  14\n",
      "Advertising :  8\n",
      "Brainstorming :  8\n",
      "Branding :  9\n",
      "Competitive Research :  5\n",
      "Critical Numbers :  6\n",
      "Customer Engagement :  21\n",
      "Customer Feedback :  7\n",
      "Customer Relations :  21\n",
      "Customer Research :  4\n",
      "Finding New Customers :  9\n",
      "Getting Customers :  32\n",
      "Making a Sale :  10\n",
      "Market Research :  4\n",
      "Marketing & Sales :  20\n",
      "Pivoting :  9\n",
      "Research :  7\n",
      "Sales Pitches :  2\n",
      "Optimize Your Day :  8\n",
      "Building Your Team :  34\n",
      "Company Culture :  17\n",
      "Hiring & HR :  18\n",
      "Leadership :  21\n",
      "Leadership Skills :  17\n",
      "Motivating Employees :  8\n",
      "Organizational Productivity :  4\n",
      "Team Structure :  10\n",
      "Importing & Exporting :  3\n",
      "Insurance :  2\n",
      "Product Development :  11\n",
      "Grow Global :  3\n",
      "Legal :  2\n",
      "American Express OPEN :  4\n",
      "Card Member Spotlight :  7\n",
      "Ready for Growth :  3\n",
      "Industry Trends :  4\n",
      "A Day in the Life :  1\n",
      "Digital Tools :  13\n",
      "Team-Building Activities :  5\n",
      "Websites :  9\n",
      "Featured Member Stories :  4\n",
      "Women in Business :  1\n",
      "Outsourcing :  3\n",
      "Accounts Receivable/Payable :  6\n",
      "Tax Preparation :  5\n",
      "Taxes :  5\n",
      "Employee Retention :  7\n",
      "Facebook :  4\n",
      "Social Media Strategy :  6\n",
      "E-Commerce :  6\n",
      "Financing :  4\n",
      "Interviewing :  5\n",
      "Loans :  3\n",
      "Mentoring :  4\n",
      "Recruiting :  6\n",
      "Accounting :  3\n",
      "Raising Capital :  2\n",
      "Tax Deductions :  2\n",
      "Content Marketing :  6\n",
      "Instagram :  1\n",
      "SEO :  4\n",
      "Mobile :  5\n",
      "Email Marketing :  2\n",
      "Small Business Saturday :  4\n",
      "Cybersecurity :  1\n",
      "Events :  4\n",
      "Twitter :  3\n",
      "Networking :  4\n",
      "PR :  2\n",
      "Presenting :  3\n",
      "Work-Life Balance :  3\n",
      "HR :  4\n",
      "Firing :  1\n",
      "Benefits :  2\n",
      "Healthcare :  2\n"
     ]
    }
   ],
   "source": [
    "for tag in unique_tags:\n",
    "    print tag, \": \", df[tag].sum()"
   ]
  },
  {
   "cell_type": "code",
   "execution_count": null,
   "metadata": {
    "collapsed": true
   },
   "outputs": [],
   "source": []
  },
  {
   "cell_type": "code",
   "execution_count": 177,
   "metadata": {
    "collapsed": false
   },
   "outputs": [
    {
     "data": {
      "text/html": [
       "<div>\n",
       "<table border=\"1\" class=\"dataframe\">\n",
       "  <thead>\n",
       "    <tr>\n",
       "      <th>Planning for Growth</th>\n",
       "      <th>0</th>\n",
       "      <th colspan=\"4\" halign=\"left\">1</th>\n",
       "    </tr>\n",
       "    <tr>\n",
       "      <th>Grow Global</th>\n",
       "      <th>0</th>\n",
       "      <th colspan=\"2\" halign=\"left\">0</th>\n",
       "      <th colspan=\"2\" halign=\"left\">1</th>\n",
       "    </tr>\n",
       "    <tr>\n",
       "      <th>Ready for Growth</th>\n",
       "      <th>0</th>\n",
       "      <th>0</th>\n",
       "      <th>1</th>\n",
       "      <th>0</th>\n",
       "      <th>1</th>\n",
       "    </tr>\n",
       "    <tr>\n",
       "      <th>Growth Opportunities</th>\n",
       "      <th></th>\n",
       "      <th></th>\n",
       "      <th></th>\n",
       "      <th></th>\n",
       "      <th></th>\n",
       "    </tr>\n",
       "  </thead>\n",
       "  <tbody>\n",
       "    <tr>\n",
       "      <th>0</th>\n",
       "      <td>0.815385</td>\n",
       "      <td>0.184615</td>\n",
       "      <td>0.000000</td>\n",
       "      <td>0.000000</td>\n",
       "      <td>0.000000</td>\n",
       "    </tr>\n",
       "    <tr>\n",
       "      <th>1</th>\n",
       "      <td>0.055556</td>\n",
       "      <td>0.666667</td>\n",
       "      <td>0.111111</td>\n",
       "      <td>0.111111</td>\n",
       "      <td>0.055556</td>\n",
       "    </tr>\n",
       "  </tbody>\n",
       "</table>\n",
       "</div>"
      ],
      "text/plain": [
       "Planning for Growth          0         1                              \n",
       "Grow Global                  0         0                   1          \n",
       "Ready for Growth             0         0         1         0         1\n",
       "Growth Opportunities                                                  \n",
       "0                     0.815385  0.184615  0.000000  0.000000  0.000000\n",
       "1                     0.055556  0.666667  0.111111  0.111111  0.055556"
      ]
     },
     "execution_count": 177,
     "metadata": {},
     "output_type": "execute_result"
    }
   ],
   "source": [
    "pd.crosstab(df['Growth Opportunities'], \n",
    "            [df['Planning for Growth'], \n",
    "             df['Grow Global'], \n",
    "             df['Ready for Growth']]).apply(lambda r: r/r.sum(), axis=1)"
   ]
  },
  {
   "cell_type": "code",
   "execution_count": null,
   "metadata": {
    "collapsed": true
   },
   "outputs": [],
   "source": []
  }
 ],
 "metadata": {
  "anaconda-cloud": {},
  "kernelspec": {
   "display_name": "Python [Root]",
   "language": "python",
   "name": "Python [Root]"
  },
  "language_info": {
   "codemirror_mode": {
    "name": "ipython",
    "version": 2
   },
   "file_extension": ".py",
   "mimetype": "text/x-python",
   "name": "python",
   "nbconvert_exporter": "python",
   "pygments_lexer": "ipython2",
   "version": "2.7.12"
  }
 },
 "nbformat": 4,
 "nbformat_minor": 0
}
