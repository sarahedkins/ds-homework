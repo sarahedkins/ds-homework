{
 "cells": [
  {
   "cell_type": "markdown",
   "metadata": {},
   "source": [
    "# Project 4 Example"
   ]
  },
  {
   "cell_type": "markdown",
   "metadata": {},
   "source": [
    "### Intro: Write a problem Statement/ Specific Aim for this project"
   ]
  },
  {
   "cell_type": "markdown",
   "metadata": {},
   "source": [
    "Answer: Using Planet Express customer data from January 3001-3005, determine how likely previous customers are to request a repeat delivery using demographic information (profession, company size, location) and previous delivery data (days since last delivery, number of total deliveries)."
   ]
  },
  {
   "cell_type": "markdown",
   "metadata": {},
   "source": [
    "### Dataset:  Write up a description of your data and any cleaning that was completed. "
   ]
  },
  {
   "cell_type": "markdown",
   "metadata": {},
   "source": [
    "Answer: There were 525 deliveries in our dataset. There were 25 observations with missing data that were dropped from this analysis. The final analytic sample was 500. This data was collected from January 3001-3005. \n",
    "\n",
    "There were three common professions- Account Manager, Warehouse Manger, and Alien Intake. All others were combined into a fourth category: Other. \n",
    "\n",
    "Similarily there were 4 locations in this data set which had 20 or more deliveries; they were included in this analysis while all others were grouped into the \"Other\" category. \"Days since last delivery\" and \"number of deliveries\" are continuous variables ranging from 0-360 days and 1-100 deliveries, respectively. "
   ]
  },
  {
   "cell_type": "markdown",
   "metadata": {
    "collapsed": true
   },
   "source": [
    "#### Provide a table that explains the data by admission status"
   ]
  },
  {
   "cell_type": "markdown",
   "metadata": {},
   "source": [
    "Variable | Description | Type of Variable\n",
    "---| ---| ---\n",
    "Profession |Title of the account owner  | categorical\n",
    "Company Size | 1- small, 2- medium, 3- large| categorical\n",
    "Location | planet of the company | categorical \n",
    "Days Since Last Delivery | integer | continuous\n",
    "Number of Deliveries | integer | continuous\n",
    "\n",
    "Mean (STD) or counts for 2 of the 4 variables\n",
    "\n",
    "Variable | Mean (STD) or Frequency (%)\n",
    "---| ---\n",
    "Number of Deliveries | 50.0 (10)\n",
    "Earth | 50 (10%)\n",
    "Amphibios 9 | 100 (20%)\n",
    "Bogad | 100 (20%)\n",
    "Colgate 8| 100 (20%) \n",
    "Other| 150 (30%)"
   ]
  },
  {
   "cell_type": "markdown",
   "metadata": {},
   "source": [
    "### Methods: Write up the methods used in your analysis"
   ]
  },
  {
   "cell_type": "markdown",
   "metadata": {},
   "source": [
    "Answer: We completed a logistic regression using Statsmodels v. XX. We calculated the probability of a customer placing another order with Planet Express. "
   ]
  },
  {
   "cell_type": "markdown",
   "metadata": {},
   "source": [
    "### Results: Write up your results"
   ]
  },
  {
   "cell_type": "markdown",
   "metadata": {},
   "source": [
    "Customers from large companies had 2.0 (CI 1.9, 2.1) the odds of of placing another order with Planet Express compared to customers from small companies. "
   ]
  },
  {
   "cell_type": "markdown",
   "metadata": {},
   "source": [
    "### Discussion: Write up your discussion and future steps"
   ]
  },
  {
   "cell_type": "markdown",
   "metadata": {},
   "source": [
    "Our findings indicate that customers have a higher probability of returning if they are from a large company. Next steps could include exploring the difference by statisfaction levels, as measured by a survey."
   ]
  }
 ],
 "metadata": {
  "kernelspec": {
   "display_name": "Python 2",
   "language": "python",
   "name": "python2"
  },
  "language_info": {
   "codemirror_mode": {
    "name": "ipython",
    "version": 2
   },
   "file_extension": ".py",
   "mimetype": "text/x-python",
   "name": "python",
   "nbconvert_exporter": "python",
   "pygments_lexer": "ipython2",
   "version": "2.7.10"
  }
 },
 "nbformat": 4,
 "nbformat_minor": 0
}
