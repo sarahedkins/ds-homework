{
 "cells": [
  {
   "cell_type": "markdown",
   "metadata": {},
   "source": [
    "# 4. Modeling"
   ]
  },
  {
   "cell_type": "code",
   "execution_count": 3,
   "metadata": {
    "collapsed": false
   },
   "outputs": [],
   "source": [
    "import numpy as np\n",
    "import pandas as pd\n",
    "import seaborn as sns\n",
    "%matplotlib inline"
   ]
  },
  {
   "cell_type": "code",
   "execution_count": 4,
   "metadata": {
    "collapsed": true
   },
   "outputs": [],
   "source": [
    "Location = r'../final_3/clean_data.csv'\n",
    "df = pd.read_csv(Location,  encoding='utf-8')"
   ]
  },
  {
   "cell_type": "code",
   "execution_count": 5,
   "metadata": {
    "collapsed": false
   },
   "outputs": [
    {
     "data": {
      "text/html": [
       "<div>\n",
       "<table border=\"1\" class=\"dataframe\">\n",
       "  <thead>\n",
       "    <tr style=\"text-align: right;\">\n",
       "      <th></th>\n",
       "      <th>article_description</th>\n",
       "      <th>article_pubtime</th>\n",
       "      <th>article_section</th>\n",
       "      <th>article_subtopic</th>\n",
       "      <th>article_tags</th>\n",
       "      <th>article_topic</th>\n",
       "      <th>author_name</th>\n",
       "      <th>content</th>\n",
       "      <th>title</th>\n",
       "    </tr>\n",
       "  </thead>\n",
       "  <tbody>\n",
       "    <tr>\n",
       "      <th>0</th>\n",
       "      <td>If you're having trouble trying to be more inn...</td>\n",
       "      <td>2016-11-11T20:00:15+00:00</td>\n",
       "      <td>Planning for Growth</td>\n",
       "      <td>Growth Opportunities</td>\n",
       "      <td>[Growth Opportunities, Innovation, Personal Pr...</td>\n",
       "      <td>Planning for Growth</td>\n",
       "      <td>Heather Willems</td>\n",
       "      <td>The Power of Non-Linear ThinkingHeather Willem...</td>\n",
       "      <td>The Power of Non-Linear Thinking</td>\n",
       "    </tr>\n",
       "    <tr>\n",
       "      <th>1</th>\n",
       "      <td>Huge growth may be possible for businesses of ...</td>\n",
       "      <td>2016-11-09T22:30:34+00:00</td>\n",
       "      <td>Planning for Growth</td>\n",
       "      <td>Operations</td>\n",
       "      <td>[Business Expansion, Business Plan, Cash Flow,...</td>\n",
       "      <td>Planning for Growth</td>\n",
       "      <td>Andrew J. Sherman</td>\n",
       "      <td>3 Growth Strategies for Businesses With Limite...</td>\n",
       "      <td>3 Growth Strategies for Businesses With Limite...</td>\n",
       "    </tr>\n",
       "    <tr>\n",
       "      <th>2</th>\n",
       "      <td>What sets your business apart from the competi...</td>\n",
       "      <td>2016-11-11T22:30:47+00:00</td>\n",
       "      <td>Getting Customers</td>\n",
       "      <td>Marketing &amp; Sales</td>\n",
       "      <td>[Advertising, Brainstorming, Branding, Busines...</td>\n",
       "      <td>Getting Customers</td>\n",
       "      <td>Rieva Lesonsky</td>\n",
       "      <td>USP 101: How to Uncover Your Unique Selling Pr...</td>\n",
       "      <td>USP 101: How to Uncover Your Unique Selling Pr...</td>\n",
       "    </tr>\n",
       "    <tr>\n",
       "      <th>3</th>\n",
       "      <td>Organizational changes are rarely fun or easy,...</td>\n",
       "      <td>2016-11-03T23:30:02+00:00</td>\n",
       "      <td>Building Your Team</td>\n",
       "      <td>Company Culture</td>\n",
       "      <td>[Building Your Team, Business Expansion, Busin...</td>\n",
       "      <td>Building Your Team</td>\n",
       "      <td>David Niu</td>\n",
       "      <td>8 Strategies for Big (or Small) Organizational...</td>\n",
       "      <td>8 Strategies for Big (or Small) Organizational...</td>\n",
       "    </tr>\n",
       "    <tr>\n",
       "      <th>4</th>\n",
       "      <td>When expanding your business, exporting to int...</td>\n",
       "      <td>2016-10-27T19:00:39+00:00</td>\n",
       "      <td>Planning for Growth</td>\n",
       "      <td>Growth Opportunities</td>\n",
       "      <td>[Growth Opportunities, Importing &amp; Exporting, ...</td>\n",
       "      <td>Planning for Growth</td>\n",
       "      <td>Greg Sandler</td>\n",
       "      <td>Lessons Learned: Four Stories From Experienced...</td>\n",
       "      <td>Lessons Learned: Four Stories From Experienced...</td>\n",
       "    </tr>\n",
       "  </tbody>\n",
       "</table>\n",
       "</div>"
      ],
      "text/plain": [
       "                                 article_description  \\\n",
       "0  If you're having trouble trying to be more inn...   \n",
       "1  Huge growth may be possible for businesses of ...   \n",
       "2  What sets your business apart from the competi...   \n",
       "3  Organizational changes are rarely fun or easy,...   \n",
       "4  When expanding your business, exporting to int...   \n",
       "\n",
       "             article_pubtime      article_section      article_subtopic  \\\n",
       "0  2016-11-11T20:00:15+00:00  Planning for Growth  Growth Opportunities   \n",
       "1  2016-11-09T22:30:34+00:00  Planning for Growth            Operations   \n",
       "2  2016-11-11T22:30:47+00:00    Getting Customers     Marketing & Sales   \n",
       "3  2016-11-03T23:30:02+00:00   Building Your Team       Company Culture   \n",
       "4  2016-10-27T19:00:39+00:00  Planning for Growth  Growth Opportunities   \n",
       "\n",
       "                                        article_tags        article_topic  \\\n",
       "0  [Growth Opportunities, Innovation, Personal Pr...  Planning for Growth   \n",
       "1  [Business Expansion, Business Plan, Cash Flow,...  Planning for Growth   \n",
       "2  [Advertising, Brainstorming, Branding, Busines...    Getting Customers   \n",
       "3  [Building Your Team, Business Expansion, Busin...   Building Your Team   \n",
       "4  [Growth Opportunities, Importing & Exporting, ...  Planning for Growth   \n",
       "\n",
       "         author_name                                            content  \\\n",
       "0    Heather Willems  The Power of Non-Linear ThinkingHeather Willem...   \n",
       "1  Andrew J. Sherman  3 Growth Strategies for Businesses With Limite...   \n",
       "2     Rieva Lesonsky  USP 101: How to Uncover Your Unique Selling Pr...   \n",
       "3          David Niu  8 Strategies for Big (or Small) Organizational...   \n",
       "4       Greg Sandler  Lessons Learned: Four Stories From Experienced...   \n",
       "\n",
       "                                               title  \n",
       "0                   The Power of Non-Linear Thinking  \n",
       "1  3 Growth Strategies for Businesses With Limite...  \n",
       "2  USP 101: How to Uncover Your Unique Selling Pr...  \n",
       "3  8 Strategies for Big (or Small) Organizational...  \n",
       "4  Lessons Learned: Four Stories From Experienced...  "
      ]
     },
     "execution_count": 5,
     "metadata": {},
     "output_type": "execute_result"
    }
   ],
   "source": [
    "df.head()"
   ]
  },
  {
   "cell_type": "code",
   "execution_count": 16,
   "metadata": {
    "collapsed": false
   },
   "outputs": [
    {
     "data": {
      "text/plain": [
       "55"
      ]
     },
     "execution_count": 16,
     "metadata": {},
     "output_type": "execute_result"
    }
   ],
   "source": [
    "# split data into train and test sets\n",
    "from sklearn.cross_validation import train_test_split\n",
    "data_train, data_test = train_test_split(df, test_size=0.33, random_state=42)\n",
    "len(data_train)"
   ]
  },
  {
   "cell_type": "code",
   "execution_count": 23,
   "metadata": {
    "collapsed": false
   },
   "outputs": [
    {
     "data": {
      "text/plain": [
       "(55, 6519)"
      ]
     },
     "execution_count": 23,
     "metadata": {},
     "output_type": "execute_result"
    }
   ],
   "source": [
    "# vectorize\n",
    "from sklearn.feature_extraction.text import CountVectorizer\n",
    "count_vect = CountVectorizer()\n",
    "X_train_counts = count_vect.fit_transform(data_train['content'])\n",
    "X_train_counts.shape"
   ]
  },
  {
   "cell_type": "code",
   "execution_count": 27,
   "metadata": {
    "collapsed": false
   },
   "outputs": [
    {
     "data": {
      "text/plain": [
       "850"
      ]
     },
     "execution_count": 27,
     "metadata": {},
     "output_type": "execute_result"
    }
   ],
   "source": [
    "count_vect.vocabulary_.get(u'business')"
   ]
  },
  {
   "cell_type": "code",
   "execution_count": 31,
   "metadata": {
    "collapsed": false
   },
   "outputs": [
    {
     "data": {
      "text/plain": [
       "(55, 6519)"
      ]
     },
     "execution_count": 31,
     "metadata": {},
     "output_type": "execute_result"
    }
   ],
   "source": [
    "# vectorize with tf-idf \n",
    "from sklearn.feature_extraction.text import TfidfTransformer\n",
    "tf_transformer = TfidfTransformer(use_idf=False).fit(X_train_counts)\n",
    "X_train_tf = tf_transformer.transform(X_train_counts)\n",
    "X_train_tf.shape\n",
    "\n",
    "tfidf_transformer = TfidfTransformer()\n",
    "X_train_tfidf = tfidf_transformer.fit_transform(X_train_counts)\n",
    "X_train_tfidf.shape"
   ]
  },
  {
   "cell_type": "code",
   "execution_count": 33,
   "metadata": {
    "collapsed": false
   },
   "outputs": [],
   "source": [
    "# use Naive-Bayes Classifier \n",
    "from sklearn.naive_bayes import MultinomialNB\n",
    "clf = MultinomialNB().fit(X_train_tfidf, data_train['article_subtopic'])\n"
   ]
  },
  {
   "cell_type": "code",
   "execution_count": 34,
   "metadata": {
    "collapsed": false
   },
   "outputs": [
    {
     "name": "stdout",
     "output_type": "stream",
     "text": [
      "'Business strategy is important out of the gate.' => 16                 Strategy\n",
      "39                    Taxes\n",
      "62    Social Media Strategy\n",
      "72              Hiring & HR\n",
      "7                  Research\n",
      "82             Productivity\n",
      "54       Customer Relations\n",
      "19     Growth Opportunities\n",
      "68          Company Culture\n",
      "25                 Strategy\n",
      "44        Marketing & Sales\n",
      "13               Leadership\n",
      "58       Customer Relations\n",
      "3           Company Culture\n",
      "17                    Taxes\n",
      "38                    Taxes\n",
      "8           Company Culture\n",
      "65               Leadership\n",
      "6                  Strategy\n",
      "36                Financing\n",
      "76              Hiring & HR\n",
      "66              Hiring & HR\n",
      "50       Customer Relations\n",
      "46            Digital Tools\n",
      "81               Leadership\n",
      "15               Operations\n",
      "27                Cash Flow\n",
      "41       Customer Relations\n",
      "26          Company Culture\n",
      "48       Customer Relations\n",
      "24               Leadership\n",
      "43        Marketing & Sales\n",
      "79               Leadership\n",
      "73              Hiring & HR\n",
      "57       Customer Relations\n",
      "11               Operations\n",
      "32                Cash Flow\n",
      "78               Leadership\n",
      "59               Leadership\n",
      "63               Leadership\n",
      "80               Leadership\n",
      "37                Financing\n",
      "29        Marketing & Sales\n",
      "1                Operations\n",
      "52       Customer Relations\n",
      "21                 Research\n",
      "2         Marketing & Sales\n",
      "23       Customer Relations\n",
      "77               Leadership\n",
      "74          Company Culture\n",
      "20       Customer Relations\n",
      "60        Marketing & Sales\n",
      "71          Company Culture\n",
      "14               Leadership\n",
      "51     Growth Opportunities\n",
      "Name: article_subtopic, dtype: object\n",
      "'Marshmallows by the campfire are nice.' => 16                 Strategy\n",
      "39                    Taxes\n",
      "62    Social Media Strategy\n",
      "72              Hiring & HR\n",
      "7                  Research\n",
      "82             Productivity\n",
      "54       Customer Relations\n",
      "19     Growth Opportunities\n",
      "68          Company Culture\n",
      "25                 Strategy\n",
      "44        Marketing & Sales\n",
      "13               Leadership\n",
      "58       Customer Relations\n",
      "3           Company Culture\n",
      "17                    Taxes\n",
      "38                    Taxes\n",
      "8           Company Culture\n",
      "65               Leadership\n",
      "6                  Strategy\n",
      "36                Financing\n",
      "76              Hiring & HR\n",
      "66              Hiring & HR\n",
      "50       Customer Relations\n",
      "46            Digital Tools\n",
      "81               Leadership\n",
      "15               Operations\n",
      "27                Cash Flow\n",
      "41       Customer Relations\n",
      "26          Company Culture\n",
      "48       Customer Relations\n",
      "24               Leadership\n",
      "43        Marketing & Sales\n",
      "79               Leadership\n",
      "73              Hiring & HR\n",
      "57       Customer Relations\n",
      "11               Operations\n",
      "32                Cash Flow\n",
      "78               Leadership\n",
      "59               Leadership\n",
      "63               Leadership\n",
      "80               Leadership\n",
      "37                Financing\n",
      "29        Marketing & Sales\n",
      "1                Operations\n",
      "52       Customer Relations\n",
      "21                 Research\n",
      "2         Marketing & Sales\n",
      "23       Customer Relations\n",
      "77               Leadership\n",
      "74          Company Culture\n",
      "20       Customer Relations\n",
      "60        Marketing & Sales\n",
      "71          Company Culture\n",
      "14               Leadership\n",
      "51     Growth Opportunities\n",
      "Name: article_subtopic, dtype: object\n"
     ]
    }
   ],
   "source": [
    "# Test the classifier \n",
    "docs_new = ['Business strategy is important out of the gate.', 'Marshmallows by the campfire are nice.']\n",
    "X_new_counts = count_vect.transform(docs_new)\n",
    "X_new_tfidf = tfidf_transformer.transform(X_new_counts)\n",
    "\n",
    "predicted = clf.predict(X_new_tfidf)\n",
    "\n",
    "for doc, category in zip(docs_new, predicted):\n",
    "     print('%r => %s' % (doc, data_train['article_subtopic']))"
   ]
  },
  {
   "cell_type": "code",
   "execution_count": null,
   "metadata": {
    "collapsed": true
   },
   "outputs": [],
   "source": []
  }
 ],
 "metadata": {
  "anaconda-cloud": {},
  "kernelspec": {
   "display_name": "Python [Root]",
   "language": "python",
   "name": "Python [Root]"
  },
  "language_info": {
   "codemirror_mode": {
    "name": "ipython",
    "version": 2
   },
   "file_extension": ".py",
   "mimetype": "text/x-python",
   "name": "python",
   "nbconvert_exporter": "python",
   "pygments_lexer": "ipython2",
   "version": "2.7.12"
  }
 },
 "nbformat": 4,
 "nbformat_minor": 0
}
