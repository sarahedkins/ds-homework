{
 "cells": [
  {
   "cell_type": "markdown",
   "metadata": {},
   "source": [
    "# 4. Modeling"
   ]
  },
  {
   "cell_type": "code",
   "execution_count": 4,
   "metadata": {
    "collapsed": false
   },
   "outputs": [],
   "source": [
    "import numpy as np\n",
    "import pandas as pd\n",
    "import seaborn as sns\n",
    "%matplotlib inline"
   ]
  },
  {
   "cell_type": "code",
   "execution_count": 5,
   "metadata": {
    "collapsed": true
   },
   "outputs": [],
   "source": [
    "Location = r'../final_3/clean_data.csv'\n",
    "df = pd.read_csv(Location,  encoding='utf-8')"
   ]
  },
  {
   "cell_type": "code",
   "execution_count": 6,
   "metadata": {
    "collapsed": false
   },
   "outputs": [
    {
     "data": {
      "text/html": [
       "<div>\n",
       "<table border=\"1\" class=\"dataframe\">\n",
       "  <thead>\n",
       "    <tr style=\"text-align: right;\">\n",
       "      <th></th>\n",
       "      <th>article_description</th>\n",
       "      <th>article_pubtime</th>\n",
       "      <th>article_section</th>\n",
       "      <th>article_subtopic</th>\n",
       "      <th>article_tags</th>\n",
       "      <th>article_topic</th>\n",
       "      <th>author_name</th>\n",
       "      <th>content</th>\n",
       "      <th>title</th>\n",
       "    </tr>\n",
       "  </thead>\n",
       "  <tbody>\n",
       "    <tr>\n",
       "      <th>0</th>\n",
       "      <td>If you're having trouble trying to be more inn...</td>\n",
       "      <td>2016-11-11T20:00:15+00:00</td>\n",
       "      <td>Planning for Growth</td>\n",
       "      <td>Growth Opportunities</td>\n",
       "      <td>[Growth Opportunities, Innovation, Personal Pr...</td>\n",
       "      <td>Planning for Growth</td>\n",
       "      <td>Heather Willems</td>\n",
       "      <td>The Power of Non-Linear ThinkingHeather Willem...</td>\n",
       "      <td>The Power of Non-Linear Thinking</td>\n",
       "    </tr>\n",
       "    <tr>\n",
       "      <th>1</th>\n",
       "      <td>Huge growth may be possible for businesses of ...</td>\n",
       "      <td>2016-11-09T22:30:34+00:00</td>\n",
       "      <td>Planning for Growth</td>\n",
       "      <td>Operations</td>\n",
       "      <td>[Business Expansion, Business Plan, Cash Flow,...</td>\n",
       "      <td>Planning for Growth</td>\n",
       "      <td>Andrew J. Sherman</td>\n",
       "      <td>3 Growth Strategies for Businesses With Limite...</td>\n",
       "      <td>3 Growth Strategies for Businesses With Limite...</td>\n",
       "    </tr>\n",
       "    <tr>\n",
       "      <th>2</th>\n",
       "      <td>What sets your business apart from the competi...</td>\n",
       "      <td>2016-11-11T22:30:47+00:00</td>\n",
       "      <td>Getting Customers</td>\n",
       "      <td>Marketing &amp; Sales</td>\n",
       "      <td>[Advertising, Brainstorming, Branding, Busines...</td>\n",
       "      <td>Getting Customers</td>\n",
       "      <td>Rieva Lesonsky</td>\n",
       "      <td>USP 101: How to Uncover Your Unique Selling Pr...</td>\n",
       "      <td>USP 101: How to Uncover Your Unique Selling Pr...</td>\n",
       "    </tr>\n",
       "    <tr>\n",
       "      <th>3</th>\n",
       "      <td>Organizational changes are rarely fun or easy,...</td>\n",
       "      <td>2016-11-03T23:30:02+00:00</td>\n",
       "      <td>Building Your Team</td>\n",
       "      <td>Company Culture</td>\n",
       "      <td>[Building Your Team, Business Expansion, Busin...</td>\n",
       "      <td>Building Your Team</td>\n",
       "      <td>David Niu</td>\n",
       "      <td>8 Strategies for Big (or Small) Organizational...</td>\n",
       "      <td>8 Strategies for Big (or Small) Organizational...</td>\n",
       "    </tr>\n",
       "    <tr>\n",
       "      <th>4</th>\n",
       "      <td>When expanding your business, exporting to int...</td>\n",
       "      <td>2016-10-27T19:00:39+00:00</td>\n",
       "      <td>Planning for Growth</td>\n",
       "      <td>Growth Opportunities</td>\n",
       "      <td>[Growth Opportunities, Importing &amp; Exporting, ...</td>\n",
       "      <td>Planning for Growth</td>\n",
       "      <td>Greg Sandler</td>\n",
       "      <td>Lessons Learned: Four Stories From Experienced...</td>\n",
       "      <td>Lessons Learned: Four Stories From Experienced...</td>\n",
       "    </tr>\n",
       "  </tbody>\n",
       "</table>\n",
       "</div>"
      ],
      "text/plain": [
       "                                 article_description  \\\n",
       "0  If you're having trouble trying to be more inn...   \n",
       "1  Huge growth may be possible for businesses of ...   \n",
       "2  What sets your business apart from the competi...   \n",
       "3  Organizational changes are rarely fun or easy,...   \n",
       "4  When expanding your business, exporting to int...   \n",
       "\n",
       "             article_pubtime      article_section      article_subtopic  \\\n",
       "0  2016-11-11T20:00:15+00:00  Planning for Growth  Growth Opportunities   \n",
       "1  2016-11-09T22:30:34+00:00  Planning for Growth            Operations   \n",
       "2  2016-11-11T22:30:47+00:00    Getting Customers     Marketing & Sales   \n",
       "3  2016-11-03T23:30:02+00:00   Building Your Team       Company Culture   \n",
       "4  2016-10-27T19:00:39+00:00  Planning for Growth  Growth Opportunities   \n",
       "\n",
       "                                        article_tags        article_topic  \\\n",
       "0  [Growth Opportunities, Innovation, Personal Pr...  Planning for Growth   \n",
       "1  [Business Expansion, Business Plan, Cash Flow,...  Planning for Growth   \n",
       "2  [Advertising, Brainstorming, Branding, Busines...    Getting Customers   \n",
       "3  [Building Your Team, Business Expansion, Busin...   Building Your Team   \n",
       "4  [Growth Opportunities, Importing & Exporting, ...  Planning for Growth   \n",
       "\n",
       "         author_name                                            content  \\\n",
       "0    Heather Willems  The Power of Non-Linear ThinkingHeather Willem...   \n",
       "1  Andrew J. Sherman  3 Growth Strategies for Businesses With Limite...   \n",
       "2     Rieva Lesonsky  USP 101: How to Uncover Your Unique Selling Pr...   \n",
       "3          David Niu  8 Strategies for Big (or Small) Organizational...   \n",
       "4       Greg Sandler  Lessons Learned: Four Stories From Experienced...   \n",
       "\n",
       "                                               title  \n",
       "0                   The Power of Non-Linear Thinking  \n",
       "1  3 Growth Strategies for Businesses With Limite...  \n",
       "2  USP 101: How to Uncover Your Unique Selling Pr...  \n",
       "3  8 Strategies for Big (or Small) Organizational...  \n",
       "4  Lessons Learned: Four Stories From Experienced...  "
      ]
     },
     "execution_count": 6,
     "metadata": {},
     "output_type": "execute_result"
    }
   ],
   "source": [
    "df.head()"
   ]
  },
  {
   "cell_type": "code",
   "execution_count": 7,
   "metadata": {
    "collapsed": false
   },
   "outputs": [
    {
     "data": {
      "text/plain": [
       "Building Your Team     26\n",
       "Getting Customers      26\n",
       "Planning for Growth    19\n",
       "Managing Money         12\n",
       "Name: article_section, dtype: int64"
      ]
     },
     "execution_count": 7,
     "metadata": {},
     "output_type": "execute_result"
    }
   ],
   "source": [
    "df['article_section'].value_counts()"
   ]
  },
  {
   "cell_type": "code",
   "execution_count": 8,
   "metadata": {
    "collapsed": false
   },
   "outputs": [
    {
     "data": {
      "text/plain": [
       "Customer Relations       12\n",
       "Leadership               12\n",
       "Marketing & Sales         9\n",
       "Company Culture           8\n",
       "Growth Opportunities      8\n",
       "Cash Flow                 6\n",
       "Hiring & HR               6\n",
       "Strategy                  4\n",
       "Taxes                     4\n",
       "Social Media Strategy     3\n",
       "Research                  3\n",
       "Operations                3\n",
       "Financing                 2\n",
       "Digital Tools             2\n",
       "Productivity              1\n",
       "Name: article_subtopic, dtype: int64"
      ]
     },
     "execution_count": 8,
     "metadata": {},
     "output_type": "execute_result"
    }
   ],
   "source": [
    "df['article_subtopic'].value_counts()"
   ]
  },
  {
   "cell_type": "code",
   "execution_count": 9,
   "metadata": {
    "collapsed": false
   },
   "outputs": [],
   "source": [
    "#df[df['author_name'] == 'David Niu']"
   ]
  },
  {
   "cell_type": "code",
   "execution_count": 10,
   "metadata": {
    "collapsed": false
   },
   "outputs": [
    {
     "name": "stdout",
     "output_type": "stream",
     "text": [
      "Labels \n",
      "16                 Strategy\n",
      "39                    Taxes\n",
      "62    Social Media Strategy\n",
      "72              Hiring & HR\n",
      "7                  Research\n",
      "Name: article_subtopic, dtype: object\n"
     ]
    }
   ],
   "source": [
    "# split data into train and test sets\n",
    "from sklearn.cross_validation import train_test_split\n",
    "data_train, data_test = train_test_split(df, test_size=0.33, random_state=42)\n",
    "len(data_train)\n",
    "\n",
    "data_train.head()\n",
    "labels = data_train['article_subtopic']\n",
    "print \"Labels \\n\", labels.head()\n",
    "\n",
    "labels_test = data_test['article_subtopic']"
   ]
  },
  {
   "cell_type": "code",
   "execution_count": 11,
   "metadata": {
    "collapsed": false
   },
   "outputs": [
    {
     "name": "stdout",
     "output_type": "stream",
     "text": [
      "6\n"
     ]
    },
    {
     "data": {
      "text/plain": [
       "6"
      ]
     },
     "execution_count": 11,
     "metadata": {},
     "output_type": "execute_result"
    }
   ],
   "source": [
    "growth_opp = df[df['article_subtopic'] == 'Growth Opportunities']\n",
    "hiring_hr = df[df['article_subtopic'] == 'Hiring & HR']\n",
    "print len(hiring_hr)\n",
    "hiring_labels = pd.Series([\"Hiring & HR\",\"Hiring & HR\",\"Hiring & HR\",\"Hiring & HR\",\"Hiring & HR\",\"Hiring & HR\"])\n",
    "len(hiring_labels)"
   ]
  },
  {
   "cell_type": "code",
   "execution_count": null,
   "metadata": {
    "collapsed": false
   },
   "outputs": [],
   "source": []
  },
  {
   "cell_type": "code",
   "execution_count": 12,
   "metadata": {
    "collapsed": false
   },
   "outputs": [
    {
     "data": {
      "text/plain": [
       "[u'build',\n",
       " u'building',\n",
       " u'built',\n",
       " u'business',\n",
       " u'business access',\n",
       " u'business growth',\n",
       " u'business owner',\n",
       " u'business owners',\n",
       " u'business read',\n",
       " u'business read articles',\n",
       " u'business situation',\n",
       " u'business situation article',\n",
       " u'business situation judgment',\n",
       " u'business strategy',\n",
       " u'business strategy approach',\n",
       " u'businesses',\n",
       " u'buy',\n",
       " u'california',\n",
       " u'california area',\n",
       " u'called',\n",
       " u'calls',\n",
       " u'came',\n",
       " u'campaigns',\n",
       " u'care',\n",
       " u'case',\n",
       " u'cash',\n",
       " u'cash flow',\n",
       " u'cause',\n",
       " u'center',\n",
       " u'ceo']"
      ]
     },
     "execution_count": 12,
     "metadata": {},
     "output_type": "execute_result"
    }
   ],
   "source": [
    "# vectorize\n",
    "from sklearn.feature_extraction.text import CountVectorizer\n",
    "count_vect = CountVectorizer(max_features = 1000, \n",
    "                             ngram_range=(1, 3), \n",
    "                             stop_words='english',\n",
    "                             binary=True)\n",
    "X_train_counts = count_vect.fit(data_train['content'])\n",
    "#X_train_counts.shape\n",
    "X_train_counts = count_vect.transform(data_train['content'])\n",
    "names =  count_vect.get_feature_names()\n",
    "names[115:145]"
   ]
  },
  {
   "cell_type": "code",
   "execution_count": 13,
   "metadata": {
    "collapsed": false
   },
   "outputs": [
    {
     "data": {
      "text/plain": [
       "118"
      ]
     },
     "execution_count": 13,
     "metadata": {},
     "output_type": "execute_result"
    }
   ],
   "source": [
    "count_vect.vocabulary_.get(u'business')"
   ]
  },
  {
   "cell_type": "code",
   "execution_count": 14,
   "metadata": {
    "collapsed": false
   },
   "outputs": [
    {
     "data": {
      "text/plain": [
       "277"
      ]
     },
     "execution_count": 14,
     "metadata": {},
     "output_type": "execute_result"
    }
   ],
   "source": [
    "count_vect.vocabulary_.get(u'employees')"
   ]
  },
  {
   "cell_type": "code",
   "execution_count": 15,
   "metadata": {
    "collapsed": false
   },
   "outputs": [],
   "source": [
    "count_vect.vocabulary_.get(u'stock')"
   ]
  },
  {
   "cell_type": "code",
   "execution_count": 16,
   "metadata": {
    "collapsed": false
   },
   "outputs": [],
   "source": [
    "count_vect.vocabulary_.get(u'bread')"
   ]
  },
  {
   "cell_type": "code",
   "execution_count": 17,
   "metadata": {
    "collapsed": false
   },
   "outputs": [
    {
     "name": "stdout",
     "output_type": "stream",
     "text": [
      "(55, 1000)\n",
      "(55, 1000)\n"
     ]
    }
   ],
   "source": [
    "# vectorize with tf-idf \n",
    "from sklearn.feature_extraction.text import TfidfTransformer\n",
    "tf_transformer = TfidfTransformer(use_idf=True).fit(X_train_counts)\n",
    "X_train_tf = tf_transformer.transform(X_train_counts)\n",
    "print X_train_tf.shape\n",
    "\n",
    "names = count_vect.get_feature_names()\n",
    "names[50:100]\n",
    "\n",
    "tfidf_transformer = TfidfTransformer()\n",
    "X_train_tfidf = tfidf_transformer.fit_transform(X_train_counts)\n",
    "print X_train_tfidf.shape"
   ]
  },
  {
   "cell_type": "code",
   "execution_count": 18,
   "metadata": {
    "collapsed": false
   },
   "outputs": [],
   "source": [
    "# use Naive-Bayes Classifier \n",
    "from sklearn.naive_bayes import MultinomialNB\n",
    "clf = MultinomialNB().fit(X_train_counts, labels)"
   ]
  },
  {
   "cell_type": "code",
   "execution_count": 19,
   "metadata": {
    "collapsed": false
   },
   "outputs": [
    {
     "name": "stdout",
     "output_type": "stream",
     "text": [
      "16                 Strategy\n",
      "39                    Taxes\n",
      "62    Social Media Strategy\n",
      "72              Hiring & HR\n",
      "7                  Research\n",
      "Name: article_subtopic, dtype: object\n"
     ]
    }
   ],
   "source": [
    "print labels[0:5]"
   ]
  },
  {
   "cell_type": "code",
   "execution_count": 20,
   "metadata": {
    "collapsed": false
   },
   "outputs": [
    {
     "name": "stdout",
     "output_type": "stream",
     "text": [
      "'Business strategy is important.' => Customer Relations\n",
      "'Hiring new employees is tough because candidates are hard to find.' => Leadership\n",
      "'Candidates hire new employees' => Leadership\n",
      "'Web SEO mobile' => Customer Relations\n",
      "'Attracting new customers through advertising' => Customer Relations\n",
      "'Employee benefits' => Leadership\n",
      "'Economic Ups and Downs' => Leadership\n",
      "'Ups and Downs' => Leadership\n",
      "'Customer stuff' => Customer Relations\n",
      "'mobile' => Customer Relations\n",
      "'digital' => Customer Relations\n",
      "'The Power of Non-Linear Thinking' => Leadership\n",
      "'3 Growth Strategies for Businesses With Limited' => Customer Relations\n"
     ]
    }
   ],
   "source": [
    "# Test the classifier \n",
    "docs_new = ['Business strategy is important.', \n",
    "            \"Hiring new employees is tough because candidates are hard to find.\", \n",
    "            \"Candidates hire new employees\", \n",
    "            \"Web SEO mobile\",\n",
    "           \"Attracting new customers through advertising\",\n",
    "           \"Employee benefits\",\n",
    "           \"Economic Ups and Downs\",\n",
    "           \"Ups and Downs\",\n",
    "           \"Customer stuff\",\n",
    "           \"mobile\",\n",
    "           \"digital\",\n",
    "           \"The Power of Non-Linear Thinking\",\n",
    "           \"3 Growth Strategies for Businesses With Limited\"]\n",
    "X_new_counts = count_vect.transform(docs_new)\n",
    "\n",
    "X_new_tf = tf_transformer.transform(X_new_counts)\n",
    "\n",
    "predicted = clf.predict(X_new_tf)\n",
    "\n",
    "for doc, category in zip(docs_new, predicted):\n",
    "     print('%r => %s' % (doc, category))"
   ]
  },
  {
   "cell_type": "code",
   "execution_count": 21,
   "metadata": {
    "collapsed": true
   },
   "outputs": [],
   "source": [
    "# creates a pipeline \n",
    "from sklearn.pipeline import Pipeline\n",
    "text_clf = Pipeline([('vect', CountVectorizer()),\n",
    "                      ('tfidf', TfidfTransformer()),\n",
    "                      ('clf', MultinomialNB()),\n",
    " ])"
   ]
  },
  {
   "cell_type": "code",
   "execution_count": 22,
   "metadata": {
    "collapsed": false
   },
   "outputs": [],
   "source": [
    "text_clf = text_clf.fit(data_train['content'], labels)"
   ]
  },
  {
   "cell_type": "code",
   "execution_count": 23,
   "metadata": {
    "collapsed": false
   },
   "outputs": [
    {
     "data": {
      "text/plain": [
       "0.035714285714285712"
      ]
     },
     "execution_count": 23,
     "metadata": {},
     "output_type": "execute_result"
    }
   ],
   "source": [
    "# get prediction accuracy using the test set\n",
    "docs_test = data_test['content']\n",
    "#print docs_test\n",
    "predicted = text_clf.predict(docs_test)\n",
    "#print predicted\n",
    "np.mean(predicted == labels_test)            "
   ]
  },
  {
   "cell_type": "code",
   "execution_count": 24,
   "metadata": {
    "collapsed": false
   },
   "outputs": [
    {
     "name": "stdout",
     "output_type": "stream",
     "text": [
      "Leadership               11\n",
      "Customer Relations        9\n",
      "Company Culture           6\n",
      "Marketing & Sales         5\n",
      "Hiring & HR               4\n",
      "Strategy                  3\n",
      "Taxes                     3\n",
      "Operations                3\n",
      "Cash Flow                 2\n",
      "Financing                 2\n",
      "Research                  2\n",
      "Growth Opportunities      2\n",
      "Social Media Strategy     1\n",
      "Digital Tools             1\n",
      "Productivity              1\n",
      "Name: article_subtopic, dtype: int64\n"
     ]
    }
   ],
   "source": [
    "print data_train['article_subtopic'].value_counts()"
   ]
  },
  {
   "cell_type": "markdown",
   "metadata": {},
   "source": [
    "My classifier is only bucketing documents into two categories, despite feeding it several categories. This might be because there are a lot of \"Leadership\" and \"Customer Relations\" articles and not as many of the other categories.\n",
    "\n",
    "Let's try it again using categories that all have the same number of observations - to see if that was causing it."
   ]
  },
  {
   "cell_type": "code",
   "execution_count": 25,
   "metadata": {
    "collapsed": false
   },
   "outputs": [
    {
     "data": {
      "text/html": [
       "<div>\n",
       "<table border=\"1\" class=\"dataframe\">\n",
       "  <thead>\n",
       "    <tr style=\"text-align: right;\">\n",
       "      <th></th>\n",
       "      <th>article_description</th>\n",
       "      <th>article_pubtime</th>\n",
       "      <th>article_section</th>\n",
       "      <th>article_subtopic</th>\n",
       "      <th>article_tags</th>\n",
       "      <th>article_topic</th>\n",
       "      <th>author_name</th>\n",
       "      <th>content</th>\n",
       "      <th>title</th>\n",
       "    </tr>\n",
       "  </thead>\n",
       "  <tbody>\n",
       "    <tr>\n",
       "      <th>16</th>\n",
       "      <td>Small businesses can be just as volatile as th...</td>\n",
       "      <td>2016-08-23T22:30:24+00:00</td>\n",
       "      <td>Planning for Growth</td>\n",
       "      <td>Strategy</td>\n",
       "      <td>[Accounts Receivable/Payable, Building Your Te...</td>\n",
       "      <td>Planning for Growth</td>\n",
       "      <td>Julie Bawden Davis</td>\n",
       "      <td>Economic Ups and Downs: How to Help Prepare Yo...</td>\n",
       "      <td>Economic Ups and Downs: How to Help Prepare Yo...</td>\n",
       "    </tr>\n",
       "    <tr>\n",
       "      <th>39</th>\n",
       "      <td>Being as tax-savvy as possible can help you—an...</td>\n",
       "      <td>2016-09-29T17:00:01+00:00</td>\n",
       "      <td>Managing Money</td>\n",
       "      <td>Taxes</td>\n",
       "      <td>[Cash Flow, Managing Money, Tax Deductions, Ta...</td>\n",
       "      <td>Managing Money</td>\n",
       "      <td>John Suh</td>\n",
       "      <td>4 Things Every Business Owner Should Know Abou...</td>\n",
       "      <td>4 Things Every Business Owner Should Know Abou...</td>\n",
       "    </tr>\n",
       "  </tbody>\n",
       "</table>\n",
       "</div>"
      ],
      "text/plain": [
       "                                  article_description  \\\n",
       "16  Small businesses can be just as volatile as th...   \n",
       "39  Being as tax-savvy as possible can help you—an...   \n",
       "\n",
       "              article_pubtime      article_section article_subtopic  \\\n",
       "16  2016-08-23T22:30:24+00:00  Planning for Growth         Strategy   \n",
       "39  2016-09-29T17:00:01+00:00       Managing Money            Taxes   \n",
       "\n",
       "                                         article_tags        article_topic  \\\n",
       "16  [Accounts Receivable/Payable, Building Your Te...  Planning for Growth   \n",
       "39  [Cash Flow, Managing Money, Tax Deductions, Ta...       Managing Money   \n",
       "\n",
       "           author_name                                            content  \\\n",
       "16  Julie Bawden Davis  Economic Ups and Downs: How to Help Prepare Yo...   \n",
       "39            John Suh  4 Things Every Business Owner Should Know Abou...   \n",
       "\n",
       "                                                title  \n",
       "16  Economic Ups and Downs: How to Help Prepare Yo...  \n",
       "39  4 Things Every Business Owner Should Know Abou...  "
      ]
     },
     "execution_count": 25,
     "metadata": {},
     "output_type": "execute_result"
    }
   ],
   "source": [
    "categories = ['Cash Flow', 'Financing', 'Research', 'Growth Opportunities', 'Strategy','Taxes', 'Operations']\n",
    "# categories = ['Building Your Team', 'Getting Customers', 'Planning for Growth']\n",
    "train_dropped = data_train[data_train['article_subtopic'].isin(categories)]\n",
    "train_dropped.head(2)"
   ]
  },
  {
   "cell_type": "code",
   "execution_count": 26,
   "metadata": {
    "collapsed": false
   },
   "outputs": [
    {
     "name": "stdout",
     "output_type": "stream",
     "text": [
      "(17, 1000)\n",
      "(17, 1000)\n",
      "'Business strategy is important.' => Strategy\n",
      "'Hiring new employees is tough because candidates are hard to find.' => Strategy\n",
      "'Candidates hire new employees' => Strategy\n",
      "'Web SEO mobile' => Operations\n",
      "'Attracting new customers through advertising' => Operations\n",
      "'Employee benefits' => Operations\n",
      "'Economic Ups and Downs' => Operations\n",
      "'Ups and Downs' => Operations\n",
      "'Customer stuff' => Operations\n",
      "'mobile' => Operations\n",
      "'digital' => Operations\n",
      "'The Power of Non-Linear Thinking' => Operations\n",
      "'3 Growth Strategies for Businesses With Limited' => Operations\n"
     ]
    }
   ],
   "source": [
    "# vectorize\n",
    "from sklearn.feature_extraction.text import CountVectorizer\n",
    "count_vect = CountVectorizer(max_features = 1000, \n",
    "                             ngram_range=(1, 3), \n",
    "                             stop_words='english',\n",
    "                             binary=True)\n",
    "X_train_counts = count_vect.fit(train_dropped['content'])\n",
    "#X_train_counts.shape\n",
    "X_train_counts = count_vect.transform(train_dropped['content'])\n",
    "names =  count_vect.get_feature_names()\n",
    "names[115:145]\n",
    "\n",
    "# vectorize with tf-idf \n",
    "from sklearn.feature_extraction.text import TfidfTransformer\n",
    "tf_transformer = TfidfTransformer(use_idf=True).fit(X_train_counts)\n",
    "X_train_tf = tf_transformer.transform(X_train_counts)\n",
    "print X_train_tf.shape\n",
    "\n",
    "names = count_vect.get_feature_names()\n",
    "names[50:100]\n",
    "\n",
    "tfidf_transformer = TfidfTransformer()\n",
    "X_train_tfidf = tfidf_transformer.fit_transform(X_train_counts)\n",
    "print X_train_tfidf.shape\n",
    "\n",
    "# use Naive-Bayes Classifier \n",
    "from sklearn.naive_bayes import MultinomialNB\n",
    "clf = MultinomialNB().fit(X_train_counts, train_dropped['article_subtopic'])\n",
    "\n",
    "# Test the classifier \n",
    "docs_new = ['Business strategy is important.', \n",
    "            \"Hiring new employees is tough because candidates are hard to find.\", \n",
    "            \"Candidates hire new employees\", \n",
    "            \"Web SEO mobile\",\n",
    "           \"Attracting new customers through advertising\",\n",
    "           \"Employee benefits\",\n",
    "           \"Economic Ups and Downs\",\n",
    "           \"Ups and Downs\",\n",
    "           \"Customer stuff\",\n",
    "           \"mobile\",\n",
    "           \"digital\",\n",
    "           \"The Power of Non-Linear Thinking\",\n",
    "           \"3 Growth Strategies for Businesses With Limited\"]\n",
    "X_new_counts = count_vect.transform(docs_new)\n",
    "\n",
    "X_new_tf = tf_transformer.transform(X_new_counts)\n",
    "\n",
    "predicted = clf.predict(X_new_tf)\n",
    "\n",
    "for doc, category in zip(docs_new, predicted):\n",
    "     print('%r => %s' % (doc, category))"
   ]
  },
  {
   "cell_type": "code",
   "execution_count": 27,
   "metadata": {
    "collapsed": false
   },
   "outputs": [
    {
     "data": {
      "text/html": [
       "<div>\n",
       "<table border=\"1\" class=\"dataframe\">\n",
       "  <thead>\n",
       "    <tr style=\"text-align: right;\">\n",
       "      <th></th>\n",
       "      <th>article_description</th>\n",
       "      <th>article_pubtime</th>\n",
       "      <th>article_section</th>\n",
       "      <th>article_subtopic</th>\n",
       "      <th>article_tags</th>\n",
       "      <th>article_topic</th>\n",
       "      <th>author_name</th>\n",
       "      <th>content</th>\n",
       "      <th>title</th>\n",
       "    </tr>\n",
       "  </thead>\n",
       "  <tbody>\n",
       "    <tr>\n",
       "      <th>30</th>\n",
       "      <td>As your business grows, you may want to consid...</td>\n",
       "      <td>2016-11-08T17:30:05+00:00</td>\n",
       "      <td>Managing Money</td>\n",
       "      <td>Cash Flow</td>\n",
       "      <td>[Accounting, Cash Flow, Managing Money]</td>\n",
       "      <td>Managing Money</td>\n",
       "      <td>Hal Shelton</td>\n",
       "      <td>When It Comes to Accounting, Do You Need a CPA...</td>\n",
       "      <td>When It Comes to Accounting, Do You Need a CPA...</td>\n",
       "    </tr>\n",
       "    <tr>\n",
       "      <th>0</th>\n",
       "      <td>If you're having trouble trying to be more inn...</td>\n",
       "      <td>2016-11-11T20:00:15+00:00</td>\n",
       "      <td>Planning for Growth</td>\n",
       "      <td>Growth Opportunities</td>\n",
       "      <td>[Growth Opportunities, Innovation, Personal Pr...</td>\n",
       "      <td>Planning for Growth</td>\n",
       "      <td>Heather Willems</td>\n",
       "      <td>The Power of Non-Linear ThinkingHeather Willem...</td>\n",
       "      <td>The Power of Non-Linear Thinking</td>\n",
       "    </tr>\n",
       "  </tbody>\n",
       "</table>\n",
       "</div>"
      ],
      "text/plain": [
       "                                  article_description  \\\n",
       "30  As your business grows, you may want to consid...   \n",
       "0   If you're having trouble trying to be more inn...   \n",
       "\n",
       "              article_pubtime      article_section      article_subtopic  \\\n",
       "30  2016-11-08T17:30:05+00:00       Managing Money             Cash Flow   \n",
       "0   2016-11-11T20:00:15+00:00  Planning for Growth  Growth Opportunities   \n",
       "\n",
       "                                         article_tags        article_topic  \\\n",
       "30            [Accounting, Cash Flow, Managing Money]       Managing Money   \n",
       "0   [Growth Opportunities, Innovation, Personal Pr...  Planning for Growth   \n",
       "\n",
       "        author_name                                            content  \\\n",
       "30      Hal Shelton  When It Comes to Accounting, Do You Need a CPA...   \n",
       "0   Heather Willems  The Power of Non-Linear ThinkingHeather Willem...   \n",
       "\n",
       "                                                title  \n",
       "30  When It Comes to Accounting, Do You Need a CPA...  \n",
       "0                    The Power of Non-Linear Thinking  "
      ]
     },
     "execution_count": 27,
     "metadata": {},
     "output_type": "execute_result"
    }
   ],
   "source": [
    "test_dropped = data_test[data_test['article_subtopic'].isin(categories)]\n",
    "test_dropped.head(2)"
   ]
  },
  {
   "cell_type": "code",
   "execution_count": 28,
   "metadata": {
    "collapsed": false
   },
   "outputs": [
    {
     "data": {
      "text/plain": [
       "0.15384615384615385"
      ]
     },
     "execution_count": 28,
     "metadata": {},
     "output_type": "execute_result"
    }
   ],
   "source": [
    "text_clf = text_clf.fit(train_dropped['content'], train_dropped['article_subtopic'])\n",
    "\n",
    "# get prediction accuracy using the test set\n",
    "docs_test = test_dropped['content']\n",
    "predicted = text_clf.predict(docs_test)\n",
    "#print \"Predicted:\", predicted\n",
    "np.mean(predicted == test_dropped['article_subtopic']) \n",
    "#test_dropped['article_subtopic']"
   ]
  },
  {
   "cell_type": "markdown",
   "metadata": {},
   "source": [
    "My accuracy slightly increased.. Promising! LOL.\n",
    "\n",
    "The issues are:\n",
    "1) there isn't enough data, and\n",
    "2) there are too many buckets and the articles are not distributed evenly amongst them\n",
    "\n",
    "### Attempting again\n",
    " Improvements:\n",
    " 1) using article_topic instead of article_subtopic to have less buckets\n",
    " 2) increase train set size "
   ]
  },
  {
   "cell_type": "code",
   "execution_count": 55,
   "metadata": {
    "collapsed": false
   },
   "outputs": [
    {
     "name": "stdout",
     "output_type": "stream",
     "text": [
      "Train set len: 70\n",
      "Test set len: 13\n",
      "Train Labels \n",
      "Building Your Team     25\n",
      "Getting Customers      24\n",
      "Planning for Growth    13\n",
      "Managing Money          8\n",
      "Name: article_topic, dtype: int64\n",
      "Test Labels \n",
      "Planning for Growth    6\n",
      "Managing Money         4\n",
      "Getting Customers      2\n",
      "Building Your Team     1\n",
      "Name: article_topic, dtype: int64\n"
     ]
    }
   ],
   "source": [
    "# split data into train and test sets\n",
    "from sklearn.cross_validation import train_test_split\n",
    "topic_train, topic_test = train_test_split(df, test_size=0.15, random_state=42)\n",
    "print \"Train set len:\", len(topic_train)\n",
    "print \"Test set len:\", len(topic_test)\n",
    "\n",
    "topic_train.head()\n",
    "topic_labels = topic_train['article_topic']\n",
    "print \"Train Labels \\n\", topic_labels.value_counts()\n",
    "\n",
    "topic_labels_test = topic_test['article_topic']\n",
    "print \"Test Labels \\n\", topic_labels_test.value_counts()"
   ]
  },
  {
   "cell_type": "code",
   "execution_count": 56,
   "metadata": {
    "collapsed": false
   },
   "outputs": [
    {
     "data": {
      "text/plain": [
       "[u'budget',\n",
       " u'build',\n",
       " u'building',\n",
       " u'built',\n",
       " u'business',\n",
       " u'business entrepreneurship',\n",
       " u'business forward',\n",
       " u'business growth',\n",
       " u'business owner',\n",
       " u'business owners',\n",
       " u'business owners want',\n",
       " u'business read',\n",
       " u'business situation',\n",
       " u'business situation article',\n",
       " u'business situation judgment',\n",
       " u'business strategy',\n",
       " u'business strategy approach',\n",
       " u'businesses',\n",
       " u'buy',\n",
       " u'california',\n",
       " u'california area',\n",
       " u'called',\n",
       " u'calls',\n",
       " u'came',\n",
       " u'campaigns',\n",
       " u'candidates',\n",
       " u'card',\n",
       " u'care',\n",
       " u'case',\n",
       " u'cash']"
      ]
     },
     "execution_count": 56,
     "metadata": {},
     "output_type": "execute_result"
    }
   ],
   "source": [
    "# vectorize\n",
    "from sklearn.feature_extraction.text import CountVectorizer\n",
    "count_vect = CountVectorizer(max_features = 1000, \n",
    "                             ngram_range=(1, 3), \n",
    "                             stop_words='english',\n",
    "                             binary=True)\n",
    "X_train_counts = count_vect.fit(topic_train['content'])\n",
    "#X_train_counts.shape\n",
    "X_train_counts = count_vect.transform(topic_train['content'])\n",
    "names =  count_vect.get_feature_names()\n",
    "\n",
    "# view snapshot of some the words found\n",
    "names[115:145]"
   ]
  },
  {
   "cell_type": "code",
   "execution_count": 58,
   "metadata": {
    "collapsed": false
   },
   "outputs": [
    {
     "name": "stdout",
     "output_type": "stream",
     "text": [
      "[u'american', u'american express', u'american express company', u'american express makes', u'american express open', u'answers', u'approach', u'approach specific', u'approach specific business', u'appropriateness', u'appropriateness financial', u'appropriateness financial business', u'area', u'areas', u'arent', u'article', u'article generalized', u'article generalized informational', u'article originally', u'article originally published', u'article substitute', u'article substitute professional', u'articles', u'articles open', u'articles open forum', u'ask', u'asked', u'asking', u'attention', u'audience', u'author', u'author necessarily', u'author necessarily represent', u'author publisher', u'author publisher speaker', u'authored', u'authored articles', u'authored articles open', u'available', u'avoid', u'aware', u'away', u'bad', u'bank', u'based', u'based orange', u'based orange county', u'basis', u'bawden', u'bawden daviswriter']\n",
      "(70, 1000)\n"
     ]
    }
   ],
   "source": [
    "# vectorize with tf-idf \n",
    "from sklearn.feature_extraction.text import TfidfTransformer\n",
    "tf_transformer = TfidfTransformer(use_idf=True).fit(X_train_counts)\n",
    "X_train_tf = tf_transformer.transform(X_train_counts)\n",
    "\n",
    "names = count_vect.get_feature_names()\n",
    "print names[50:100]\n",
    "\n",
    "tfidf_transformer = TfidfTransformer()\n",
    "X_train_tfidf = tfidf_transformer.fit_transform(X_train_counts)\n",
    "print X_train_tfidf.shape"
   ]
  },
  {
   "cell_type": "code",
   "execution_count": 60,
   "metadata": {
    "collapsed": false
   },
   "outputs": [],
   "source": [
    "# use Naive-Bayes Classifier \n",
    "from sklearn.naive_bayes import MultinomialNB\n",
    "clf = MultinomialNB().fit(X_train_counts, topic_labels)"
   ]
  },
  {
   "cell_type": "code",
   "execution_count": 63,
   "metadata": {
    "collapsed": false
   },
   "outputs": [
    {
     "name": "stdout",
     "output_type": "stream",
     "text": [
      "'Business strategy is important.' => Building Your Team\n",
      "'Hiring new employees is tough because candidates are hard to find.' => Building Your Team\n",
      "'Candidates hire new employees' => Building Your Team\n",
      "'Web SEO mobile strategy' => Getting Customers\n",
      "'Attracting new customers through advertising' => Getting Customers\n",
      "'Employee benefits' => Building Your Team\n",
      "'Economic Ups and Downs' => Building Your Team\n",
      "'Ups and Downs' => Building Your Team\n",
      "'Customers are happy when you do this' => Getting Customers\n"
     ]
    }
   ],
   "source": [
    "# Test the classifier (article_topics version)\n",
    "docs_new = ['Business strategy is important.', \n",
    "            \"Hiring new employees is tough because candidates are hard to find.\", \n",
    "            \"Candidates hire new employees\", \n",
    "            \"Web SEO mobile strategy\",\n",
    "           \"Attracting new customers through advertising\",\n",
    "           \"Employee benefits\",\n",
    "           \"Economic Ups and Downs\",\n",
    "           \"Ups and Downs\",\n",
    "           \"Customers are happy when you do this\",]\n",
    "X_new_counts = count_vect.transform(docs_new)\n",
    "X_new_tf = tf_transformer.transform(X_new_counts)\n",
    "predicted = clf.predict(X_new_tf)\n",
    "\n",
    "for doc, category in zip(docs_new, predicted):\n",
    "     print('%r => %s' % (doc, category))"
   ]
  },
  {
   "cell_type": "code",
   "execution_count": 66,
   "metadata": {
    "collapsed": false
   },
   "outputs": [
    {
     "name": "stdout",
     "output_type": "stream",
     "text": [
      "u'When It Comes to Accounting, Do You Need a CPA or a Bookkeeper?Hal SheltonMember, Blu Venture Investors, LLCHi there, you can call me Hal. Im Member at Blu Venture Investors, LLC and Im based in Rockville, MD.Somebusiness owners may create financial statements and accounting reports solely to satisfy someone elses needlike for a bank loan application, loan funds usage report, or a tax return or payroll tax audit and many more examples. While you may be required to createfinancial statements for these examples, business owners can use this information to assist you in making business decisions. These documents can help you decide on whether you should buy or lease new equipment, hire additional staff or update your website, for example. Financial information can also be used to track your companys performanceare you on course to meet your goals?When you started your business, you were probably the chief of everything officer. Now with some cash flow, you may wantto consider what type of assistance to hire. This is because the financial information and systems canbecome more complex with the growth of your business. And as the business grows, your time may be better spent in areas where you have expertise to generate increased cash flow.So, Who Will Do the Accounting Work?When it comes to determining who will take care of accounting in your business, you could either do it yourself, assign someone on your staff to do it or outsource to a bookkeeper or accountant.[pullquote showtweet=\"false\" username=\"Hal Shelton\" alignment=\"center\"]When you started your business, you were probably the chief of everything officer. Now with some cash flow, you may wantto consider what type of assistance to hire. [/pullquote]If you can afford to hire someone, great! If not, as soon as youre able to you may want to consider doing so. You started your business because you are good at selling, developing apps, consulting or whatever other activities produce sales and cash flow. It may be more valuable to spend your time producing cash flow than doing bookkeeping.If you decide to engage someone else, there are two types of financial professionals to consider: a certified public accountant (CPA) and a bookkeeper. Each has different skills and rates, which is why you may want to retain both, but for different tasks.Basic Accounting for Business OwnersAn accounting system can help you file required reports, but its really for you to help make smart decisions and track performance. Here are some tips for setting up basic accounting for your business before you hire financial professionals.Set up the system: You can use a notebook, spreadsheets or accounting software. Whatever youre comfortable with is fine; just make sure it tracks transactions, makes projections and focuses on cash. As your business grows, you may grow to have a more systemized and structured accounting system.Enter transactions: Transactions may include sales made, cost of material purchased, employee compensation and benefits, hours worked, rent, IT, insurance premiums, office supplies and other expenses paid.Report actual results and project future results: Your reports may cover the status of potential customers, sales made, sales made where customers have not yet paid, expense comparisons with the budget and same period last year, all sorts of tax reports, financial statements and information needed to satisfy bank loan covenants.What aCertified Public Accountant Can DoA certified public accountant is more than someone who is good at numbers. ACPA is certified by a state examining board after having met the states legal requirements. These professionals are granted certain responsibilities by statute, such as the ability to certify financial statements, and may be held liable for professional misconduct.Accountantslike doctors, lawyers and other professionalsare both generalists and specialists. Accounting specialties may include tax accounting, mergers & acquisitions, nonprofits, etc. In the beginning, your accountant will likely be doing mostly general accounting work. However you may want to do some searching to find the right match for your companys needs.Depending on the market and how complex your work, CPAs may charge $100 to $500 an hour.Consider hiring an accountant if you have really challenging work. It may also help if its a high-value project such as the quarterly financial reportsespecially if you are required to give these financial documents to a bank or are under a government contract.Once your company reaches several million in sales, you may want to consider hiring a full-time accountant on staff, but until then, it may be more economical to outsource.To find a CPA, considering asking for referrals. You can also check out the various accounting professional society websites.What a Bookkeeper Can DoBookkeepers can perform your companys basic day-to-day activities, such as gathering employee timesheets, submitting purchase-order invoices for you to pay and entering all the transaction information into your accounting and recordkeeping system.Once again, depending on the market and duties assigned, a bookkeeper may charge $20 to $50 an hour. Many businesses retain a part-time bookkeeper to help set up their accounting system and enter all the transactions, until the companys growth can support having someone full time. Even if you are doing the transaction processing yourself, you might want to engage a bookkeeper to help set up your accounting system with an appropriate code of accounts and pre-established report formats.To find a bookkeeper, referrals are good as well. You can ask an accountant for someone they have vetted and worked with, or look at the classified ads in your local paper.But Dont Outsource and Forget ItIf you do not have the skills, time, inclination or budget, outsourcing accounting activities can beOK. But remember, this is your company and the financial statements are yours. When you present your financial statements to a bank, file your tax return or any other such use, you will be the one signing the documents. So you will need some understanding of what is included. Consider looking over the important materials and asking for explanations if anything is unclear.Read more articles on accounting.Photo: iStockThe information contained in this article is for generalized informational and educational purposes only and is not designed to substitute for, or replace, a professional opinion about any particular business or situation or judgment about the risks or appropriateness of any financial or business strategy or approach for any specific business or situation. THIS ARTICLE IS NOT A SUBSTITUTE FOR PROFESSIONAL ADVICE. The views and opinions expressed in authored articles on OPEN Forum represent the opinion of their author and do not necessarily represent the views, opinions and/or judgments of American Express Company or any of its affiliates, subsidiaries or divisions (including, without limitation, American Express OPEN). American Express makes no representation as to, and is not responsible for, the accuracy, timeliness, completeness or reliability of any opinion, advice or statement made in this article.' => Managing Money\n",
      "u'The Power of Non-Linear ThinkingHeather WillemsCo-Founder, Image ThinkHi there, you can call me Heather. Im Co-Founder at Image Think and Im based in Brooklyn, NY.Theres a lot of pressure in the business world these days to be innovativeto think differently.\" But how do you create the kinds of conditions that help you come up with new ideas?Ill share a little secret with you about how artists do it: They dont think linearly.In my job as a graphic facilitator, I work with Fortune 50 businesses to help them reach their goals using visuals. My job is to encourage creative thinking and to help connect the dots between ideas in a way that offers an alternative perspective on how to solve the problem at hand.And to do that, I often have to coach people on how to overcome their habit of thinking linearly, which is the idea that there is one direct answer to a problem: A + B = C.But this approach can be very limiting. It can lead to getting stuck in tunnel vision. Its critical, therefore, to step back and make space for your intuition to see the broader picture as a way to spark new ideas.This is where non-linear thinkingwhere A + B + Cbecomes so valuable. It offers you a broad perspective on how to solve a problem. You use your insight, intuition, creativity and emotion when communicating information.This is the lesson we can learn from artists. It is rare that artists can sit down at a blank canvas and instantly make a masterpiece. Rather, they first have to gather research, tap into their insight and then practice creative thinking by working and re-working the canvas. When caught in a tough spot, they have to make space for intuition, to unveil the answer to the challenge at hand. This is non-linear thinking at work.As an example, when Im in my studio, I always surround myself with inspirationfound objects, poems tacked to the wall, a postcard of a painting at the museum or drawings made with a peer over a luncheon. It is a collection of thoughts and ideas; it is my research.Each item is a piece of a puzzle that could provide a solution to the problem at hand.The lesson here for businesspeople and entrepreneurs is that if you give yourself time away from your worktime to read a book or go for a walk or to socialize with friendsyou are far more likely to prepare your brain for a breakthrough than if you continue to sit at your desk and slog away. Your best work can actually get done when you are taking a break.\"To that point, I love this quote from the comedian John Cleese: This is the extraordinary thing about creativity: If just you keep your mind resting against the subject in a friendly but persistent way, sooner or later you will get a reward from your unconscious.\"I realize this goes against much of what gets taught in business about being productive\" or even that you might feel guilty in some way if you arent working.\" But I have found that if you learn to embrace non-linear thinking like an artist does, you can generate so many more creative and new ideas than if you continue working the way you do now.As another example from my own life, I was due to give a presentation to a large audience in Sweden a while back. I was giving myself the hardest time because I couldnt just sit down and write an outline and do the research I thought I needed to do. I couldnt make things come together linearly. Instead, I read articles on the internet. Or called a colleague in my field for coffee. Or I just drew as I thought. I was doing anything and everything other than what I was supposed to be doing\".But then, inspiration struck. I woke up in the middle of the night with an idea. All the pieces I needed for my speech were there. I got out a stack of colored index cards and started writing down the topics of my speecheach of which came from the reading I was doing or the conversation I was having with my friend. My brain was synthesizing my speech all along and I didnt even realize it!The key was giving my brain the break it needed to make the connections I was looking for.A funny footnote to this story is that right before I was about to give the speech to the 500 people in the audience, another speaker asked if he could look at my cards. But when I handed them over, he proceeded to drop them on the ground, where they scattered all over. Thats when I realized that I had neglected to number them in order.That meant that I was forced to wing my speech. But because of how it all came together, that speech was already embedded in my brain and I performed far better than if I had relied solely on my cards.So if you want to embrace your own creativity and intuition, here are some suggestions on how you can fuel your non-linear thinking:Ask yourself questions like: What other perspectives are there? Who else is talking about this? What would a physicist think about it? How about a neurologist, sculptor or a strategist?Go further by making coffee dates with colleagues or peers who work in an adjacent field as you.Read a diverse range of articles or visit a museum and start to synthesize connections and organizing thoughts between everything you are exposing yourself to. Take what you learn and see if you can transform it into something new.If you can embrace non-linear thinking like this, you can help open yourself up to look at a world filled with possibilities, rather than limitations.Photo: iStock' => Getting Customers\n",
      "u'A New Spin on Going Viral: Using Contagion Theory to Forecast Your Next ProductTim BerryFounder and Chairman, Palo Alto Software, Inc.Founder and Chairman of Palo Alto Software, co-founder of Borland International, founder of bplans.com, author of books and software, teacher of entrepreneurship, blogger, Stanford MBA, angel investor. His website is timberry.com. His blogging is collected at blog.timberry.com. He advocates lean business planning at leanplan.comLong before going viral\" meant spreading or growing fast online, business forecasters were borrowing formulas from epidemiologythe study of how diseases spreadto project the reach of a new product through a population. This became part of contagion theory, which dates back to French social psychologistGustave Le Bon in his book called The Crowd: A Study of the Popular Mindpublishedin 1895. The concept is simple: People spread ideas like germs spread disease, and the math is similar. If 100 people each convince (or infect) one other person per month, then that makes 200 people after the first month, 400 after the second and so forth.(I learned about the underlying math of contagion theory at Stanford Business School from Professor James March, who also covers it in his book An Introduction to Models in the Social Sciences.)How Contagion Theory WorksAccording to contagion theory, as the population becomes more infected, the contagion factor slows down. So in a population of 10,000, its only 199 instead of 200 after the second month, and its only 394 instead of 400 in the second. Thats because the math changes as the population is infected, so the likelihood of each person infecting others goes down. By the time half the population is half infected, it takes two infected people to infect one new one.Contagion theory has been used for years tohelp business owners forecast new products and trends. There are several assumptions involved. (You can see those numbers in the illustration below, with a simple business spreadsheet.)The total potential market in this case is 10,000 people. This is an estimate, based on educated guessing. Try to estimate the equivalent for your new product or line of business. Maybe youre a restaurant and youre dealing with the reachable population of your local area plus tourists. Maybe youre planning a product that might be used by ophthalmologists or Subaru owners or left-handed golfers. You know your industry, so you know where to find estimates for total reachable market. Dont sweat the details. This is all educated guessing.The contagion estimate shows up here in cell B8, as a simple 1.0. Thats guesswork. As business owners, we might not be able to afford to do the research to really know this number. Ive always used trial and error with this factor, filling numbers into the spreadsheet and deciding what looks realistic. I look at the line charts my model generates (which youll see below) and try different values until I believe its a useful estimate. In this case, for illustration purposes, I used a value of 1.[pullquote showtweet=\"false\" username=\"Tim Berry\" alignment=\"center\"]What customers say about my business is important. The rate at which my customers recommend me to others is essentially the contagion factor.[/pullquote]Row 2 shows total users at the beginning of each month. Row 3 shows new users convinced during the month. Row 4 shows total users at the end of the month. That is the sum of the beginning-of-month users plus new users. Row 5 shows the remaining non users at the end of the month. For this illustration, I assumed a launch event generated 100 initial users in the first month. From the second month on, all new users are from contagion.The likelihood of a new user, shown in yellow, goes down over time as more people are already users and fewer are still around waiting to be convinced. So that number is 99 percent in the beginning when almost all of the population is untouched, but it goes down to 7.65 percent by October when most people are already users.The row in green at the bottom shows total market penetration.You can see the main contagion formula inthe spreadsheet above. In cell C3, the spreadsheet multiplies the 100 users at the beginning of the month (in cell C2 above it) times the contagion factor in row 8 times the likelihood factor in row 7. The additional details in that formula are sophistications for spreadsheet purists. One rounds the result to whole people and the other prevents the model from going loopy when the contagion reaches the total population.Contagion IllustratedThe numbers above produce the S-curve that professional forecasters like to see as a natural phenomenon when a disease or new idea or product spreads through a population. The growth is slow in the beginning, then takes off, then slows as market penetration increases.That shows here in the line chart I drew from row 4 above.These same numbers can also show how sales can shoot up as a new product or idea penetrates the market, then fall off to nothing as the market becomes penetrated. The image here shows row 3, new users, which is equivalent to sales.Of course the line chart above doesnt look like good news for the hypothetical business in question. Selling only one product once is not exciting when the total market is only 10,000. It does highlight the importance of repeat business and add-ons, and why business owners would wantmarkets of more than 10,000 potential buyers.Using Contagion Theory for Your BusinessI learned this technique in business school and used it professionally during the heyday of personal computers, in the 1980s, to project the spread of personal computers through various populations. It was similar with early fax technology a few decades ago, and many times over with new technologies including the web, social media, smartphonesessentially most new products. Ive seen it apply as well to non-product phenomena such as sushi, Thai food, ultimate Frisbee and even talking points in politics.What Ive found is that contagion theory helps me get comfortable with estimates. Before I introduce a new product, feature or service, Ill run a contagion model as a reality check. It can be a positive step towards moving from raw guessing to educated guessing. I ask myself and my marketing team what the total population of users might be. I want to guess how long it takes to get substantial penetration. This theoryand the math behind itcan help.In addition, I find this whole theory a good reminder of the power of contagion. What customers say about my business is important. The rate at which my customers recommend me to others is essentially the contagion factor. The more, the better. Im always looking for ways to make the contagion go faster.Read more articles on research.Photos: iStock, Tim BerryThe information contained in this article is for generalized informational and educational purposes only and is not designed to substitute for, or replace, a professional opinion about any particular business or situation or judgment about the risks or appropriateness of any financial or business strategy or approach for any specific business or situation. THIS ARTICLE IS NOT A SUBSTITUTE FOR PROFESSIONAL ADVICE. The views and opinions expressed in authored articles on OPEN Forum represent the opinion of their author and do not necessarily represent the views, opinions and/or judgments of American Express Company or any of its affiliates, subsidiaries or divisions (including, without limitation, American Express OPEN). American Express makes no representation as to, and is not responsible for, the accuracy, timeliness, completeness or reliability of any opinion, advice or statement made in this article.' => Managing Money\n",
      "u'How to Help Map Out a Year-Round Cash Flow Plan for Your BusinessErika NapoletanoColumnist, American Express OPENEver feel stuck? Erika Napoletano gets restless brands and the people brave enough to lead them UNstuck, shortening the distance between where they are and \"heck yeah.\" Business columnist, award-winning author, TEDx talker, nerd in a dress.Theres scarcely a business out there that doesnt experience rushes and lulls in its cash flow. If only there were a way to make sure you had the cash you needed on-hand year-round, despite business cycles being what they are.There can be a wayby having a smart, year-round cash flow plan.This type of planning cantake multiple facets of your organization into account, including accounts payable, accounts receivable and inventory management. Building strategies around each of these three business areas can help yougetahead of the competition when it comes to keeping the cash flowing year-round.Creating a Cash Flow Plan Around Accounts Payable...When to pay your vendors is always an intriguing dance when developing your cash flow plan. While you dont want to be known as the slow-to-pay customer, you do want to keep your cash on hand for as long as possible. This can mean that youll have more cash on hand year-round even when your receivables arent flowing at peak volume.[pullquote showtweet=\"false\" username=\"Erika Napoletano\" alignment=\"center\"]Consider looking for software that makes it easy for customers to pay you with a wide variety of credits cards, ACH or bank transfers.[/pullquote]So how do you strike a happy medium between being slow to pay and reliable? In a time wherebehemoths like Boeing are extending their accounts payable terms from 30 to 60 days, this may be an ideal time for your business to explore builiding flexible terms with your vendors and your cash flow plan. Here are some tips for seeking improvements:Explore discount opportunities:Consider speaking with vendors and seeing if theyre willing to extend discounts for invoices paid prior to their due date. They might be willing to help you save money if it means that money appears in their account faster.Involve multiple decision makers: The people paying your companys bills mayrarely be the people or departments making the purchase decisions. Establishing a regular collaboration between your finance team and your procurement teams may help improve purchasing habits. You can help boost your cash flow by looking at historical ordering practices and the time taken to deplete those purchases. Your financial team can help improve purchasing habits to optimize pricing and reduce any cash flow-hindering charges like rush fees and expediting shipping.... Accounts Receivable...Much like accounts payable, a smart year-round cash flow plan canmean making it easy and attractive for your customers to pay youand fast. These strategies may help you amp up your cash flow plan year round by employing ease and incentives:Use smarter accounting software: Many invoicing and accounting programs come with integrated payment systems. Consider looking for software that makes it easy for customers to pay you with a wide variety of credits cards, ACH or bank transfers. Flexibility in payment types may mean fewer excuses and delays in payments headed your way.Incentivize early payments: As with your accounts payable, you may want to extend your customers the same early-pay discount courtesy. When you institute a discount policy for early payments, sending out a broad noticevia email and regular mailcan help alert customers to your new discount policy. Notating this discount and the associated payment windows on your invoices can be helpful as well.Stand by your late fees: Credit cards and mortgage companies have standard late fees. It may be time for your company to do the same. For vendors who have trouble paying on time, consider establishing a grace period while not being shy about your late fees. When a customer is late the first time, you can call them and offer to waive the fee for immediate payment over the phone. This can help establish good will whilereinforcing that the fees exist. Theres nothing wrong with having a few more dollars in your year-end coffers from invoices that were paid lateand for being paid for the inconvenience.... and Inventory ManagementAs mentioned in accounts payable, a smart cash flow plan can include connecting and empowering communication between all the people spending money in your organization with the team managing your finances. So, where should your team begin with revamping your inventory practices for the benefit of your year-round cash flow?Intuit suggestsfour steps for businesses looking to reduce their inventory costs:havinga regular and accurate physical inventory count,liquidating your excess inventory through practices such as bundling, liquidation sales or even charitable donations,tailoring your purchasing practices to maintain more appropriate inventory levels to match sales volume,establishing reorder alerts so you know when its time to replenish. (Reorder alerts can help you avoid rush fees and customer dissatisfaction due to out-of-stocks, which can be harmful to cash flow.)For many businesses, inventory shipping out the door is how you get revenue back in the door. But you may want to make sure that your inventory methods arent inadvertently sending dollar bills outthe door with each shipment.Read more articles on managing money.Photo: iStockThe information contained in this article is for generalized informational and educational purposes only and is not designed to substitute for, or replace, a professional opinion about any particular business or situation or judgment about the risks or appropriateness of any financial or business strategy or approach for any specific business or situation. THIS ARTICLE IS NOT A SUBSTITUTE FOR PROFESSIONAL ADVICE. The views and opinions expressed in authored articles on OPEN Forum represent the opinion of their author and do not necessarily represent the views, opinions and/or judgments of American Express Company or any of its affiliates, subsidiaries or divisions (including, without limitation, American Express OPEN). American Express makes no representation as to, and is not responsible for, the accuracy, timeliness, completeness or reliability of any opinion, advice or statement made in this article.' => Managing Money\n",
      "u'Growing Your Business: 7 Questions to Ask Before You Buy a CompanyRieva LesonskyContributing Writer, SmallBizTrends.comI am a small business & entrepreneurship thought leader, advocate and journalist. My mission is to help people start and grow their own businesses, which Ive been doing for over 30 years.My company, GrowBiz Media is a custom content creation company focusing on small business and entrepreneurship. We create content for small business websites and major marketers wanting to connect to entrepreneurs. We also own the small business blog, www.SmallBizDaily.com.Buying another company can be a smart shortcut to growing your business. Or it can be a quagmire you quickly regret. Is buying a business the right option to help your business grow? Consider asking yourself these seven questions before you decide.1. What do I want to achieve by buying another business?Purchasing a second business can serve many purposes in growing your company.You can buy a company that sells a product or service your current company needs. This can ultimately save you money since you wont have to deal with outside vendors anymore.You can buy a similar business in a different geographic area in order to quickly expand to a new marketplace. For example, if you own a pizza restaurant, you might buy another pizza restaurant in a nearby town and rebrand it.You can buy a complementary business that enables you to expand your product or service offerings. If you own a spa, you might buy a hair or nail salon. If you own an e-commerce website, you might buy a brick-and-mortar retail store.If you find a business that seems like a natural fit in any of these ways, buying it could be a good option for growing your business.2. How stable is my existing business?If you purchase a second business, dealing with the acquisition and integration of the new company into your own can take up most of your time for the foreseeable future.At the same time, until your new purchase gets up to speed, you may need to rely on the income from your original business to support both operations. Having an existing business that runslike a well-oiled machine can help youget through this transition phase smoothly.3. Do I have the appropriate management skills and a strong team?Integrating an existing company requires a particular set of management and leadership skills. After all, an existing company will probably have its own culture, its own ways of doing things and employees who will be understandably wary of change.[pullquote showtweet=\"false\" username=\"Rieva Lesonsky\" alignment=\"center\"]Carefully weigh whether purchasing an existing company as a means of growing your business can helpsave you time, money and headaches compared to other growth options. [/pullquote]If you lack these skills yourself, you may want to have a second-in-command. They can help take charge of integrating the two organizations and execute the transition.4. How familiar am I with the industry?Growing your business through acquiring a new business isnt as cut and dry as one would think. Purchasing a business in a different industryfor example, purchasing one of your vendorscan be especially challenging if you arent familiar with the ins and outs of that industry.You may have to rely on existing management at the company youre purchasing to stay in place and help manage the transition. You may need to pay them more to stay on board, or else hire outside managers to come in and take charge. Both options can be expensive, so be sure to build these costs into the price of any purchase you are considering.5. Can I realistically obtain financing for this purchase?Getting a loan for growing your business can be simpler than getting startup financing, but that still doesnt mean its easy.You may want to assess all of your options. Can you finance the purchase out of your own profits? Do you have strong relationships with banks or other lenders? Another option could be seller financing, in which you make payments over time to the seller (somewhat like paying a mortgage) until the purchase is paid off with interest.6. How quickly will the purchase pay off?In some cases, buying an existing business to merge with your own can pay off right away. For example, if you purchase one of your vendors, you may see savings quickly.But in other instances, it can take months or even years for the two companies to mesh. During that time, the second business probably wont be as profitable as it once was, and the first one may suffer as well. Also consider what would happen if the purchase doesnt work outfor example, if all the employees of the new company end up jumping ship and you have to essentially start from scratch. Could you afford that type of loss?7. Are there other options that would work just as well, or better, for growing your business?Carefully weigh whether purchasing an existing company as a means of growing your business can helpsave you time, money and headaches compared to other growth options. Will buying a company be more beneficial than launching a new division, opening a second location from scratch or starting a joint venture with another business?Consider talking to your accountant, attorney and other advisors to work out the logistics and financials involved in each option youre considering.Sometimes, especially if the opportunity to buy a company arises unexpectedly, a business owner can get caught up in the excitement of the offer and make a rash decision. Try not to rush into purchasing a business. Its better to make the decision with your headand not just your heart.Read more articles on business expansion.Photo: iStockThe information contained in this article is for generalized informational and educational purposes only and is not designed to substitute for, or replace, a professional opinion about any particular business or situation or judgment about the risks or appropriateness of any financial or business strategy or approach for any specific business or situation. THIS ARTICLE IS NOT A SUBSTITUTE FOR PROFESSIONAL ADVICE. The views and opinions expressed in authored articles on OPEN Forum represent the opinion of their author and do not necessarily represent the views, opinions and/or judgments of American Express Company or any of its affiliates, subsidiaries or divisions (including, without limitation, American Express OPEN). American Express makes no representation as to, and is not responsible for, the accuracy, timeliness, completeness or reliability of any opinion, advice or statement made in this article.' => Managing Money\n",
      "u'How to Help Keep Your Cash Flow FlowingMeredith WoodHead of Content and Editor-in-Chief, FunderaEditor-in-Chief at Fundera, the most trusted online marketplace for small business loans.You could have an absolutely dynamite product or service. Your business model could be impeccable. But if you dont manage your cash correctly, you very well could fail.Clearly, to run a successful business, you need more than just a good idea. You need a solid managerial strategy. You must focus on the books. Because if you mishandle your finances, your business could be toast.One way to help improve your companys finances is to look for areas in which you are losing cash. Youll probably find that you are spending money that you simply dont have to spend. So, wise up and fix the issue. Here are five signs that your business could be bleeding cashand some advice on how to stop it.1. Management tasks are done manually.Is too much time being wasted on sending invoices, processing payroll, sorting emails and scheduling appointments? Its alarming that, according to a 2015 survey of nearly 1,000 managers in the U.S. and U.K. by ServiceNow, nearly half of managers say this type of administrative work leaves them with less time for strategic initiatives.While these duties are certainly important, they can be automated with todays technological solutions. And you and your team can spend more time on what mattersproducing a great product or service.For example, to process payments to employees, you can use payroll solutions like Intuit Online Payroll or Quickbooks Online Payroll. If you run social-media marketing campaigns, try a service like Hootsuite to schedule posts to go live across all your channels. And for scheduling meetings, try a tool like Calendly.2. Clients arent paying on time.Every startup and small business has been left waiting for payment at some point. Even if you know youll eventually get paid, this is still costing you money.While waiting for payment, you may have to get money from other sources to pay employees, fund marketing initiatives, cover rent and handle other requirements. Obtaining that money from a business line of credit or business credit card, for instance, is very possible. But this can cost you in interest (which would be totally unnecessary if the client had paid you on time).To stop this from happening, politely establish clear payment policies with each client. You could ask for a percentage up front, and the rest once the projects completed. Also, automate invoicing and reminders if the payment is late, and set a timeframe for charging a late fee. If payment is significantly late (like four weeks), you might consider stopping work until the balance is paid.3. Rent is just too much.Yes, a swanky downtown office is nice, but you dont necessarily need it. Put that cash toward other activities, like marketing and advertising campaigns.Co-working spaces can offer flexible short-term leasing plans for shared office space. You can also allow employees to work from home, which may raise productivity and workplace satisfaction all around. When your team needs to meet, you can do so virtually or in a public setting, like a cafe or library.4. Daily expenses are too high.Sure, its nice to have the newest computers for your employees. Going out to eat each Friday is cool, too. And keeping the office super clean makes you feel good. But its all probably unnecessary. Or, at the very least, you can choose much cheaper alternatives.Just think about the classic coffee example. If a cup of coffee costs $3 with tip, that runs you $15 per week for each worker if you buy outside. Make it in the office, and you can help get those costs down considerably (probably to just a few bucks per worker).Everything adds up over time, so you should try to save wherever you can. Do your best to track all your expenses and your wallet will thank you for it.5. You dont negotiate deals.If you dont at least attempt to negotiate pricing with your vendors, you are leaving money on the table. Whenever you hire outside help to provide goods or services, dont be hesitant to counteroffer. At worst, the price remains the same. At best, you save lots of money over time.Getting the price of goods or services cut down by 5 to 10 percent (or more) is not impossible. Even if you already have a contract with most of your vendors, dont hesitate to reach out and discuss rates. When negotiating a deal, dont be contentious. Be professional, and explain your business situation. Make sure to offer them something in return for cutting rates, such as a contract extension.Also, if you can, gather bids from multiple vendors when looking for help. Compare and choose the best offer for your company.Stop the bleeding and build for the future.Its tough to grow a business when you are constantly paying off debt, waiting on client payments and paying more than you should for services, products and property. Its also difficult to see how to turn your financial situation around when you dont track it.Going forward, be completely clear on where your money is coming from and going to. Then, address the pain points with prejudice. By securing your cash flow, your company wont be held back by poor money managementand you can grow and scale when the demand arises.Photo: iStockThe information contained in this article is for generalized informational and educational purposes only and is not designed to substitute for, or replace, a professional opinion about any particular business or situation or judgment about the risks or appropriateness of any financial or business strategy or approach for any specific business or situation. THIS ARTICLE IS NOT A SUBSTITUTE FOR PROFESSIONAL ADVICE. The views and opinions expressed in authored articles on OPEN Forum represent the opinion of their author and do not necessarily represent the views, opinions and/or judgments of American Express Company or any of its affiliates, subsidiaries or divisions (including, without limitation, American Express OPEN). American Express makes no representation as to, and is not responsible for, the accuracy, timeliness, completeness or reliability of any opinion, advice or statement made in this article.' => Managing Money\n",
      "u'One Womans Journey From Finance to Full-Time Social EntrepreneurshipAnthonia AkitundeFounder, mater meaAnthonia Akitunde is the founder of mater meawww.matermea.coma website that celebrates Black women at the intersection of career and family.EuGenia Shea may have a new tagline on its hands: \"We stop traffic.\"If you look at my Instagram theres actually a picture of likewhat is it, 5,000 pounds, mom?\" founder Naa-Sakle Akuete asks, looking over at her business partner and companys namesake for confirmation. There were 100 boxes of shea butter all over the street out front.\"As Akuete recounts just how 5,000 pounds of shea butter wound up blocking traffic in front of her Brooklyn brownstone apartment-turned-company headquartersthe delivery trucks lift couldnt handle a top-heavy palletshe laughs. It might not be how she envisioned her first month working on her company full-time, but shes been going with it.Launching a Global PartnershipAkuete launched the line of shea butter creams in the spring of 2015 while she was working at a job in finance. Its a decision she says she wouldnt have been able to make without the sacrifices her mom and dad made years ago. Akuetes parents and two brothers fled their native Ghana to seek asylum during a military coup in 1981. \"They couldnt find the same socioeconomic level of jobs here that they had there, so [they] were starting from scratch,\" Akuete says. \"They did everything that they could to make sure that we all went to good schools, so I could have the ability to say, I dont want to work [here], I want to start my own business.\"EuGenia Shea founder Naa-Sakle Akuete left her steady job in financeto pursue her own business.Akuetes mother Eugenia returned to Ghana in 2000 to take care of her ailing mother. That same year, Eugenia started Naasakle Ltd., a bulk shea butter company that has since become a major player in the industry, selling 100 tons of shea butter a year. (Both mother and daughter named their companies after each other.)She had this really high-quality product and these women she cared a ton about,\" Akuete says. But a lot of the people she was selling to either didnt care about the well-being of the supply chain or werent willing to pay up for the quality of the product. Thats what happens a lot of times when you are selling to bulk providers.\"Akuete, who graduated from Harvard Business School in 2014, was aware of the shift in consumer spending happening in the States. Consumers actually do care where the product is coming from,\" she says. They care about the people along the entire chain, from the farm gate to the store. [I thought] there might be an opportunity for us to sell directly to consumers.\" Along with selling a high-quality product, EuGenia Shea would pay its shea suppliers in Damongo, Ghana, what Akuete says is 20 percent above the countrys median income and donate 15 percent of its profits to an educational fund for those workers children.To formulate EuGenias high-quality products,Akuete sources ingredients fromher mothers bulk shea butter company in Ghana.Her mothers business would provide the shea, and Akuete would process and ship it to customers in the States. Entering a transatlantic business relationship with a 15-year industry vet made for a steep learning curve, she admits. At first, anytime she spoke, I would be madly writing notes. Shed just want to have a conversation, and Im like, No, no, no, no, stop! I need to get my computer out!\"Any available minute in between and after work went to EuGenia Shea. Akuete shipped the product off at night with her husband and sent emails to Chinese manufacturers she found on Alibaba during her 10-minute lunch breaks.Leaving Stabilityto PursueaDreamIn the companys first few months, it had already received the type of press that small-business owners crave.I was in this weird position,\" she says. I was excited about the growth, but also trying to tamp it down a bit because I worked 12 hours [a day]\" at her job in finance. AsEuGenia Shea took off, shehad to make a decision: Can I do this full time? Can I leave security for the unknown?The answer to each what if\" was a resounding yesand in August 2015, she left her job for good. Finally, Akuete knew it was time to go all in.[pullquote alignment=\"center\"]From shipping to transportation to foreign transactions, I rely on my American Express Card all the way.Naa-Sakle Akuete, founder, EuGenia Shea[/pullquote]\"When thinking about leaving a job, especially a job in finance where youre making a fair amount of money, there are no financial models I could put together to make it completely make sense at the time. It was almost entirely anemotional decision,\" Akuete recalls.I was a little bit nervous,\" sheadmits now. I was making a solid salary, I had a 401k, I had a boss who told me what to do.\"Most shea butter\" products, claim Akuete, have less than 25 percent pure shea butter in them due to costEuGenia Shea products have over 82percent.But, while leaving the security and structure of a well-paying job was hard, the idea of letting down EuGenia Sheas employees and their children back in Damongo was even harder. A mother not being able to send her kids to school is so much more important to me than a hedge-fund manager not exactly knowing whether he wants to invest in a given stock on a given day,\" she says.Now that shes fully committed to her shea butter business, Akuete says the bulk side of the business has tripled its revenues.\"Its like pedal to the floor, Lets go, she says. In one year, I went from running the business at night to a full-scale operation. From shipping to transportation to foreign transactions, I rely on my American Express Card all the way.Sustaining a Businessand a CommunityThese benefits, plus Akuetes full-time commitment to the company, have also helped give her time to do outreach and educate the marketwhile some communities are already familiar with shea butter, others arent. (Is it peanut butter?\" is a common question.) And of those who are familiar with the product, they may not realize theyre getting a watered-down version of it: Most shea butter\" products have less than 25 percent pure shea butter in them due to cost, claims AkueteEuGenia Shea has over 82percent. Akuetes courting retailers both large and small who will appreciate EuGenia Sheas natural ethos and social mission.Akuetes social mission isingrainedin her business model. EuGenia Sheas sales help fund the education of her suppliers children.Back in Akuetes basement-turned-production center,the smell of shea butter envelops you as soon as you open the door. There are framed photos of some of the children EuGenia Shea has sent to school hanging on the walls. Akuete met them and their mothers during her first visit to the production center in Damongoa trip, she says, that unearthed a multitude of questions\" about production and growth for EuGenia Shea.Each question prompts many more,\" Akuete says, but the one thing that was constant and clear as I sorted nuts and stirred butter with our workersand even more clear as I delivered tuition money to the recipients of our Education Fundwas that the work were doing creates tangible benefits to the community.\"Looking to the future, shes already planning to build a new factory in Ghana to hire more employees and handle increasing demands for next year. While growth plans may be big, its those small tins of shea butter that continue to drive Akuete and her mothers ambition for the company.That little container,\" Eugenia says, makes a difference for the women and their children.\"As usual, moms know best.Real Card Member aware her story may be featured by American Express.A version of this article was originally published on November 20, 2015.Photos from top:Eric Ryan Anderson (4);Jehangir Irani (1)' => Getting Customers\n",
      "u'How E-Commerce Sites and Storefronts Alike Can Help Engage Customers OnlineMike TrevinoFounder and CEO, Indigenous SoftwareHi there, ImFounder and CEOatIndigenous Software. At Indigenous we combine the essential elements of Web Hosting, Content Management, Digital Marketing, CRM and E-Commerce into a next-gen SaaS platform. Mypassion is helping people build and grow their businesses on-line.While customers may love the convenience of online shops and services, e-commerce purchases can often lack the excitement and community feel of an in-store buying experience. Especially during a big sale or event, customers can feed off of the delight of other shoppers getting great deals. So how can an online businessor a brick-and-mortar location looking to better leverage its digital presencecreate the same sense of excitement and urgency through their online platforms? From your website to social media channels to email marketing, these strategies may help you better connect with your digital audience.Prepare Your Website for Sales SuccessThe goal of your website is to reach, engage and convert customers. Think of your homepage or landing page like a storefront window. Include clear messaging about sales and promotions up top and vivid imagery to help draw customers in.Getting permission to use trust icons, such as the logo of a state chamber or local business bureau, can help give your online business a sense of establishment.To help ensure customers can browse and purchase smoothly, make sure that your e-commerce platform is set up with accurate pricing, discounts and links before your flash sale or online event begins.Make sure your site looks good and functions well on mobile devices, too, since many customers may be shopping on the go. If you have a custom site, try working with your developers to test your site experience for mobile compatibility and load time, or use testing tools like BrowserStack, which allow you to view your website across various browsers and operating systems. This can help ensure customers are getting the best site experience, no matter what device theyre using.Create Hype Around Your EventAnnounce your event, whether its a flash sale or live social chat, through emails and social posts in the days and weeks leading up to it. Even more enticingly, consider offering some surprises that customers will want to tune in for. For example, you can launch limited-time special deals in a dedicated section of your website. This can help drive customers to check back frequently so they dont miss out.[pullquote alignment=\"center\"]Testimonials are thedigital equivalent of having a happy customer offer a compliment in-store that can be overheard by other shoppers.[/pullquote]Include testimonials and reviews on your own site, but also highlight and respond to unsolicited comments and replies on social platforms to help create buzz. Testimonials provide social proof and can be as simple as a quote from one of your customers. They arethe digital equivalent of having a happy customer offer a compliment in-store that can be overheard by other shoppers.Giveaways on social media that require customers to follow your account and include an appropriate hashtag can also help get the word out, and encourage people to take action. Pick a short, unique hashtag for your special event and use it across all social channels. Encourage your customers to use the hashtag to search for future sales or events. You can also use the hashtag to pull a custom Twitter newsfeed onto your own website, linking your social activity back to your homepage or landing page.Sure, this may not lead to direct sales, but if people enjoy the images and messages you post, theyll have more of a reason to continue following and engaging with your brand.Strike Up a ConversationInvite customers to live chats or webinars, which might not only get you on their calendars, but also provide a human element to your company. Facebook Live and Twitters Periscope have become incredible, real-time channels to connect with customers. Try showing clips of what goes on behind-the-scenes to design and create products they love. You can host guest experts or stream chats between the employees and founders, allowing your customers to see the people behind the business. This can help personalize your web presence and the customers experience of your company. Afterwards, you can use recorded videos as content for your website.There are also live web chat solutions that you can easily integrate into your website. These canallow website visitors to make inquiries in real time, or you can proactively reach out to a site visitor and have a personal dialoguejust like saying hello whensomeone walks into a store.Remember to Say, \"Thank You\"Be prepared to send follow-up emails and offers to thank the new contacts you acquire during your sales event or social campaign, whether or not they clicked the Buy button that day. For customers who were browsing products, does your e-commerce platform allow you to see if they got stuck at the shopping cart? Maybe they just need a little reminder. Many platforms can auto-send cart abandonment emails, inviting customers to return and complete their purchase. You may even consider offering a discount as an incentive to do so.And just like any good business owner, be sure to thank your visitors and followers. Politeness and acknowledgement can go a long way when the time comes to promote your next event. Include links to your social media platforms in all emails, newsletters and near blog posts to encourage customers to look for your business in other channels.Ask Your Customers for FeedbackUse your event as a learning experience. Consider creating a brief survey or Twitter poll to help you learn more about customer needs. If possible, consider rewarding those that complete it with a discount code. Respond promptly and graciously to any comments or feedback.As more and more businesses integrate their brick-and-mortar and online presences, or forego physical locations altogether, it can be even more critical to provide a focused and pleasurable customer experience. Whether youre an e-commerce site looking to drive sales or a coffee shop posting about sustainable sourcing on Facebook, consider all the ways you can connect with your online community.Photo:Christopher Lane' => Getting Customers\n",
      "u'Lessons Learned: Four Stories From Experienced ExportersGreg SandlerWriting and Content Development Expert, ThinkGlobal Inc.Greg Sandler, an international trade and  B2B content development expert, has worked on a wide range of business integration and web development projects. He also has written for hundreds of publications, organizations, government agencies, and private sector clients. In addition to editorial experience, Greg has extensive copywriting and scriptwriting experience. He also has both print and online custom publishing and advertorial experience. Check out his profile on LinkedIn or send him an e-mail.Success in exporting, like in any business endeavor, depends on paying careful attention to details and adjusting your strategy when things dont go as planned. From export insurance and import duties to intellectual property protection and customer support, here are four examples from American exporters who have learned from experience. If youre looking to grow your business by exporting, these lessons learned may help you, too.A Little Insurance Can Go a Long WayInsurance is one of those business costs that may seem like overkill, until something goes wrong.Hard Manufacturing, a Buffalo, New York-based manufacturer of hospital cribs, recently dodged a bullet by renewing its export credit insurance with the Export-Import Bank of the United States (EXIM)just a few months before the company was faced with the possibility of writing off a $175,000 receivable. (Exporters often use credit insurance to protect against nonpayment by international buyers.)Hard Manufacturing began using EXIM Bank credit insurance in 2009, but cancelled the policy a few years later to save money. Fast forward to 2015: Gina Trubits, the companys controller, started getting nervous about some of the companys larger receivables.We have an extensive customer base in the Middle East, which has experienced quite a bit of instability lately,\" she says. As a company, the goal is to maintain the sales relationship, but in a way that keeps us profitable. I presented the argument that renewing our EXIM policy would give us that security.\"So, Hard Manufacturing started using EXIM credit insurance again. At about the same time, the average number of collection days for several big customers began increasing dramatically. In fact, we had a customer in Saudi Arabia with a large balance that we insured,\" says Trubits. Months went by without payment, and it was beginning to look like a reality that we would have to file a claim for payment. We ended up collecting the money the day before I was due to file the claim.\"Understand All Your Costs Before ShippingTJ Scimone, founder of Slice Inc., a manufacturer of scissors and box cutters based in San Jose, California, is a veteran exporter who has been navigating global waters for decades. But back in the mid-1990s, when he was still learning the nuances of world trade, Scimone owned another company that exported private label cigars.The company, called Private Label, sent a shipment of cigars to Europe. But no one had checked on the import duties, and the next thing Scimone knew the cigars were stuck in customs, pending payment of a $10,000 import tax.[pullquote showtweet=\"false\" alignment=\"center\"]While its good to get the wins, you have look at exporting long-term, and you have to demonstrate that youre willing to support your products and do everything possible to demonstrate your commitment to supporting the customer.John Clark, president and CEO, Masterclock Inc.[/pullquote]It was our responsibility to do the homework,\" says Scimone. Of course I couldnt pass on that fee to my distributor because it wasnt their fault, it was my fault. So, I ate the entire thing.\"More recently, a Slice customer tried to return some of the companys cutting tools from Europe to Slices contract manufacturing facility in China. But the customer declared the full retail value of the goods, not the wholesale price, and our factory got a $5,000 invoice from Chinese customs, which the factory refused to pay. So we just abandoned the goods at China customs because the value was less than the price of the import duties.\"Intellectual Property Is EquityExcel Dryer Inc., a Massachusetts manufacturer of electric hand dryers, learned the hard way to implement a global approach to intellectual property protection. When Excel launched its XLERATOR line in 2001, it did not apply for trademark registration or patent the design in most international markets. As a result, foreign knockoffs have cost the American company hundreds of thousands of dollars.We became a victim of our success,\" says Denis Gagnon Jr., the companys vice president, international. We hit the radar of foreign manufacturers, which began pushing out cheap knockoffs that we are now fighting, after the fact, in every major market.\"Excel learned its lesson. When the company introduced its ThinAir product line in 2015, it was careful to make sure it had trademark registrations and patents in place worldwide. Patents may not be worth the investment in every market you enter,\" says Gagnon. But the cost / benefit equation should be well considered in advance.\"Customer Support Translates Into SalesJohn Clark, president and CEO of Masterclock Inc., knows a thing or two about international sales and marketing. The St. Charles, Missouri-based manufacturer of precision timing devices supports its products across a wide range of vertical markets in more than 100 countries, and that can create significant communication challenges around the world.One recent issue that opened my eyes was with a longtime customer of ours in South Korea,\" says Clark. We manufacture PC timing cards for their automation systems, and after we switched to a new format our customer could not get the system to work.\"Clark says the two companies went back and forth for about six months trying to troubleshoot the integration problem. Masterclock engineers were unable to reproduce the issue in-house and did their best to provide guidance, but time differences and language barriers hindered the process.In an effort to support the customer, Masterclock asked the Missouri Department of Economic Development (DED) if the states local representative in Korea could help. So, late one night, central time in the U.S., Clark and his senior support team got on a Skype call with the customers team and the Missouri DED repwho was at the companys facility to help translate.Once we could communicate with them in real-time, we offered to send a working system to the customer,\" says Clark. After they received it on-site, we demonstrated that our system was functional, and helped them further identify where to focus to fix the problem.\"Even while the bugs were still being worked out of the interface program, the customer had already placed a new order with Masterclock.While its good to get the wins,\" says Clark, you have look at exporting long-term, and you have to demonstrate that youre willing to support your products and do everything possible to demonstrate your commitment to supporting the customer.\"Moreover, Clark adds: Performance and ethics can translate across cultures much easier than words can.\"Photo: iStock' => Getting Customers\n",
      "u'Could Franchising Help Scale Your Business? You Might Be SurprisedChristopher ConnerPresident, Franchise Marketing SystemsI have worked in the franchise development industry since 2002 and help businesses grow through franchising. My company, Franchise Marketing Systems helps businesses grow through franchising and franchise development.As an entrepreneur, Im sure you remember the time before you started your business and probably worked for someone else. Most days, there would come a time where I stared at the clock, wondering when I could escape the confines of my job. I think, in general, I did good work and was a decent employee, but I know I didnt fill the room with a burning desire to make the company more money.Then, one day, I started my own business and my entire world changed. Work weeks all of a sudden included Saturday and Sunday, a light week was 80 hours and it was fun to try hitting a 20-hour work day. So if we, as business owners, are like this, why should it be any different for our employees? The fact is, human nature inherently drives us to care more about something we own than something we are given. Employees are less likely to be as driven and focused on their work as a business owner is.It comes down to the simple concept of having \"skin in the game.\" When people have their own money and rear end on the line, they tend to work harder and be more focused on the results. This trait is extremely apparent when comparing strategies to grow a business in new markets. Managing employees when scaling a business makes the responsibility of keeping your staff motivated even more difficult, because you cant see them every day and monitor their work like you could if they were in the same location. I had a client in the oil services field say this to me after opening several franchise locations: \"I cant hire someone for $100,000 a year to work as hard as the guy who just invested $100,000 to open a business doing the same thing.\" For this reason, I feel franchising has success in a wide range of industry segments.So why dont more businesses leverage franchise growth as a way to expand? It seems the first factor is just fear of the unknownsome business owners dont understand franchising and therefore choose organic growth or other options. In reality, the franchise model is a pretty simple concept, much like a partnership, but with better structure and less \"gray area\" in the agreement, which can plague partnerships.The second factor that seems to steer business owners away from franchising is the fear of losing control by opening the business up to franchisees. The first thing I ask business owners with this concern is how much control they have over employees in a location they arent overseeing every day. Generally, the realization is that franchising offers a different kind of control. Not the same control you might have if your management style is dictatorial and people respond to you because youre good at cracking the whip, but a control that is inherent when you put people in charge of their own destiny and they become accountable for their own profitability.The bottom line is that growing a business can be scary and means some version of change for you, your operations and your bottom line. With that change in your business, you may want to consider franchising as one of the options to fuel that growth. Ultimately, you want to avoid comparing franchising to how you currently run your businessinstead, its important to weigh it against other growth strategies available.For more tips on expanding your business, access Business Growth: How to Survive and Thrive, from MSNBCs Your Business.Photo: iStock' => Getting Customers\n",
      "u'How to Help Protect Your Business From Todays Sophisticated CyberattacksJulie Bawden DavisWriter/Author/Publisher/Speaker, Garden Guides PressHi there, you can call me Julie. Im Writer/Author/Publisher/Speaker at Garden Guides Press and Im based in Orange County, California Area.Think a baby monitor leading to a widespread cyberattack sounds more like a television show than real life? Think again. The recent cyberattack that prevented access to major sites, including Twitter, Netflix and Spotify, could be coming to a computer near you.The increasing sophistication of computer hackers and their methods means they are constantly taking new and different routes to attack computer networks.DDoS [Distributed Denial of Service] attacks have become more frequent. Due to the massively deployed secret botnetsmalware running on computers all over the globehackers can release DDoS attacks against any targetfor a very low cost, says cybersecurity expert Gary Miliefsky, CEO of SnoopWall. \"Most new Internet of Things devices, from Smart TVs to baby monitors to your home wireless router, have weak operating systems, weak encryption and are easily infected with botnet code used en masse to perform these kinds of attacks.Cyberattacks Have BecomeMore SophisticatedHackers have learned that you dont always have to attack directly to disrupt access to one or more e-commerce sites, says Ronald Nutter, author of The Hackers are ComingHow to Safely Surf the Internet. The recent attack involving Amazon and other sites involved an attack on a specific server providing DNS [Domain Name Server] resolution. The attack didnt directly affect the servers providing the content, but it effectively accomplished the same result. Since the latest breach involved a DDoS type of attack, it presented an additional challenge, because the source of the attack was coming from multiple locations at the same time.[pullquote showtweet=\"false\" username=\"Eric Biderman\" alignment=\"center\"]In addition to the cost and effort associated with identifying the cyberattack and managing the effects of it, the potential damage to the businesss reputation among customers and potential customers [is just as disruptive].Eric Biderman, counsel,Arent Fox LLP[/pullquote]The higher the profits, the more sophisticated hackers become, notes Nick Nascimento, founder of the IT services company, Sentage Systems. He is trained as a HIPAA Privacy and Security Expert.The new world of cyber criminals is more organized and actually composed of big businesses and groups that work together as well or even better than any legitimate business, says Nascimento. Hacker tools have become much stronger and their resources have begun to match and in some cases exceed the resources we use to fight them. It is truly a race. Along with the Pros [out for financial gain], we have to deal with all the one uppers, who create and post their tool on the internet right along with full instruction and even hosting options.Cyberattacks Can Be Potentially DisastrousTherecently launched [attack] caused unknown dollar damage, says Nascimento. I have personally seen a DDoS attack cost an online electronics retailer an estimated $126,000 in sales in just half a day as it crippled their online catalog. Our company specializes in protecting medical and financial information, which is undergoing pressure every day. A breach in these areas and the resulting fines and penalties can put a company out of business.Cyberattacks can be damaging for businesses on multiple levels, adds Eric Biderman, counsel for law firmArent Fox LLP. In addition to the cost and effort associated with identifying the cyberattack and managing the effects of it, the potential damage to the businesss reputation among customers and potential customers [is just as disruptive]. [They]may no longer feel confident that their personal information is safe with the business.4 Steps to Help Protect Your Company from CyberattacksAs a business owner, you can be the first line of defense when it comes to protecting your company against cyberattacks. Consider the following steps to preventing hacks in the first place.Adopt a company-wide security policy. Very few companies plan a defense against cyberattacks. This is a mistake, believes Nascimento. Have a set of security measures to protect your data, such as in the area of verbal communication and confirmation. A majority of penetrations we see are emails that are opened by employees, who admit after the fact that they thought things looked a little strange, but they opened the suspect emails anyway, and it was too late. A protocol that requires employees to call one another to confirm if an email has been sent asking for sensitive information can prevent a hack.Secure and update. In order to succeed, mass attacks require that millions of users fail to keep their machines and networks secure and updated, says Nascimento. Stop hackers in their tracks with regular deep scans for malware, viruses and rootkits.Be proactive. Harden your network by removing vulnerabilities, patching your system and start using real-time backups and real-time encryption everywhere, says Miliefsky. If we were all to do this, breaches would fail to cause damage or steal valuable information. Also audit your devices for common vulnerabilities and exposures (CVEs) and get a patch or reconfigure them to remove their holes before they become part of botnets. Look up your equipment on the U.S. governments national vulnerability database to see what holes the equipment might have and for instructions to fix any problems.Purchase cyber-insurance. To protect your company from economic harm in the event a breach does occur, consider purchasing cyber-insurance, suggests James Westerlind, counsel with Arent Fox LLP.A good cyber policy would provide first-party coverage to fix the companys system [if it was damaged], as well as cover the losses of profit caused by the companys system becoming inoperable as a result of a DDoS attack.When choosing a cyber-insurance policy, Westerlind advises that business owners consider the self-insured retention, sub-limits and policy provisions that specify how long the service denial must occur and the percentage of network unavailability that must result for coverage to apply.Read more articles on digital tools.Photo: iStockThe information contained in this article is for generalized informational and educational purposes only and is not designed to substitute for, or replace, a professional opinion about any particular business or situation or judgment about the risks or appropriateness of any financial or business strategy or approach for any specific business or situation. THIS ARTICLE IS NOT A SUBSTITUTE FOR PROFESSIONAL ADVICE. The views and opinions expressed in authored articles on OPEN Forum represent the opinion of their author and do not necessarily represent the views, opinions and/or judgments of American Express Company or any of its affiliates, subsidiaries or divisions (including, without limitation, American Express OPEN). American Express makes no representation as to, and is not responsible for, the accuracy, timeliness, completeness or reliability of any opinion, advice or statement made in this article.' => Managing Money\n",
      "u'3 Spooky Debt Collection Stories to Scare You StraightDean KaplanPresident, The Kaplan Group, IncHi there, you can call me Dean. Im President at The Kaplan Group, Inc and Im based in San Luis Obispo, CA.Halloween is coming up and for business owners, unpaid invoices can be terrifying. As the owner of a commercial collection agency specializing in large claims, weve seen a lot of hair-raising business situations.Warning: these three horror stories about collections gone wrong may keep you up at night, but dont worry, we also have some advice to help make sure your story has a happy ending.A Devious BargainA customer owed our client $35,000. In an attempt to obtain the money, the client agreed that the customer could pay them when the customer started a new project. Nine months later, the new project still hadnt started.Unfortunately, because the client signed a poorly drafted agreement to wait with no deadline, we could not take the debt collection case to a judge when the debtor continued to refuse to pay. Six months later, the customer still had not started the new project and so, technically, was still not late in paying our client despite the fact that the debt was now two years old.[pullquote showtweet=\"false\" username=\"Dean Kaplan\" alignment=\"center\"]Getting help from a reputable debt collection agency as soon as possible can help keep you from being a victim.[/pullquote]This scary situation happens all the time. Once you agree to poor settlement terms, it can be very hard to take that agreement back. You dont want to spend years waiting for money, only to find out youve made a disadvantageous bargain!The Mysterious Case of the Missing CompanyA client was owed $30,000 for a consulting project. The bill was six months overdue. When we first got the debt collection claim, everything seemed to be in order. The client had a solid contract with their customer and proof that they had performed the work. They had written acceptance of the work from their customer and a written promise to pay.But we quickly knew our client would never get their money. When we investigated the company name, we couldnt find it as a registered entity. When we researched the company owner, we found that he had nearly a dozen different entities and doing business as (DBAs) registered in his name. Each used a PO Box as an address. Even more frightening, he had 20 outstanding judgments for $2 million dollars, including a recent one for over $800,000.What made this case so frustrating was that it was preventable. If this client had done just a little bit of credit evaluation, they would have known their new customer was going to ghost them. They could have insisted on payment in full up front, or they could have walked away from the opportunity and not lost $30,000 worth of time.The Sloppy ExecutionerOne of our clients had a two-year contract for $5,000/month. For the first three months, the customer paid on time. Then, for the next five months, the customer did not pay, but the client continued to provide services. The client was still providing services when they sent the debt collection claim to us.Our client wanted to stop providing services due to the customers breach of contractthe customer was no longer paying. But the contract was unclear if the customer would still owe our client for the remaining 16 months of the contract if the client stopped providing services. We knew that a judge could rule either way on this question.In addition, there was also no acceleration clause in the contract, meaning that even if the client was willing to continue providing services, we could only sue immediately for the five months that were currently past due. We could not sue for the remaining 16 months of the contract until that period had passed.The sloppy execution of the contract meant that our client had to accept $20,000 as settlement in full for a $25,000 outstanding debt. They also lost the opportunity to receive the remaining $80,000 due under the contract.If you find these stories frightening, you arent alone. Preparation and research can help keep you from starring in your own horror movie:Do your research.A simple credit check on a potential client can cost as little as $8. You probably wouldnt hand cash to a stranger with no questions asked, so why give an unknown business your time or product without a simple investigation?Know the red flags.In a horror movie the mayhem sometimes seems to come out of nowhere, but that doesnt usually happen in real life. Before a client stops paying you, or starts paying you late, there are usually signs that the business is in trouble. Learn the warning signs so you can address problems before they get out of hand.Dont agree to bad terms. When someone owes you money, its tempting to do whatever you can to recoup even some of the cash. But, as in the first story I shared, its usually a bad idea to make an agreement without some professional help. Once you offer a deal, its hard to reverse that offer.If you do find yourself walking down the long dark hallway of uncollected debt, dont go alone! Getting help from a reputable debt collection agency as soon as possible can help keep you from being a victim.Read more articles on managing money.Photo: iStock' => Getting Customers\n",
      "u'Office Etiquette: How to Handle Employee Disputes in the WorkplaceJulie Bawden DavisWriter/Author/Publisher/Speaker, Garden Guides PressHi there, you can call me Julie. Im Writer/Author/Publisher/Speaker at Garden Guides Press and Im based in Orange County, California Area.As the tension of Election Day mounts across the nation, theres a good chance that some of that emotion may spill over into the work environment. This may be a good time to remind employees of basic office etiquette should disagreementsarise.Conflict is a fact of life, and its going to happen, whether we are comfortable with it or not, says Mike Staver, author of the audio book and seminar How to Defuse Anger and Calm People Down. Add politics or religion to the conversation and the heat and emotion only intensifies. The more personal the topic, the more emotional intensity is present.Unique, individual perspectives may cause disagreements to occur, believes business consultant Debora McLaughlin, author of The Renegade Leader. Values and past experiences drive our thoughts, feeling and actions. Todays political field is a battleground deeply rooted in core values. Words such as trust, integrity and character have moved to the forefront of foreign policy, homeland security and taxes. When core values are violated, these emotions increase.How PoorOffice Etiquette May Affect ProductivityWhile some discussion is to be expected, there is a point where conversations can become detrimental to the workplace.Because of our differing perspectives, disagreements are a part of being human. We see the world through our own unique lens, and most [business owners] understand the value of different perspectives, which result in innovative ideas and customer centric products or services, says McLaughlin. When politics spill into the workplace, however, that can affect performance, alliances and engagement. Because employees personalize their values, hearing another employee endorsing another candidate who does not project the same values can raise defensiveness.[pullquote showtweet=\"false\" username=\"Debora McLaughlin\" alignment=\"center\"]Remind employees it is okay to have differing opinions, but it is not acceptable for differences to impact performance.Debora McLaughlin, author[/pullquote]Theres a good reason whyoffice etiquette discourages discussing politics, race and religion in the workplace, adds former clinical psychiatrist Mark Goulston, author of Talking to Crazy: How to Deal with the Irrational and Impossible People in Your Life. Peoples deep emotional connections to all of these topics often trigger individuals to become upset and make it difficult for them to stay focused on what they need to get done.\"4 Steps to Help Prevent and DiffuseEmployee DisagreementsBusiness owners may want totake the lead when it comes to handling discord in the workplace and setting the example. These office etiquette tips can help minimize disagreements when they occur, and may help prevent them in the first place.Acknowledge the stressor. Oneway to diffuse trouble before it starts is to let employees know that you are aware of the controversy, whatever it is. For instance, in regards to the election, Goulston recommends telling employees: \"This election has been one of the most disruptive and distracting campaigns in decades. As a result, it has caused many of us to get away from the important routines we follow at work. The sooner we get back to those the better. Im not saying you dont have the right to passionately support your POV, whatever it is, but the more you compartmentalize it so that it doesnt negatively affect your work, the better.\"Encourage empathy. Developing empathy amongst employees can be an important step to encouraging polite and productive communication in the office. Empathy is the ability to step into the shoes of others, be aware of their feelings and understand their needs, and in this presidential election, there seems to be no empathy taking place at all, says DeLores Pressley, CEO of DeLores Pressley Worldwide. Empathy requires listening, openness and understanding.Make expectations clear. When discussions and disagreements negativelyaffect productivity, you may want to draw the line, notes McLaughlin. Remind employees it is okay to have differing opinions, but it is not acceptable for differences to impact performance. When relating, encourage employees to eliminate the words I and you from their vocabulary. Instead, couch them to refer to the topic at hand, such as the report needs to be completed; the deadline is nearing.Instruct employees to practice good office etiquette, and walk away from disagreements. The most important thing to remind your employees of is that...there is no discussing an opposing opinion with individuals in their passion,\" says negotiations expert Eldonna Lewis-Fernandez, author of Think Like a Negotiator. \"You wont get through to them and attempting to have a viable discussion in those circumstances will end up making you crazy. Encourage employees who find themselves in an altercation to leave emotion out by remaining calm, which may calm the other person. Changing the subject may also work. If those tactics dont work, then suggest they walk away.\"Read more articles onleadership.Photos: iStock' => Building Your Team\n"
     ]
    }
   ],
   "source": [
    "# Test the classifier (article_topics version)\n",
    "docs_new = topic_test['content']\n",
    "X_new_counts = count_vect.transform(docs_new)\n",
    "X_new_tf = tf_transformer.transform(X_new_counts)\n",
    "predicted = clf.predict(X_new_tf)\n",
    "\n",
    "for doc, category in zip(docs_new, predicted):\n",
    "     print('%r => %s' % (doc, category))"
   ]
  },
  {
   "cell_type": "code",
   "execution_count": null,
   "metadata": {
    "collapsed": true
   },
   "outputs": [],
   "source": []
  }
 ],
 "metadata": {
  "anaconda-cloud": {},
  "kernelspec": {
   "display_name": "Python [Root]",
   "language": "python",
   "name": "Python [Root]"
  },
  "language_info": {
   "codemirror_mode": {
    "name": "ipython",
    "version": 2
   },
   "file_extension": ".py",
   "mimetype": "text/x-python",
   "name": "python",
   "nbconvert_exporter": "python",
   "pygments_lexer": "ipython2",
   "version": "2.7.12"
  }
 },
 "nbformat": 4,
 "nbformat_minor": 0
}
