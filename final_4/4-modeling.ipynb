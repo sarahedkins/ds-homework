{
 "cells": [
  {
   "cell_type": "markdown",
   "metadata": {},
   "source": [
    "# 4. Modeling"
   ]
  },
  {
   "cell_type": "code",
   "execution_count": 1,
   "metadata": {
    "collapsed": false
   },
   "outputs": [
    {
     "name": "stderr",
     "output_type": "stream",
     "text": [
      "/Users/sedkin/anaconda/lib/python2.7/site-packages/matplotlib/font_manager.py:273: UserWarning: Matplotlib is building the font cache using fc-list. This may take a moment.\n",
      "  warnings.warn('Matplotlib is building the font cache using fc-list. This may take a moment.')\n"
     ]
    }
   ],
   "source": [
    "import numpy as np\n",
    "import pandas as pd\n",
    "import seaborn as sns\n",
    "%matplotlib inline"
   ]
  },
  {
   "cell_type": "code",
   "execution_count": 2,
   "metadata": {
    "collapsed": true
   },
   "outputs": [],
   "source": [
    "Location = r'../final_3/clean_data.csv'\n",
    "df = pd.read_csv(Location,  encoding='utf-8')"
   ]
  },
  {
   "cell_type": "code",
   "execution_count": 3,
   "metadata": {
    "collapsed": false
   },
   "outputs": [
    {
     "data": {
      "text/html": [
       "<div>\n",
       "<table border=\"1\" class=\"dataframe\">\n",
       "  <thead>\n",
       "    <tr style=\"text-align: right;\">\n",
       "      <th></th>\n",
       "      <th>article_description</th>\n",
       "      <th>article_pubtime</th>\n",
       "      <th>article_section</th>\n",
       "      <th>article_subtopic</th>\n",
       "      <th>article_tags</th>\n",
       "      <th>article_topic</th>\n",
       "      <th>author_name</th>\n",
       "      <th>content</th>\n",
       "      <th>title</th>\n",
       "    </tr>\n",
       "  </thead>\n",
       "  <tbody>\n",
       "    <tr>\n",
       "      <th>0</th>\n",
       "      <td>If you're having trouble trying to be more inn...</td>\n",
       "      <td>2016-11-11T20:00:15+00:00</td>\n",
       "      <td>Planning for Growth</td>\n",
       "      <td>Growth Opportunities</td>\n",
       "      <td>[Growth Opportunities, Innovation, Personal Pr...</td>\n",
       "      <td>Planning for Growth</td>\n",
       "      <td>Heather Willems</td>\n",
       "      <td>The Power of Non-Linear ThinkingHeather Willem...</td>\n",
       "      <td>The Power of Non-Linear Thinking</td>\n",
       "    </tr>\n",
       "    <tr>\n",
       "      <th>1</th>\n",
       "      <td>Huge growth may be possible for businesses of ...</td>\n",
       "      <td>2016-11-09T22:30:34+00:00</td>\n",
       "      <td>Planning for Growth</td>\n",
       "      <td>Operations</td>\n",
       "      <td>[Business Expansion, Business Plan, Cash Flow,...</td>\n",
       "      <td>Planning for Growth</td>\n",
       "      <td>Andrew J. Sherman</td>\n",
       "      <td>3 Growth Strategies for Businesses With Limite...</td>\n",
       "      <td>3 Growth Strategies for Businesses With Limite...</td>\n",
       "    </tr>\n",
       "    <tr>\n",
       "      <th>2</th>\n",
       "      <td>What sets your business apart from the competi...</td>\n",
       "      <td>2016-11-11T22:30:47+00:00</td>\n",
       "      <td>Getting Customers</td>\n",
       "      <td>Marketing &amp; Sales</td>\n",
       "      <td>[Advertising, Brainstorming, Branding, Busines...</td>\n",
       "      <td>Getting Customers</td>\n",
       "      <td>Rieva Lesonsky</td>\n",
       "      <td>USP 101: How to Uncover Your Unique Selling Pr...</td>\n",
       "      <td>USP 101: How to Uncover Your Unique Selling Pr...</td>\n",
       "    </tr>\n",
       "    <tr>\n",
       "      <th>3</th>\n",
       "      <td>Organizational changes are rarely fun or easy,...</td>\n",
       "      <td>2016-11-03T23:30:02+00:00</td>\n",
       "      <td>Building Your Team</td>\n",
       "      <td>Company Culture</td>\n",
       "      <td>[Building Your Team, Business Expansion, Busin...</td>\n",
       "      <td>Building Your Team</td>\n",
       "      <td>David Niu</td>\n",
       "      <td>8 Strategies for Big (or Small) Organizational...</td>\n",
       "      <td>8 Strategies for Big (or Small) Organizational...</td>\n",
       "    </tr>\n",
       "    <tr>\n",
       "      <th>4</th>\n",
       "      <td>When expanding your business, exporting to int...</td>\n",
       "      <td>2016-10-27T19:00:39+00:00</td>\n",
       "      <td>Planning for Growth</td>\n",
       "      <td>Growth Opportunities</td>\n",
       "      <td>[Growth Opportunities, Importing &amp; Exporting, ...</td>\n",
       "      <td>Planning for Growth</td>\n",
       "      <td>Greg Sandler</td>\n",
       "      <td>Lessons Learned: Four Stories From Experienced...</td>\n",
       "      <td>Lessons Learned: Four Stories From Experienced...</td>\n",
       "    </tr>\n",
       "  </tbody>\n",
       "</table>\n",
       "</div>"
      ],
      "text/plain": [
       "                                 article_description  \\\n",
       "0  If you're having trouble trying to be more inn...   \n",
       "1  Huge growth may be possible for businesses of ...   \n",
       "2  What sets your business apart from the competi...   \n",
       "3  Organizational changes are rarely fun or easy,...   \n",
       "4  When expanding your business, exporting to int...   \n",
       "\n",
       "             article_pubtime      article_section      article_subtopic  \\\n",
       "0  2016-11-11T20:00:15+00:00  Planning for Growth  Growth Opportunities   \n",
       "1  2016-11-09T22:30:34+00:00  Planning for Growth            Operations   \n",
       "2  2016-11-11T22:30:47+00:00    Getting Customers     Marketing & Sales   \n",
       "3  2016-11-03T23:30:02+00:00   Building Your Team       Company Culture   \n",
       "4  2016-10-27T19:00:39+00:00  Planning for Growth  Growth Opportunities   \n",
       "\n",
       "                                        article_tags        article_topic  \\\n",
       "0  [Growth Opportunities, Innovation, Personal Pr...  Planning for Growth   \n",
       "1  [Business Expansion, Business Plan, Cash Flow,...  Planning for Growth   \n",
       "2  [Advertising, Brainstorming, Branding, Busines...    Getting Customers   \n",
       "3  [Building Your Team, Business Expansion, Busin...   Building Your Team   \n",
       "4  [Growth Opportunities, Importing & Exporting, ...  Planning for Growth   \n",
       "\n",
       "         author_name                                            content  \\\n",
       "0    Heather Willems  The Power of Non-Linear ThinkingHeather Willem...   \n",
       "1  Andrew J. Sherman  3 Growth Strategies for Businesses With Limite...   \n",
       "2     Rieva Lesonsky  USP 101: How to Uncover Your Unique Selling Pr...   \n",
       "3          David Niu  8 Strategies for Big (or Small) Organizational...   \n",
       "4       Greg Sandler  Lessons Learned: Four Stories From Experienced...   \n",
       "\n",
       "                                               title  \n",
       "0                   The Power of Non-Linear Thinking  \n",
       "1  3 Growth Strategies for Businesses With Limite...  \n",
       "2  USP 101: How to Uncover Your Unique Selling Pr...  \n",
       "3  8 Strategies for Big (or Small) Organizational...  \n",
       "4  Lessons Learned: Four Stories From Experienced...  "
      ]
     },
     "execution_count": 3,
     "metadata": {},
     "output_type": "execute_result"
    }
   ],
   "source": [
    "df.head()"
   ]
  },
  {
   "cell_type": "code",
   "execution_count": 4,
   "metadata": {
    "collapsed": false
   },
   "outputs": [
    {
     "data": {
      "text/plain": [
       "Building Your Team     26\n",
       "Getting Customers      26\n",
       "Planning for Growth    19\n",
       "Managing Money         12\n",
       "Name: article_section, dtype: int64"
      ]
     },
     "execution_count": 4,
     "metadata": {},
     "output_type": "execute_result"
    }
   ],
   "source": [
    "df['article_section'].value_counts()"
   ]
  },
  {
   "cell_type": "code",
   "execution_count": 5,
   "metadata": {
    "collapsed": false
   },
   "outputs": [
    {
     "data": {
      "text/plain": [
       "Customer Relations       12\n",
       "Leadership               12\n",
       "Marketing & Sales         9\n",
       "Company Culture           8\n",
       "Growth Opportunities      8\n",
       "Cash Flow                 6\n",
       "Hiring & HR               6\n",
       "Strategy                  4\n",
       "Taxes                     4\n",
       "Social Media Strategy     3\n",
       "Research                  3\n",
       "Operations                3\n",
       "Financing                 2\n",
       "Digital Tools             2\n",
       "Productivity              1\n",
       "Name: article_subtopic, dtype: int64"
      ]
     },
     "execution_count": 5,
     "metadata": {},
     "output_type": "execute_result"
    }
   ],
   "source": [
    "df['article_subtopic'].value_counts()"
   ]
  },
  {
   "cell_type": "code",
   "execution_count": 6,
   "metadata": {
    "collapsed": false
   },
   "outputs": [],
   "source": [
    "#df[df['author_name'] == 'David Niu']"
   ]
  },
  {
   "cell_type": "code",
   "execution_count": 7,
   "metadata": {
    "collapsed": false
   },
   "outputs": [
    {
     "name": "stdout",
     "output_type": "stream",
     "text": [
      "Labels \n",
      "16                 Strategy\n",
      "39                    Taxes\n",
      "62    Social Media Strategy\n",
      "72              Hiring & HR\n",
      "7                  Research\n",
      "Name: article_subtopic, dtype: object\n"
     ]
    }
   ],
   "source": [
    "# split data into train and test sets\n",
    "from sklearn.cross_validation import train_test_split\n",
    "data_train, data_test = train_test_split(df, test_size=0.33, random_state=42)\n",
    "len(data_train)\n",
    "\n",
    "data_train.head()\n",
    "labels = data_train['article_subtopic']\n",
    "print \"Labels \\n\", labels.head()\n",
    "\n",
    "labels_test = data_test['article_subtopic']"
   ]
  },
  {
   "cell_type": "code",
   "execution_count": 8,
   "metadata": {
    "collapsed": false
   },
   "outputs": [
    {
     "name": "stdout",
     "output_type": "stream",
     "text": [
      "6\n"
     ]
    },
    {
     "data": {
      "text/plain": [
       "6"
      ]
     },
     "execution_count": 8,
     "metadata": {},
     "output_type": "execute_result"
    }
   ],
   "source": [
    "growth_opp = df[df['article_subtopic'] == 'Growth Opportunities']\n",
    "hiring_hr = df[df['article_subtopic'] == 'Hiring & HR']\n",
    "print len(hiring_hr)\n",
    "hiring_labels = pd.Series([\"Hiring & HR\",\"Hiring & HR\",\"Hiring & HR\",\"Hiring & HR\",\"Hiring & HR\",\"Hiring & HR\"])\n",
    "len(hiring_labels)"
   ]
  },
  {
   "cell_type": "code",
   "execution_count": null,
   "metadata": {
    "collapsed": false
   },
   "outputs": [],
   "source": []
  },
  {
   "cell_type": "code",
   "execution_count": 9,
   "metadata": {
    "collapsed": false
   },
   "outputs": [
    {
     "data": {
      "text/plain": [
       "[]"
      ]
     },
     "execution_count": 9,
     "metadata": {},
     "output_type": "execute_result"
    }
   ],
   "source": [
    "# vectorize\n",
    "from sklearn.feature_extraction.text import CountVectorizer\n",
    "count_vect = CountVectorizer(max_features = 50, \n",
    "                             ngram_range=(1, 3), \n",
    "                             stop_words='english',\n",
    "                             binary=True)\n",
    "X_train_counts = count_vect.fit(data_train['content'])\n",
    "#X_train_counts.shape\n",
    "X_train_counts = count_vect.transform(data_train['content'])\n",
    "names =  count_vect.get_feature_names()\n",
    "names[115:145]"
   ]
  },
  {
   "cell_type": "code",
   "execution_count": 10,
   "metadata": {
    "collapsed": false
   },
   "outputs": [
    {
     "data": {
      "text/plain": [
       "7"
      ]
     },
     "execution_count": 10,
     "metadata": {},
     "output_type": "execute_result"
    }
   ],
   "source": [
    "count_vect.vocabulary_.get(u'business')"
   ]
  },
  {
   "cell_type": "code",
   "execution_count": 11,
   "metadata": {
    "collapsed": false
   },
   "outputs": [],
   "source": [
    "count_vect.vocabulary_.get(u'employees')"
   ]
  },
  {
   "cell_type": "code",
   "execution_count": 12,
   "metadata": {
    "collapsed": false
   },
   "outputs": [],
   "source": [
    "count_vect.vocabulary_.get(u'stock')"
   ]
  },
  {
   "cell_type": "code",
   "execution_count": 13,
   "metadata": {
    "collapsed": false
   },
   "outputs": [],
   "source": [
    "count_vect.vocabulary_.get(u'bread')"
   ]
  },
  {
   "cell_type": "code",
   "execution_count": 14,
   "metadata": {
    "collapsed": false
   },
   "outputs": [
    {
     "name": "stdout",
     "output_type": "stream",
     "text": [
      "(55, 50)\n",
      "(55, 50)\n"
     ]
    }
   ],
   "source": [
    "# vectorize with tf-idf \n",
    "from sklearn.feature_extraction.text import TfidfTransformer\n",
    "tf_transformer = TfidfTransformer(use_idf=True).fit(X_train_counts)\n",
    "X_train_tf = tf_transformer.transform(X_train_counts)\n",
    "print X_train_tf.shape\n",
    "\n",
    "names = count_vect.get_feature_names()\n",
    "names[50:100]\n",
    "\n",
    "tfidf_transformer = TfidfTransformer()\n",
    "X_train_tfidf = tfidf_transformer.fit_transform(X_train_counts)\n",
    "print X_train_tfidf.shape"
   ]
  },
  {
   "cell_type": "code",
   "execution_count": 15,
   "metadata": {
    "collapsed": false
   },
   "outputs": [],
   "source": [
    "# use Naive-Bayes Classifier \n",
    "from sklearn.naive_bayes import MultinomialNB\n",
    "clf = MultinomialNB().fit(X_train_counts, labels)"
   ]
  },
  {
   "cell_type": "code",
   "execution_count": 16,
   "metadata": {
    "collapsed": false
   },
   "outputs": [
    {
     "name": "stdout",
     "output_type": "stream",
     "text": [
      "16                 Strategy\n",
      "39                    Taxes\n",
      "62    Social Media Strategy\n",
      "72              Hiring & HR\n",
      "7                  Research\n",
      "Name: article_subtopic, dtype: object\n"
     ]
    }
   ],
   "source": [
    "print labels[0:5]"
   ]
  },
  {
   "cell_type": "code",
   "execution_count": 17,
   "metadata": {
    "collapsed": false
   },
   "outputs": [
    {
     "name": "stdout",
     "output_type": "stream",
     "text": [
      "'Business strategy is important.' => Leadership\n",
      "'Hiring new employees is tough because candidates are hard to find.' => Customer Relations\n",
      "'Candidates hire new employees' => Customer Relations\n",
      "'Web SEO mobile' => Leadership\n",
      "'Attracting new customers through advertising' => Customer Relations\n",
      "'Employee benefits' => Leadership\n",
      "'Economic Ups and Downs' => Leadership\n",
      "'Ups and Downs' => Leadership\n",
      "'Customer stuff' => Leadership\n",
      "'mobile' => Leadership\n",
      "'digital' => Leadership\n",
      "'The Power of Non-Linear Thinking' => Leadership\n",
      "'3 Growth Strategies for Businesses With Limited' => Customer Relations\n"
     ]
    }
   ],
   "source": [
    "# Test the classifier \n",
    "docs_new = ['Business strategy is important.', \n",
    "            \"Hiring new employees is tough because candidates are hard to find.\", \n",
    "            \"Candidates hire new employees\", \n",
    "            \"Web SEO mobile\",\n",
    "           \"Attracting new customers through advertising\",\n",
    "           \"Employee benefits\",\n",
    "           \"Economic Ups and Downs\",\n",
    "           \"Ups and Downs\",\n",
    "           \"Customer stuff\",\n",
    "           \"mobile\",\n",
    "           \"digital\",\n",
    "           \"The Power of Non-Linear Thinking\",\n",
    "           \"3 Growth Strategies for Businesses With Limited\"]\n",
    "X_new_counts = count_vect.transform(docs_new)\n",
    "\n",
    "X_new_tf = tf_transformer.transform(X_new_counts)\n",
    "\n",
    "predicted = clf.predict(X_new_tf)\n",
    "\n",
    "for doc, category in zip(docs_new, predicted):\n",
    "     print('%r => %s' % (doc, category))"
   ]
  },
  {
   "cell_type": "code",
   "execution_count": 18,
   "metadata": {
    "collapsed": true
   },
   "outputs": [],
   "source": [
    "# creates a pipeline \n",
    "from sklearn.pipeline import Pipeline\n",
    "text_clf = Pipeline([('vect', CountVectorizer()),\n",
    "                      ('tfidf', TfidfTransformer()),\n",
    "                      ('clf', MultinomialNB()),\n",
    " ])"
   ]
  },
  {
   "cell_type": "code",
   "execution_count": 19,
   "metadata": {
    "collapsed": false
   },
   "outputs": [],
   "source": [
    "text_clf = text_clf.fit(data_train['content'], labels)"
   ]
  },
  {
   "cell_type": "code",
   "execution_count": 20,
   "metadata": {
    "collapsed": false
   },
   "outputs": [
    {
     "data": {
      "text/plain": [
       "0.035714285714285712"
      ]
     },
     "execution_count": 20,
     "metadata": {},
     "output_type": "execute_result"
    }
   ],
   "source": [
    "# get prediction accuracy using the test set\n",
    "docs_test = data_test['content']\n",
    "#print docs_test\n",
    "predicted = text_clf.predict(docs_test)\n",
    "#print predicted\n",
    "np.mean(predicted == labels_test) \n",
    "text_clf.score(docs_test, labels_test)"
   ]
  },
  {
   "cell_type": "code",
   "execution_count": 21,
   "metadata": {
    "collapsed": false
   },
   "outputs": [
    {
     "name": "stdout",
     "output_type": "stream",
     "text": [
      "Leadership               11\n",
      "Customer Relations        9\n",
      "Company Culture           6\n",
      "Marketing & Sales         5\n",
      "Hiring & HR               4\n",
      "Strategy                  3\n",
      "Taxes                     3\n",
      "Operations                3\n",
      "Cash Flow                 2\n",
      "Financing                 2\n",
      "Research                  2\n",
      "Growth Opportunities      2\n",
      "Social Media Strategy     1\n",
      "Digital Tools             1\n",
      "Productivity              1\n",
      "Name: article_subtopic, dtype: int64\n"
     ]
    }
   ],
   "source": [
    "print data_train['article_subtopic'].value_counts()"
   ]
  },
  {
   "cell_type": "markdown",
   "metadata": {},
   "source": [
    "My classifier is only bucketing documents into two categories, despite feeding it several categories. This might be because there are a lot of \"Leadership\" and \"Customer Relations\" articles and not as many of the other categories.\n",
    "\n",
    "Let's try it again using categories that all have the same number of observations - to see if that was causing it."
   ]
  },
  {
   "cell_type": "code",
   "execution_count": 22,
   "metadata": {
    "collapsed": false
   },
   "outputs": [
    {
     "data": {
      "text/html": [
       "<div>\n",
       "<table border=\"1\" class=\"dataframe\">\n",
       "  <thead>\n",
       "    <tr style=\"text-align: right;\">\n",
       "      <th></th>\n",
       "      <th>article_description</th>\n",
       "      <th>article_pubtime</th>\n",
       "      <th>article_section</th>\n",
       "      <th>article_subtopic</th>\n",
       "      <th>article_tags</th>\n",
       "      <th>article_topic</th>\n",
       "      <th>author_name</th>\n",
       "      <th>content</th>\n",
       "      <th>title</th>\n",
       "    </tr>\n",
       "  </thead>\n",
       "  <tbody>\n",
       "    <tr>\n",
       "      <th>16</th>\n",
       "      <td>Small businesses can be just as volatile as th...</td>\n",
       "      <td>2016-08-23T22:30:24+00:00</td>\n",
       "      <td>Planning for Growth</td>\n",
       "      <td>Strategy</td>\n",
       "      <td>[Accounts Receivable/Payable, Building Your Te...</td>\n",
       "      <td>Planning for Growth</td>\n",
       "      <td>Julie Bawden Davis</td>\n",
       "      <td>Economic Ups and Downs: How to Help Prepare Yo...</td>\n",
       "      <td>Economic Ups and Downs: How to Help Prepare Yo...</td>\n",
       "    </tr>\n",
       "    <tr>\n",
       "      <th>39</th>\n",
       "      <td>Being as tax-savvy as possible can help you—an...</td>\n",
       "      <td>2016-09-29T17:00:01+00:00</td>\n",
       "      <td>Managing Money</td>\n",
       "      <td>Taxes</td>\n",
       "      <td>[Cash Flow, Managing Money, Tax Deductions, Ta...</td>\n",
       "      <td>Managing Money</td>\n",
       "      <td>John Suh</td>\n",
       "      <td>4 Things Every Business Owner Should Know Abou...</td>\n",
       "      <td>4 Things Every Business Owner Should Know Abou...</td>\n",
       "    </tr>\n",
       "  </tbody>\n",
       "</table>\n",
       "</div>"
      ],
      "text/plain": [
       "                                  article_description  \\\n",
       "16  Small businesses can be just as volatile as th...   \n",
       "39  Being as tax-savvy as possible can help you—an...   \n",
       "\n",
       "              article_pubtime      article_section article_subtopic  \\\n",
       "16  2016-08-23T22:30:24+00:00  Planning for Growth         Strategy   \n",
       "39  2016-09-29T17:00:01+00:00       Managing Money            Taxes   \n",
       "\n",
       "                                         article_tags        article_topic  \\\n",
       "16  [Accounts Receivable/Payable, Building Your Te...  Planning for Growth   \n",
       "39  [Cash Flow, Managing Money, Tax Deductions, Ta...       Managing Money   \n",
       "\n",
       "           author_name                                            content  \\\n",
       "16  Julie Bawden Davis  Economic Ups and Downs: How to Help Prepare Yo...   \n",
       "39            John Suh  4 Things Every Business Owner Should Know Abou...   \n",
       "\n",
       "                                                title  \n",
       "16  Economic Ups and Downs: How to Help Prepare Yo...  \n",
       "39  4 Things Every Business Owner Should Know Abou...  "
      ]
     },
     "execution_count": 22,
     "metadata": {},
     "output_type": "execute_result"
    }
   ],
   "source": [
    "categories = ['Cash Flow', 'Financing', 'Research', 'Growth Opportunities', 'Strategy','Taxes', 'Operations']\n",
    "# categories = ['Building Your Team', 'Getting Customers', 'Planning for Growth']\n",
    "train_dropped = data_train[data_train['article_subtopic'].isin(categories)]\n",
    "train_dropped.head(2)"
   ]
  },
  {
   "cell_type": "code",
   "execution_count": 23,
   "metadata": {
    "collapsed": false
   },
   "outputs": [
    {
     "name": "stdout",
     "output_type": "stream",
     "text": [
      "(17, 50)\n",
      "(17, 50)\n",
      "'Business strategy is important.' => Taxes\n",
      "'Hiring new employees is tough because candidates are hard to find.' => Strategy\n",
      "'Candidates hire new employees' => Strategy\n",
      "'Web SEO mobile' => Operations\n",
      "'Attracting new customers through advertising' => Strategy\n",
      "'Employee benefits' => Operations\n",
      "'Economic Ups and Downs' => Operations\n",
      "'Ups and Downs' => Operations\n",
      "'Customer stuff' => Operations\n",
      "'mobile' => Operations\n",
      "'digital' => Operations\n",
      "'The Power of Non-Linear Thinking' => Operations\n",
      "'3 Growth Strategies for Businesses With Limited' => Operations\n"
     ]
    }
   ],
   "source": [
    "# vectorize\n",
    "from sklearn.feature_extraction.text import CountVectorizer\n",
    "count_vect = CountVectorizer(max_features = 50, \n",
    "                             ngram_range=(1, 3), \n",
    "                             stop_words='english',\n",
    "                             binary=True)\n",
    "X_train_counts = count_vect.fit(train_dropped['content'])\n",
    "#X_train_counts.shape\n",
    "X_train_counts = count_vect.transform(train_dropped['content'])\n",
    "names =  count_vect.get_feature_names()\n",
    "names[115:145]\n",
    "\n",
    "# vectorize with tf-idf \n",
    "from sklearn.feature_extraction.text import TfidfTransformer\n",
    "tf_transformer = TfidfTransformer(use_idf=True).fit(X_train_counts)\n",
    "X_train_tf = tf_transformer.transform(X_train_counts)\n",
    "print X_train_tf.shape\n",
    "\n",
    "names = count_vect.get_feature_names()\n",
    "names[50:100]\n",
    "\n",
    "tfidf_transformer = TfidfTransformer()\n",
    "X_train_tfidf = tfidf_transformer.fit_transform(X_train_counts)\n",
    "print X_train_tfidf.shape\n",
    "\n",
    "# use Naive-Bayes Classifier \n",
    "from sklearn.naive_bayes import MultinomialNB\n",
    "clf = MultinomialNB().fit(X_train_counts, train_dropped['article_subtopic'])\n",
    "\n",
    "# Test the classifier \n",
    "docs_new = ['Business strategy is important.', \n",
    "            \"Hiring new employees is tough because candidates are hard to find.\", \n",
    "            \"Candidates hire new employees\", \n",
    "            \"Web SEO mobile\",\n",
    "           \"Attracting new customers through advertising\",\n",
    "           \"Employee benefits\",\n",
    "           \"Economic Ups and Downs\",\n",
    "           \"Ups and Downs\",\n",
    "           \"Customer stuff\",\n",
    "           \"mobile\",\n",
    "           \"digital\",\n",
    "           \"The Power of Non-Linear Thinking\",\n",
    "           \"3 Growth Strategies for Businesses With Limited\"]\n",
    "X_new_counts = count_vect.transform(docs_new)\n",
    "\n",
    "X_new_tf = tf_transformer.transform(X_new_counts)\n",
    "\n",
    "predicted = clf.predict(X_new_tf)\n",
    "\n",
    "for doc, category in zip(docs_new, predicted):\n",
    "     print('%r => %s' % (doc, category))"
   ]
  },
  {
   "cell_type": "code",
   "execution_count": 24,
   "metadata": {
    "collapsed": false
   },
   "outputs": [
    {
     "data": {
      "text/html": [
       "<div>\n",
       "<table border=\"1\" class=\"dataframe\">\n",
       "  <thead>\n",
       "    <tr style=\"text-align: right;\">\n",
       "      <th></th>\n",
       "      <th>article_description</th>\n",
       "      <th>article_pubtime</th>\n",
       "      <th>article_section</th>\n",
       "      <th>article_subtopic</th>\n",
       "      <th>article_tags</th>\n",
       "      <th>article_topic</th>\n",
       "      <th>author_name</th>\n",
       "      <th>content</th>\n",
       "      <th>title</th>\n",
       "    </tr>\n",
       "  </thead>\n",
       "  <tbody>\n",
       "    <tr>\n",
       "      <th>30</th>\n",
       "      <td>As your business grows, you may want to consid...</td>\n",
       "      <td>2016-11-08T17:30:05+00:00</td>\n",
       "      <td>Managing Money</td>\n",
       "      <td>Cash Flow</td>\n",
       "      <td>[Accounting, Cash Flow, Managing Money]</td>\n",
       "      <td>Managing Money</td>\n",
       "      <td>Hal Shelton</td>\n",
       "      <td>When It Comes to Accounting, Do You Need a CPA...</td>\n",
       "      <td>When It Comes to Accounting, Do You Need a CPA...</td>\n",
       "    </tr>\n",
       "    <tr>\n",
       "      <th>0</th>\n",
       "      <td>If you're having trouble trying to be more inn...</td>\n",
       "      <td>2016-11-11T20:00:15+00:00</td>\n",
       "      <td>Planning for Growth</td>\n",
       "      <td>Growth Opportunities</td>\n",
       "      <td>[Growth Opportunities, Innovation, Personal Pr...</td>\n",
       "      <td>Planning for Growth</td>\n",
       "      <td>Heather Willems</td>\n",
       "      <td>The Power of Non-Linear ThinkingHeather Willem...</td>\n",
       "      <td>The Power of Non-Linear Thinking</td>\n",
       "    </tr>\n",
       "  </tbody>\n",
       "</table>\n",
       "</div>"
      ],
      "text/plain": [
       "                                  article_description  \\\n",
       "30  As your business grows, you may want to consid...   \n",
       "0   If you're having trouble trying to be more inn...   \n",
       "\n",
       "              article_pubtime      article_section      article_subtopic  \\\n",
       "30  2016-11-08T17:30:05+00:00       Managing Money             Cash Flow   \n",
       "0   2016-11-11T20:00:15+00:00  Planning for Growth  Growth Opportunities   \n",
       "\n",
       "                                         article_tags        article_topic  \\\n",
       "30            [Accounting, Cash Flow, Managing Money]       Managing Money   \n",
       "0   [Growth Opportunities, Innovation, Personal Pr...  Planning for Growth   \n",
       "\n",
       "        author_name                                            content  \\\n",
       "30      Hal Shelton  When It Comes to Accounting, Do You Need a CPA...   \n",
       "0   Heather Willems  The Power of Non-Linear ThinkingHeather Willem...   \n",
       "\n",
       "                                                title  \n",
       "30  When It Comes to Accounting, Do You Need a CPA...  \n",
       "0                    The Power of Non-Linear Thinking  "
      ]
     },
     "execution_count": 24,
     "metadata": {},
     "output_type": "execute_result"
    }
   ],
   "source": [
    "test_dropped = data_test[data_test['article_subtopic'].isin(categories)]\n",
    "test_dropped.head(2)"
   ]
  },
  {
   "cell_type": "code",
   "execution_count": 25,
   "metadata": {
    "collapsed": false
   },
   "outputs": [
    {
     "data": {
      "text/plain": [
       "0.15384615384615385"
      ]
     },
     "execution_count": 25,
     "metadata": {},
     "output_type": "execute_result"
    }
   ],
   "source": [
    "text_clf = text_clf.fit(train_dropped['content'], train_dropped['article_subtopic'])\n",
    "\n",
    "# get prediction accuracy using the test set\n",
    "docs_test = test_dropped['content']\n",
    "predicted = text_clf.predict(docs_test)\n",
    "#print \"Predicted:\", predicted\n",
    "np.mean(predicted == test_dropped['article_subtopic']) \n",
    "#test_dropped['article_subtopic']"
   ]
  },
  {
   "cell_type": "markdown",
   "metadata": {},
   "source": [
    "My accuracy slightly increased.. Promising! LOL.\n",
    "\n",
    "The issues are:\n",
    "1) there isn't enough data, and\n",
    "2) there are too many buckets and the articles are not distributed evenly amongst them\n",
    "\n",
    "### Attempting again\n",
    " Improvements:\n",
    " 1) using article_topic instead of article_subtopic to have less buckets\n",
    " 2) increase train set size "
   ]
  },
  {
   "cell_type": "code",
   "execution_count": 26,
   "metadata": {
    "collapsed": false
   },
   "outputs": [
    {
     "name": "stdout",
     "output_type": "stream",
     "text": [
      "Train set len: 68\n",
      "Test set len: 15\n",
      "Train Labels \n",
      "Building Your Team     24\n",
      "Getting Customers      24\n",
      "Planning for Growth    12\n",
      "Managing Money          8\n",
      "Name: article_topic, dtype: int64\n",
      "Test Labels \n",
      "Planning for Growth    7\n",
      "Managing Money         4\n",
      "Building Your Team     2\n",
      "Getting Customers      2\n",
      "Name: article_topic, dtype: int64\n"
     ]
    }
   ],
   "source": [
    "# split data into train and test sets\n",
    "from sklearn.cross_validation import train_test_split\n",
    "topic_train, topic_test = train_test_split(df, test_size=0.18, random_state=42)\n",
    "print \"Train set len:\", len(topic_train)\n",
    "print \"Test set len:\", len(topic_test)\n",
    "\n",
    "topic_train.head()\n",
    "topic_labels = topic_train['article_topic']\n",
    "print \"Train Labels \\n\", topic_labels.value_counts()\n",
    "\n",
    "topic_labels_test = topic_test['article_topic']\n",
    "print \"Test Labels \\n\", topic_labels_test.value_counts()"
   ]
  },
  {
   "cell_type": "code",
   "execution_count": 27,
   "metadata": {
    "collapsed": false
   },
   "outputs": [
    {
     "data": {
      "text/plain": [
       "[u'000',\n",
       " u'alignment',\n",
       " u'alignment center',\n",
       " u'american',\n",
       " u'american express',\n",
       " u'article',\n",
       " u'articles',\n",
       " u'ask',\n",
       " u'author',\n",
       " u'based']"
      ]
     },
     "execution_count": 27,
     "metadata": {},
     "output_type": "execute_result"
    }
   ],
   "source": [
    "# vectorize\n",
    "from sklearn.feature_extraction.text import CountVectorizer\n",
    "count_vect = CountVectorizer(max_features = 100, \n",
    "                             ngram_range=(1, 3), \n",
    "                             stop_words='english',\n",
    "                             binary=False\n",
    "                            )\n",
    "X_train_counts = count_vect.fit(topic_train['content'])\n",
    "#X_train_counts.shape\n",
    "X_train_counts = count_vect.transform(topic_train['content'])\n",
    "names =  count_vect.get_feature_names()\n",
    "\n",
    "# view snapshot of some the words found\n",
    "names[0:10]"
   ]
  },
  {
   "cell_type": "code",
   "execution_count": 28,
   "metadata": {
    "collapsed": false
   },
   "outputs": [
    {
     "name": "stdout",
     "output_type": "stream",
     "text": [
      "[u'media', u'money', u'need', u'new', u'open', u'owner', u'owners', u'pay', u'people', u'percent', u'photo', u'plan', u'process', u'product', u'products', u'professional', u'pullquote', u'pullquote showtweet', u'pullquote showtweet false', u'read', u'read articles', u'sales', u'says', u'self', u'service', u'showtweet', u'showtweet false', u'small', u'small business', u'social', u'social media', u'start', u'tax', u'team', u'theyre', u'things', u'think', u'time', u'twitter', u'use', u'using', u'want', u'way', u'ways', u'website', u'work', u'working', u'year', u'years', u'youre']\n",
      "(68, 100)\n"
     ]
    }
   ],
   "source": [
    "# vectorize with tf-idf \n",
    "from sklearn.feature_extraction.text import TfidfTransformer\n",
    "tf_transformer = TfidfTransformer(use_idf=True).fit(X_train_counts)\n",
    "X_train_tf = tf_transformer.transform(X_train_counts)\n",
    "\n",
    "names = count_vect.get_feature_names()\n",
    "print names[50:100]\n",
    "\n",
    "tfidf_transformer = TfidfTransformer()\n",
    "X_train_tfidf = tfidf_transformer.fit_transform(X_train_counts)\n",
    "print X_train_tfidf.shape"
   ]
  },
  {
   "cell_type": "code",
   "execution_count": 29,
   "metadata": {
    "collapsed": false
   },
   "outputs": [],
   "source": [
    "# use Naive-Bayes Classifier \n",
    "from sklearn.naive_bayes import MultinomialNB\n",
    "clf = MultinomialNB().fit(X_train_counts, topic_labels)"
   ]
  },
  {
   "cell_type": "code",
   "execution_count": 30,
   "metadata": {
    "collapsed": false,
    "scrolled": true
   },
   "outputs": [
    {
     "name": "stdout",
     "output_type": "stream",
     "text": [
      "'Business strategy is important.' => Building Your Team\n",
      "'Hiring new employees is tough because candidates are hard to find.' => Building Your Team\n",
      "'Candidates hire new employees' => Building Your Team\n",
      "'Web SEO mobile strategy' => Building Your Team\n",
      "'Attracting new customers through advertising' => Getting Customers\n",
      "'Employee benefits' => Building Your Team\n",
      "'Economic Ups and Downs' => Building Your Team\n",
      "'Ups and Downs' => Building Your Team\n",
      "'Customers are happy when you do this' => Getting Customers\n",
      "'what' => Building Your Team\n",
      "\n",
      " Predict Probabilities:\n",
      "[[ 0.36921214  0.28836502  0.12046992  0.22195292]\n",
      " [ 0.59999164  0.12582559  0.06349306  0.2106897 ]\n",
      " [ 0.59999164  0.12582559  0.06349306  0.2106897 ]\n",
      " [ 0.35294118  0.35294118  0.11764706  0.17647059]\n",
      " [ 0.12534883  0.61058736  0.01719338  0.24687043]\n",
      " [ 0.35294118  0.35294118  0.11764706  0.17647059]\n",
      " [ 0.35294118  0.35294118  0.11764706  0.17647059]\n",
      " [ 0.35294118  0.35294118  0.11764706  0.17647059]\n",
      " [ 0.09381467  0.70651951  0.01317365  0.18649217]\n",
      " [ 0.35294118  0.35294118  0.11764706  0.17647059]]\n"
     ]
    }
   ],
   "source": [
    "# Test the classifier (article_topics version)\n",
    "docs_new = ['Business strategy is important.', \n",
    "            \"Hiring new employees is tough because candidates are hard to find.\", \n",
    "            \"Candidates hire new employees\", \n",
    "            \"Web SEO mobile strategy\",\n",
    "           \"Attracting new customers through advertising\",\n",
    "           \"Employee benefits\",\n",
    "           \"Economic Ups and Downs\",\n",
    "           \"Ups and Downs\",\n",
    "           \"Customers are happy when you do this\",\n",
    "           \"what\"]\n",
    "X_new_counts = count_vect.transform(docs_new)\n",
    "X_new_tf = tf_transformer.transform(X_new_counts)\n",
    "predicted = clf.predict(X_new_tf)\n",
    "\n",
    "for doc, category in zip(docs_new, predicted):\n",
    "     print('%r => %s' % (doc, category))\n",
    "        \n",
    "print \"\\n Predict Probabilities:\"        \n",
    "print clf.predict_proba(X_new_tf)        "
   ]
  },
  {
   "cell_type": "code",
   "execution_count": 32,
   "metadata": {
    "collapsed": false
   },
   "outputs": [],
   "source": [
    "docs_test = topic_test['content']\n"
   ]
  },
  {
   "cell_type": "code",
   "execution_count": 33,
   "metadata": {
    "collapsed": false
   },
   "outputs": [
    {
     "data": {
      "text/html": [
       "<div>\n",
       "<table border=\"1\" class=\"dataframe\">\n",
       "  <thead>\n",
       "    <tr style=\"text-align: right;\">\n",
       "      <th></th>\n",
       "      <th>Actual Value</th>\n",
       "      <th>Predicted Value</th>\n",
       "    </tr>\n",
       "  </thead>\n",
       "  <tbody>\n",
       "    <tr>\n",
       "      <th>30</th>\n",
       "      <td>Managing Money</td>\n",
       "      <td>Managing Money</td>\n",
       "    </tr>\n",
       "    <tr>\n",
       "      <th>0</th>\n",
       "      <td>Planning for Growth</td>\n",
       "      <td>Building Your Team</td>\n",
       "    </tr>\n",
       "    <tr>\n",
       "      <th>22</th>\n",
       "      <td>Planning for Growth</td>\n",
       "      <td>Planning for Growth</td>\n",
       "    </tr>\n",
       "    <tr>\n",
       "      <th>31</th>\n",
       "      <td>Managing Money</td>\n",
       "      <td>Managing Money</td>\n",
       "    </tr>\n",
       "    <tr>\n",
       "      <th>18</th>\n",
       "      <td>Planning for Growth</td>\n",
       "      <td>Planning for Growth</td>\n",
       "    </tr>\n",
       "    <tr>\n",
       "      <th>28</th>\n",
       "      <td>Managing Money</td>\n",
       "      <td>Planning for Growth</td>\n",
       "    </tr>\n",
       "    <tr>\n",
       "      <th>10</th>\n",
       "      <td>Planning for Growth</td>\n",
       "      <td>Planning for Growth</td>\n",
       "    </tr>\n",
       "    <tr>\n",
       "      <th>53</th>\n",
       "      <td>Getting Customers</td>\n",
       "      <td>Getting Customers</td>\n",
       "    </tr>\n",
       "    <tr>\n",
       "      <th>4</th>\n",
       "      <td>Planning for Growth</td>\n",
       "      <td>Planning for Growth</td>\n",
       "    </tr>\n",
       "    <tr>\n",
       "      <th>12</th>\n",
       "      <td>Planning for Growth</td>\n",
       "      <td>Building Your Team</td>\n",
       "    </tr>\n",
       "    <tr>\n",
       "      <th>49</th>\n",
       "      <td>Getting Customers</td>\n",
       "      <td>Building Your Team</td>\n",
       "    </tr>\n",
       "    <tr>\n",
       "      <th>33</th>\n",
       "      <td>Managing Money</td>\n",
       "      <td>Getting Customers</td>\n",
       "    </tr>\n",
       "    <tr>\n",
       "      <th>69</th>\n",
       "      <td>Building Your Team</td>\n",
       "      <td>Building Your Team</td>\n",
       "    </tr>\n",
       "    <tr>\n",
       "      <th>35</th>\n",
       "      <td>Planning for Growth</td>\n",
       "      <td>Planning for Growth</td>\n",
       "    </tr>\n",
       "    <tr>\n",
       "      <th>70</th>\n",
       "      <td>Building Your Team</td>\n",
       "      <td>Building Your Team</td>\n",
       "    </tr>\n",
       "  </tbody>\n",
       "</table>\n",
       "</div>"
      ],
      "text/plain": [
       "           Actual Value      Predicted Value\n",
       "30       Managing Money       Managing Money\n",
       "0   Planning for Growth   Building Your Team\n",
       "22  Planning for Growth  Planning for Growth\n",
       "31       Managing Money       Managing Money\n",
       "18  Planning for Growth  Planning for Growth\n",
       "28       Managing Money  Planning for Growth\n",
       "10  Planning for Growth  Planning for Growth\n",
       "53    Getting Customers    Getting Customers\n",
       "4   Planning for Growth  Planning for Growth\n",
       "12  Planning for Growth   Building Your Team\n",
       "49    Getting Customers   Building Your Team\n",
       "33       Managing Money    Getting Customers\n",
       "69   Building Your Team   Building Your Team\n",
       "35  Planning for Growth  Planning for Growth\n",
       "70   Building Your Team   Building Your Team"
      ]
     },
     "execution_count": 33,
     "metadata": {},
     "output_type": "execute_result"
    }
   ],
   "source": [
    "# Test the classifier (article_topics version)\n",
    "docs_new = topic_test['content']\n",
    "X_new_counts = count_vect.transform(docs_new)\n",
    "X_new_tf = tf_transformer.transform(X_new_counts)\n",
    "predicted = clf.predict(X_new_tf)\n",
    "\n",
    "label_and_pred = pd.DataFrame(predicted)\n",
    "pd.concat([pd.DataFrame(predicted), topic_labels_test])\n",
    "    \n",
    "pd.DataFrame({ 'Predicted Value' : predicted, 'Actual Value': topic_labels_test})    "
   ]
  },
  {
   "cell_type": "code",
   "execution_count": 34,
   "metadata": {
    "collapsed": false,
    "scrolled": true
   },
   "outputs": [
    {
     "data": {
      "text/plain": [
       "0.66666666666666663"
      ]
     },
     "execution_count": 34,
     "metadata": {},
     "output_type": "execute_result"
    }
   ],
   "source": [
    "# clf.score(X_new_tf, topic_labels_test)  # .615\n",
    "clf.score(X_new_tf, topic_labels_test)"
   ]
  },
  {
   "cell_type": "code",
   "execution_count": null,
   "metadata": {
    "collapsed": true
   },
   "outputs": [],
   "source": []
  },
  {
   "cell_type": "markdown",
   "metadata": {},
   "source": [
    "### Try a different classifier - KNN"
   ]
  },
  {
   "cell_type": "code",
   "execution_count": 35,
   "metadata": {
    "collapsed": false
   },
   "outputs": [
    {
     "data": {
      "text/plain": [
       "0.13333333333333333"
      ]
     },
     "execution_count": 35,
     "metadata": {},
     "output_type": "execute_result"
    }
   ],
   "source": [
    "# KNN with tf only\n",
    "from sklearn.neighbors import KNeighborsClassifier\n",
    "\n",
    "count_vect = CountVectorizer(max_features = 100, # only consider the top max_features ordered by term frequency across the corpus\n",
    "                             ngram_range=(1, 3), # a , a b, a b c\n",
    "                             stop_words='english',\n",
    "                             binary=False # leave numerical values\n",
    "                            )  \n",
    "\n",
    "X_train_counts = count_vect.fit_transform(topic_train['content'])\n",
    "\n",
    "X = X_train_counts  # vectorized content\n",
    "y = topic_labels\n",
    "neigh = KNeighborsClassifier(n_neighbors=4)\n",
    "neigh.fit(X, y)\n",
    "\n",
    "X_test = tf_transformer.transform(count_vect.transform(topic_test['content']))\n",
    "y_test = topic_labels_test\n",
    "neigh.score(X_test, y_test)"
   ]
  },
  {
   "cell_type": "code",
   "execution_count": 36,
   "metadata": {
    "collapsed": false
   },
   "outputs": [
    {
     "data": {
      "text/plain": [
       "0.53333333333333333"
      ]
     },
     "execution_count": 36,
     "metadata": {},
     "output_type": "execute_result"
    }
   ],
   "source": [
    "# KNN with tf-idf\n",
    "tfidf_transformer = TfidfTransformer(use_idf=True)\n",
    "X_train_tfidf = tfidf_transformer.fit_transform(X_train_counts)\n",
    "\n",
    "X = X_train_tfidf  # vectorized content\n",
    "y = topic_labels\n",
    "neigh = KNeighborsClassifier(n_neighbors=4)\n",
    "neigh.fit(X, y)\n",
    "\n",
    "X_test = tf_transformer.transform(count_vect.transform(topic_test['content']))\n",
    "y_test = topic_labels_test\n",
    "neigh.score(X_test, y_test)"
   ]
  },
  {
   "cell_type": "markdown",
   "metadata": {},
   "source": [
    "Modifying the vectorizer helped a lot. And TF-IDF definitely helps for normalization. \n",
    "But still not great.\n",
    "\n",
    "### Cross Validation"
   ]
  },
  {
   "cell_type": "code",
   "execution_count": 37,
   "metadata": {
    "collapsed": false
   },
   "outputs": [
    {
     "name": "stdout",
     "output_type": "stream",
     "text": [
      "Scores: [ 0.55555556  0.66666667  0.77777778  0.77777778  0.75        0.75        0.625\n",
      "  0.75      ]\n",
      "Accuracy: 0.71 (+/- 0.15)\n"
     ]
    }
   ],
   "source": [
    "from sklearn.cross_validation import cross_val_score\n",
    "\n",
    "scores = cross_val_score(MultinomialNB(), X, y, cv=8)\n",
    "print \"Scores:\", scores\n",
    "print(\"Accuracy: %0.2f (+/- %0.2f)\" % (scores.mean(), scores.std() * 2))"
   ]
  },
  {
   "cell_type": "code",
   "execution_count": 38,
   "metadata": {
    "collapsed": false
   },
   "outputs": [
    {
     "name": "stdout",
     "output_type": "stream",
     "text": [
      "Scores: [ 0.76923077  0.61538462  0.54545455  0.7         0.88888889  0.77777778\n",
      "  0.88888889  0.88888889]\n",
      "Accuracy: 0.76 (+/- 0.25)\n"
     ]
    }
   ],
   "source": [
    "# Cross-val on the whole dataset \n",
    "X = count_vect.fit_transform(df['content'])\n",
    "X = tfidf_transformer.fit_transform(X)\n",
    "y = df['article_topic']\n",
    "\n",
    "scores = cross_val_score(MultinomialNB(), X, y, cv=8)\n",
    "print \"Scores:\", scores\n",
    "print(\"Accuracy: %0.2f (+/- %0.2f)\" % (scores.mean(), scores.std() * 2))"
   ]
  },
  {
   "cell_type": "code",
   "execution_count": 39,
   "metadata": {
    "collapsed": false
   },
   "outputs": [
    {
     "name": "stdout",
     "output_type": "stream",
     "text": [
      "Scores: [ 0.69230769  0.53846154  0.63636364  0.6         0.66666667  0.88888889\n",
      "  0.77777778  0.66666667]\n",
      "Accuracy: 0.68 (+/- 0.20)\n"
     ]
    }
   ],
   "source": [
    "scores = cross_val_score(KNeighborsClassifier(n_neighbors=4), X, y, cv=8)\n",
    "print \"Scores:\", scores\n",
    "print(\"Accuracy: %0.2f (+/- %0.2f)\" % (scores.mean(), scores.std() * 2))"
   ]
  },
  {
   "cell_type": "markdown",
   "metadata": {
    "collapsed": true
   },
   "source": [
    "#### Random Forest\n"
   ]
  },
  {
   "cell_type": "code",
   "execution_count": 40,
   "metadata": {
    "collapsed": false
   },
   "outputs": [
    {
     "name": "stdout",
     "output_type": "stream",
     "text": [
      "Scores: [ 0.76923077  0.30769231  0.72727273  0.6         0.66666667  0.44444444\n",
      "  0.77777778  0.88888889]\n",
      "Accuracy: 0.65 (+/- 0.36)\n"
     ]
    }
   ],
   "source": [
    "from sklearn.ensemble import RandomForestClassifier\n",
    "\n",
    "scores = cross_val_score(RandomForestClassifier(n_estimators=100), X, y, cv=8)\n",
    "print \"Scores:\", scores\n",
    "print(\"Accuracy: %0.2f (+/- %0.2f)\" % (scores.mean(), scores.std() * 2))"
   ]
  },
  {
   "cell_type": "markdown",
   "metadata": {
    "collapsed": true
   },
   "source": [
    "### Gensim\n"
   ]
  },
  {
   "cell_type": "code",
   "execution_count": 41,
   "metadata": {
    "collapsed": false
   },
   "outputs": [
    {
     "data": {
      "text/plain": [
       "{0: u'000',\n",
       " 1: u'advice',\n",
       " 2: u'alignment',\n",
       " 3: u'alignment center',\n",
       " 4: u'american',\n",
       " 5: u'american express',\n",
       " 6: u'article',\n",
       " 7: u'articles',\n",
       " 8: u'ask',\n",
       " 9: u'author',\n",
       " 10: u'based',\n",
       " 11: u'best',\n",
       " 12: u'better',\n",
       " 13: u'business',\n",
       " 14: u'business owners',\n",
       " 15: u'businesses',\n",
       " 16: u'cash',\n",
       " 17: u'center',\n",
       " 18: u'ceo',\n",
       " 19: u'companies',\n",
       " 20: u'company',\n",
       " 21: u'consider',\n",
       " 22: u'content',\n",
       " 23: u'create',\n",
       " 24: u'credit',\n",
       " 25: u'customer',\n",
       " 26: u'customers',\n",
       " 27: u'day',\n",
       " 28: u'different',\n",
       " 29: u'dont',\n",
       " 30: u'employees',\n",
       " 31: u'experience',\n",
       " 32: u'express',\n",
       " 33: u'false',\n",
       " 34: u'financial',\n",
       " 35: u'founder',\n",
       " 36: u'going',\n",
       " 37: u'good',\n",
       " 38: u'great',\n",
       " 39: u'growth',\n",
       " 40: u'health',\n",
       " 41: u'help',\n",
       " 42: u'im',\n",
       " 43: u'important',\n",
       " 44: u'information',\n",
       " 45: u'insurance',\n",
       " 46: u'just',\n",
       " 47: u'know',\n",
       " 48: u'like',\n",
       " 49: u'make',\n",
       " 50: u'market',\n",
       " 51: u'marketing',\n",
       " 52: u'media',\n",
       " 53: u'money',\n",
       " 54: u'need',\n",
       " 55: u'new',\n",
       " 56: u'open',\n",
       " 57: u'opinion',\n",
       " 58: u'owners',\n",
       " 59: u'pay',\n",
       " 60: u'people',\n",
       " 61: u'percent',\n",
       " 62: u'photo',\n",
       " 63: u'plan',\n",
       " 64: u'process',\n",
       " 65: u'product',\n",
       " 66: u'products',\n",
       " 67: u'professional',\n",
       " 68: u'pullquote',\n",
       " 69: u'pullquote showtweet',\n",
       " 70: u'pullquote showtweet false',\n",
       " 71: u'read',\n",
       " 72: u'read articles',\n",
       " 73: u'sales',\n",
       " 74: u'says',\n",
       " 75: u'self',\n",
       " 76: u'service',\n",
       " 77: u'showtweet',\n",
       " 78: u'showtweet false',\n",
       " 79: u'small',\n",
       " 80: u'small business',\n",
       " 81: u'social',\n",
       " 82: u'social media',\n",
       " 83: u'start',\n",
       " 84: u'tax',\n",
       " 85: u'team',\n",
       " 86: u'things',\n",
       " 87: u'think',\n",
       " 88: u'time',\n",
       " 89: u'twitter',\n",
       " 90: u'use',\n",
       " 91: u'using',\n",
       " 92: u'want',\n",
       " 93: u'way',\n",
       " 94: u'website',\n",
       " 95: u'work',\n",
       " 96: u'working',\n",
       " 97: u'year',\n",
       " 98: u'years',\n",
       " 99: u'youre'}"
      ]
     },
     "execution_count": 41,
     "metadata": {},
     "output_type": "execute_result"
    }
   ],
   "source": [
    "from sklearn.feature_extraction.text import CountVectorizer\n",
    "\n",
    "docs = X_train_counts\n",
    "\n",
    "# Build a mapping of numerical ID to word\n",
    "id2word = dict(enumerate(count_vect.get_feature_names()))\n",
    "id2word"
   ]
  },
  {
   "cell_type": "code",
   "execution_count": 42,
   "metadata": {
    "collapsed": true
   },
   "outputs": [],
   "source": [
    "from gensim.models.ldamodel import LdaModel\n",
    "from gensim.matutils import Sparse2Corpus\n",
    "\n",
    "# First we convert our word-matrix into gensim's format\n",
    "corpus = Sparse2Corpus(docs, documents_columns = False)\n",
    "\n",
    "# Then we fit an LDA model\n",
    "lda_model = LdaModel(corpus=corpus, id2word=id2word, num_topics=4)"
   ]
  },
  {
   "cell_type": "code",
   "execution_count": 43,
   "metadata": {
    "collapsed": false
   },
   "outputs": [
    {
     "data": {
      "text/plain": [
       "(68, 100)"
      ]
     },
     "execution_count": 43,
     "metadata": {},
     "output_type": "execute_result"
    }
   ],
   "source": [
    "docs.toarray().shape"
   ]
  },
  {
   "cell_type": "code",
   "execution_count": 44,
   "metadata": {
    "collapsed": false
   },
   "outputs": [
    {
     "data": {
      "text/plain": [
       "[(0,\n",
       "  u'0.041*credit + 0.034*better + 0.031*create + 0.030*sales + 0.030*growth + 0.027*dont + 0.022*know + 0.022*think + 0.022*money + 0.020*just'),\n",
       " (1,\n",
       "  u'0.039*better + 0.035*small + 0.031*using + 0.028*owners + 0.028*time + 0.026*company + 0.026*growth + 0.024*market + 0.024*youre + 0.023*small business'),\n",
       " (2,\n",
       "  u'0.090*better + 0.033*read articles + 0.028*think + 0.024*growth + 0.023*ceo + 0.021*work + 0.019*dont + 0.018*know + 0.018*showtweet + 0.017*owners'),\n",
       " (3,\n",
       "  u'0.085*better + 0.031*social media + 0.026*ceo + 0.025*content + 0.022*growth + 0.019*think + 0.018*read articles + 0.017*credit + 0.016*showtweet + 0.015*owners')]"
      ]
     },
     "execution_count": 44,
     "metadata": {},
     "output_type": "execute_result"
    }
   ],
   "source": [
    "lda_model.print_topics(15)"
   ]
  },
  {
   "cell_type": "code",
   "execution_count": 45,
   "metadata": {
    "collapsed": false
   },
   "outputs": [
    {
     "data": {
      "text/plain": [
       "0    The Power of Non-Linear ThinkingHeather Willem...\n",
       "1    3 Growth Strategies for Businesses With Limite...\n",
       "2    USP 101: How to Uncover Your Unique Selling Pr...\n",
       "3    8 Strategies for Big (or Small) Organizational...\n",
       "4    Lessons Learned: Four Stories From Experienced...\n",
       "Name: content, dtype: object"
      ]
     },
     "execution_count": 45,
     "metadata": {},
     "output_type": "execute_result"
    }
   ],
   "source": [
    "df.content.head()"
   ]
  },
  {
   "cell_type": "code",
   "execution_count": 46,
   "metadata": {
    "collapsed": false
   },
   "outputs": [
    {
     "data": {
      "text/plain": [
       "0     [The, Power, of, Non-Linear, ThinkingHeather, ...\n",
       "1     [3, Growth, Strategies, for, Businesses, With,...\n",
       "2     [USP, 101:, How, to, Uncover, Your, Unique, Se...\n",
       "3     [8, Strategies, for, Big, (or, Small), Organiz...\n",
       "4     [Lessons, Learned:, Four, Stories, From, Exper...\n",
       "5     [A, Fitness, Entrepreneur, Is, Put, to, the, T...\n",
       "6     [A, Day, in, the, Life:, A, Hungry, Serial, En...\n",
       "7     [Can, the, Kano, Model, Help, Your, Company, S...\n",
       "8     [Featured, Member:, Brendan, Stewart,, co-foun...\n",
       "9     [How, an, Eye, for, Design, Helped, This, Skin...\n",
       "10    [One, Womans, Journey, From, Finance, to, Full...\n",
       "11    [5, Ways, to, Help, Cut, Costs, While, Adding,...\n",
       "12    [Could, Franchising, Help, Scale, Your, Busine...\n",
       "13    [Is, Your, Business, Prepared, for, a, Natural...\n",
       "14    [8, Efficiency, Lessons, Business, Owners, Can...\n",
       "15    [The, Role, Business, Operations, Can, Have, i...\n",
       "16    [Economic, Ups, and, Downs:, How, to, Help, Pr...\n",
       "17    [Estate, Planning:, What, It, Takes, to, Trans...\n",
       "18    [Growing, Your, Business:, 7, Questions, to, A...\n",
       "19    [How, Big, Data, Can, Help, Small, Businesses,...\n",
       "20    [Easy, Listening:, How, Grado, Labs, Built, a,...\n",
       "21    [A, Better, College, Sweater:, How, Hillflint,...\n",
       "22    [A, New, Spin, on, Going, Viral:, Using, Conta...\n",
       "23    [The, Importance, of, Putting, Your, Customers...\n",
       "24    [How, Veterans, Can, Play, a, Vital, Role, in,...\n",
       "25    [Why, Market, Timing, Is, Everything, for, Suc...\n",
       "26    [Is, It, Time, to, Hire, a, CEO?Julie, Bawden,...\n",
       "27    [How, I, Make, Saving, Money, Easier, as, an, ...\n",
       "28    [How, to, Help, Keep, Your, Cash, Flow, Flowin...\n",
       "29    [Featured, Member:, Livias, Seasonings, Kyle, ...\n",
       "                            ...                        \n",
       "53    [How, E-Commerce, Sites, and, Storefronts, Ali...\n",
       "54    [5, Ways, to, Help, Your, Business, Inspire, C...\n",
       "55    [How, One, Farm, Created, a, Michelin-Grade, I...\n",
       "56    [How, Facebook, Marketing, May, Help, You, Rea...\n",
       "57    [5, Digital, Marketing, Strategies, That, Can,...\n",
       "58    [What, You, Need, to, Know, About, Running, a,...\n",
       "59    [5, Ways, to, Help, Establish, Yourself, as, a...\n",
       "60    [From, Customers, to, Community:, How, 3, Entr...\n",
       "61    [3, Twitter, Marketing, Practices, for, Growin...\n",
       "62    [Neal, Schaffer, on, How, to, Help, Take, Your...\n",
       "63    [Featured, Member:, Wonder, Curl, Owner, Scarl...\n",
       "64    [Featured, Member:, Workfrom, CEO, Darren, Buc...\n",
       "65    [How, to, Maintain, a, Healthy, Lifestyle, On,...\n",
       "66    [Recruiting, New, Employees, During, the, Holi...\n",
       "67    [9, Best, Practices, to, Help, Develop, a, Top...\n",
       "68    [Skip, the, Formalities:, Turn, Interviews, In...\n",
       "69    [Office, Etiquette:, How, to, Handle, Employee...\n",
       "70    [From, Elected, Official, to, Government, Cons...\n",
       "71    [Whats, the, Glue, that, Holds, Your, Team, Me...\n",
       "72    [Should, You, Look, Into, Self-Insuring, Emplo...\n",
       "73    [10, Savvy, Hiring, Process, Insights, for, Bu...\n",
       "74    [What, Steps, Can, You, Take, to, Help, Protec...\n",
       "75    [Should, Your, Company, Hire, a, Chief, Digita...\n",
       "76    [Health, Insurance:, Should, You, Consider, Se...\n",
       "77    [6, Steps, to, Help, Slow, Employees, Work, Fa...\n",
       "78    [Raising, Your, Voice:, 5, Tips, from, Women, ...\n",
       "79    [12, Resources, to, Help, Support, Veteran, En...\n",
       "80    [Office, Etiquette:, How, to, Handle, Employee...\n",
       "81    [5, Tips, to, Help, Overcome, Impostor, Syndro...\n",
       "82    [Using, Time, and, Timing, as, Business, Power...\n",
       "Name: content, dtype: object"
      ]
     },
     "execution_count": 46,
     "metadata": {},
     "output_type": "execute_result"
    }
   ],
   "source": [
    "from gensim.models.word2vec import Word2Vec\n",
    "text = df.content.dropna().map(lambda x: x.split())\n",
    "text"
   ]
  },
  {
   "cell_type": "code",
   "execution_count": 47,
   "metadata": {
    "collapsed": false
   },
   "outputs": [
    {
     "data": {
      "text/plain": [
       "[(u'grab', -0.9422287940979004),\n",
       " (u'ship', -0.9428969621658325),\n",
       " (u'conditions', -0.9687459468841553),\n",
       " (u'boat', -0.9695830941200256),\n",
       " (u'urgent', -0.9714868664741516),\n",
       " (u'table', -0.9849222898483276),\n",
       " (u'outsource', -0.9852632284164429),\n",
       " (u'bookkeeper', -0.9875015020370483),\n",
       " (u'same.', -0.9883310794830322),\n",
       " (u'OPEN).', -0.989073634147644)]"
      ]
     },
     "execution_count": 47,
     "metadata": {},
     "output_type": "execute_result"
    }
   ],
   "source": [
    "from gensim.models import Word2Vec\n",
    "model = Word2Vec(text, size=100, window=5, min_count=5, workers=4)\n",
    "model.most_similar(negative=['scale', 'grow'])"
   ]
  },
  {
   "cell_type": "code",
   "execution_count": 48,
   "metadata": {
    "collapsed": false
   },
   "outputs": [
    {
     "data": {
      "text/plain": [
       "[(u'Twitter', 0.999714195728302),\n",
       " (u'health', 0.9997061491012573),\n",
       " (u'As', 0.9997035264968872),\n",
       " (u'customer', 0.9997031688690186),\n",
       " (u'out', 0.9997012615203857),\n",
       " (u'from', 0.9996970295906067),\n",
       " (u'through', 0.9996969699859619),\n",
       " (u'That', 0.9996954202651978),\n",
       " (u'companys', 0.9996942281723022),\n",
       " (u'is', 0.9996925592422485)]"
      ]
     },
     "execution_count": 48,
     "metadata": {},
     "output_type": "execute_result"
    }
   ],
   "source": [
    "model.most_similar(positive=['scale', 'grow'])"
   ]
  },
  {
   "cell_type": "code",
   "execution_count": 49,
   "metadata": {
    "collapsed": false
   },
   "outputs": [
    {
     "data": {
      "text/plain": [
       "u'2016-08-16T22:30:03+00:00'"
      ]
     },
     "execution_count": 49,
     "metadata": {},
     "output_type": "execute_result"
    }
   ],
   "source": [
    "df.article_pubtime.min()"
   ]
  },
  {
   "cell_type": "code",
   "execution_count": 50,
   "metadata": {
    "collapsed": false
   },
   "outputs": [
    {
     "data": {
      "text/plain": [
       "u'2016-11-11T22:30:47+00:00'"
      ]
     },
     "execution_count": 50,
     "metadata": {},
     "output_type": "execute_result"
    }
   ],
   "source": [
    "df.article_pubtime.max()"
   ]
  },
  {
   "cell_type": "code",
   "execution_count": 51,
   "metadata": {
    "collapsed": false
   },
   "outputs": [
    {
     "data": {
      "text/html": [
       "<div>\n",
       "<table border=\"1\" class=\"dataframe\">\n",
       "  <thead>\n",
       "    <tr style=\"text-align: right;\">\n",
       "      <th></th>\n",
       "      <th>article_description</th>\n",
       "      <th>article_pubtime</th>\n",
       "      <th>article_section</th>\n",
       "      <th>article_subtopic</th>\n",
       "      <th>article_tags</th>\n",
       "      <th>article_topic</th>\n",
       "      <th>author_name</th>\n",
       "      <th>content</th>\n",
       "      <th>title</th>\n",
       "    </tr>\n",
       "  </thead>\n",
       "  <tbody>\n",
       "    <tr>\n",
       "      <th>0</th>\n",
       "      <td>If you're having trouble trying to be more inn...</td>\n",
       "      <td>2016-11-11T20:00:15+00:00</td>\n",
       "      <td>Planning for Growth</td>\n",
       "      <td>Growth Opportunities</td>\n",
       "      <td>[Growth Opportunities, Innovation, Personal Pr...</td>\n",
       "      <td>Planning for Growth</td>\n",
       "      <td>Heather Willems</td>\n",
       "      <td>The Power of Non-Linear ThinkingHeather Willem...</td>\n",
       "      <td>The Power of Non-Linear Thinking</td>\n",
       "    </tr>\n",
       "    <tr>\n",
       "      <th>1</th>\n",
       "      <td>Huge growth may be possible for businesses of ...</td>\n",
       "      <td>2016-11-09T22:30:34+00:00</td>\n",
       "      <td>Planning for Growth</td>\n",
       "      <td>Operations</td>\n",
       "      <td>[Business Expansion, Business Plan, Cash Flow,...</td>\n",
       "      <td>Planning for Growth</td>\n",
       "      <td>Andrew J. Sherman</td>\n",
       "      <td>3 Growth Strategies for Businesses With Limite...</td>\n",
       "      <td>3 Growth Strategies for Businesses With Limite...</td>\n",
       "    </tr>\n",
       "    <tr>\n",
       "      <th>2</th>\n",
       "      <td>What sets your business apart from the competi...</td>\n",
       "      <td>2016-11-11T22:30:47+00:00</td>\n",
       "      <td>Getting Customers</td>\n",
       "      <td>Marketing &amp; Sales</td>\n",
       "      <td>[Advertising, Brainstorming, Branding, Busines...</td>\n",
       "      <td>Getting Customers</td>\n",
       "      <td>Rieva Lesonsky</td>\n",
       "      <td>USP 101: How to Uncover Your Unique Selling Pr...</td>\n",
       "      <td>USP 101: How to Uncover Your Unique Selling Pr...</td>\n",
       "    </tr>\n",
       "    <tr>\n",
       "      <th>3</th>\n",
       "      <td>Organizational changes are rarely fun or easy,...</td>\n",
       "      <td>2016-11-03T23:30:02+00:00</td>\n",
       "      <td>Building Your Team</td>\n",
       "      <td>Company Culture</td>\n",
       "      <td>[Building Your Team, Business Expansion, Busin...</td>\n",
       "      <td>Building Your Team</td>\n",
       "      <td>David Niu</td>\n",
       "      <td>8 Strategies for Big (or Small) Organizational...</td>\n",
       "      <td>8 Strategies for Big (or Small) Organizational...</td>\n",
       "    </tr>\n",
       "    <tr>\n",
       "      <th>4</th>\n",
       "      <td>When expanding your business, exporting to int...</td>\n",
       "      <td>2016-10-27T19:00:39+00:00</td>\n",
       "      <td>Planning for Growth</td>\n",
       "      <td>Growth Opportunities</td>\n",
       "      <td>[Growth Opportunities, Importing &amp; Exporting, ...</td>\n",
       "      <td>Planning for Growth</td>\n",
       "      <td>Greg Sandler</td>\n",
       "      <td>Lessons Learned: Four Stories From Experienced...</td>\n",
       "      <td>Lessons Learned: Four Stories From Experienced...</td>\n",
       "    </tr>\n",
       "  </tbody>\n",
       "</table>\n",
       "</div>"
      ],
      "text/plain": [
       "                                 article_description  \\\n",
       "0  If you're having trouble trying to be more inn...   \n",
       "1  Huge growth may be possible for businesses of ...   \n",
       "2  What sets your business apart from the competi...   \n",
       "3  Organizational changes are rarely fun or easy,...   \n",
       "4  When expanding your business, exporting to int...   \n",
       "\n",
       "             article_pubtime      article_section      article_subtopic  \\\n",
       "0  2016-11-11T20:00:15+00:00  Planning for Growth  Growth Opportunities   \n",
       "1  2016-11-09T22:30:34+00:00  Planning for Growth            Operations   \n",
       "2  2016-11-11T22:30:47+00:00    Getting Customers     Marketing & Sales   \n",
       "3  2016-11-03T23:30:02+00:00   Building Your Team       Company Culture   \n",
       "4  2016-10-27T19:00:39+00:00  Planning for Growth  Growth Opportunities   \n",
       "\n",
       "                                        article_tags        article_topic  \\\n",
       "0  [Growth Opportunities, Innovation, Personal Pr...  Planning for Growth   \n",
       "1  [Business Expansion, Business Plan, Cash Flow,...  Planning for Growth   \n",
       "2  [Advertising, Brainstorming, Branding, Busines...    Getting Customers   \n",
       "3  [Building Your Team, Business Expansion, Busin...   Building Your Team   \n",
       "4  [Growth Opportunities, Importing & Exporting, ...  Planning for Growth   \n",
       "\n",
       "         author_name                                            content  \\\n",
       "0    Heather Willems  The Power of Non-Linear ThinkingHeather Willem...   \n",
       "1  Andrew J. Sherman  3 Growth Strategies for Businesses With Limite...   \n",
       "2     Rieva Lesonsky  USP 101: How to Uncover Your Unique Selling Pr...   \n",
       "3          David Niu  8 Strategies for Big (or Small) Organizational...   \n",
       "4       Greg Sandler  Lessons Learned: Four Stories From Experienced...   \n",
       "\n",
       "                                               title  \n",
       "0                   The Power of Non-Linear Thinking  \n",
       "1  3 Growth Strategies for Businesses With Limite...  \n",
       "2  USP 101: How to Uncover Your Unique Selling Pr...  \n",
       "3  8 Strategies for Big (or Small) Organizational...  \n",
       "4  Lessons Learned: Four Stories From Experienced...  "
      ]
     },
     "execution_count": 51,
     "metadata": {},
     "output_type": "execute_result"
    }
   ],
   "source": [
    "df.head()"
   ]
  },
  {
   "cell_type": "code",
   "execution_count": 53,
   "metadata": {
    "collapsed": false
   },
   "outputs": [
    {
     "name": "stdout",
     "output_type": "stream",
     "text": [
      "LR: 0.581944 (0.203315)\n",
      "LDA: 0.577778 (0.159595)\n",
      "KNN: 0.615278 (0.116377)\n",
      "CART: 0.462500 (0.172362)\n",
      "NB: 0.563889 (0.163653)\n",
      "SVM: 0.130556 (0.245342)\n"
     ]
    },
    {
     "data": {
      "image/png": "[encoded data removed]",
      "text/plain": [
       "<matplotlib.figure.Figure at 0x1217cc590>"
      ]
     },
     "metadata": {},
     "output_type": "display_data"
    }
   ],
   "source": [
    "'''From http://machinelearningmastery.com/compare-machine-learning-algorithms-python-scikit-learn/'''\n",
    "import matplotlib.pyplot as plt\n",
    "from sklearn import cross_validation\n",
    "from sklearn.linear_model import LogisticRegression\n",
    "from sklearn.tree import DecisionTreeClassifier\n",
    "from sklearn.neighbors import KNeighborsClassifier\n",
    "from sklearn.discriminant_analysis import LinearDiscriminantAnalysis\n",
    "from sklearn.naive_bayes import GaussianNB\n",
    "from sklearn.svm import SVC\n",
    "# load dataset\n",
    "X = X\n",
    "Y = y\n",
    "# prepare configuration for cross validation test harness\n",
    "num_folds = 10\n",
    "num_instances = X.shape[0]\n",
    "seed = 7\n",
    "# prepare models\n",
    "models = []\n",
    "models.append(('LR', LogisticRegression()))\n",
    "models.append(('LDA', LinearDiscriminantAnalysis()))\n",
    "models.append(('KNN', KNeighborsClassifier()))\n",
    "models.append(('CART', DecisionTreeClassifier()))\n",
    "models.append(('NB', GaussianNB()))\n",
    "models.append(('SVM', SVC()))\n",
    "# evaluate each model in turn\n",
    "results = []\n",
    "names = []\n",
    "scoring = 'accuracy'\n",
    "for name, model in models:\n",
    "    kfold = cross_validation.KFold(n=num_instances, n_folds=num_folds, random_state=seed)\n",
    "    cv_results = cross_validation.cross_val_score(model, X.toarray(), Y, cv=kfold, scoring=scoring)\n",
    "    results.append(cv_results)\n",
    "    names.append(name)\n",
    "    msg = \"%s: %f (%f)\" % (name, cv_results.mean(), cv_results.std())\n",
    "    print(msg)\n",
    "# boxplot algorithm comparison\n",
    "fig = plt.figure()\n",
    "fig.suptitle('Algorithm Comparison')\n",
    "ax = fig.add_subplot(111)\n",
    "plt.boxplot(results)\n",
    "ax.set_xticklabels(names)\n",
    "ax.set(ylabel='accuracy')\n",
    "plt.show()"
   ]
  },
  {
   "cell_type": "code",
   "execution_count": 54,
   "metadata": {
    "collapsed": false
   },
   "outputs": [
    {
     "ename": "ValueError",
     "evalue": "Incompatible dimension for X and Y matrices: X.shape[1] == 2 while Y.shape[1] == 100",
     "output_type": "error",
     "traceback": [
      "\u001b[0;31m---------------------------------------------------------------------------\u001b[0m",
      "\u001b[0;31mValueError\u001b[0m                                Traceback (most recent call last)",
      "\u001b[0;32m<ipython-input-54-caec07e1c9eb>\u001b[0m in \u001b[0;36m<module>\u001b[0;34m()\u001b[0m\n\u001b[1;32m     29\u001b[0m     xx, yy = np.meshgrid(np.arange(x_min, x_max, h),\n\u001b[1;32m     30\u001b[0m                          np.arange(y_min, y_max, h))\n\u001b[0;32m---> 31\u001b[0;31m     \u001b[0mZ\u001b[0m \u001b[0;34m=\u001b[0m \u001b[0mclf\u001b[0m\u001b[0;34m.\u001b[0m\u001b[0mpredict\u001b[0m\u001b[0;34m(\u001b[0m\u001b[0mnp\u001b[0m\u001b[0;34m.\u001b[0m\u001b[0mc_\u001b[0m\u001b[0;34m[\u001b[0m\u001b[0mxx\u001b[0m\u001b[0;34m.\u001b[0m\u001b[0mravel\u001b[0m\u001b[0;34m(\u001b[0m\u001b[0;34m)\u001b[0m\u001b[0;34m,\u001b[0m \u001b[0myy\u001b[0m\u001b[0;34m.\u001b[0m\u001b[0mravel\u001b[0m\u001b[0;34m(\u001b[0m\u001b[0;34m)\u001b[0m\u001b[0;34m]\u001b[0m\u001b[0;34m)\u001b[0m\u001b[0;34m\u001b[0m\u001b[0m\n\u001b[0m\u001b[1;32m     32\u001b[0m \u001b[0;34m\u001b[0m\u001b[0m\n\u001b[1;32m     33\u001b[0m     \u001b[0;31m# Put the result into a color plot\u001b[0m\u001b[0;34m\u001b[0m\u001b[0;34m\u001b[0m\u001b[0m\n",
      "\u001b[0;32m/Users/sedkin/anaconda/lib/python2.7/site-packages/sklearn/neighbors/classification.pyc\u001b[0m in \u001b[0;36mpredict\u001b[0;34m(self, X)\u001b[0m\n\u001b[1;32m    145\u001b[0m         \u001b[0mX\u001b[0m \u001b[0;34m=\u001b[0m \u001b[0mcheck_array\u001b[0m\u001b[0;34m(\u001b[0m\u001b[0mX\u001b[0m\u001b[0;34m,\u001b[0m \u001b[0maccept_sparse\u001b[0m\u001b[0;34m=\u001b[0m\u001b[0;34m'csr'\u001b[0m\u001b[0;34m)\u001b[0m\u001b[0;34m\u001b[0m\u001b[0m\n\u001b[1;32m    146\u001b[0m \u001b[0;34m\u001b[0m\u001b[0m\n\u001b[0;32m--> 147\u001b[0;31m         \u001b[0mneigh_dist\u001b[0m\u001b[0;34m,\u001b[0m \u001b[0mneigh_ind\u001b[0m \u001b[0;34m=\u001b[0m \u001b[0mself\u001b[0m\u001b[0;34m.\u001b[0m\u001b[0mkneighbors\u001b[0m\u001b[0;34m(\u001b[0m\u001b[0mX\u001b[0m\u001b[0;34m)\u001b[0m\u001b[0;34m\u001b[0m\u001b[0m\n\u001b[0m\u001b[1;32m    148\u001b[0m \u001b[0;34m\u001b[0m\u001b[0m\n\u001b[1;32m    149\u001b[0m         \u001b[0mclasses_\u001b[0m \u001b[0;34m=\u001b[0m \u001b[0mself\u001b[0m\u001b[0;34m.\u001b[0m\u001b[0mclasses_\u001b[0m\u001b[0;34m\u001b[0m\u001b[0m\n",
      "\u001b[0;32m/Users/sedkin/anaconda/lib/python2.7/site-packages/sklearn/neighbors/base.pyc\u001b[0m in \u001b[0;36mkneighbors\u001b[0;34m(self, X, n_neighbors, return_distance)\u001b[0m\n\u001b[1;32m    369\u001b[0m             \u001b[0;32mif\u001b[0m \u001b[0mself\u001b[0m\u001b[0;34m.\u001b[0m\u001b[0meffective_metric_\u001b[0m \u001b[0;34m==\u001b[0m \u001b[0;34m'euclidean'\u001b[0m\u001b[0;34m:\u001b[0m\u001b[0;34m\u001b[0m\u001b[0m\n\u001b[1;32m    370\u001b[0m                 dist = pairwise_distances(X, self._fit_X, 'euclidean',\n\u001b[0;32m--> 371\u001b[0;31m                                           n_jobs=n_jobs, squared=True)\n\u001b[0m\u001b[1;32m    372\u001b[0m             \u001b[0;32melse\u001b[0m\u001b[0;34m:\u001b[0m\u001b[0;34m\u001b[0m\u001b[0m\n\u001b[1;32m    373\u001b[0m                 dist = pairwise_distances(\n",
      "\u001b[0;32m/Users/sedkin/anaconda/lib/python2.7/site-packages/sklearn/metrics/pairwise.pyc\u001b[0m in \u001b[0;36mpairwise_distances\u001b[0;34m(X, Y, metric, n_jobs, **kwds)\u001b[0m\n\u001b[1;32m   1205\u001b[0m         \u001b[0mfunc\u001b[0m \u001b[0;34m=\u001b[0m \u001b[0mpartial\u001b[0m\u001b[0;34m(\u001b[0m\u001b[0mdistance\u001b[0m\u001b[0;34m.\u001b[0m\u001b[0mcdist\u001b[0m\u001b[0;34m,\u001b[0m \u001b[0mmetric\u001b[0m\u001b[0;34m=\u001b[0m\u001b[0mmetric\u001b[0m\u001b[0;34m,\u001b[0m \u001b[0;34m**\u001b[0m\u001b[0mkwds\u001b[0m\u001b[0;34m)\u001b[0m\u001b[0;34m\u001b[0m\u001b[0m\n\u001b[1;32m   1206\u001b[0m \u001b[0;34m\u001b[0m\u001b[0m\n\u001b[0;32m-> 1207\u001b[0;31m     \u001b[0;32mreturn\u001b[0m \u001b[0m_parallel_pairwise\u001b[0m\u001b[0;34m(\u001b[0m\u001b[0mX\u001b[0m\u001b[0;34m,\u001b[0m \u001b[0mY\u001b[0m\u001b[0;34m,\u001b[0m \u001b[0mfunc\u001b[0m\u001b[0;34m,\u001b[0m \u001b[0mn_jobs\u001b[0m\u001b[0;34m,\u001b[0m \u001b[0;34m**\u001b[0m\u001b[0mkwds\u001b[0m\u001b[0;34m)\u001b[0m\u001b[0;34m\u001b[0m\u001b[0m\n\u001b[0m\u001b[1;32m   1208\u001b[0m \u001b[0;34m\u001b[0m\u001b[0m\n\u001b[1;32m   1209\u001b[0m \u001b[0;34m\u001b[0m\u001b[0m\n",
      "\u001b[0;32m/Users/sedkin/anaconda/lib/python2.7/site-packages/sklearn/metrics/pairwise.pyc\u001b[0m in \u001b[0;36m_parallel_pairwise\u001b[0;34m(X, Y, func, n_jobs, **kwds)\u001b[0m\n\u001b[1;32m   1052\u001b[0m     \u001b[0;32mif\u001b[0m \u001b[0mn_jobs\u001b[0m \u001b[0;34m==\u001b[0m \u001b[0;36m1\u001b[0m\u001b[0;34m:\u001b[0m\u001b[0;34m\u001b[0m\u001b[0m\n\u001b[1;32m   1053\u001b[0m         \u001b[0;31m# Special case to avoid picklability checks in delayed\u001b[0m\u001b[0;34m\u001b[0m\u001b[0;34m\u001b[0m\u001b[0m\n\u001b[0;32m-> 1054\u001b[0;31m         \u001b[0;32mreturn\u001b[0m \u001b[0mfunc\u001b[0m\u001b[0;34m(\u001b[0m\u001b[0mX\u001b[0m\u001b[0;34m,\u001b[0m \u001b[0mY\u001b[0m\u001b[0;34m,\u001b[0m \u001b[0;34m**\u001b[0m\u001b[0mkwds\u001b[0m\u001b[0;34m)\u001b[0m\u001b[0;34m\u001b[0m\u001b[0m\n\u001b[0m\u001b[1;32m   1055\u001b[0m \u001b[0;34m\u001b[0m\u001b[0m\n\u001b[1;32m   1056\u001b[0m     \u001b[0;31m# TODO: in some cases, backend='threading' may be appropriate\u001b[0m\u001b[0;34m\u001b[0m\u001b[0;34m\u001b[0m\u001b[0m\n",
      "\u001b[0;32m/Users/sedkin/anaconda/lib/python2.7/site-packages/sklearn/metrics/pairwise.pyc\u001b[0m in \u001b[0;36meuclidean_distances\u001b[0;34m(X, Y, Y_norm_squared, squared, X_norm_squared)\u001b[0m\n\u001b[1;32m    206\u001b[0m     \u001b[0mpaired_distances\u001b[0m \u001b[0;34m:\u001b[0m \u001b[0mdistances\u001b[0m \u001b[0mbetweens\u001b[0m \u001b[0mpairs\u001b[0m \u001b[0mof\u001b[0m \u001b[0melements\u001b[0m \u001b[0mof\u001b[0m \u001b[0mX\u001b[0m \u001b[0;32mand\u001b[0m \u001b[0mY\u001b[0m\u001b[0;34m.\u001b[0m\u001b[0;34m\u001b[0m\u001b[0m\n\u001b[1;32m    207\u001b[0m     \"\"\"\n\u001b[0;32m--> 208\u001b[0;31m     \u001b[0mX\u001b[0m\u001b[0;34m,\u001b[0m \u001b[0mY\u001b[0m \u001b[0;34m=\u001b[0m \u001b[0mcheck_pairwise_arrays\u001b[0m\u001b[0;34m(\u001b[0m\u001b[0mX\u001b[0m\u001b[0;34m,\u001b[0m \u001b[0mY\u001b[0m\u001b[0;34m)\u001b[0m\u001b[0;34m\u001b[0m\u001b[0m\n\u001b[0m\u001b[1;32m    209\u001b[0m \u001b[0;34m\u001b[0m\u001b[0m\n\u001b[1;32m    210\u001b[0m     \u001b[0;32mif\u001b[0m \u001b[0mX_norm_squared\u001b[0m \u001b[0;32mis\u001b[0m \u001b[0;32mnot\u001b[0m \u001b[0mNone\u001b[0m\u001b[0;34m:\u001b[0m\u001b[0;34m\u001b[0m\u001b[0m\n",
      "\u001b[0;32m/Users/sedkin/anaconda/lib/python2.7/site-packages/sklearn/metrics/pairwise.pyc\u001b[0m in \u001b[0;36mcheck_pairwise_arrays\u001b[0;34m(X, Y, precomputed)\u001b[0m\n\u001b[1;32m    106\u001b[0m         raise ValueError(\"Incompatible dimension for X and Y matrices: \"\n\u001b[1;32m    107\u001b[0m                          \"X.shape[1] == %d while Y.shape[1] == %d\" % (\n\u001b[0;32m--> 108\u001b[0;31m                              X.shape[1], Y.shape[1]))\n\u001b[0m\u001b[1;32m    109\u001b[0m \u001b[0;34m\u001b[0m\u001b[0m\n\u001b[1;32m    110\u001b[0m     \u001b[0;32mreturn\u001b[0m \u001b[0mX\u001b[0m\u001b[0;34m,\u001b[0m \u001b[0mY\u001b[0m\u001b[0;34m\u001b[0m\u001b[0m\n",
      "\u001b[0;31mValueError\u001b[0m: Incompatible dimension for X and Y matrices: X.shape[1] == 2 while Y.shape[1] == 100"
     ]
    }
   ],
   "source": [
    "import numpy as np\n",
    "import matplotlib.pyplot as plt\n",
    "from matplotlib.colors import ListedColormap\n",
    "from sklearn import neighbors, datasets\n",
    "\n",
    "n_neighbors = 15\n",
    "\n",
    "# import some data to play with\n",
    "# iris = datasets.load_iris()\n",
    "# X = iris.data[:, :2]  # we only take the first two features. We could\n",
    "                      # avoid this ugly slicing by using a two-dim dataset\n",
    "# y = iris.target\n",
    "\n",
    "h = .02  # step size in the mesh\n",
    "\n",
    "# Create color maps\n",
    "cmap_light = ListedColormap(['#FFAAAA', '#AAFFAA', '#AAAAFF'])\n",
    "cmap_bold = ListedColormap(['#FF0000', '#00FF00', '#0000FF'])\n",
    "\n",
    "for weights in ['uniform', 'distance']:\n",
    "    # we create an instance of Neighbours Classifier and fit the data.\n",
    "    clf = neighbors.KNeighborsClassifier(n_neighbors, weights=weights)\n",
    "    clf.fit(X, y)\n",
    "\n",
    "    # Plot the decision boundary. For that, we will assign a color to each\n",
    "    # point in the mesh [x_min, x_max]x[y_min, y_max].\n",
    "    x_min, x_max = X[:, 0].min() - 1, X[:, 0].max() + 1\n",
    "    y_min, y_max = X[:, 1].min() - 1, X[:, 1].max() + 1\n",
    "    xx, yy = np.meshgrid(np.arange(x_min, x_max, h),\n",
    "                         np.arange(y_min, y_max, h))\n",
    "    Z = clf.predict(np.c_[xx.ravel(), yy.ravel()])\n",
    "\n",
    "    # Put the result into a color plot\n",
    "    Z = Z.reshape(xx.shape)\n",
    "    plt.figure()\n",
    "    plt.pcolormesh(xx, yy, Z, cmap=cmap_light)\n",
    "\n",
    "    # Plot also the training points\n",
    "    plt.scatter(X[:, 0], X[:, 1], c=y, cmap=cmap_bold)\n",
    "    plt.xlim(xx.min(), xx.max())\n",
    "    plt.ylim(yy.min(), yy.max())\n",
    "    plt.title(\"3-Class classification (k = %i, weights = '%s')\"\n",
    "              % (n_neighbors, weights))\n",
    "\n",
    "plt.show()"
   ]
  },
  {
   "cell_type": "code",
   "execution_count": null,
   "metadata": {
    "collapsed": true
   },
   "outputs": [],
   "source": []
  },
  {
   "cell_type": "code",
   "execution_count": null,
   "metadata": {
    "collapsed": true
   },
   "outputs": [],
   "source": []
  },
  {
   "cell_type": "code",
   "execution_count": null,
   "metadata": {
    "collapsed": true
   },
   "outputs": [],
   "source": []
  }
 ],
 "metadata": {
  "anaconda-cloud": {},
  "kernelspec": {
   "display_name": "Python [Root]",
   "language": "python",
   "name": "Python [Root]"
  },
  "language_info": {
   "codemirror_mode": {
    "name": "ipython",
    "version": 2
   },
   "file_extension": ".py",
   "mimetype": "text/x-python",
   "name": "python",
   "nbconvert_exporter": "python",
   "pygments_lexer": "ipython2",
   "version": "2.7.12"
  }
 },
 "nbformat": 4,
 "nbformat_minor": 0
}
