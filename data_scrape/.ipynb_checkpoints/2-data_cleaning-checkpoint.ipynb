{
 "cells": [
  {
   "cell_type": "markdown",
   "metadata": {},
   "source": [
    "# 2. Data Cleaning"
   ]
  },
  {
   "cell_type": "code",
   "execution_count": 158,
   "metadata": {
    "collapsed": true
   },
   "outputs": [],
   "source": [
    "from __future__ import unicode_literals\n",
    "import numpy as np\n",
    "import pandas as pd\n",
    "from bs4 import BeautifulSoup"
   ]
  },
  {
   "cell_type": "code",
   "execution_count": 159,
   "metadata": {
    "collapsed": false
   },
   "outputs": [
    {
     "data": {
      "text/html": [
       "<div>\n",
       "<table border=\"1\" class=\"dataframe\">\n",
       "  <thead>\n",
       "    <tr style=\"text-align: right;\">\n",
       "      <th></th>\n",
       "      <th>article_description</th>\n",
       "      <th>article_pubtime</th>\n",
       "      <th>article_section</th>\n",
       "      <th>article_subtopic</th>\n",
       "      <th>article_tags</th>\n",
       "      <th>article_topic</th>\n",
       "      <th>author_name</th>\n",
       "      <th>content</th>\n",
       "      <th>title</th>\n",
       "    </tr>\n",
       "  </thead>\n",
       "  <tbody>\n",
       "    <tr>\n",
       "      <th>0</th>\n",
       "      <td>If you're having trouble trying to be more inn...</td>\n",
       "      <td>2016-11-11T20:00:15+00:00</td>\n",
       "      <td>Planning for Growth</td>\n",
       "      <td>Growth Opportunities</td>\n",
       "      <td>[Growth Opportunities, Innovation, Personal Pr...</td>\n",
       "      <td>Planning for Growth</td>\n",
       "      <td>Heather Willems</td>\n",
       "      <td>&lt;noscript id=\"seo-output\"&gt;\\n&lt;h1 id=\"title\"&gt;The...</td>\n",
       "      <td>The Power of Non-Linear Thinking</td>\n",
       "    </tr>\n",
       "    <tr>\n",
       "      <th>1</th>\n",
       "      <td>Huge growth may be possible for businesses of ...</td>\n",
       "      <td>2016-11-09T22:30:34+00:00</td>\n",
       "      <td>Planning for Growth</td>\n",
       "      <td>Operations</td>\n",
       "      <td>[Business Expansion, Business Plan, Cash Flow,...</td>\n",
       "      <td>Planning for Growth</td>\n",
       "      <td>Andrew J. Sherman</td>\n",
       "      <td>&lt;noscript id=\"seo-output\"&gt;\\n&lt;h1 id=\"title\"&gt;3 G...</td>\n",
       "      <td>3 Growth Strategies for Businesses With Limite...</td>\n",
       "    </tr>\n",
       "    <tr>\n",
       "      <th>2</th>\n",
       "      <td>What sets your business apart from the competi...</td>\n",
       "      <td>2016-11-11T22:30:47+00:00</td>\n",
       "      <td>Getting Customers</td>\n",
       "      <td>Marketing &amp; Sales</td>\n",
       "      <td>[Advertising, Brainstorming, Branding, Busines...</td>\n",
       "      <td>Getting Customers</td>\n",
       "      <td>Rieva Lesonsky</td>\n",
       "      <td>&lt;noscript id=\"seo-output\"&gt;\\n&lt;h1 id=\"title\"&gt;USP...</td>\n",
       "      <td>USP 101: How to Uncover Your Unique Selling Pr...</td>\n",
       "    </tr>\n",
       "    <tr>\n",
       "      <th>5</th>\n",
       "      <td>Organizational changes are rarely fun or easy,...</td>\n",
       "      <td>2016-11-03T23:30:02+00:00</td>\n",
       "      <td>Building Your Team</td>\n",
       "      <td>Company Culture</td>\n",
       "      <td>[Building Your Team, Business Expansion, Busin...</td>\n",
       "      <td>Building Your Team</td>\n",
       "      <td>David Niu</td>\n",
       "      <td>&lt;noscript id=\"seo-output\"&gt;\\n&lt;h1 id=\"title\"&gt;8 S...</td>\n",
       "      <td>8 Strategies for Big (or Small) Organizational...</td>\n",
       "    </tr>\n",
       "    <tr>\n",
       "      <th>6</th>\n",
       "      <td>When expanding your business, exporting to int...</td>\n",
       "      <td>2016-10-27T19:00:39+00:00</td>\n",
       "      <td>Planning for Growth</td>\n",
       "      <td>Growth Opportunities</td>\n",
       "      <td>[Growth Opportunities, Importing &amp; Exporting, ...</td>\n",
       "      <td>Planning for Growth</td>\n",
       "      <td>Greg Sandler</td>\n",
       "      <td>&lt;noscript id=\"seo-output\"&gt;\\n&lt;h1 id=\"title\"&gt;Les...</td>\n",
       "      <td>Lessons Learned: Four Stories From Experienced...</td>\n",
       "    </tr>\n",
       "  </tbody>\n",
       "</table>\n",
       "</div>"
      ],
      "text/plain": [
       "                                 article_description  \\\n",
       "0  If you're having trouble trying to be more inn...   \n",
       "1  Huge growth may be possible for businesses of ...   \n",
       "2  What sets your business apart from the competi...   \n",
       "5  Organizational changes are rarely fun or easy,...   \n",
       "6  When expanding your business, exporting to int...   \n",
       "\n",
       "             article_pubtime      article_section      article_subtopic  \\\n",
       "0  2016-11-11T20:00:15+00:00  Planning for Growth  Growth Opportunities   \n",
       "1  2016-11-09T22:30:34+00:00  Planning for Growth            Operations   \n",
       "2  2016-11-11T22:30:47+00:00    Getting Customers     Marketing & Sales   \n",
       "5  2016-11-03T23:30:02+00:00   Building Your Team       Company Culture   \n",
       "6  2016-10-27T19:00:39+00:00  Planning for Growth  Growth Opportunities   \n",
       "\n",
       "                                        article_tags        article_topic  \\\n",
       "0  [Growth Opportunities, Innovation, Personal Pr...  Planning for Growth   \n",
       "1  [Business Expansion, Business Plan, Cash Flow,...  Planning for Growth   \n",
       "2  [Advertising, Brainstorming, Branding, Busines...    Getting Customers   \n",
       "5  [Building Your Team, Business Expansion, Busin...   Building Your Team   \n",
       "6  [Growth Opportunities, Importing & Exporting, ...  Planning for Growth   \n",
       "\n",
       "         author_name                                            content  \\\n",
       "0    Heather Willems  <noscript id=\"seo-output\">\\n<h1 id=\"title\">The...   \n",
       "1  Andrew J. Sherman  <noscript id=\"seo-output\">\\n<h1 id=\"title\">3 G...   \n",
       "2     Rieva Lesonsky  <noscript id=\"seo-output\">\\n<h1 id=\"title\">USP...   \n",
       "5          David Niu  <noscript id=\"seo-output\">\\n<h1 id=\"title\">8 S...   \n",
       "6       Greg Sandler  <noscript id=\"seo-output\">\\n<h1 id=\"title\">Les...   \n",
       "\n",
       "                                               title  \n",
       "0                   The Power of Non-Linear Thinking  \n",
       "1  3 Growth Strategies for Businesses With Limite...  \n",
       "2  USP 101: How to Uncover Your Unique Selling Pr...  \n",
       "5  8 Strategies for Big (or Small) Organizational...  \n",
       "6  Lessons Learned: Four Stories From Experienced...  "
      ]
     },
     "execution_count": 159,
     "metadata": {},
     "output_type": "execute_result"
    }
   ],
   "source": [
    "Location = r'./article_data.csv'\n",
    "df = pd.read_csv(Location)\n",
    "df = df.drop_duplicates()\n",
    "df.head()"
   ]
  },
  {
   "cell_type": "code",
   "execution_count": 160,
   "metadata": {
    "collapsed": true
   },
   "outputs": [],
   "source": [
    "# Function to remove special characters \n",
    "def clean_text(clean_me):\n",
    "    clean_me.decode(\"utf8\").encode('ascii','ignore')\n",
    "    clean_me = BeautifulSoup(clean_me)\n",
    "    clean_me = clean_me.get_text()\n",
    "    clean_me = clean_me.replace('\\n', '')\n",
    "    clean_me = clean_me.replace('\\t', '')\n",
    "    clean_me = clean_me.replace('\\r', '')\n",
    "    clean_me = clean_me.replace(\"\\'\", '')\n",
    "    clean_me = clean_me.replace(\"\\\\\", '')\n",
    "    return clean_me.encode('ascii', 'ignore')"
   ]
  },
  {
   "cell_type": "code",
   "execution_count": 161,
   "metadata": {
    "collapsed": false
   },
   "outputs": [
    {
     "data": {
      "text/html": [
       "<div>\n",
       "<table border=\"1\" class=\"dataframe\">\n",
       "  <thead>\n",
       "    <tr style=\"text-align: right;\">\n",
       "      <th></th>\n",
       "      <th>article_description</th>\n",
       "      <th>article_pubtime</th>\n",
       "      <th>article_section</th>\n",
       "      <th>article_subtopic</th>\n",
       "      <th>article_tags</th>\n",
       "      <th>article_topic</th>\n",
       "      <th>author_name</th>\n",
       "      <th>content</th>\n",
       "      <th>title</th>\n",
       "    </tr>\n",
       "  </thead>\n",
       "  <tbody>\n",
       "    <tr>\n",
       "      <th>0</th>\n",
       "      <td>If you're having trouble trying to be more inn...</td>\n",
       "      <td>2016-11-11T20:00:15+00:00</td>\n",
       "      <td>Planning for Growth</td>\n",
       "      <td>Growth Opportunities</td>\n",
       "      <td>[Growth Opportunities, Innovation, Personal Pr...</td>\n",
       "      <td>Planning for Growth</td>\n",
       "      <td>Heather Willems</td>\n",
       "      <td>The Power of Non-Linear ThinkingHeather Willem...</td>\n",
       "      <td>The Power of Non-Linear Thinking</td>\n",
       "    </tr>\n",
       "    <tr>\n",
       "      <th>1</th>\n",
       "      <td>Huge growth may be possible for businesses of ...</td>\n",
       "      <td>2016-11-09T22:30:34+00:00</td>\n",
       "      <td>Planning for Growth</td>\n",
       "      <td>Operations</td>\n",
       "      <td>[Business Expansion, Business Plan, Cash Flow,...</td>\n",
       "      <td>Planning for Growth</td>\n",
       "      <td>Andrew J. Sherman</td>\n",
       "      <td>3 Growth Strategies for Businesses With Limite...</td>\n",
       "      <td>3 Growth Strategies for Businesses With Limite...</td>\n",
       "    </tr>\n",
       "    <tr>\n",
       "      <th>2</th>\n",
       "      <td>What sets your business apart from the competi...</td>\n",
       "      <td>2016-11-11T22:30:47+00:00</td>\n",
       "      <td>Getting Customers</td>\n",
       "      <td>Marketing &amp; Sales</td>\n",
       "      <td>[Advertising, Brainstorming, Branding, Busines...</td>\n",
       "      <td>Getting Customers</td>\n",
       "      <td>Rieva Lesonsky</td>\n",
       "      <td>USP 101: How to Uncover Your Unique Selling Pr...</td>\n",
       "      <td>USP 101: How to Uncover Your Unique Selling Pr...</td>\n",
       "    </tr>\n",
       "    <tr>\n",
       "      <th>5</th>\n",
       "      <td>Organizational changes are rarely fun or easy,...</td>\n",
       "      <td>2016-11-03T23:30:02+00:00</td>\n",
       "      <td>Building Your Team</td>\n",
       "      <td>Company Culture</td>\n",
       "      <td>[Building Your Team, Business Expansion, Busin...</td>\n",
       "      <td>Building Your Team</td>\n",
       "      <td>David Niu</td>\n",
       "      <td>8 Strategies for Big (or Small) Organizational...</td>\n",
       "      <td>8 Strategies for Big (or Small) Organizational...</td>\n",
       "    </tr>\n",
       "    <tr>\n",
       "      <th>6</th>\n",
       "      <td>When expanding your business, exporting to int...</td>\n",
       "      <td>2016-10-27T19:00:39+00:00</td>\n",
       "      <td>Planning for Growth</td>\n",
       "      <td>Growth Opportunities</td>\n",
       "      <td>[Growth Opportunities, Importing &amp; Exporting, ...</td>\n",
       "      <td>Planning for Growth</td>\n",
       "      <td>Greg Sandler</td>\n",
       "      <td>Lessons Learned: Four Stories From Experienced...</td>\n",
       "      <td>Lessons Learned: Four Stories From Experienced...</td>\n",
       "    </tr>\n",
       "  </tbody>\n",
       "</table>\n",
       "</div>"
      ],
      "text/plain": [
       "                                 article_description  \\\n",
       "0  If you're having trouble trying to be more inn...   \n",
       "1  Huge growth may be possible for businesses of ...   \n",
       "2  What sets your business apart from the competi...   \n",
       "5  Organizational changes are rarely fun or easy,...   \n",
       "6  When expanding your business, exporting to int...   \n",
       "\n",
       "             article_pubtime      article_section      article_subtopic  \\\n",
       "0  2016-11-11T20:00:15+00:00  Planning for Growth  Growth Opportunities   \n",
       "1  2016-11-09T22:30:34+00:00  Planning for Growth            Operations   \n",
       "2  2016-11-11T22:30:47+00:00    Getting Customers     Marketing & Sales   \n",
       "5  2016-11-03T23:30:02+00:00   Building Your Team       Company Culture   \n",
       "6  2016-10-27T19:00:39+00:00  Planning for Growth  Growth Opportunities   \n",
       "\n",
       "                                        article_tags        article_topic  \\\n",
       "0  [Growth Opportunities, Innovation, Personal Pr...  Planning for Growth   \n",
       "1  [Business Expansion, Business Plan, Cash Flow,...  Planning for Growth   \n",
       "2  [Advertising, Brainstorming, Branding, Busines...    Getting Customers   \n",
       "5  [Building Your Team, Business Expansion, Busin...   Building Your Team   \n",
       "6  [Growth Opportunities, Importing & Exporting, ...  Planning for Growth   \n",
       "\n",
       "         author_name                                            content  \\\n",
       "0    Heather Willems  The Power of Non-Linear ThinkingHeather Willem...   \n",
       "1  Andrew J. Sherman  3 Growth Strategies for Businesses With Limite...   \n",
       "2     Rieva Lesonsky  USP 101: How to Uncover Your Unique Selling Pr...   \n",
       "5          David Niu  8 Strategies for Big (or Small) Organizational...   \n",
       "6       Greg Sandler  Lessons Learned: Four Stories From Experienced...   \n",
       "\n",
       "                                               title  \n",
       "0                   The Power of Non-Linear Thinking  \n",
       "1  3 Growth Strategies for Businesses With Limite...  \n",
       "2  USP 101: How to Uncover Your Unique Selling Pr...  \n",
       "5  8 Strategies for Big (or Small) Organizational...  \n",
       "6  Lessons Learned: Four Stories From Experienced...  "
      ]
     },
     "execution_count": 161,
     "metadata": {},
     "output_type": "execute_result"
    }
   ],
   "source": [
    "# Clean the 'content' column \n",
    "df['content'] = df['content'].apply(clean_text)\n",
    "df.head()"
   ]
  },
  {
   "cell_type": "code",
   "execution_count": 162,
   "metadata": {
    "collapsed": false
   },
   "outputs": [
    {
     "data": {
      "text/plain": [
       "'The Power of Non-Linear ThinkingHeather WillemsCo-Founder, Image ThinkHi there, you can call me Heather. Im Co-Founder at Image Think and Im based in Brooklyn, NY.Theres a lot of pressure in the business world these days to be innovativeto think differently.\" But how do you create the kinds of conditions that help you come up with new ideas?Ill share a little secret with you about how artists do it: They dont think linearly.In my job as a graphic facilitator, I work with Fortune 50 businesses to help them reach their goals using visuals. My job is to encourage creative thinking and to help connect the dots between ideas in a way that offers an alternative perspective on how to solve the problem at hand.And to do that, I often have to coach people on how to overcome their habit of thinking linearly, which is the idea that there is one direct answer to a problem: A + B = C.But this approach can be very limiting. It can lead to getting stuck in tunnel vision. Its critical, therefore, to step back and make space for your intuition to see the broader picture as a way to spark new ideas.This is where non-linear thinkingwhere A + B + Cbecomes so valuable. It offers you a broad perspective on how to solve a problem. You use your insight, intuition, creativity and emotion when communicating information.This is the lesson we can learn from artists. It is rare that artists can sit down at a blank canvas and instantly make a masterpiece. Rather, they first have to gather research, tap into their insight and then practice creative thinking by working and re-working the canvas. When caught in a tough spot, they have to make space for intuition, to unveil the answer to the challenge at hand. This is non-linear thinking at work.As an example, when Im in my studio, I always surround myself with inspirationfound objects, poems tacked to the wall, a postcard of a painting at the museum or drawings made with a peer over a luncheon. It is a collection of thoughts and ideas; it is my research.Each item is a piece of a puzzle that could provide a solution to the problem at hand.The lesson here for businesspeople and entrepreneurs is that if you give yourself time away from your worktime to read a book or go for a walk or to socialize with friendsyou are far more likely to prepare your brain for a breakthrough than if you continue to sit at your desk and slog away. Your best work can actually get done when you are taking a break.\"To that point, I love this quote from the comedian John Cleese: This is the extraordinary thing about creativity: If just you keep your mind resting against the subject in a friendly but persistent way, sooner or later you will get a reward from your unconscious.\"I realize this goes against much of what gets taught in business about being productive\" or even that you might feel guilty in some way if you arent working.\" But I have found that if you learn to embrace non-linear thinking like an artist does, you can generate so many more creative and new ideas than if you continue working the way you do now.As another example from my own life, I was due to give a presentation to a large audience in Sweden a while back. I was giving myself the hardest time because I couldnt just sit down and write an outline and do the research I thought I needed to do. I couldnt make things come together linearly. Instead, I read articles on the internet. Or called a colleague in my field for coffee. Or I just drew as I thought. I was doing anything and everything other than what I was supposed to be doing\".But then, inspiration struck. I woke up in the middle of the night with an idea. All the pieces I needed for my speech were there. I got out a stack of colored index cards and started writing down the topics of my speecheach of which came from the reading I was doing or the conversation I was having with my friend. My brain was synthesizing my speech all along and I didnt even realize it!The key was giving my brain the break it needed to make the connections I was looking for.A funny footnote to this story is that right before I was about to give the speech to the 500 people in the audience, another speaker asked if he could look at my cards. But when I handed them over, he proceeded to drop them on the ground, where they scattered all over. Thats when I realized that I had neglected to number them in order.That meant that I was forced to wing my speech. But because of how it all came together, that speech was already embedded in my brain and I performed far better than if I had relied solely on my cards.So if you want to embrace your own creativity and intuition, here are some suggestions on how you can fuel your non-linear thinking:Ask yourself questions like: What other perspectives are there? Who else is talking about this? What would a physicist think about it? How about a neurologist, sculptor or a strategist?Go further by making coffee dates with colleagues or peers who work in an adjacent field as you.Read a diverse range of articles or visit a museum and start to synthesize connections and organizing thoughts between everything you are exposing yourself to. Take what you learn and see if you can transform it into something new.If you can embrace non-linear thinking like this, you can help open yourself up to look at a world filled with possibilities, rather than limitations.Photo: iStock'"
      ]
     },
     "execution_count": 162,
     "metadata": {},
     "output_type": "execute_result"
    }
   ],
   "source": [
    "df.loc[0]['content']"
   ]
  },
  {
   "cell_type": "code",
   "execution_count": 163,
   "metadata": {
    "collapsed": false
   },
   "outputs": [],
   "source": [
    "# Export the DataFrame to CSV file\n",
    "df.to_csv('clean_data.csv', encoding='utf-8', index=False)"
   ]
  }
 ],
 "metadata": {
  "kernelspec": {
   "display_name": "Python [Root]",
   "language": "python",
   "name": "Python [Root]"
  },
  "language_info": {
   "codemirror_mode": {
    "name": "ipython",
    "version": 2
   },
   "file_extension": ".py",
   "mimetype": "text/x-python",
   "name": "python",
   "nbconvert_exporter": "python",
   "pygments_lexer": "ipython2",
   "version": "2.7.12"
  }
 },
 "nbformat": 4,
 "nbformat_minor": 0
}
