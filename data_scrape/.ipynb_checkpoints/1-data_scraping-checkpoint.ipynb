{
 "cells": [
  {
   "cell_type": "markdown",
   "metadata": {},
   "source": [
    "# 1. Data Scraping"
   ]
  },
  {
   "cell_type": "code",
   "execution_count": 79,
   "metadata": {
    "collapsed": true
   },
   "outputs": [],
   "source": [
    "import pandas as pd\n",
    "import numpy as np\n",
    "import urllib2\n",
    "import bs4\n",
    "from bs4 import BeautifulSoup\n",
    "import json"
   ]
  },
  {
   "cell_type": "code",
   "execution_count": 97,
   "metadata": {
    "collapsed": false
   },
   "outputs": [
    {
     "name": "stdout",
     "output_type": "stream",
     "text": [
      "Found the URL: #c-main-content\n",
      "Found the URL: https://www.americanexpress.com/?fs=y&inav=iNMblLogo\n",
      "Found the URL: https://www.americanexpress.com/?inav=NavLogo\n",
      "Found the URL: https://online.americanexpress.com/myca/acctmgmt/us/myaccountsummary.do?request_type=authreg_acctAccountSummary&sorted_index=0\n",
      "Found the URL: #\n",
      "Found the URL: https://online.americanexpress.com/myca/acctmgmt/us/myaccountsummary.do?request_type=authreg_acctAccountSummary&sorted_index=0&inav=menu_myacct_acctsum\n",
      "Found the URL: https://online.americanexpress.com/myca/estmt/us/list.do?request_type=authreg_Statement&BPIndex=0&sorted_index=0&Face=en_US&inav=menu_myacct_viewstmt\n",
      "Found the URL: https://online.americanexpress.com/myca/accountprofile/us/view.do?request_type=authreg_home&source=inav&sorted_index=0&inav=menu_myacct_profile_preference\n",
      "Found the URL: https://www.americanexpress.com/us/credit-cards/benefits/view-all/?sorted_index=0&inav=menu_myacct_cardbenefits\n",
      "Found the URL: #\n",
      "Found the URL: https://online.americanexpress.com/myca/acctmgmt/us/myaccountsummary.do?request_type=authreg_acctAccountSummary&sorted_index=0&inav=menu_myacct_smallbusiness\n",
      "Found the URL: https://www209.americanexpress.com/merchant/services/en_US/pages/home?inav=menu_myacct_merchantsolutions\n",
      "Found the URL: https://www347.americanexpress.com/ATWORK/en_US/atwork.do?pageAction=initialize&inav=menu_myacct_atwork\n",
      "Found the URL: #\n",
      "Found the URL: https://personalsavings.americanexpress.com/?inav=menu_myacct_personalsavings\n",
      "Found the URL: https://rewards.americanexpress.com/myca/loyalty/us/rewards/mracctmgmt/acctsumm?request_type=authreg_mr&Face=en_US&inav=menu_myacct_mrpointsum\n",
      "Found the URL: https://rewards.americanexpress.com/myca/loyalty/mobl/us/redeem/Landing.do?inav=menu_myacct_mrpointsum_mob\n",
      "Found the URL: https://www295.americanexpress.com/premium/credit-report-monitoring/home.do?SC=TJN&BC=0001&PC=0001&inav=menu_myacct_creditsecure\n",
      "Found the URL: https://www.bluebird.com/?solid=iNavMyAccountbb&inav=menu_myacct_bluebird&intlink=us-amex-prepaid-bluebird-inav_menu_myacct&inav=menu_myacct_bluebird\n",
      "Found the URL: https://www.americanexpress.com/us/content/foreign-exchange/international-payments/?src=Online&extlink=US-fxip-Payments&digi=onl_lin_nav&inav=menu_myacct_interpay\n",
      "Found the URL: https://www201.americanexpress.com/MobileWeb/index.jsp?intlink=selfservices_mobile\n",
      "Found the URL: https://www304.americanexpress.com/getthecard/home\n",
      "Found the URL: #\n",
      "Found the URL: https://www.americanexpress.com/us/credit-cards/?entryEEP=true&inav=menu_cards_pc_chargecreditcard\n",
      "Found the URL: https://www.americanexpress.com/us/credit-cards/compare/?entryEEP=true&inav=menu_cards_pc_viewallcards\n",
      "Found the URL: https://www.americanexpress.com/us/credit-cards/compare-cards/?inav=menu_cards_pc_comparecards\n",
      "Found the URL: https://www.americanexpress.com/us/credit-cards/compare-cards/travel-rewards-cards/?inav=menu_cards_pc_travelrewardscards\n",
      "Found the URL: https://www.americanexpress.com/us/credit-cards/compare-cards/cash-back/?inav=menu_cards_pc_cashbackcards\n",
      "Found the URL: https://www.americanexpress.com/us/credit-cards/compare-cards/rewards-cards/?inav=menu_cards_pc_rewardspointscards\n",
      "Found the URL: https://www262.americanexpress.com/mobile/credit-card/?entryEEP=true&inav=menu_cards_chargecreditcard_mob\n",
      "Found the URL: https://www262.americanexpress.com/mobile/credit-card/compare/?entryEEP=true&inav=menu_cards_viewallcards_mob\n",
      "Found the URL: https://www.americanexpress.com/us/credit-cards/compare-cards/?inav=menu_cards_comparecards_mob\n",
      "Found the URL: https://www.americanexpress.com/us/credit-cards/compare-cards/travel-rewards-cards/?inav=menu_cards_travelrewardscards_mob\n",
      "Found the URL: https://www.americanexpress.com/us/credit-cards/compare-cards/cash-back/?inav=menu_cards_cashbackcards_mob\n",
      "Found the URL: https://www.americanexpress.com/us/credit-cards/compare-cards/rewards-cards/?inav=menu_cards_rewardspointscards_mob\n",
      "Found the URL: #\n",
      "Found the URL: https://www.americanexpress.com/us/small-business/credit-cards/?inav=menu_cards_sbc_chargecreditcard\n",
      "Found the URL: https://www.americanexpress.com/us/small-business/credit-cards/top-credit-cards/?inav=menu_cards_sbc_comparecards\n",
      "Found the URL: https://www.americanexpress.com/us/small-business/credit-cards/see-all-business-credit-cards/?inav=menu_cards_sbc_viewallcards\n",
      "Found the URL: #\n",
      "Found the URL: https://business.americanexpress.com/us?inav=menu_cards_cs_cardprograms\n",
      "Found the URL: https://business.americanexpress.com/us/corporate-cards?inav=menu_cards_cs_corpcards\n",
      "Found the URL: https://business.americanexpress.com/us/find-best-corporate-credit-card?inav=menu_cards_cs_findcorpcard\n",
      "Found the URL: #\n",
      "Found the URL: https://www.americanexpress.com/serve/?SOLID=4AMEX&intlink=us-amex-home-header&inav=menu_cards_reloadablecards\n",
      "Found the URL: https://www.americanexpress.com/gift-cards/?inav=menu_cards_giftcards&source=Amex_iNavGiftCards\n",
      "Found the URL: https://www.americanexpress.com/gift-cards/?inav=menu_cards_giftcards_mob\n",
      "Found the URL: https://www.americanexpress.com/us/content/prepaid/view-all-cards.html?inav=menu_cards_view_all_cards\n",
      "Found the URL: https://axptravel.americanexpress.com/consumertravel/travel.do?\n",
      "Found the URL: #\n",
      "Found the URL: https://travel.americanexpress.com/home?inav=menu_travel_book\n",
      "Found the URL: https://travel.americanexpress.com/hotel?inav=menu_travel_book_hotels\n",
      "Found the URL: https://travel.americanexpress.com/flight?inav=menu_travel_book_flights\n",
      "Found the URL: https://travel.americanexpress.com/travel/finehotelsandresorts?inav=menu_travel_fhr\n",
      "Found the URL: http://travelspecialists.americanexpress.com?inav=menu_travel_findspecialist2_gem\n",
      "Found the URL: https://travelinsiders.americanexpress.com?inav=menu_travel_finddestination\n",
      "Found the URL: #\n",
      "Found the URL: https://www.amexglobalbusinesstravel.com\n",
      "Found the URL: https://www.americanexpress.com/us/content/foreign-exchange/?src=Online&extlink=US-fxip-Payments&digi=onl_lin_nav&inav=menu_business_fxserv\n",
      "Found the URL: #\n",
      "Found the URL: https://www295.americanexpress.com/premium/credit-card-travel-insurance/home.do?inav=menu_travel_protection\n",
      "Found the URL: https://www.americanexpress.com/us/content/prepaid/travelers-cheques.html?inav=menu_travel_cheques\n",
      "Found the URL: http://www.amextravelresources.com/?us_nu=dd&inav=menu_travel_findoffice\n",
      "Found the URL: https://www.americanexpress.com/us/content/card-benefits/global-assist-hotline.html?vgnextchannel=3c830da9846dd010VgnVCM10000084b3ad94RCRD&name=globalassist_allccsg_shareddetails&type=intBenefitDetail&inav=menu_travel_globalassist\n",
      "Found the URL: https://axptravel.americanexpress.com/consumertravel/travel.do?intlink=ctn-xs000049\n",
      "Found the URL: https://www.americanexpress.com/membershiprewards\n",
      "Found the URL: #\n",
      "Found the URL: https://rewards.americanexpress.com/myca/loyalty/us/catalog/mrhome.do?inav=menu_rewards_mrhome\n",
      "Found the URL: https://rewards.americanexpress.com/myca/loyalty/mobl/us/redeem/Landing.do?inav=menu_rewards_mrhome_mob\n",
      "Found the URL: https://rewards.americanexpress.com/myca/loyalty/us/catalog/mrhome.do?inav=menu_rewards_usepoints\n",
      "Found the URL: https://rewards.americanexpress.com/myca/loyalty/us/rewards/mracctmgmt/acctsumm?request_type=authreg_mr&Face=en_US&inav=menu_rewards_pointsummary\n",
      "Found the URL: #\n",
      "Found the URL: https://www.americanexpress.com/us/credit-cards/benefits/view-all/?inav=ExploreYourCardsRewardsProgram\n",
      "Found the URL: https://www295.americanexpress.com/entertainmentaccess/home.do?inav=menu_rewards_entertainment\n",
      "Found the URL: https://www295.americanexpress.com/entertainmentaccess/home.do?sourcePage=amexmobile&inav=menu_rewards_entertainment_mob\n",
      "Found the URL: https://www262.americanexpress.com/business-card-application/raf/200196-MIXED?inav=menu_rewards_referafriend\n",
      "Found the URL: https://www311.americanexpress.com/BOLWeb/bolfeOrder.do?request_type=orderProduct&promotion=ACP&program=ACPWEB&selleracctnbr=6430098999I&source=CMORightCard\n",
      "Found the URL: https://www.americanexpress.com/us/small-business/credit-cards/\n",
      "Found the URL: #\n",
      "Found the URL: https://www.americanexpress.com/us/small-business/?inav=menu_business_smallbusinesshome\n",
      "Found the URL: https://www.americanexpress.com/us/small-business/credit-cards/see-all-business-credit-cards/?inav=business_opensmallbusiness_ajviewallcards\n",
      "Found the URL: https://www262.americanexpress.com/business-card-application/supplementary/generic/apply/0-9-0?intlink=us-OPEN-navsupps&inav=menu_business_orderemployeecards\n",
      "Found the URL: https://www.americanexpress.com/us/small-business/openforum/explore/?inav=menu_business_openforum\n",
      "Found the URL: #\n",
      "Found the URL: https://business.americanexpress.com/us?inav=menu_business_corpcardprogram\n",
      "Found the URL: https://business.americanexpress.com/us/payment-solutions?inav=menu_business_paymentsols\n",
      "Found the URL: https://www.amexglobalbusinesstravel.com\n",
      "Found the URL: https://www.amexglobalbusinesstravel.com/meetings-and-events?inav=menu_business_meetingsevents\n",
      "Found the URL: https://www.americanexpress.com/us/content/foreign-exchange/international-payments/?src=Online&extlink=US-fxip-Payments&digi=onl_lin_nav&inav=menu_business_corpfx\n",
      "Found the URL: #\n",
      "Found the URL: https://www209.americanexpress.com/merchant/services/en_US/pages/home?inav=menu_business_merchhome\n",
      "Found the URL: https://www209.americanexpress.com/merchant/services/en_US/payment?inav=menu_business_solutionfinder\n",
      "Found the URL: https://www.americanexpress.com/us/content/merchant/support-services.html?inav=menu_business_merchsupport\n",
      "Found the URL: https://www209.americanexpress.com/merchant/services/en_US/accept-credit-cards?inav=menu_business_merchgetaccount\n",
      "Found the URL: http://ad.doubleclick.net/clk;282650642;109401302;q;pc=[TPAS_ID]?https://merchantfinancing.americanexpress.com/merchantfinancing/index.htm?intlink=db-&inav=menu_business_merch_financing\n",
      "Found the URL: #\n",
      "Found the URL: https://network.americanexpress.com/en/globalnetwork/default/?ref=prop&inav=menu_business_Issuers_Acquirers\n",
      "Found the URL: https://network.americanexpress.com/en/globalnetwork/default/?ref=prop&inav=menu_business_Providers_Developer\n",
      "Found the URL: https://www.openforum.com/?cid=inav_home\n",
      "Found the URL: https://www.americanexpress.com/change-country/?inav=iNavUtilChangeCountry\n",
      "Found the URL: https://online.americanexpress.com/myca/logon/us/action/LogonHandler?request_type=LogonHandler&Face=en_US&inav=iNavLnkLog\n",
      "Found the URL: https://online.americanexpress.com/myca/logon/us/action/LogLogoffHandler?request_type=LogLogoffHandler&Face=en_US&inav=Logout\n",
      "Found the URL: https://online.americanexpress.com/myca/mobl/us/static.do?page=un_help&content=Faq&inav=iNUtlFaq\n",
      "Found the URL: https://online.americanexpress.com/myca/mobl/us/static.do?page=un_help&content=CntUs&inav=iNUtlContact\n",
      "Found the URL: https://www.americanexpress.com/change-country/?inav=iNUtlChCountry\n",
      "Found the URL: #\n",
      "Found the URL: http://about.americanexpress.com/?inav=footer_about_american_express\n",
      "Found the URL: http://ir.americanexpress.com\n",
      "Found the URL: https://careers.americanexpress.com/?inav=footer_careers\n",
      "Found the URL: https://www.americanexpress.com/us/content/sitemap.html?inav=footer_sitemap\n",
      "Found the URL: https://www.americanexpress.com/us/content/contact-us/personal-cards.html?page=1&inav=footer_contact_us\n",
      "Found the URL: https://www.americanexpress.com/us/content/mobile/?inav=footer_mobile_mob\n",
      "Found the URL: https://www.facebook.com/AmericanExpressUS\n",
      "Found the URL: https://foursquare.com/americanexpress\n",
      "Found the URL: https://twitter.com/americanexpress\n",
      "Found the URL: http://www.youtube.com/user/AmericanExpress\n",
      "Found the URL: https://www.linkedin.com/company/american-express\n",
      "Found the URL: https://plus.google.com/102155862500050097100/\n",
      "Found the URL: https://www.americanexpress.com/us/credit-cards/?inav=footer_cards_personal\n",
      "Found the URL: https://www.americanexpress.com/us/small-business/credit-cards/?inav=footer_cards_sm_bus\n",
      "Found the URL: https://business.americanexpress.com/us?inav=footer_cards_corp\n",
      "Found the URL: https://www.americanexpress.com/serve/?SOLID=5AMEX&intlink=us-amex-home-footer&inav=footer_cards_reload\n",
      "Found the URL: https://personalsavings.americanexpress.com/?inav=footer_personal_savings\n",
      "Found the URL: https://www.americanexpress.com/gift-cards/?inav=menu_cards_giftcards&source=Amex_iNavFooter\n",
      "Found the URL: https://rewards.americanexpress.com/myca/loyalty/us/catalog/mrhome.do?inav=footer_mr\n",
      "Found the URL: https://www.americanexpress.com/us/content/mobile/?inav=footer_mobile\n",
      "Found the URL: https://www295.americanexpress.com/premium/credit-report-monitoring/home.do?SC=TJN&BC=0001&PC=0001&inav=footer_credit_secure\n",
      "Found the URL: https://www.americanexpress.com/serve/?SOLID=5AMEX&intlink=us-amex-home-footer&inav=footer_serve\n",
      "Found the URL: https://www.bluebird.com/?solid=BBDAMEXHPBBAR&inav=footer_bluebird&intlink=us-amex-prepaid-bluebird-inav_footer_bluebird&inav=footer_bluebird\n",
      "Found the URL: https://www209.americanexpress.com/merchant/services/en_US/accept-credit-cards?merch_van=ENT_FOOT&intlink=us-mer-Ent_Foot&inav=footer_accept_amex\n",
      "Found the URL: https://www262.americanexpress.com/business-card-application/raf/200196-MIXED?inav=footer_refer_friend\n",
      "Found the URL: https://www.americanexpress.com/us/content/supplier-management/?inav=footer_supplier_management\n",
      "Found the URL: https://www.americanexpress.com/us/content/legal-disclosures/website-rules-and-regulations.html?inav=footer_Terms_of_Use\n",
      "Found the URL: https://www.americanexpress.com/us/content/legal-disclosures/privacy-center.html?inav=footer_privacy_statement\n",
      "Found the URL: https://info.evidon.com/pub_info/1328?v=1&nt=1&nw=true&inav=footer_adChoices\n",
      "Found the URL: https://www.americanexpress.com/us/content/cardmember-agreements/all-us.html?inav=footer_card_agreements\n",
      "Found the URL: https://www.americanexpress.com/us/content/fraud-protection-center/home.html?inav=footer_fraud_protection_center\n",
      "Found the URL: https://www.americanexpress.com/us/content/financial-education/?inav=footer_credit_basics\n",
      "Found the URL: https://www.americanexpress.com/us/content/help/service-members-civil-relief.html?inav=footer_servicemember_benefits\n"
     ]
    }
   ],
   "source": [
    "# Obtain a list of urls from various sections of the site\n",
    "starting_point_website = \"https://www.americanexpress.com/us/small-business/openforum/topics/accounts-receivablepayable/?linknav=us-of-article-digdeeper-bottom\"\n",
    "page = urllib2.urlopen(starting_point_website)\n",
    "soup = BeautifulSoup(page)\n",
    "\n",
    "# print soup.prettify()\n",
    "\n",
    "for a in soup.find_all('a', href=True):\n",
    "#     if (\"https://www.americanexpress.com/us/small-business/openforum\") in a['href']:\n",
    "    print \"Found the URL:\", a['href']"
   ]
  },
  {
   "cell_type": "code",
   "execution_count": 81,
   "metadata": {
    "collapsed": false
   },
   "outputs": [],
   "source": [
    "# Create a \"soup\" for a webpage\n",
    "website1 = \"https://www.americanexpress.com/us/small-business/openforum/videos/5-ways-help-grow-small-business-saving-money/?linknav=us-of-topics-getstarted-readmore\"\n",
    "website2 = \"https://www.americanexpress.com/us/small-business/openforum/articles/keep-cash-flow-flowing/?linknav=us-of-article-trending-1\"\n",
    "page = urllib2.urlopen(website2)\n",
    "soup = BeautifulSoup(page) #\"html.parser\""
   ]
  },
  {
   "cell_type": "code",
   "execution_count": 82,
   "metadata": {
    "collapsed": false
   },
   "outputs": [
    {
     "data": {
      "text/html": [
       "<div>\n",
       "<table border=\"1\" class=\"dataframe\">\n",
       "  <thead>\n",
       "    <tr style=\"text-align: right;\">\n",
       "      <th></th>\n",
       "      <th>article_description</th>\n",
       "      <th>article_pubtime</th>\n",
       "      <th>article_section</th>\n",
       "      <th>article_subtopic</th>\n",
       "      <th>article_tags</th>\n",
       "      <th>article_topic</th>\n",
       "      <th>author_name</th>\n",
       "      <th>content</th>\n",
       "      <th>title</th>\n",
       "    </tr>\n",
       "  </thead>\n",
       "  <tbody>\n",
       "    <tr>\n",
       "      <th>0</th>\n",
       "      <td>Five suggestions for cutting spending at your ...</td>\n",
       "      <td>2016-10-16T12:00:10+00:00</td>\n",
       "      <td>Managing Money</td>\n",
       "      <td>Cash Flow</td>\n",
       "      <td>[Cash Flow, Managing Money, Saving Money, MSNB...</td>\n",
       "      <td>Managing Money</td>\n",
       "      <td>JJ Ramberg</td>\n",
       "      <td>&lt;noscript id=\"seo-output\"&gt;\n",
       "&lt;h1 id=\"title\"&gt;5 Wa...</td>\n",
       "      <td>5 Ways to Help Grow Your Small Business by Sav...</td>\n",
       "    </tr>\n",
       "    <tr>\n",
       "      <th>1</th>\n",
       "      <td>Mishandling your finances could spell big prob...</td>\n",
       "      <td>2016-10-13T20:00:00+00:00</td>\n",
       "      <td>Managing Money</td>\n",
       "      <td>Cash Flow</td>\n",
       "      <td>[Accounts Receivable/Payable, Cash Flow, Manag...</td>\n",
       "      <td>Managing Money</td>\n",
       "      <td>Meredith Wood</td>\n",
       "      <td>&lt;noscript id=\"seo-output\"&gt;\n",
       "&lt;h1 id=\"title\"&gt;How ...</td>\n",
       "      <td>How to Help Keep Your Cash Flow Flowing</td>\n",
       "    </tr>\n",
       "  </tbody>\n",
       "</table>\n",
       "</div>"
      ],
      "text/plain": [
       "                                 article_description  \\\n",
       "0  Five suggestions for cutting spending at your ...   \n",
       "1  Mishandling your finances could spell big prob...   \n",
       "\n",
       "             article_pubtime article_section article_subtopic  \\\n",
       "0  2016-10-16T12:00:10+00:00  Managing Money        Cash Flow   \n",
       "1  2016-10-13T20:00:00+00:00  Managing Money        Cash Flow   \n",
       "\n",
       "                                        article_tags   article_topic  \\\n",
       "0  [Cash Flow, Managing Money, Saving Money, MSNB...  Managing Money   \n",
       "1  [Accounts Receivable/Payable, Cash Flow, Manag...  Managing Money   \n",
       "\n",
       "     author_name                                            content  \\\n",
       "0     JJ Ramberg  <noscript id=\"seo-output\">\n",
       "<h1 id=\"title\">5 Wa...   \n",
       "1  Meredith Wood  <noscript id=\"seo-output\">\n",
       "<h1 id=\"title\">How ...   \n",
       "\n",
       "                                               title  \n",
       "0  5 Ways to Help Grow Your Small Business by Sav...  \n",
       "1            How to Help Keep Your Cash Flow Flowing  "
      ]
     },
     "execution_count": 82,
     "metadata": {},
     "output_type": "execute_result"
    }
   ],
   "source": [
    "websites = [website1, website2]\n",
    "\n",
    "data = {\n",
    "    'title' : [],\n",
    "    'author_name' : [],\n",
    "    'article_section' : [],\n",
    "    'article_topic' : [],\n",
    "    'article_subtopic' : [],\n",
    "    'article_pubtime' : [],\n",
    "    'article_description' : [],\n",
    "    'article_tags' : [],\n",
    "    'content' : []\n",
    "}\n",
    "\n",
    "for website in websites:\n",
    "    page = urllib2.urlopen(website)\n",
    "    soup = BeautifulSoup(page)\n",
    "    \n",
    "    title = soup.find(lambda tag: tag.name == 'meta' and 'property' in tag.attrs and tag.attrs['property'] == \"og:title\")\n",
    "    data['title'].append(title['content'])\n",
    "    \n",
    "    author_name = soup.find(lambda tag: tag.name == 'meta' and 'property' in tag.attrs and tag.attrs['property'] == \"article:author_name\")\n",
    "    data['author_name'].append(author_name['content'])\n",
    "    \n",
    "    article_section = soup.find(lambda tag: tag.name == 'meta' and 'property' in tag.attrs and tag.attrs['property'] == \"article:section\")\n",
    "    data['article_section'].append(article_section['content'])\n",
    "    \n",
    "    article_topic = soup.find(lambda tag: tag.name == 'meta' and 'property' in tag.attrs and tag.attrs['property'] == \"article:topic\")\n",
    "    data['article_topic'].append(article_topic['content'])\n",
    "    \n",
    "    article_subtopic = soup.find(lambda tag: tag.name == 'meta' and 'property' in tag.attrs and tag.attrs['property'] == \"article:sub_topic\")\n",
    "    data['article_subtopic'].append(article_subtopic['content'])\n",
    "\n",
    "    article_pubtime = soup.find(lambda tag: tag.name == 'meta' and 'property' in tag.attrs and tag.attrs['property'] == \"article:published_time\")\n",
    "    data['article_pubtime'].append(article_pubtime['content'])\n",
    "    \n",
    "    article_description = soup.find(lambda tag: tag.name == 'meta' and 'property' in tag.attrs and tag.attrs['property'] == \"og:description\")\n",
    "    data['article_description'].append(article_description['content'])\n",
    "    \n",
    "    article_tags = soup.find_all(lambda tag: tag.name == 'meta' and 'property' in tag.attrs and tag.attrs['property'] == \"article:tag\")\n",
    "    article_tags = [tag['content'] for tag in article_tags]\n",
    "    data['article_tags'].append(article_tags)\n",
    "    \n",
    "    content = soup.findAll('noscript', attrs={'id':'seo-output'})\n",
    "    data['content'].append(content[0])\n",
    "\n",
    "    \n",
    "pd.DataFrame(data)   \n"
   ]
  },
  {
   "cell_type": "code",
   "execution_count": 77,
   "metadata": {
    "collapsed": false
   },
   "outputs": [],
   "source": [
    "# print soup.prettify()"
   ]
  },
  {
   "cell_type": "code",
   "execution_count": 56,
   "metadata": {
    "collapsed": true
   },
   "outputs": [],
   "source": [
    "data = {\n",
    "    'title' : [],\n",
    "    'author_name' : [],\n",
    "    'article_section' : [],\n",
    "    'article_topic' : [],\n",
    "    'article_subtopic' : [],\n",
    "    'article_pubtime' : [],\n",
    "    'article_description' : [],\n",
    "    'article_tags' : [],\n",
    "    'content' : []\n",
    "}"
   ]
  },
  {
   "cell_type": "code",
   "execution_count": 57,
   "metadata": {
    "collapsed": false
   },
   "outputs": [],
   "source": [
    "title = soup.find(lambda tag: tag.name == 'meta' and 'property' in tag.attrs and tag.attrs['property'] == \"og:title\")\n",
    "data['title'].append(title['content'])"
   ]
  },
  {
   "cell_type": "code",
   "execution_count": 58,
   "metadata": {
    "collapsed": false
   },
   "outputs": [],
   "source": [
    "author_name = soup.find(lambda tag: tag.name == 'meta' and 'property' in tag.attrs and tag.attrs['property'] == \"article:author_name\")\n",
    "data['author_name'].append(author_name['content'])"
   ]
  },
  {
   "cell_type": "code",
   "execution_count": 59,
   "metadata": {
    "collapsed": false
   },
   "outputs": [],
   "source": [
    "# author_first_name = soup.find(lambda tag: tag.name == 'meta' and 'property' in tag.attrs and tag.attrs['property'] == \"article:author_first_name\")\n",
    "# author_first_name['content']"
   ]
  },
  {
   "cell_type": "code",
   "execution_count": 60,
   "metadata": {
    "collapsed": false
   },
   "outputs": [],
   "source": [
    "# author_last_name = soup.find(lambda tag: tag.name == 'meta' and 'property' in tag.attrs and tag.attrs['property'] == \"article:author_last_name\")\n",
    "# author_last_name['content']"
   ]
  },
  {
   "cell_type": "code",
   "execution_count": 61,
   "metadata": {
    "collapsed": false
   },
   "outputs": [],
   "source": [
    "article_section = soup.find(lambda tag: tag.name == 'meta' and 'property' in tag.attrs and tag.attrs['property'] == \"article:section\")\n",
    "article_section['content']\n",
    "data['article_section'].append(article_section['content'])"
   ]
  },
  {
   "cell_type": "code",
   "execution_count": 62,
   "metadata": {
    "collapsed": false
   },
   "outputs": [],
   "source": [
    "article_topic = soup.find(lambda tag: tag.name == 'meta' and 'property' in tag.attrs and tag.attrs['property'] == \"article:topic\")\n",
    "data['article_topic'].append(article_topic['content'])"
   ]
  },
  {
   "cell_type": "code",
   "execution_count": 63,
   "metadata": {
    "collapsed": false
   },
   "outputs": [],
   "source": [
    "article_subtopic = soup.find(lambda tag: tag.name == 'meta' and 'property' in tag.attrs and tag.attrs['property'] == \"article:sub_topic\")\n",
    "article_subtopic['content']\n",
    "data['article_subtopic'].append(article_subtopic['content'])"
   ]
  },
  {
   "cell_type": "code",
   "execution_count": 64,
   "metadata": {
    "collapsed": false
   },
   "outputs": [
    {
     "data": {
      "text/plain": [
       "{'article_description': [],\n",
       " 'article_pubtime': ['2016-10-13T20:00:00+00:00'],\n",
       " 'article_section': ['Managing Money'],\n",
       " 'article_subtopic': ['Cash Flow'],\n",
       " 'article_tags': [],\n",
       " 'article_topic': ['Managing Money'],\n",
       " 'author_name': ['Meredith Wood'],\n",
       " 'content': [],\n",
       " 'title': ['How to Help Keep Your Cash Flow Flowing']}"
      ]
     },
     "execution_count": 64,
     "metadata": {},
     "output_type": "execute_result"
    }
   ],
   "source": [
    "article_pubtime = soup.find(lambda tag: tag.name == 'meta' and 'property' in tag.attrs and tag.attrs['property'] == \"article:published_time\")\n",
    "article_pubtime['content']\n",
    "data['article_pubtime'].append(article_pubtime['content'])\n",
    "data"
   ]
  },
  {
   "cell_type": "code",
   "execution_count": 65,
   "metadata": {
    "collapsed": false
   },
   "outputs": [],
   "source": [
    "article_description = soup.find(lambda tag: tag.name == 'meta' and 'property' in tag.attrs and tag.attrs['property'] == \"og:description\")\n",
    "article_description['content']\n",
    "data['article_description'].append(article_description['content'])"
   ]
  },
  {
   "cell_type": "code",
   "execution_count": 66,
   "metadata": {
    "collapsed": false
   },
   "outputs": [],
   "source": [
    "article_tags = soup.find_all(lambda tag: tag.name == 'meta' and 'property' in tag.attrs and tag.attrs['property'] == \"article:tag\")\n",
    "article_tags = [tag['content'] for tag in article_tags]\n",
    "article_tags\n",
    "data['article_tags'].append(article_tags)"
   ]
  },
  {
   "cell_type": "code",
   "execution_count": 67,
   "metadata": {
    "collapsed": false
   },
   "outputs": [
    {
     "data": {
      "text/plain": [
       "{'article_description': ['Mishandling your finances could spell big problems for your business. Here are a few tips on how you can help save a lot by saving a little. '],\n",
       " 'article_pubtime': ['2016-10-13T20:00:00+00:00'],\n",
       " 'article_section': ['Managing Money'],\n",
       " 'article_subtopic': ['Cash Flow'],\n",
       " 'article_tags': [['Accounts Receivable/Payable',\n",
       "   'Cash Flow',\n",
       "   'Managing Money',\n",
       "   'Saving Money']],\n",
       " 'article_topic': ['Managing Money'],\n",
       " 'author_name': ['Meredith Wood'],\n",
       " 'content': [<noscript id=\"seo-output\">\\n<h1 id=\"title\">How to Help Keep Your Cash Flow Flowing</h1>\\n<div id=\"author\">\\n<div id=\"name\">Meredith Wood</div>\\n<div id=\"title\">Head of Content and Editor-in-Chief, Fundera</div>\\n<div id=\"bio\">Editor-in-Chief at Fundera, the most trusted online marketplace for small business loans.</div>\\n</div>\\n<div id=\"content\"><p>You could have an absolutely dynamite product or service. Your business model could be impeccable. But if you don't manage your cash correctly, you very well could fail.</p><p>Clearly, to run a successful business, you need more than just a good idea. You need a solid managerial strategy. You must focus on the books. Because if you mishandle your finances, your business could be toast.</p><p>One way to help improve your company's finances is to look for areas in which you are losing cash. You'll probably find that you are spending money that you simply don't have to spend. So, wise up and fix the issue. Here are five signs that your business could be bleeding cash\\u2014and some advice on how to stop it.</p><h2>1. Management tasks are done manually.</h2><p>Is too much time being wasted on sending invoices, processing payroll, sorting emails and scheduling appointments? It's alarming that, according to a 2015 survey of nearly 1,000 managers in the U.S. and U.K. by ServiceNow, nearly <a href=\"https://www.servicenow.com/content/dam/servicenow/documents/whitepapers/sn-state-of-work-report.pdf\" target=\"_blank\">half of managers say this type of administrative work leaves them with less time</a> for strategic initiatives.</p><p>While these duties are certainly important, they can be automated with today's technological solutions. And you and your team can spend more time on what matters\\u2014producing a great product or service.</p><p>For example, to process payments to employees, you can <a href=\"https://www.fundera.com/blog/2016/08/09/intuit-online-payroll\" target=\"_blank\">use payroll solutions like Intuit Online Payroll</a> or Quickbooks Online Payroll. If you run social-media marketing campaigns, try a service like Hootsuite to schedule posts to go live across all your channels. And for scheduling meetings, try a tool like Calendly.</p><h2>2. Clients aren't paying on time.</h2><p>Every startup and small business has been left waiting for payment at some point. Even if you know you'll eventually get paid, this is still costing you money.</p><p>While waiting for payment, you may have to get money from other sources to pay employees, fund marketing initiatives, cover rent and handle other requirements. Obtaining that money from a business line of credit or business credit card, for instance, is very possible. But this can cost you in interest (which would be totally unnecessary if the client had paid you on time).</p><p>To stop this from happening, politely establish clear payment policies with each client. You could ask for a percentage up front, and the rest once the project's completed. Also, automate invoicing and reminders if the payment is late, and set a timeframe for charging a late fee. If payment is significantly late (like four weeks), you might consider stopping work until the balance is paid.</p><h2>3. Rent is just too much.</h2><p>Yes, a swanky downtown office is nice, but you don't necessarily need it. Put that cash toward other activities, like marketing and advertising campaigns.</p><p>Co-working spaces can offer flexible short-term leasing plans for shared office space. You can also allow employees to work from home, which may raise productivity and workplace satisfaction all around. When your team needs to meet, you can do so virtually or in a public setting, like a cafe or library.</p><h2>4. Daily expenses are too high.</h2><p>Sure, it's nice to have the newest computers for your employees. Going out to eat each Friday is cool, too. And keeping the office super clean makes you feel good. But it's all probably unnecessary. Or, at the very least, you can choose much cheaper alternatives.</p><p>Just think about the classic coffee example. If a cup of coffee costs $3 with tip, that runs you $15 per week for each worker if you buy outside. Make it in the office, and you can help get those costs down considerably (probably to just a few bucks per worker).</p><p>Everything adds up over time, so you should try to save wherever you can. Do your best to track all your expenses and your wallet will thank you for it.</p><h2>5. You don't negotiate deals.</h2><p>If you don't at least attempt to negotiate pricing with your vendors, you are leaving money on the table. Whenever you hire outside help to provide goods or services, don't be hesitant to counteroffer. At worst, the price remains the same. At best, you save lots of money over time.</p><p>Getting the <a href=\"https://www.americanexpress.com/us/small-business/openforum/articles/8-ways-your-business-is-hemorrhaging-money/\" target=\"_blank\">price of goods or services cut down by 5 to 10 percent</a> (or more) is not impossible. Even if you already have a contract with most of your vendors, don't hesitate to reach out and discuss rates. When negotiating a deal, don't be contentious. Be professional, and explain your business situation. Make sure to offer them something in return for cutting rates, such as a contract extension.</p><p>Also, if you can, gather bids from multiple vendors when looking for help. Compare and choose the best offer for your company.</p><h2>Stop the bleeding and build for the future.</h2><p>It's tough to grow a business when you are constantly paying off debt, waiting on client payments and paying more than you should for services, products and property. It's also difficult to see how to turn your financial situation around when you don't track it.</p><p>Going forward, be completely clear on where your money is coming from and going to. Then, address the pain points with prejudice. By securing your cash flow, your company won't be held back by poor money management\\u2014and you can grow and scale when the demand arises.</p><h5><em>Photo: iStock</em></h5><h5><em>The information contained in this article is for generalized informational and educational purposes only and is not designed to substitute for, or replace, a professional opinion about any particular business or situation or judgment about the risks or appropriateness of any </em><em><u>financial or business</u></em><em> strategy or approach for any specific business or situation. THIS ARTICLE IS NOT A SUBSTITUTE FOR PROFESSIONAL </em><em>ADVICE. The views and opinions expressed in authored articles on OPEN Forum represent the opinion of their author and do not necessarily represent the views, opinions and/or judgments of American Express Company or any of its affiliates, subsidiaries or divisions (including, without limitation, American Express OPEN). American Express makes no representation as to, and is not responsible for, the accuracy, timeliness, completeness or reliability of any opinion, advice or statement made in this article.</em></h5></div>\\n<img src=\"https://d8a8a12b527478184df8-1fd282026c3ff4ae711d11ecc95a1d47.ssl.cf1.rackcdn.com//us/small-business/openforum/wp-content/uploads/2016/10/cash-flow-flowing-wood-display.jpg\" title=\"Preview Image\"/>\\n</noscript>],\n",
       " 'title': ['How to Help Keep Your Cash Flow Flowing']}"
      ]
     },
     "execution_count": 67,
     "metadata": {},
     "output_type": "execute_result"
    }
   ],
   "source": [
    "content = soup.findAll('noscript', attrs={'id':'seo-output'})\n",
    "# article_content = soup.select(\"div\")\n",
    "data['content'].append(content[0])"
   ]
  },
  {
   "cell_type": "code",
   "execution_count": 68,
   "metadata": {
    "collapsed": false
   },
   "outputs": [
    {
     "data": {
      "text/html": [
       "<div>\n",
       "<table border=\"1\" class=\"dataframe\">\n",
       "  <thead>\n",
       "    <tr style=\"text-align: right;\">\n",
       "      <th></th>\n",
       "      <th>article_description</th>\n",
       "      <th>article_pubtime</th>\n",
       "      <th>article_section</th>\n",
       "      <th>article_subtopic</th>\n",
       "      <th>article_tags</th>\n",
       "      <th>article_topic</th>\n",
       "      <th>author_name</th>\n",
       "      <th>content</th>\n",
       "      <th>title</th>\n",
       "    </tr>\n",
       "  </thead>\n",
       "  <tbody>\n",
       "    <tr>\n",
       "      <th>0</th>\n",
       "      <td>Mishandling your finances could spell big prob...</td>\n",
       "      <td>2016-10-13T20:00:00+00:00</td>\n",
       "      <td>Managing Money</td>\n",
       "      <td>Cash Flow</td>\n",
       "      <td>[Accounts Receivable/Payable, Cash Flow, Manag...</td>\n",
       "      <td>Managing Money</td>\n",
       "      <td>Meredith Wood</td>\n",
       "      <td>&lt;noscript id=\"seo-output\"&gt;\n",
       "&lt;h1 id=\"title\"&gt;How ...</td>\n",
       "      <td>How to Help Keep Your Cash Flow Flowing</td>\n",
       "    </tr>\n",
       "  </tbody>\n",
       "</table>\n",
       "</div>"
      ],
      "text/plain": [
       "                                 article_description  \\\n",
       "0  Mishandling your finances could spell big prob...   \n",
       "\n",
       "             article_pubtime article_section article_subtopic  \\\n",
       "0  2016-10-13T20:00:00+00:00  Managing Money        Cash Flow   \n",
       "\n",
       "                                        article_tags   article_topic  \\\n",
       "0  [Accounts Receivable/Payable, Cash Flow, Manag...  Managing Money   \n",
       "\n",
       "     author_name                                            content  \\\n",
       "0  Meredith Wood  <noscript id=\"seo-output\">\n",
       "<h1 id=\"title\">How ...   \n",
       "\n",
       "                                     title  \n",
       "0  How to Help Keep Your Cash Flow Flowing  "
      ]
     },
     "execution_count": 68,
     "metadata": {},
     "output_type": "execute_result"
    }
   ],
   "source": [
    "pd.DataFrame(data)"
   ]
  },
  {
   "cell_type": "code",
   "execution_count": null,
   "metadata": {
    "collapsed": true
   },
   "outputs": [],
   "source": []
  }
 ],
 "metadata": {
  "anaconda-cloud": {},
  "kernelspec": {
   "display_name": "Python [Root]",
   "language": "python",
   "name": "Python [Root]"
  },
  "language_info": {
   "codemirror_mode": {
    "name": "ipython",
    "version": 2
   },
   "file_extension": ".py",
   "mimetype": "text/x-python",
   "name": "python",
   "nbconvert_exporter": "python",
   "pygments_lexer": "ipython2",
   "version": "2.7.12"
  }
 },
 "nbformat": 4,
 "nbformat_minor": 0
}
