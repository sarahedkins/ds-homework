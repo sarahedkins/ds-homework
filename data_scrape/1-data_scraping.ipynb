{
 "cells": [
  {
   "cell_type": "markdown",
   "metadata": {},
   "source": [
    "# 1. Data Scraping"
   ]
  },
  {
   "cell_type": "code",
   "execution_count": 1,
   "metadata": {
    "collapsed": true
   },
   "outputs": [],
   "source": [
    "import pandas as pd\n",
    "import numpy as np\n",
    "import urllib2\n",
    "import bs4\n",
    "from bs4 import BeautifulSoup\n",
    "import json\n",
    "from urllib2 import Request, urlopen, URLError"
   ]
  },
  {
   "cell_type": "code",
   "execution_count": 2,
   "metadata": {
    "collapsed": false
   },
   "outputs": [],
   "source": [
    "# List of Topic landing pages as starting points for collecting article URLS\n",
    "landing_pages =  [\n",
    "    \"https://www.americanexpress.com/us/small-business/openforum/wp-admin/admin-ajax.php?action=getTopicPageData&topicId=21622&pageType=topic\",\n",
    "    \"https://www.americanexpress.com/us/small-business/openforum/wp-admin/admin-ajax.php?action=getTopicPageData&topicId=20907&pageType=topic\",\n",
    "    \"https://www.americanexpress.com/us/small-business/openforum/wp-admin/admin-ajax.php?action=getTopicPageData&topicId=20911&pageType=topic\",\n",
    "    \"https://www.americanexpress.com/us/small-business/openforum/wp-admin/admin-ajax.php?action=getTopicPageData&topicId=20909&pageType=topic\",\n",
    "    \"https://www.americanexpress.com/us/small-business/openforum/wp-admin/admin-ajax.php?action=getTopicPageData&topicId=20909&pageType=topic\",\n",
    "    \"https://www.americanexpress.com/us/small-business/openforum/wp-admin/admin-ajax.php?action=getTopicPageData&topicId=2462&pageType=topic\",\n",
    "    \"https://www.americanexpress.com/us/small-business/openforum/wp-admin/admin-ajax.php?action=getTopicPageData&topicId=20883&pageType=topic\",\n",
    "    \"https://www.americanexpress.com/us/small-business/openforum/wp-admin/admin-ajax.php?action=getTopicPageData&topicId=5353&pageType=topic\",\n",
    "    \"https://www.americanexpress.com/us/small-business/openforum/wp-admin/admin-ajax.php?action=getTopicPageData&topicId=2731&pageType=topic\",\n",
    "    \"https://www.americanexpress.com/us/small-business/openforum/wp-admin/admin-ajax.php?action=getTopicPageData&topicId=21616&pageType=topic\",\n",
    "    \"https://www.americanexpress.com/us/small-business/openforum/wp-admin/admin-ajax.php?action=getTopicPageData&topicId=2755&pageType=topic\",\n",
    "    \"https://www.americanexpress.com/us/small-business/openforum/wp-admin/admin-ajax.php?action=getTopicPageData&topicId=8390&pageType=topic\",\n",
    "    \"https://www.americanexpress.com/us/small-business/openforum/wp-admin/admin-ajax.php?action=getTopicPageData&topicId=22060&pageType=topic\",\n",
    "    \"https://www.americanexpress.com/us/small-business/openforum/wp-admin/admin-ajax.php?action=getTopicPageData&topicId=3685&pageType=topic\",\n",
    "    \"https://www.americanexpress.com/us/small-business/openforum/wp-admin/admin-ajax.php?action=getTopicPageData&topicId=20882&pageType=topic\",\n",
    "    \"https://www.americanexpress.com/us/small-business/openforum/wp-admin/admin-ajax.php?action=getTopicPageData&topicId=11766&pageType=topic\",\n",
    "    \"https://www.americanexpress.com/us/small-business/openforum/wp-admin/admin-ajax.php?action=getTopicPageData&topicId=20889&pageType=topic\",\n",
    "    \"https://www.americanexpress.com/us/small-business/openforum/wp-admin/admin-ajax.php?action=getTopicPageData&topicId=21610&pageType=topic\",\n",
    "    \"https://www.americanexpress.com/us/small-business/openforum/wp-admin/admin-ajax.php?action=getTopicPageData&topicId=3083&pageType=topic\",\n",
    "    \"https://www.americanexpress.com/us/small-business/openforum/wp-admin/admin-ajax.php?action=getTopicPageData&topicId=4310&pageType=topic\",\n",
    "    \"https://www.americanexpress.com/us/small-business/openforum/wp-admin/admin-ajax.php?action=getTopicPageData&topicId=21620&pageType=topic\",\n",
    "    \"https://www.americanexpress.com/us/small-business/openforum/wp-admin/admin-ajax.php?action=getTopicPageData&topicId=2603&pageType=topic\",\n",
    "    \"https://www.americanexpress.com/us/small-business/openforum/wp-admin/admin-ajax.php?action=getTopicPageData&topicId=19417&pageType=topic\",\n",
    "    \"https://www.americanexpress.com/us/small-business/openforum/wp-admin/admin-ajax.php?action=getTopicPageData&topicId=2673&pageType=topic\",\n",
    "    \"https://www.americanexpress.com/us/small-business/openforum/wp-admin/admin-ajax.php?action=getTopicPageData&topicId=20970&pageType=topic\",\n",
    "    \"https://www.americanexpress.com/us/small-business/openforum/wp-admin/admin-ajax.php?action=getTopicPageData&topicId=2357&pageType=topic\",\n",
    "    \"https://www.americanexpress.com/us/small-business/openforum/wp-admin/admin-ajax.php?action=getTopicPageData&topicId=2538&pageType=topic\",\n",
    "    \"https://www.americanexpress.com/us/small-business/openforum/wp-admin/admin-ajax.php?action=getTopicPageData&topicId=2349&pageType=topic\",\n",
    "    \"https://www.americanexpress.com/us/small-business/openforum/wp-admin/admin-ajax.php?action=getTopicPageData&topicId=20897&pageType=topic\",\n",
    "    \"https://www.americanexpress.com/us/small-business/openforum/wp-admin/admin-ajax.php?action=getTopicPageData&topicId=20947&pageType=topic\",\n",
    "    \"https://www.americanexpress.com/us/small-business/openforum/wp-admin/admin-ajax.php?action=getTopicPageData&topicId=2341&pageType=topic\",\n",
    "    \"https://www.americanexpress.com/us/small-business/openforum/wp-admin/admin-ajax.php?action=getTopicPageData&topicId=10353&pageType=topic\",\n",
    "    \"https://www.americanexpress.com/us/small-business/openforum/wp-admin/admin-ajax.php?action=getTopicPageData&topicId=2813&pageType=topic\",\n",
    "    \"https://www.americanexpress.com/us/small-business/openforum/wp-admin/admin-ajax.php?action=getTopicPageData&topicId=22058&pageType=topic\",\n",
    "    \"https://www.americanexpress.com/us/small-business/openforum/wp-admin/admin-ajax.php?action=getTopicPageData&topicId=10359&pageType=topic\",\n",
    "    \"https://www.americanexpress.com/us/small-business/openforum/wp-admin/admin-ajax.php?action=getTopicPageData&topicId=11636&pageType=topic\",\n",
    "    \"https://www.americanexpress.com/us/small-business/openforum/wp-admin/admin-ajax.php?action=getTopicPageData&topicId=21617&pageType=topic\",\n",
    "    \"https://www.americanexpress.com/us/small-business/openforum/wp-admin/admin-ajax.php?action=getTopicPageData&topicId=14558&pageType=topic\",\n",
    "    \"https://www.americanexpress.com/us/small-business/openforum/wp-admin/admin-ajax.php?action=getTopicPageData&topicId=10349&pageType=topic\",\n",
    "    \"https://www.americanexpress.com/us/small-business/openforum/wp-admin/admin-ajax.php?action=getTopicPageData&topicId=2469&pageType=topic\",\n",
    "    \"https://www.americanexpress.com/us/small-business/openforum/wp-admin/admin-ajax.php?action=getTopicPageData&topicId=21615&pageType=topic\",\n",
    "    \"https://www.americanexpress.com/us/small-business/openforum/wp-admin/admin-ajax.php?action=getTopicPageData&topicId=16977&pageType=topic\",\n",
    "    \"https://www.americanexpress.com/us/small-business/openforum/wp-admin/admin-ajax.php?action=getTopicPageData&topicId=2758&pageType=topic\",\n",
    "    \"https://www.americanexpress.com/us/small-business/openforum/wp-admin/admin-ajax.php?action=getTopicPageData&topicId=21613&pageType=topic\",\n",
    "    \"https://www.americanexpress.com/us/small-business/openforum/wp-admin/admin-ajax.php?action=getTopicPageData&topicId=21607&pageType=topic\",\n",
    "    \"https://www.americanexpress.com/us/small-business/openforum/wp-admin/admin-ajax.php?action=getTopicPageData&topicId=21614&pageType=topic\",\n",
    "    \"https://www.americanexpress.com/us/small-business/openforum/wp-admin/admin-ajax.php?action=getTopicPageData&topicId=3562&pageType=topic\",\n",
    "    \"https://www.americanexpress.com/us/small-business/openforum/wp-admin/admin-ajax.php?action=getTopicPageData&topicId=22054&pageType=topic\",\n",
    "    \"https://www.americanexpress.com/us/small-business/openforum/wp-admin/admin-ajax.php?action=getTopicPageData&topicId=22055&pageType=topic\",\n",
    "    \"https://www.americanexpress.com/us/small-business/openforum/wp-admin/admin-ajax.php?action=getTopicPageData&topicId=15354&pageType=topic\",\n",
    "    \"https://www.americanexpress.com/us/small-business/openforum/wp-admin/admin-ajax.php?action=getTopicPageData&topicId=3374&pageType=topic\",\n",
    "    \"https://www.americanexpress.com/us/small-business/openforum/wp-admin/admin-ajax.php?action=getTopicPageData&topicId=2611&pageType=topic\",\n",
    "    \"https://www.americanexpress.com/us/small-business/openforum/wp-admin/admin-ajax.php?action=getTopicPageData&topicId=20891&pageType=topic\",\n",
    "    \"https://www.americanexpress.com/us/small-business/openforum/wp-admin/admin-ajax.php?action=getTopicPageData&topicId=16496&pageType=topic\",\n",
    "    \"https://www.americanexpress.com/us/small-business/openforum/wp-admin/admin-ajax.php?action=getTopicPageData&topicId=2381&pageType=topic\",\n",
    "    \"https://www.americanexpress.com/us/small-business/openforum/wp-admin/admin-ajax.php?action=getTopicPageData&topicId=3130&pageType=topic\",\n",
    "    \"https://www.americanexpress.com/us/small-business/openforum/wp-admin/admin-ajax.php?action=getTopicPageData&topicId=10365&pageType=topic\",\n",
    "    \"https://www.americanexpress.com/us/small-business/openforum/wp-admin/admin-ajax.php?action=getTopicPageData&topicId=22057&pageType=topic\",\n",
    "    \"https://www.americanexpress.com/us/small-business/openforum/wp-admin/admin-ajax.php?action=getTopicPageData&topicId=22056&pageType=topic\"\n",
    "]\n"
   ]
  },
  {
   "cell_type": "code",
   "execution_count": 3,
   "metadata": {
    "collapsed": false,
    "scrolled": false
   },
   "outputs": [],
   "source": [
    "# This section scrapes URLS from Topic landing pages\n",
    "request = Request('https://www.americanexpress.com/us/small-business/openforum/wp-admin/admin-ajax.php?action=getTopicPageData&topicId=20970&pageType=topic')\n",
    "scrapeURLS = []\n",
    "for url in landing_pages:\n",
    "    try:\n",
    "        response = urlopen(url)\n",
    "        resp = response.read()\n",
    "        scriptdata = json.loads(resp)\n",
    "        for article in scriptdata[\"getStartedData\"]:\n",
    "            if article.has_key('isArticle'):\n",
    "                if article['isArticle'] == True:\n",
    "                    scrapeURLS.append(article[\"permalink\"])    \n",
    "\n",
    "    except URLError, e:\n",
    "        print 'Got an error code:', e    "
   ]
  },
  {
   "cell_type": "code",
   "execution_count": 4,
   "metadata": {
    "collapsed": false
   },
   "outputs": [
    {
     "name": "stderr",
     "output_type": "stream",
     "text": [
      "/Users/sarahedkins/anaconda2/lib/python2.7/site-packages/bs4/__init__.py:166: UserWarning: No parser was explicitly specified, so I'm using the best available HTML parser for this system (\"lxml\"). This usually isn't a problem, but if you run this code on another system, or in a different virtual environment, it may use a different parser and behave differently.\n",
      "\n",
      "To get rid of this warning, change this:\n",
      "\n",
      " BeautifulSoup([your markup])\n",
      "\n",
      "to this:\n",
      "\n",
      " BeautifulSoup([your markup], \"lxml\")\n",
      "\n",
      "  markup_type=markup_type))\n"
     ]
    }
   ],
   "source": [
    "# This section takes scraped article URLS and puts their content into a dataframe.\n",
    "data = {\n",
    "    'title' : [],\n",
    "    'author_name' : [],\n",
    "    'article_section' : [],\n",
    "    'article_topic' : [],\n",
    "    'article_subtopic' : [],\n",
    "    'article_pubtime' : [],\n",
    "    'article_description' : [],\n",
    "    'article_tags' : [],\n",
    "    'content' : []\n",
    "}\n",
    "\n",
    "for website in scrapeURLS:\n",
    "    page = urllib2.urlopen(website)\n",
    "    soup = BeautifulSoup(page)\n",
    "    soup.prettify()\n",
    "    \n",
    "    title = soup.find(lambda tag: tag.name == 'meta' and 'property' in tag.attrs and tag.attrs['property'] == \"og:title\")\n",
    "    data['title'].append(title['content'])\n",
    "    \n",
    "    author_name = soup.find(lambda tag: tag.name == 'meta' and 'property' in tag.attrs and tag.attrs['property'] == \"article:author_name\")\n",
    "    data['author_name'].append(author_name['content'])\n",
    "    \n",
    "    article_section = soup.find(lambda tag: tag.name == 'meta' and 'property' in tag.attrs and tag.attrs['property'] == \"article:section\")\n",
    "    data['article_section'].append(article_section['content'])\n",
    "    \n",
    "    article_topic = soup.find(lambda tag: tag.name == 'meta' and 'property' in tag.attrs and tag.attrs['property'] == \"article:topic\")\n",
    "    data['article_topic'].append(article_topic['content'])\n",
    "    \n",
    "    article_subtopic = soup.find(lambda tag: tag.name == 'meta' and 'property' in tag.attrs and tag.attrs['property'] == \"article:sub_topic\")\n",
    "    data['article_subtopic'].append(article_subtopic['content'])\n",
    "\n",
    "    article_pubtime = soup.find(lambda tag: tag.name == 'meta' and 'property' in tag.attrs and tag.attrs['property'] == \"article:published_time\")\n",
    "    data['article_pubtime'].append(article_pubtime['content'])\n",
    "    \n",
    "    article_description = soup.find(lambda tag: tag.name == 'meta' and 'property' in tag.attrs and tag.attrs['property'] == \"og:description\")\n",
    "    data['article_description'].append(article_description['content'])\n",
    "    \n",
    "    article_tags = soup.find_all(lambda tag: tag.name == 'meta' and 'property' in tag.attrs and tag.attrs['property'] == \"article:tag\")\n",
    "    article_tags = [tag['content'] for tag in article_tags]\n",
    "    data['article_tags'].append(article_tags)\n",
    "    \n",
    "    content = soup.findAll('noscript', attrs={'id':'seo-output'})\n",
    "    data['content'].append(content[0])\n",
    "\n",
    "    \n",
    "data = pd.DataFrame(data)   "
   ]
  },
  {
   "cell_type": "code",
   "execution_count": 5,
   "metadata": {
    "collapsed": false
   },
   "outputs": [],
   "source": [
    "# Export the DataFrame to CSV file\n",
    "data.to_csv('article_data.csv', encoding='utf-8', index=False)"
   ]
  },
  {
   "cell_type": "code",
   "execution_count": null,
   "metadata": {
    "collapsed": true
   },
   "outputs": [],
   "source": []
  }
 ],
 "metadata": {
  "anaconda-cloud": {},
  "kernelspec": {
   "display_name": "Python [Root]",
   "language": "python",
   "name": "Python [Root]"
  },
  "language_info": {
   "codemirror_mode": {
    "name": "ipython",
    "version": 2
   },
   "file_extension": ".py",
   "mimetype": "text/x-python",
   "name": "python",
   "nbconvert_exporter": "python",
   "pygments_lexer": "ipython2",
   "version": "2.7.12"
  }
 },
 "nbformat": 4,
 "nbformat_minor": 0
}
