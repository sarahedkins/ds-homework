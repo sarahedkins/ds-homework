{
 "cells": [
  {
   "cell_type": "markdown",
   "metadata": {},
   "source": [
    "# 1. Data Scraping"
   ]
  },
  {
   "cell_type": "code",
   "execution_count": 1,
   "metadata": {
    "collapsed": true
   },
   "outputs": [],
   "source": [
    "import pandas as pd\n",
    "import numpy as np\n",
    "import urllib2\n",
    "import bs4\n",
    "from bs4 import BeautifulSoup\n",
    "import json"
   ]
  },
  {
   "cell_type": "code",
   "execution_count": 2,
   "metadata": {
    "collapsed": false
   },
   "outputs": [
    {
     "name": "stdout",
     "output_type": "stream",
     "text": [
      "Found the URL: #c-main-content\n",
      "Found the URL: https://www.americanexpress.com/?fs=y&inav=iNMblLogo\n",
      "Found the URL: https://www.americanexpress.com/?inav=NavLogo\n",
      "Found the URL: https://online.americanexpress.com/myca/acctmgmt/us/myaccountsummary.do?request_type=authreg_acctAccountSummary&sorted_index=0\n",
      "Found the URL: #\n",
      "Found the URL: https://online.americanexpress.com/myca/acctmgmt/us/myaccountsummary.do?request_type=authreg_acctAccountSummary&sorted_index=0&inav=menu_myacct_acctsum\n",
      "Found the URL: https://online.americanexpress.com/myca/estmt/us/list.do?request_type=authreg_Statement&BPIndex=0&sorted_index=0&Face=en_US&inav=menu_myacct_viewstmt\n",
      "Found the URL: https://online.americanexpress.com/myca/accountprofile/us/view.do?request_type=authreg_home&source=inav&sorted_index=0&inav=menu_myacct_profile_preference\n",
      "Found the URL: https://www.americanexpress.com/us/credit-cards/benefits/view-all/?sorted_index=0&inav=menu_myacct_cardbenefits\n",
      "Found the URL: #\n",
      "Found the URL: https://online.americanexpress.com/myca/acctmgmt/us/myaccountsummary.do?request_type=authreg_acctAccountSummary&sorted_index=0&inav=menu_myacct_smallbusiness\n",
      "Found the URL: https://www209.americanexpress.com/merchant/services/en_US/pages/home?inav=menu_myacct_merchantsolutions\n",
      "Found the URL: https://www347.americanexpress.com/ATWORK/en_US/atwork.do?pageAction=initialize&inav=menu_myacct_atwork\n",
      "Found the URL: #\n",
      "Found the URL: https://personalsavings.americanexpress.com/?inav=menu_myacct_personalsavings\n",
      "Found the URL: https://rewards.americanexpress.com/myca/loyalty/us/rewards/mracctmgmt/acctsumm?request_type=authreg_mr&Face=en_US&inav=menu_myacct_mrpointsum\n",
      "Found the URL: https://rewards.americanexpress.com/myca/loyalty/mobl/us/redeem/Landing.do?inav=menu_myacct_mrpointsum_mob\n",
      "Found the URL: https://www295.americanexpress.com/premium/credit-report-monitoring/home.do?SC=TJN&BC=0001&PC=0001&inav=menu_myacct_creditsecure\n",
      "Found the URL: https://www.bluebird.com/?solid=iNavMyAccountbb&inav=menu_myacct_bluebird&intlink=us-amex-prepaid-bluebird-inav_menu_myacct&inav=menu_myacct_bluebird\n",
      "Found the URL: https://www.americanexpress.com/us/content/foreign-exchange/international-payments/?src=Online&extlink=US-fxip-Payments&digi=onl_lin_nav&inav=menu_myacct_interpay\n",
      "Found the URL: https://www201.americanexpress.com/MobileWeb/index.jsp?intlink=selfservices_mobile\n",
      "Found the URL: https://www304.americanexpress.com/getthecard/home\n",
      "Found the URL: #\n",
      "Found the URL: https://www.americanexpress.com/us/credit-cards/?entryEEP=true&inav=menu_cards_pc_chargecreditcard\n",
      "Found the URL: https://www.americanexpress.com/us/credit-cards/compare/?entryEEP=true&inav=menu_cards_pc_viewallcards\n",
      "Found the URL: https://www.americanexpress.com/us/credit-cards/compare-cards/?inav=menu_cards_pc_comparecards\n",
      "Found the URL: https://www.americanexpress.com/us/credit-cards/compare-cards/travel-rewards-cards/?inav=menu_cards_pc_travelrewardscards\n",
      "Found the URL: https://www.americanexpress.com/us/credit-cards/compare-cards/cash-back/?inav=menu_cards_pc_cashbackcards\n",
      "Found the URL: https://www.americanexpress.com/us/credit-cards/compare-cards/rewards-cards/?inav=menu_cards_pc_rewardspointscards\n",
      "Found the URL: https://www262.americanexpress.com/mobile/credit-card/?entryEEP=true&inav=menu_cards_chargecreditcard_mob\n",
      "Found the URL: https://www262.americanexpress.com/mobile/credit-card/compare/?entryEEP=true&inav=menu_cards_viewallcards_mob\n",
      "Found the URL: https://www.americanexpress.com/us/credit-cards/compare-cards/?inav=menu_cards_comparecards_mob\n",
      "Found the URL: https://www.americanexpress.com/us/credit-cards/compare-cards/travel-rewards-cards/?inav=menu_cards_travelrewardscards_mob\n",
      "Found the URL: https://www.americanexpress.com/us/credit-cards/compare-cards/cash-back/?inav=menu_cards_cashbackcards_mob\n",
      "Found the URL: https://www.americanexpress.com/us/credit-cards/compare-cards/rewards-cards/?inav=menu_cards_rewardspointscards_mob\n",
      "Found the URL: #\n",
      "Found the URL: https://www.americanexpress.com/us/small-business/credit-cards/?inav=menu_cards_sbc_chargecreditcard\n",
      "Found the URL: https://www.americanexpress.com/us/small-business/credit-cards/top-credit-cards/?inav=menu_cards_sbc_comparecards\n",
      "Found the URL: https://www.americanexpress.com/us/small-business/credit-cards/see-all-business-credit-cards/?inav=menu_cards_sbc_viewallcards\n",
      "Found the URL: #\n",
      "Found the URL: https://business.americanexpress.com/us?inav=menu_cards_cs_cardprograms\n",
      "Found the URL: https://business.americanexpress.com/us/corporate-cards?inav=menu_cards_cs_corpcards\n",
      "Found the URL: https://business.americanexpress.com/us/find-best-corporate-credit-card?inav=menu_cards_cs_findcorpcard\n",
      "Found the URL: #\n",
      "Found the URL: https://www.americanexpress.com/serve/?SOLID=4AMEX&intlink=us-amex-home-header&inav=menu_cards_reloadablecards\n",
      "Found the URL: https://www.americanexpress.com/gift-cards/?inav=menu_cards_giftcards&source=Amex_iNavGiftCards\n",
      "Found the URL: https://www.americanexpress.com/gift-cards/?inav=menu_cards_giftcards_mob\n",
      "Found the URL: https://www.americanexpress.com/us/content/prepaid/view-all-cards.html?inav=menu_cards_view_all_cards\n",
      "Found the URL: https://axptravel.americanexpress.com/consumertravel/travel.do?\n",
      "Found the URL: #\n",
      "Found the URL: https://travel.americanexpress.com/home?inav=menu_travel_book\n",
      "Found the URL: https://travel.americanexpress.com/hotel?inav=menu_travel_book_hotels\n",
      "Found the URL: https://travel.americanexpress.com/flight?inav=menu_travel_book_flights\n",
      "Found the URL: https://travel.americanexpress.com/travel/finehotelsandresorts?inav=menu_travel_fhr\n",
      "Found the URL: http://travelspecialists.americanexpress.com?inav=menu_travel_findspecialist2_gem\n",
      "Found the URL: https://travelinsiders.americanexpress.com?inav=menu_travel_finddestination\n",
      "Found the URL: #\n",
      "Found the URL: https://www.amexglobalbusinesstravel.com\n",
      "Found the URL: https://www.americanexpress.com/us/content/foreign-exchange/?src=Online&extlink=US-fxip-Payments&digi=onl_lin_nav&inav=menu_business_fxserv\n",
      "Found the URL: #\n",
      "Found the URL: https://www295.americanexpress.com/premium/credit-card-travel-insurance/home.do?inav=menu_travel_protection\n",
      "Found the URL: https://www.americanexpress.com/us/content/prepaid/travelers-cheques.html?inav=menu_travel_cheques\n",
      "Found the URL: http://www.amextravelresources.com/?us_nu=dd&inav=menu_travel_findoffice\n",
      "Found the URL: https://www.americanexpress.com/us/content/card-benefits/global-assist-hotline.html?vgnextchannel=3c830da9846dd010VgnVCM10000084b3ad94RCRD&name=globalassist_allccsg_shareddetails&type=intBenefitDetail&inav=menu_travel_globalassist\n",
      "Found the URL: https://axptravel.americanexpress.com/consumertravel/travel.do?intlink=ctn-xs000049\n",
      "Found the URL: https://www.americanexpress.com/membershiprewards\n",
      "Found the URL: #\n",
      "Found the URL: https://rewards.americanexpress.com/myca/loyalty/us/catalog/mrhome.do?inav=menu_rewards_mrhome\n",
      "Found the URL: https://rewards.americanexpress.com/myca/loyalty/mobl/us/redeem/Landing.do?inav=menu_rewards_mrhome_mob\n",
      "Found the URL: https://rewards.americanexpress.com/myca/loyalty/us/catalog/mrhome.do?inav=menu_rewards_usepoints\n",
      "Found the URL: https://rewards.americanexpress.com/myca/loyalty/us/rewards/mracctmgmt/acctsumm?request_type=authreg_mr&Face=en_US&inav=menu_rewards_pointsummary\n",
      "Found the URL: #\n",
      "Found the URL: https://www.americanexpress.com/us/credit-cards/benefits/view-all/?inav=ExploreYourCardsRewardsProgram\n",
      "Found the URL: https://www295.americanexpress.com/entertainmentaccess/home.do?inav=menu_rewards_entertainment\n",
      "Found the URL: https://www295.americanexpress.com/entertainmentaccess/home.do?sourcePage=amexmobile&inav=menu_rewards_entertainment_mob\n",
      "Found the URL: https://www262.americanexpress.com/business-card-application/raf/200196-MIXED?inav=menu_rewards_referafriend\n",
      "Found the URL: https://www311.americanexpress.com/BOLWeb/bolfeOrder.do?request_type=orderProduct&promotion=ACP&program=ACPWEB&selleracctnbr=6430098999I&source=CMORightCard\n",
      "Found the URL: https://www.americanexpress.com/us/small-business/credit-cards/\n",
      "Found the URL: #\n",
      "Found the URL: https://www.americanexpress.com/us/small-business/?inav=menu_business_smallbusinesshome\n",
      "Found the URL: https://www.americanexpress.com/us/small-business/credit-cards/see-all-business-credit-cards/?inav=business_opensmallbusiness_ajviewallcards\n",
      "Found the URL: https://www262.americanexpress.com/business-card-application/supplementary/generic/apply/0-9-0?intlink=us-OPEN-navsupps&inav=menu_business_orderemployeecards\n",
      "Found the URL: https://www.americanexpress.com/us/small-business/openforum/explore/?inav=menu_business_openforum\n",
      "Found the URL: #\n",
      "Found the URL: https://business.americanexpress.com/us?inav=menu_business_corpcardprogram\n",
      "Found the URL: https://business.americanexpress.com/us/payment-solutions?inav=menu_business_paymentsols\n",
      "Found the URL: https://www.amexglobalbusinesstravel.com\n",
      "Found the URL: https://www.amexglobalbusinesstravel.com/meetings-and-events?inav=menu_business_meetingsevents\n",
      "Found the URL: https://www.americanexpress.com/us/content/foreign-exchange/international-payments/?src=Online&extlink=US-fxip-Payments&digi=onl_lin_nav&inav=menu_business_corpfx\n",
      "Found the URL: #\n",
      "Found the URL: https://www209.americanexpress.com/merchant/services/en_US/pages/home?inav=menu_business_merchhome\n",
      "Found the URL: https://www209.americanexpress.com/merchant/services/en_US/payment?inav=menu_business_solutionfinder\n",
      "Found the URL: https://www.americanexpress.com/us/content/merchant/support-services.html?inav=menu_business_merchsupport\n",
      "Found the URL: https://www209.americanexpress.com/merchant/services/en_US/accept-credit-cards?inav=menu_business_merchgetaccount\n",
      "Found the URL: http://ad.doubleclick.net/clk;282650642;109401302;q;pc=[TPAS_ID]?https://merchantfinancing.americanexpress.com/merchantfinancing/index.htm?intlink=db-&inav=menu_business_merch_financing\n",
      "Found the URL: #\n",
      "Found the URL: https://network.americanexpress.com/en/globalnetwork/default/?ref=prop&inav=menu_business_Issuers_Acquirers\n",
      "Found the URL: https://network.americanexpress.com/en/globalnetwork/default/?ref=prop&inav=menu_business_Providers_Developer\n",
      "Found the URL: https://www.openforum.com/?cid=inav_home\n",
      "Found the URL: https://www.americanexpress.com/change-country/?inav=iNavUtilChangeCountry\n",
      "Found the URL: https://online.americanexpress.com/myca/logon/us/action/LogonHandler?request_type=LogonHandler&Face=en_US&inav=iNavLnkLog\n",
      "Found the URL: https://online.americanexpress.com/myca/logon/us/action/LogLogoffHandler?request_type=LogLogoffHandler&Face=en_US&inav=Logout\n",
      "Found the URL: https://online.americanexpress.com/myca/mobl/us/static.do?page=un_help&content=Faq&inav=iNUtlFaq\n",
      "Found the URL: https://online.americanexpress.com/myca/mobl/us/static.do?page=un_help&content=CntUs&inav=iNUtlContact\n",
      "Found the URL: https://www.americanexpress.com/change-country/?inav=iNUtlChCountry\n",
      "Found the URL: #\n",
      "Found the URL: http://about.americanexpress.com/?inav=footer_about_american_express\n",
      "Found the URL: http://ir.americanexpress.com\n",
      "Found the URL: https://careers.americanexpress.com/?inav=footer_careers\n",
      "Found the URL: https://www.americanexpress.com/us/content/sitemap.html?inav=footer_sitemap\n",
      "Found the URL: https://www.americanexpress.com/us/content/contact-us/personal-cards.html?page=1&inav=footer_contact_us\n",
      "Found the URL: https://www.americanexpress.com/us/content/mobile/?inav=footer_mobile_mob\n",
      "Found the URL: https://www.facebook.com/AmericanExpressUS\n",
      "Found the URL: https://foursquare.com/americanexpress\n",
      "Found the URL: https://twitter.com/americanexpress\n",
      "Found the URL: http://www.youtube.com/user/AmericanExpress\n",
      "Found the URL: https://www.linkedin.com/company/american-express\n",
      "Found the URL: https://plus.google.com/102155862500050097100/\n",
      "Found the URL: https://www.americanexpress.com/us/credit-cards/?inav=footer_cards_personal\n",
      "Found the URL: https://www.americanexpress.com/us/small-business/credit-cards/?inav=footer_cards_sm_bus\n",
      "Found the URL: https://business.americanexpress.com/us?inav=footer_cards_corp\n",
      "Found the URL: https://www.americanexpress.com/serve/?SOLID=5AMEX&intlink=us-amex-home-footer&inav=footer_cards_reload\n",
      "Found the URL: https://personalsavings.americanexpress.com/?inav=footer_personal_savings\n",
      "Found the URL: https://www.americanexpress.com/gift-cards/?inav=menu_cards_giftcards&source=Amex_iNavFooter\n",
      "Found the URL: https://rewards.americanexpress.com/myca/loyalty/us/catalog/mrhome.do?inav=footer_mr\n",
      "Found the URL: https://www.americanexpress.com/us/content/mobile/?inav=footer_mobile\n",
      "Found the URL: https://www295.americanexpress.com/premium/credit-report-monitoring/home.do?SC=TJN&BC=0001&PC=0001&inav=footer_credit_secure\n",
      "Found the URL: https://www.americanexpress.com/serve/?SOLID=5AMEX&intlink=us-amex-home-footer&inav=footer_serve\n",
      "Found the URL: https://www.bluebird.com/?solid=BBDAMEXHPBBAR&inav=footer_bluebird&intlink=us-amex-prepaid-bluebird-inav_footer_bluebird&inav=footer_bluebird\n",
      "Found the URL: https://www209.americanexpress.com/merchant/services/en_US/accept-credit-cards?merch_van=ENT_FOOT&intlink=us-mer-Ent_Foot&inav=footer_accept_amex\n",
      "Found the URL: https://www262.americanexpress.com/business-card-application/raf/200196-MIXED?inav=footer_refer_friend\n",
      "Found the URL: https://www.americanexpress.com/us/content/supplier-management/?inav=footer_supplier_management\n",
      "Found the URL: https://www.americanexpress.com/us/content/legal-disclosures/website-rules-and-regulations.html?inav=footer_Terms_of_Use\n",
      "Found the URL: https://www.americanexpress.com/us/content/legal-disclosures/privacy-center.html?inav=footer_privacy_statement\n",
      "Found the URL: https://info.evidon.com/pub_info/1328?v=1&nt=1&nw=true&inav=footer_adChoices\n",
      "Found the URL: https://www.americanexpress.com/us/content/cardmember-agreements/all-us.html?inav=footer_card_agreements\n",
      "Found the URL: https://www.americanexpress.com/us/content/fraud-protection-center/home.html?inav=footer_fraud_protection_center\n",
      "Found the URL: https://www.americanexpress.com/us/content/financial-education/?inav=footer_credit_basics\n",
      "Found the URL: https://www.americanexpress.com/us/content/help/service-members-civil-relief.html?inav=footer_servicemember_benefits\n"
     ]
    },
    {
     "name": "stderr",
     "output_type": "stream",
     "text": [
      "/Users/sedkin/anaconda/lib/python2.7/site-packages/bs4/__init__.py:166: UserWarning: No parser was explicitly specified, so I'm using the best available HTML parser for this system (\"lxml\"). This usually isn't a problem, but if you run this code on another system, or in a different virtual environment, it may use a different parser and behave differently.\n",
      "\n",
      "To get rid of this warning, change this:\n",
      "\n",
      " BeautifulSoup([your markup])\n",
      "\n",
      "to this:\n",
      "\n",
      " BeautifulSoup([your markup], \"lxml\")\n",
      "\n",
      "  markup_type=markup_type))\n"
     ]
    },
    {
     "data": {
      "text/plain": [
       "u'<!DOCTYPE html PUBLIC \"-//W3C//DTD XHTML 1.0 Transitional//EN\" \"http://www.w3.org/TR/xhtml1/DTD/xhtml1-transitional.dtd\">\\n<html>\\n <head>\\n  <title>\\n   Accounts Receivable/Payable - OPEN Forum\\n  </title>\\n  <meta content=\"app-id=385957032, app-argument=ofwebsite://topics/accounts-receivablepayable/?ct=smartappbanner&amp;pt=13434\" name=\"apple-itunes-app\"/>\\n  <script src=\"https://www.americanexpress.com/adobedtm-openforum\">\\n  </script>\\n  <meta content=\"text/html; charset=utf-8\" http-equiv=\"Content-Type\"/>\\n  <meta content=\"english\" name=\"language\"/>\\n  <link href=\"https://www.americanexpress.com/us/small-business/openforum/wp-content/themes/mercury/_inc/styles/css/topics-83c5f2abf22308d23d1eb502afee0110.css\" rel=\"stylesheet\" type=\"text/css\"/>\\n  <meta content=\"Cash Flow\" name=\"description\"/>\\n  <meta content=\"Accounts Receivable/Payable\" name=\"keywords\"/>\\n  <meta content=\"topic\" name=\"contenttype\"/>\\n  <meta content=\" followers, 88 articles, 0 advice, 1 infographics, 0 questions, 16 videos\" name=\"topicinfo\"/>\\n  <meta content=\"20970\" name=\"followid\"/>\\n  <meta content=\"width=device-width, initial-scale=1.0 maximum-scale=1.0 user-scalable=no\" name=\"viewport\"/>\\n  <meta content=\"index,follow\" name=\"robots\"/>\\n  <meta content=\"Accounts Receivable/Payable\" property=\"og:title\"/>\\n  <meta content=\"website\" property=\"og:type\"/>\\n  <meta content=\"https://www.americanexpress.com/us/small-business/openforum/topics/accounts-receivablepayable/\" property=\"og:url\"/>\\n  <meta content=\"http://61d4c23b2d4274052dd4-1fd282026c3ff4ae711d11ecc95a1d47.r3.cf1.rackcdn.com/Facebook-ShareImage.jpg\" property=\"og:image\"/>\\n  <meta content=\"&lt;p&gt;Help control your cash flow. Learn how to help manage your invoices, discover efficient payments systems and ensure your vendors get paid on time.&lt;/p&gt;\" property=\"og:description\"/>\\n  <meta content=\"OPEN Forum\" property=\"og:site_name\"/>\\n  <link href=\"https://www.americanexpress.com/us/small-business/openforum/topics/accounts-receivablepayable/\" rel=\"canonical\"/>\\n </head>\\n <body>\\n  <div id=\"fb-root\">\\n  </div>\\n  <!--[if IE 9]>\\n        <script>\\n            document.body.className += \" ie9\";\\n        </script>\\n    <![endif]-->\\n  <!--[if !IE]><!-->\\n  <script>\\n   /* IE10 conditional comment */\\n            if (/*@cc_on!@*/false) {\\n                document.body.className += \" ie10\";\\n            }\\n  </script>\\n  <!--<![endif]-->\\n  <script>\\n   window.topicId = 20970;\\n        window.topicName = \"Accounts Receivable/Payable\";\\n        window.taxonomy = \"openforum_topic\";\\n        window.isThirdLevel = \"1\";\\n        window.taxonomyId = \"21011\";\\n  </script>\\n  <script type=\"text/javascript\">\\n   window.ajaxurl = \\'https://www.americanexpress.com/us/small-business/openforum/wp-admin/admin-ajax.php\\';\\n        window.ajaxurl_wpload = \\'https://www.americanexpress.com/us/small-business/openforum/wp-load.php\\';\\n        window.homeurl = \\'https://www.americanexpress.com/us/small-business/openforum\\';\\n  </script>\\n  <!-- <link rel=\"stylesheet\" href=\"//cdn.mobify.com/modules/pikabu/0.1.0/pikabu.css\"> -->\\n  <!--[if lt IE 10]>\\n        <script>window.location = window.homeurl + \\'/update-browser/\\';</script>\\n    <![endif]-->\\n  <!-- Open the mobile nav wrapper -->\\n  <div class=\"m-pikabu-viewport\" id=\"mobile-navigation-wrapper\">\\n   <!-- the left sidebar mobile nav -->\\n   <div class=\"m-pikabu-sidebar m-pikabu-left\" id=\"mobile-navigation-content\">\\n   </div>\\n   <!-- main content wrapper -->\\n   <div class=\"m-pikabu-container mobile-nav-main-page-wrapper\">\\n    <!-- Overlay is needed to have a big click area to close the sidebars -->\\n    <div class=\"m-pikabu-overlay\">\\n    </div>\\n    <div id=\"responsiveWrapper_main\">\\n     <div id=\"responsiveWrapper_sub\">\\n      <noindex>\\n       <!--Created by CMAX:iCM 11-03-2016 08:46:12 File: US_en_NGN_H_Generic.html DO NOT MODIFY-->\\n       <meta content=\"text/html; charset=utf-8\" http-equiv=\"Content-Type\"/>\\n       <script src=\"https://nexus.ensighten.com/amex/amexhead/Bootstrap.js\" type=\"text/javascript\">\\n       </script>\\n       <link href=\"https://www.aexp-static.com/nav/ngn/css/inav_responsive.css\" media=\"all\" rel=\"stylesheet\" type=\"text/css\"/>\\n       <!--[if lt IE 7]><div id=\"iNavNGI_Header\" class=\"ie ie6 us-en\"><![endif]-->\\n       <!--[if IE 7]><div id=\"iNavNGI_Header\" class=\"ie ie7 us-en\"><![endif]-->\\n       <!--[if IE 8]><div id=\"iNavNGI_Header\" class=\"ie ie8 us-en\"><![endif]-->\\n       <!--[if IE 9]><div id=\"iNavNGI_Header\" class=\"ie ie9 us-en\"><![endif]-->\\n       <!--[if IE 10]><div id=\"iNavNGI_Header\" class=\"ie ie10 us-en\"><![endif]-->\\n       <!--[if !IE]>-->\\n       <div class=\"us-en\" id=\"iNavNGI_Header\">\\n        <!--<![endif]-->\\n        <script id=\"iNavFontChecker\" type=\"text/javascript\">\\n         // <![CDATA[  if ((document.domain.indexOf(\\'americanexpress\\') + document.domain.indexOf(\\'aexp\\')) < 0) { document.getElementById(\\'iNavNGI_Header\\').className += \\' iNavDisableFont\\'; }\\t\\t\\t\\t\\r\\n\\t\\t\\t\\tif(NAV==null||typeof(NAV)==\"undefined\"){var NAV=new Object()}NAV.RWD={body:document.getElementsByTagName(\\'body\\')[0],head:document.getElementsByTagName(\\'head\\')[0],rwdView:false,deviceBucket:\"large\",deviceWidth:null,roundedWidth:null,isIE10:false,init:function(){var b=/*@cc_on!@*/false;var c=0;/*@cc_on if(/^10/.test(@_jscript_version)){c=10}@*/;if(b==true){if(c==10){NAV.RWD.body.className+=\\' ie10\\';NAV.RWD.isIE10=true}}if(NAV.RWD.body.className.match(/AXP_Responsive/i)){NAV.RWD.checkMetroMode();NAV.RWD.rwdView=true;NAV.RWD.deviceWidth=document.documentElement.clientWidth;NAV.RWD.roundedWidth=NAV.RWD.roundWidth(NAV.RWD.deviceWidth);NAV.RWD.setupClient(NAV.RWD.deviceWidth);window.onresize=function(a){NAV.RWD.deviceWidth=document.documentElement.clientWidth;NAV.RWD.roundedWidth=NAV.RWD.roundWidth(NAV.RWD.deviceWidth);NAV.RWD.setupClient(NAV.RWD.deviceWidth)}}},deviceBucketer:function(a){var b=\"large\";if(a<831){if(a<661){b=\"small\"}else{b=\"medium\"}}else{b=\"large\"}return b},roundWidth:function(a){var b=0;a%100>50?b=50:0;return Math.min(Math.floor(a/100)*100)+b},capitalize:function(a){return a.charAt(0).toUpperCase()+a.slice(1).toLowerCase()},setupClient:function(a){NAV.RWD.deviceBucket=NAV.RWD.deviceBucketer(a);var b=NAV.RWD.head.getElementsByTagName(\\'link\\');if(b.length!=0){for(j=0;j<b.length;j++){var c=b[j].getAttribute(\\'data-device-bucket\\');if(c){if(c==NAV.RWD.deviceBucket){b[j].href=b[j].getAttribute(\\'data-css-uri\\');b[j].setAttribute(\\'data-device-bucket\\',c+\\'-loaded\\')}}}}NAV.RWD.deviceBucket=NAV.RWD.capitalize(NAV.RWD.deviceBucket);NAV.RWD.body.className=NAV.RWD.body.className.replace(/\\\\bres_.*?\\\\b/g,\\'\\');NAV.RWD.body.className+=\" res_\"+NAV.RWD.deviceBucket;NAV.RWD.body.className+=\" res_\"+NAV.RWD.roundedWidth},isPluginSupport:function(){var a=null;try{a=!!new ActiveXObject(\"htmlfile\")}catch(e){a=false}return a},checkMetroMode:function(){if(NAV.RWD.isIE10){if(!isPluginSupport()){if(document.documentElement.clientWidth>660){var b=document.createElement(\"style\");b.setAttribute(\\'type\\',\\'text/css\\');b.appendChild(document.createTextNode(\"@-ms-viewport { width: device-width; }\"));try{NAV.RWD.head.insertBefore(b,NAV.RWD.head.childNodes[1])}catch(e){NAV.RWD.head.appendChild(b)}}}}function isPluginSupport(){var a=null;try{a=!!new ActiveXObject(\"htmlfile\")}catch(e){a=false}return a}}};NAV.RWD.init();\\r\\n\\t\\t\\t\\t// ]]>\\n        </script>\\n        <div id=\"skip-to-content\">\\n         <a accesskey=\"2\" href=\"#c-main-content\" tabindex=\"1\" title=\"Skip to main content\">\\n          Skip to main content\\n         </a>\\n        </div>\\n        <div id=\"iNMbWrap\">\\n         <div id=\"iNMbCont\">\\n          <div id=\"iNMenuIco\">\\n           <input class=\"iNMb iNMenu\" data-location=\"javascript://\" id=\"iNOpBtn\" title=\"Open Menu\" type=\"button\" value=\"Open Menu\"/>\\n          </div>\\n          <div id=\"iNAmexLogo\">\\n           <a class=\"iNMb\" href=\"https://www.americanexpress.com/?fs=y&amp;inav=iNMblLogo\" id=\"iNMblLogo\" title=\"American Express - Link to home\">\\n            <img alt=\"American Express Logo\" src=\"https://www.aexp-static.com/nav/ngn/img/clear.gif\" title=\"American Express Logo\"/>\\n           </a>\\n          </div>\\n          <div id=\"iNLogIco\">\\n           <input class=\"iNMb iNLog\" data-location=\"https://online.americanexpress.com/myca/logon/us/action/LogLogoffHandler?request_type=LogLogoffHandler&amp;Face=en_US&amp;inav=iNLogBtn\" id=\"iNLogBtn\" title=\"\" type=\"button\" value=\"Logout\"/>\\n          </div>\\n         </div>\\n        </div>\\n        <div id=\"iNavHdWrap\">\\n         <span class=\"iNAcsTxt\" id=\"iNMenuStart\" tabindex=\"-1\">\\n          Start of menu\\n         </span>\\n         <div id=\"ioaSearch\">\\n         </div>\\n         <div id=\"iNCardSelector\">\\n         </div>\\n         <div id=\"iNavHeaderCont\">\\n          <div id=\"iNavLogo\">\\n           <a accesskey=\"0\" class=\"iNDef\" href=\"https://www.americanexpress.com/?inav=NavLogo\" id=\"\" title=\"\">\\n            <img alt=\"\" class=\"amexLogo\" src=\"https://www.aexp-static.com/nav/ngn/img/logo_bluebox_1x.gif\" title=\"American Express US: homepage\"/>\\n           </a>\\n          </div>\\n          <div id=\"iNavHeaderContFloat\">\\n           <div id=\"iNavT1Nav\">\\n            <ul id=\"iNavTier1Nav\">\\n             <li>\\n              <a accesskey=\"1\" class=\"iNSortedIndex\" href=\"https://online.americanexpress.com/myca/acctmgmt/us/myaccountsummary.do?request_type=authreg_acctAccountSummary&amp;sorted_index=0\" id=\"iNav_MyAccount\" title=\"\">\\n               <span class=\"iNavT1LtDoor\">\\n               </span>\\n               <span class=\"iNGblLnk\">\\n                <span class=\"icon\">\\n                </span>\\n                <span class=\"iNavLinkLabel\">\\n                 My Account\\n                </span>\\n               </span>\\n               <span class=\"iNavT1RtDoor\">\\n               </span>\\n              </a>\\n              <div class=\"iNavT2NavCont iNav_MyAccount\" id=\"iNav_secPanel1\">\\n               <span class=\"iNavTabInfo\">\\n                You are under My Account tab\\n               </span>\\n               <div class=\"iNavT2Nav\">\\n                <div class=\"iNavCols\">\\n                 <div class=\"iNavCategory\">\\n                  <a class=\"iNCat\" href=\"#\" id=\"iNCatCardAcct\" title=\"\">\\n                   Card Accounts\\n                   <span class=\"iNAcsTxt\">\\n                    Expand / Collapse\\n                   </span>\\n                  </a>\\n                 </div>\\n                 <ul class=\"iNavTier2Nav\">\\n                  <li class=\"iNDef\">\\n                   <a class=\"iNSortedIndex\" href=\"https://online.americanexpress.com/myca/acctmgmt/us/myaccountsummary.do?request_type=authreg_acctAccountSummary&amp;sorted_index=0&amp;inav=menu_myacct_acctsum\" id=\"menu_myacct_acctsum\" title=\"\">\\n                    Account Home\\n                   </a>\\n                  </li>\\n                  <li class=\"iNDef\">\\n                   <a class=\"iNSortedIndex\" href=\"https://online.americanexpress.com/myca/estmt/us/list.do?request_type=authreg_Statement&amp;BPIndex=0&amp;sorted_index=0&amp;Face=en_US&amp;inav=menu_myacct_viewstmt\" id=\"menu_myacct_viewstmt\" title=\"\">\\n                    Statements &amp; Activity\\n                   </a>\\n                  </li>\\n                  <li class=\"iNDef\">\\n                   <a class=\"iNSortedIndex\" href=\"https://online.americanexpress.com/myca/accountprofile/us/view.do?request_type=authreg_home&amp;source=inav&amp;sorted_index=0&amp;inav=menu_myacct_profile_preference\" id=\"menu_myacct_profile_preference\" title=\"\">\\n                    Account Services\\n                   </a>\\n                  </li>\\n                  <li class=\"iNDef\">\\n                   <a class=\"iNSortedIndex\" href=\"https://www.americanexpress.com/us/credit-cards/benefits/view-all/?sorted_index=0&amp;inav=menu_myacct_cardbenefits\" id=\"menu_myacct_cardbenefits\" title=\"\">\\n                    Card Benefits\\n                   </a>\\n                  </li>\\n                 </ul>\\n                </div>\\n                <div class=\"iNavCols\">\\n                 <div class=\"iNavCategory\">\\n                  <a class=\"iNCat\" href=\"#\" id=\"iNCatBusinessAcct\" title=\"\">\\n                   Business Accounts\\n                   <span class=\"iNAcsTxt\">\\n                    Expand / Collapse\\n                   </span>\\n                  </a>\\n                 </div>\\n                 <ul class=\"iNavTier2Nav\">\\n                  <li class=\"iNDef\">\\n                   <a class=\"iNSortedIndex\" href=\"https://online.americanexpress.com/myca/acctmgmt/us/myaccountsummary.do?request_type=authreg_acctAccountSummary&amp;sorted_index=0&amp;inav=menu_myacct_smallbusiness\" id=\"menu_myacct_smallbusiness\" title=\"\">\\n                    OPEN Small Business\\n                   </a>\\n                  </li>\\n                  <li class=\"iNDef\">\\n                   <a href=\"https://www209.americanexpress.com/merchant/services/en_US/pages/home?inav=menu_myacct_merchantsolutions\" id=\"menu_myacct_merchantsolutions\" title=\"\">\\n                    Merchant Home\\n                   </a>\\n                  </li>\\n                  <li class=\"iNDef\">\\n                   <a href=\"https://www347.americanexpress.com/ATWORK/en_US/atwork.do?pageAction=initialize&amp;inav=menu_myacct_atwork\" id=\"menu_myacct_atwork\" title=\"\">\\n                    American Express @ Work\\n                   </a>\\n                  </li>\\n                 </ul>\\n                </div>\\n                <div class=\"iNavCols\">\\n                 <div class=\"iNavCategory\">\\n                  <a class=\"iNCat\" href=\"#\" id=\"iNCatOtherAcct\" title=\"\">\\n                   Other Accounts\\n                   <span class=\"iNAcsTxt\">\\n                    Expand / Collapse\\n                   </span>\\n                  </a>\\n                 </div>\\n                 <ul class=\"iNavTier2Nav\">\\n                  <li class=\"iNDef\">\\n                   <a href=\"https://personalsavings.americanexpress.com/?inav=menu_myacct_personalsavings\" id=\"menu_myacct_personalsavings\" title=\"\">\\n                    Savings Accounts and CDs\\n                   </a>\\n                  </li>\\n                  <li class=\"iNNMb\">\\n                   <a href=\"https://rewards.americanexpress.com/myca/loyalty/us/rewards/mracctmgmt/acctsumm?request_type=authreg_mr&amp;Face=en_US&amp;inav=menu_myacct_mrpointsum\" id=\"menu_myacct_mrpointsum\" title=\"\">\\n                    Membership Rewards\\xae Point Summary\\n                   </a>\\n                  </li>\\n                  <li class=\"iNMb\">\\n                   <a href=\"https://rewards.americanexpress.com/myca/loyalty/mobl/us/redeem/Landing.do?inav=menu_myacct_mrpointsum_mob\" id=\"menu_myacct_mrpointsum_mob\" title=\"\">\\n                    Membership Rewards\\xae Point Summary\\n                   </a>\\n                  </li>\\n                  <li class=\"iNDef\">\\n                   <a href=\"https://www295.americanexpress.com/premium/credit-report-monitoring/home.do?SC=TJN&amp;BC=0001&amp;PC=0001&amp;inav=menu_myacct_creditsecure\" id=\"menu_myacct_creditsecure\" title=\"\">\\n                    CreditSecure\\n                   </a>\\n                  </li>\\n                  <li class=\"iNDef\">\\n                   <a href=\"https://www.bluebird.com/?solid=iNavMyAccountbb&amp;inav=menu_myacct_bluebird&amp;intlink=us-amex-prepaid-bluebird-inav_menu_myacct&amp;inav=menu_myacct_bluebird\" id=\"menu_myacct_bluebird\" title=\"Bluebird Alternative to Banking - Link will open in a new window\">\\n                    Bluebird Alternative to Banking\\n                   </a>\\n                  </li>\\n                  <li class=\"iNDef\">\\n                   <a href=\"https://www.americanexpress.com/us/content/foreign-exchange/international-payments/?src=Online&amp;extlink=US-fxip-Payments&amp;digi=onl_lin_nav&amp;inav=menu_myacct_interpay\" id=\"menu_myacct_interpay\" title=\"International payments for businesses\">\\n                    International Payments for Businesses\\n                   </a>\\n                  </li>\\n                 </ul>\\n                </div>\\n                <div class=\"iNavCols iNavLast\">\\n                 <div class=\"iNavCategory\" id=\"iNavPZNHd1\">\\n                  Mobile Account Management\\n                 </div>\\n                 <div class=\"iNavPZNContentBox\">\\n                  <div class=\"iNavPZNContent\" id=\"iNavPZNContent1\">\\n                   <div class=\"iNavPZNImg\">\\n                    <img alt=\"\" class=\"defOffer\" src=\"https://www.aexp-static.com/nav/ngn/img/clear.gif\" title=\"\"/>\\n                   </div>\\n                   <div class=\"iNavPZNCnt\">\\n                    Check your balance, review  recent transactions and pay  your bill on the go.\\n                    <br/>\\n                    <a href=\"https://www201.americanexpress.com/MobileWeb/index.jsp?intlink=selfservices_mobile\" id=\"menu_xsell_gomobile\" title=\"\">\\n                     Go Mobile\\n                    </a>\\n                   </div>\\n                  </div>\\n                 </div>\\n                </div>\\n               </div>\\n              </div>\\n             </li>\\n             <li>\\n              <a href=\"https://www304.americanexpress.com/getthecard/home\" id=\"iNav_Cards\" title=\"\">\\n               <span class=\"iNavT1LtDoor\">\\n               </span>\\n               <span class=\"iNGblLnk\">\\n                <span class=\"icon\">\\n                </span>\\n                <span class=\"iNavLinkLabel\">\\n                 CARDS\\n                </span>\\n               </span>\\n               <span class=\"iNavT1RtDoor\">\\n               </span>\\n              </a>\\n              <div class=\"iNavT2NavCont iNav_Cards\" id=\"iNav_secPanel2\">\\n               <span class=\"iNavTabInfo\">\\n                You are under Cards tab\\n               </span>\\n               <div class=\"iNavT2Nav\">\\n                <div class=\"iNavCols\">\\n                 <div class=\"iNavCategory\">\\n                  <a class=\"iNCat\" href=\"#\" id=\"iNCatPersonalCard\" title=\"\">\\n                   Personal Cards\\n                   <span class=\"iNAcsTxt\">\\n                    Expand / Collapse\\n                   </span>\\n                  </a>\\n                 </div>\\n                 <ul class=\"iNavTier2Nav\">\\n                  <li class=\"iNNMb\">\\n                   <a href=\"https://www.americanexpress.com/us/credit-cards/?entryEEP=true&amp;inav=menu_cards_pc_chargecreditcard\" id=\"menu_cards_pc_chargecreditcard\" title=\"\">\\n                    Charge &amp; Credit Card Offers\\n                   </a>\\n                  </li>\\n                  <li class=\"iNNMb\">\\n                   <a href=\"https://www.americanexpress.com/us/credit-cards/compare/?entryEEP=true&amp;inav=menu_cards_pc_viewallcards\" id=\"menu_cards_pc_viewallcards\" title=\"\">\\n                    View All Personal Charge &amp; Credit Cards\\n                   </a>\\n                  </li>\\n                  <li class=\"iNNMb\">\\n                   <a href=\"https://www.americanexpress.com/us/credit-cards/compare-cards/?inav=menu_cards_pc_comparecards\" id=\"menu_cards_pc_comparecards\" title=\"\">\\n                    Compare Charge &amp; Credit Cards\\n                   </a>\\n                  </li>\\n                  <li class=\"iNNMb\">\\n                   <a href=\"https://www.americanexpress.com/us/credit-cards/compare-cards/travel-rewards-cards/?inav=menu_cards_pc_travelrewardscards\" id=\"menu_cards_pc_travelrewardscards\" title=\"\">\\n                    Travel Rewards Cards\\n                   </a>\\n                  </li>\\n                  <li class=\"iNNMb\">\\n                   <a href=\"https://www.americanexpress.com/us/credit-cards/compare-cards/cash-back/?inav=menu_cards_pc_cashbackcards\" id=\"menu_cards_pc_cashbackcards\" title=\"\">\\n                    Cash Back Credit Cards\\n                   </a>\\n                  </li>\\n                  <li class=\"iNNMb\">\\n                   <a href=\"https://www.americanexpress.com/us/credit-cards/compare-cards/rewards-cards/?inav=menu_cards_pc_rewardspointscards\" id=\"menu_cards_pc_rewardspointscards\" title=\"\">\\n                    Rewards Points Cards\\n                   </a>\\n                  </li>\\n                  <li class=\"iNMb\">\\n                   <a href=\"https://www262.americanexpress.com/mobile/credit-card/?entryEEP=true&amp;inav=menu_cards_chargecreditcard_mob\" id=\"menu_cards_chargecreditcard_mob\" title=\"\">\\n                    Charge &amp; Credit Card Offers\\n                   </a>\\n                  </li>\\n                  <li class=\"iNMb\">\\n                   <a href=\"https://www262.americanexpress.com/mobile/credit-card/compare/?entryEEP=true&amp;inav=menu_cards_viewallcards_mob\" id=\"menu_cards_viewallcards_mob\" title=\"\">\\n                    View All Personal Charge &amp; Credit Cards\\n                   </a>\\n                  </li>\\n                  <li class=\"iNMb\">\\n                   <a href=\"https://www.americanexpress.com/us/credit-cards/compare-cards/?inav=menu_cards_comparecards_mob\" id=\"menu_cards_comparecards_mob\" title=\"\">\\n                    Compare Charge &amp; Credit Cards\\n                   </a>\\n                  </li>\\n                  <li class=\"iNMb\">\\n                   <a href=\"https://www.americanexpress.com/us/credit-cards/compare-cards/travel-rewards-cards/?inav=menu_cards_travelrewardscards_mob\" id=\"menu_cards_travelrewardscards_mob\" title=\"\">\\n                    Travel Rewards Cards\\n                   </a>\\n                  </li>\\n                  <li class=\"iNMb\">\\n                   <a href=\"https://www.americanexpress.com/us/credit-cards/compare-cards/cash-back/?inav=menu_cards_cashbackcards_mob\" id=\"menu_cards_cashbackcards_mob\" title=\"\">\\n                    Cash Back Credit Cards\\n                   </a>\\n                  </li>\\n                  <li class=\"iNMb\">\\n                   <a href=\"https://www.americanexpress.com/us/credit-cards/compare-cards/rewards-cards/?inav=menu_cards_rewardspointscards_mob\" id=\"menu_cards_rewardspointscards_mob\" title=\"\">\\n                    Rewards Points Cards\\n                   </a>\\n                  </li>\\n                 </ul>\\n                </div>\\n                <div class=\"iNavCols\">\\n                 <div class=\"iNavCategory\">\\n                  <a class=\"iNCat\" href=\"#\" id=\"iNCatSBCard\" title=\"\">\\n                   Small Business Cards\\n                   <span class=\"iNAcsTxt\">\\n                    Expand / Collapse\\n                   </span>\\n                  </a>\\n                 </div>\\n                 <ul class=\"iNavTier2Nav\">\\n                  <li class=\"iNDef\">\\n                   <a href=\"https://www.americanexpress.com/us/small-business/credit-cards/?inav=menu_cards_sbc_chargecreditcard\" id=\"menu_cards_sbc_chargecreditcard\" title=\"\">\\n                    Small Business Charge &amp; Credit Cards\\n                   </a>\\n                  </li>\\n                  <li class=\"iNDef\">\\n                   <a href=\"https://www.americanexpress.com/us/small-business/credit-cards/top-credit-cards/?inav=menu_cards_sbc_comparecards\" id=\"menu_cards_sbc_comparecards\" title=\"\">\\n                    Compare Cards by Benefits\\n                   </a>\\n                  </li>\\n                  <li class=\"iNDef\">\\n                   <a href=\"https://www.americanexpress.com/us/small-business/credit-cards/see-all-business-credit-cards/?inav=menu_cards_sbc_viewallcards\" id=\"menu_cards_sbc_viewallcards\" title=\"\">\\n                    View All Small Business Cards\\n                   </a>\\n                  </li>\\n                 </ul>\\n                </div>\\n                <div class=\"iNavCols\">\\n                 <div class=\"iNavCategory\">\\n                  <a class=\"iNCat\" href=\"#\" id=\"iNCatCorpCard\" title=\"\">\\n                   Corporate Cards\\n                   <span class=\"iNAcsTxt\">\\n                    Expand / Collapse\\n                   </span>\\n                  </a>\\n                 </div>\\n                 <ul class=\"iNavTier2Nav\">\\n                  <li class=\"iNDef\">\\n                   <a href=\"https://business.americanexpress.com/us?inav=menu_cards_cs_cardprograms\" id=\"menu_cards_cs_cardprograms\" title=\"\">\\n                    Corporate Cards\\n                   </a>\\n                  </li>\\n                  <li class=\"iNDef\">\\n                   <a href=\"https://business.americanexpress.com/us/corporate-cards?inav=menu_cards_cs_corpcards\" id=\"menu_cards_cs_corpcards\" title=\"\">\\n                    Compare Corporate Cards\\n                   </a>\\n                  </li>\\n                  <li class=\"iNDef\">\\n                   <a href=\"https://business.americanexpress.com/us/find-best-corporate-credit-card?inav=menu_cards_cs_findcorpcard\" id=\"menu_cards_cs_findcorpcard\" title=\"\">\\n                    Find a Custom Corporate Solution\\n                   </a>\\n                  </li>\\n                 </ul>\\n                </div>\\n                <div class=\"iNavCols iNavLast\">\\n                 <div class=\"iNavCategory\">\\n                  <a class=\"iNCat\" href=\"#\" id=\"iNCatPrepaidCard\" title=\"\">\\n                   Prepaid Cards\\n                   <span class=\"iNAcsTxt\">\\n                    Expand / Collapse\\n                   </span>\\n                  </a>\\n                 </div>\\n                 <ul class=\"iNavTier2Nav\">\\n                  <li class=\"iNDef\">\\n                   <a href=\"https://www.americanexpress.com/serve/?SOLID=4AMEX&amp;intlink=us-amex-home-header&amp;inav=menu_cards_reloadablecards\" id=\"menu_cards_reloadablecards\" title=\"\">\\n                    Prepaid Debit Cards\\n                   </a>\\n                  </li>\\n                  <li class=\"iNNMb\">\\n                   <a href=\"https://www.americanexpress.com/gift-cards/?inav=menu_cards_giftcards&amp;source=Amex_iNavGiftCards\" id=\"menu_cards_giftcards\" title=\"\">\\n                    Gift Cards\\n                   </a>\\n                  </li>\\n                  <li class=\"iNMb\">\\n                   <a href=\"https://www.americanexpress.com/gift-cards/?inav=menu_cards_giftcards_mob\" id=\"menu_cards_giftcards_mob\" title=\"\">\\n                    Gift Cards\\n                   </a>\\n                  </li>\\n                  <li class=\"iNDef\">\\n                   <a href=\"https://www.americanexpress.com/us/content/prepaid/view-all-cards.html?inav=menu_cards_view_all_cards\" id=\"menu_cards_view_all_cards\" title=\"\">\\n                    View All Prepaid &amp; Gift Cards\\n                   </a>\\n                  </li>\\n                 </ul>\\n                </div>\\n               </div>\\n              </div>\\n             </li>\\n             <li>\\n              <a href=\"https://axptravel.americanexpress.com/consumertravel/travel.do?\" id=\"iNav_Travel\" title=\"\">\\n               <span class=\"iNavT1LtDoor\">\\n               </span>\\n               <span class=\"iNGblLnk\">\\n                <span class=\"icon\">\\n                </span>\\n                <span class=\"iNavLinkLabel\">\\n                 TRAVEL\\n                </span>\\n               </span>\\n               <span class=\"iNavT1RtDoor\">\\n               </span>\\n              </a>\\n              <div class=\"iNavT2NavCont iNav_Travel\" id=\"iNav_secPanel3\">\\n               <span class=\"iNavTabInfo\">\\n                You are under Travel tab\\n               </span>\\n               <div class=\"iNavT2Nav\">\\n                <div class=\"iNavCols\">\\n                 <div class=\"iNavCategory\">\\n                  <a class=\"iNCat\" href=\"#\" id=\"iNCatPersonalTravel\" title=\"\">\\n                   Personal Travel\\n                   <span class=\"iNAcsTxt\">\\n                    Expand / Collapse\\n                   </span>\\n                  </a>\\n                 </div>\\n                 <ul class=\"iNavTier2Nav\">\\n                  <li class=\"iNNMb\">\\n                   <a href=\"https://travel.americanexpress.com/home?inav=menu_travel_book\" id=\"menu_travel_book\" title=\"\">\\n                    Book A Trip\\n                   </a>\\n                  </li>\\n                  <li class=\"iNMb\">\\n                   <a href=\"https://travel.americanexpress.com/hotel?inav=menu_travel_book_hotels\" id=\"menu_travel_book_hotels\" title=\"\">\\n                    Book Hotels\\n                   </a>\\n                  </li>\\n                  <li class=\"iNMb\">\\n                   <a href=\"https://travel.americanexpress.com/flight?inav=menu_travel_book_flights\" id=\"menu_travel_book_flights\" title=\"\">\\n                    Book Flights, Cars, Cruises, Vacations\\n                   </a>\\n                  </li>\\n                  <li class=\"iNNMb\">\\n                   <a href=\"https://travel.americanexpress.com/travel/finehotelsandresorts?inav=menu_travel_fhr\" id=\"menu_travel_fhr\" title=\"\">\\n                    Fine Hotels &amp; Resorts\\n                   </a>\\n                  </li>\\n                  <li class=\"iNNMb\">\\n                   <a href=\"http://travelspecialists.americanexpress.com?inav=menu_travel_findspecialist2_gem\" id=\"menu_travel_findspecialist2_gem\" title=\"\">\\n                    Benefits of a Travel Specialist\\n                   </a>\\n                  </li>\\n                  <li class=\"iNNMb\">\\n                   <a href=\"https://travelinsiders.americanexpress.com?inav=menu_travel_finddestination\" id=\"menu_travel_finddestination\" title=\"\">\\n                    Find a Destination Expert\\n                   </a>\\n                  </li>\\n                 </ul>\\n                </div>\\n                <div class=\"iNavCols\">\\n                 <div class=\"iNavCategory\">\\n                  <a class=\"iNCat\" href=\"#\" id=\"iNCatBusinessTravel\" title=\"\">\\n                   Business Travel\\n                   <span class=\"iNAcsTxt\">\\n                    Expand / Collapse\\n                   </span>\\n                  </a>\\n                 </div>\\n                 <ul class=\"iNavTier2Nav\">\\n                  <li class=\"iNDef\">\\n                   <a href=\"https://www.amexglobalbusinesstravel.com\" id=\"menu_business_corptravel\" title=\"\">\\n                    Corporate Travel Solutions\\n                   </a>\\n                  </li>\\n                  <li class=\"iNDef\">\\n                   <a href=\"https://www.americanexpress.com/us/content/foreign-exchange/?src=Online&amp;extlink=US-fxip-Payments&amp;digi=onl_lin_nav&amp;inav=menu_business_fxserv\" id=\"menu_business_fxserv\" title=\"\">\\n                    Foreign Exchange Services\\n                   </a>\\n                  </li>\\n                 </ul>\\n                </div>\\n                <div class=\"iNavCols\">\\n                 <div class=\"iNavCategory\">\\n                  <a class=\"iNCat\" href=\"#\" id=\"iNCatOthrTravelServices\" title=\"\">\\n                   Other Travel Services\\n                   <span class=\"iNAcsTxt\">\\n                    Expand / Collapse\\n                   </span>\\n                  </a>\\n                 </div>\\n                 <ul class=\"iNavTier2Nav\">\\n                  <li class=\"iNDef\">\\n                   <a href=\"https://www295.americanexpress.com/premium/credit-card-travel-insurance/home.do?inav=menu_travel_protection\" id=\"menu_travel_protection\" title=\"\">\\n                    Travel Insurance\\n                   </a>\\n                  </li>\\n                  <li class=\"iNDef\">\\n                   <a href=\"https://www.americanexpress.com/us/content/prepaid/travelers-cheques.html?inav=menu_travel_cheques\" id=\"menu_travel_cheques\" title=\"\">\\n                    Travelers Cheques\\n                   </a>\\n                  </li>\\n                  <li class=\"iNDef\">\\n                   <a href=\"http://www.amextravelresources.com/?us_nu=dd&amp;inav=menu_travel_findoffice\" id=\"menu_travel_findoffice\" title=\"\">\\n                    Find a Travel Service Office\\n                   </a>\\n                  </li>\\n                  <li class=\"iNDef\">\\n                   <a href=\"https://www.americanexpress.com/us/content/card-benefits/global-assist-hotline.html?vgnextchannel=3c830da9846dd010VgnVCM10000084b3ad94RCRD&amp;name=globalassist_allccsg_shareddetails&amp;type=intBenefitDetail&amp;inav=menu_travel_globalassist\" id=\"menu_travel_globalassist\" title=\"\">\\n                    Global Assist Hotline\\n                   </a>\\n                  </li>\\n                 </ul>\\n                </div>\\n                <div class=\"iNavCols iNavLast\">\\n                 <div class=\"iNavCategory\" id=\"iNavPZNHd3\">\\n                  Great Escapes Start Here\\n                 </div>\\n                 <div class=\"iNavPZNContentBox\">\\n                  <div class=\"iNavPZNContent\" id=\"iNavPZNContent3\">\\n                   <div class=\"iNavPZNImg\">\\n                    <img alt=\"Book a Trip\" class=\"defOffer\" src=\"https://www.aexp-static.com/nav/ngn/img/clear.gif\" title=\"Book a Trip\"/>\\n                   </div>\\n                   <div class=\"iNavPZNCnt\">\\n                    Save when you book your next trip online with American Express Travel.\\n                    <br/>\\n                    <a href=\"https://axptravel.americanexpress.com/consumertravel/travel.do?intlink=ctn-xs000049\" id=\"menu_xsell_booktravel\" title=\"\">\\n                     Book Now\\n                    </a>\\n                   </div>\\n                  </div>\\n                 </div>\\n                </div>\\n               </div>\\n              </div>\\n             </li>\\n             <li>\\n              <a href=\"https://www.americanexpress.com/membershiprewards\" id=\"iNav_Rewards\" title=\"\">\\n               <span class=\"iNavT1LtDoor\">\\n               </span>\\n               <span class=\"iNGblLnk\">\\n                <span class=\"icon\">\\n                </span>\\n                <span class=\"iNavLinkLabel\">\\n                 REWARDS\\n                </span>\\n               </span>\\n               <span class=\"iNavT1RtDoor\">\\n               </span>\\n              </a>\\n              <div class=\"iNavT2NavCont iNav_Rewards\" id=\"iNav_secPanel4\">\\n               <span class=\"iNavTabInfo\">\\n                You are under Rewards tab\\n               </span>\\n               <div class=\"iNavT2Nav\">\\n                <div class=\"iNavCols\">\\n                 <div class=\"iNavCategory\">\\n                  <a class=\"iNCat\" href=\"#\" id=\"iNCatMembershipRewards\" title=\"\">\\n                   Membership Rewards\\n                   <span class=\"iNAcsTxt\">\\n                    Expand / Collapse\\n                   </span>\\n                  </a>\\n                 </div>\\n                 <ul class=\"iNavTier2Nav\">\\n                  <li class=\"iNNMb\">\\n                   <a href=\"https://rewards.americanexpress.com/myca/loyalty/us/catalog/mrhome.do?inav=menu_rewards_mrhome\" id=\"menu_rewards_mrhome\" title=\"\">\\n                    Membership Rewards\\xae Home\\n                   </a>\\n                  </li>\\n                  <li class=\"iNMb\">\\n                   <a href=\"https://rewards.americanexpress.com/myca/loyalty/mobl/us/redeem/Landing.do?inav=menu_rewards_mrhome_mob\" id=\"menu_rewards_mrhome_mob\" title=\"\">\\n                    Membership Rewards\\xae Home\\n                   </a>\\n                  </li>\\n                  <li class=\"iNNMb\">\\n                   <a href=\"https://rewards.americanexpress.com/myca/loyalty/us/catalog/mrhome.do?inav=menu_rewards_usepoints\" id=\"menu_rewards_usepoints\" title=\"\">\\n                    Use Points\\n                   </a>\\n                  </li>\\n                  <li class=\"iNNMb\">\\n                   <a href=\"https://rewards.americanexpress.com/myca/loyalty/us/rewards/mracctmgmt/acctsumm?request_type=authreg_mr&amp;Face=en_US&amp;inav=menu_rewards_pointsummary\" id=\"menu_rewards_pointsummary\" title=\"\">\\n                    Point Summary\\n                   </a>\\n                  </li>\\n                 </ul>\\n                </div>\\n                <div class=\"iNavCols\">\\n                 <div class=\"iNavCategory\">\\n                  <a class=\"iNCat\" href=\"#\" id=\"iNCatCardRewardBenefits\" title=\"\">\\n                   Card Rewards and Benefits\\n                   <span class=\"iNAcsTxt\">\\n                    Expand / Collapse\\n                   </span>\\n                  </a>\\n                 </div>\\n                 <ul class=\"iNavTier2Nav\">\\n                  <li class=\"iNDef\">\\n                   <a href=\"https://www.americanexpress.com/us/credit-cards/benefits/view-all/?inav=ExploreYourCardsRewardsProgram\" id=\"ExploreYourCardsRewardsProgram\" title=\"\">\\n                    Explore Your Cards Rewards Program\\n                   </a>\\n                  </li>\\n                  <li class=\"iNNMb\">\\n                   <a href=\"https://www295.americanexpress.com/entertainmentaccess/home.do?inav=menu_rewards_entertainment\" id=\"menu_rewards_entertainment\" title=\"\">\\n                    Entertainment and Events\\n                   </a>\\n                  </li>\\n                  <li class=\"iNMb\">\\n                   <a href=\"https://www295.americanexpress.com/entertainmentaccess/home.do?sourcePage=amexmobile&amp;inav=menu_rewards_entertainment_mob\" id=\"menu_rewards_entertainment_mob\" title=\"\">\\n                    Entertainment and Events\\n                   </a>\\n                  </li>\\n                  <li class=\"iNDef\">\\n                   <a href=\"https://www262.americanexpress.com/business-card-application/raf/200196-MIXED?inav=menu_rewards_referafriend\" id=\"menu_rewards_referafriend\" title=\"\">\\n                    Refer a Friend\\n                   </a>\\n                  </li>\\n                 </ul>\\n                </div>\\n                <div class=\"iNavCols iNavLast\">\\n                 <div class=\"iNavCategory\" id=\"iNavPZNHd4\">\\n                  Always the right gift.\\n                 </div>\\n                 <div class=\"iNavPZNContentBox\">\\n                  <div class=\"iNavPZNContent\" id=\"iNavPZNContent4\">\\n                   <div class=\"iNavPZNImg\">\\n                    <img alt=\"\" class=\"defOffer\" src=\"https://www.aexp-static.com/nav/ngn/img/clear.gif\" title=\"\"/>\\n                   </div>\\n                   <div class=\"iNavPZNCnt\">\\n                    Give an American Express\\xae Gift Card. Select from over 35 designs.\\n                    <br/>\\n                    <a href=\"https://www311.americanexpress.com/BOLWeb/bolfeOrder.do?request_type=orderProduct&amp;promotion=ACP&amp;program=ACPWEB&amp;selleracctnbr=6430098999I&amp;source=CMORightCard\" id=\"menu_xsell_dailywish\" title=\"\">\\n                     Order Now\\n                    </a>\\n                   </div>\\n                  </div>\\n                 </div>\\n                </div>\\n               </div>\\n              </div>\\n             </li>\\n             <li>\\n              <a href=\"https://www.americanexpress.com/us/small-business/credit-cards/\" id=\"iNav_Business\" title=\"\">\\n               <span class=\"iNavT1LtDoor\">\\n               </span>\\n               <span class=\"iNGblLnk\">\\n                <span class=\"icon\">\\n                </span>\\n                <span class=\"iNavLinkLabel\">\\n                 BUSINESS\\n                </span>\\n               </span>\\n               <span class=\"iNavT1RtDoor\">\\n               </span>\\n              </a>\\n              <div class=\"iNavT2NavCont iNav_Business\" id=\"iNav_secPanel5\">\\n               <span class=\"iNavTabInfo\">\\n                You are under Business tab\\n               </span>\\n               <div class=\"iNavT2Nav\">\\n                <div class=\"iNavCols\">\\n                 <div class=\"iNavCategory\">\\n                  <a class=\"iNCat\" href=\"#\" id=\"iNCatOpenSB\" title=\"\">\\n                   OPEN Small Business\\n                   <span class=\"iNAcsTxt\">\\n                    Expand / Collapse\\n                   </span>\\n                  </a>\\n                 </div>\\n                 <ul class=\"iNavTier2Nav\">\\n                  <li class=\"iNDef\">\\n                   <a href=\"https://www.americanexpress.com/us/small-business/?inav=menu_business_smallbusinesshome\" id=\"menu_business_smallbusinesshome\" title=\"\">\\n                    Small Business Home\\n                   </a>\\n                  </li>\\n                  <li class=\"iNDef\">\\n                   <a href=\"https://www.americanexpress.com/us/small-business/credit-cards/see-all-business-credit-cards/?inav=business_opensmallbusiness_ajviewallcards\" id=\"business_opensmallbusiness_ajviewallcards\" title=\"\">\\n                    Small Business Charge &amp; Credit Cards\\n                   </a>\\n                  </li>\\n                  <li class=\"iNDef\">\\n                   <a href=\"https://www262.americanexpress.com/business-card-application/supplementary/generic/apply/0-9-0?intlink=us-OPEN-navsupps&amp;inav=menu_business_orderemployeecards\" id=\"menu_business_orderemployeecards\" title=\"\">\\n                    Order Employee Cards\\n                   </a>\\n                  </li>\\n                  <li class=\"iNDef\">\\n                   <a href=\"https://www.americanexpress.com/us/small-business/openforum/explore/?inav=menu_business_openforum\" id=\"menu_business_openforum\" title=\"\">\\n                    OPEN Forum\\n                   </a>\\n                  </li>\\n                 </ul>\\n                </div>\\n                <div class=\"iNavCols\">\\n                 <div class=\"iNavCategory\">\\n                  <a class=\"iNCat\" href=\"#\" id=\"iNCatCorporations\" title=\"\">\\n                   Corporations\\n                   <span class=\"iNAcsTxt\">\\n                    Expand / Collapse\\n                   </span>\\n                  </a>\\n                 </div>\\n                 <ul class=\"iNavTier2Nav\">\\n                  <li class=\"iNDef\">\\n                   <a href=\"https://business.americanexpress.com/us?inav=menu_business_corpcardprogram\" id=\"menu_business_corpcardprogram\" title=\"\">\\n                    Corporate Cards\\n                   </a>\\n                  </li>\\n                  <li class=\"iNDef\">\\n                   <a href=\"https://business.americanexpress.com/us/payment-solutions?inav=menu_business_paymentsols\" id=\"menu_business_paymentsols\" title=\"\">\\n                    Supplier Payment Solutions\\n                   </a>\\n                  </li>\\n                  <li class=\"iNDef\">\\n                   <a href=\"https://www.amexglobalbusinesstravel.com\" id=\"menu_business_corptravel\" title=\"\">\\n                    Corporate Travel Solutions\\n                   </a>\\n                  </li>\\n                  <li class=\"iNDef\">\\n                   <a href=\"https://www.amexglobalbusinesstravel.com/meetings-and-events?inav=menu_business_meetingsevents\" id=\"menu_business_meetingsevents\" title=\"\">\\n                    Meetings and Events\\n                   </a>\\n                  </li>\\n                  <li class=\"iNDef\">\\n                   <a href=\"https://www.americanexpress.com/us/content/foreign-exchange/international-payments/?src=Online&amp;extlink=US-fxip-Payments&amp;digi=onl_lin_nav&amp;inav=menu_business_corpfx\" id=\"menu_business_corpfx\" title=\"\">\\n                    International Payments for Businesses\\n                   </a>\\n                  </li>\\n                 </ul>\\n                </div>\\n                <div class=\"iNavCols\">\\n                 <div class=\"iNavCategory\">\\n                  <a class=\"iNCat\" href=\"#\" id=\"iNCatMerchants\" title=\"\">\\n                   Merchants\\n                   <span class=\"iNAcsTxt\">\\n                    Expand / Collapse\\n                   </span>\\n                  </a>\\n                 </div>\\n                 <ul class=\"iNavTier2Nav\">\\n                  <li class=\"iNDef\">\\n                   <a href=\"https://www209.americanexpress.com/merchant/services/en_US/pages/home?inav=menu_business_merchhome\" id=\"menu_business_merchhome\" title=\"\">\\n                    Merchant Home\\n                   </a>\\n                  </li>\\n                  <li class=\"iNDef\">\\n                   <a href=\"https://www209.americanexpress.com/merchant/services/en_US/payment?inav=menu_business_solutionfinder\" id=\"menu_business_solutionfinder\" title=\"\">\\n                    Find Payment Solutions\\n                   </a>\\n                  </li>\\n                  <li class=\"iNDef\">\\n                   <a href=\"https://www.americanexpress.com/us/content/merchant/support-services.html?inav=menu_business_merchsupport\" id=\"menu_business_merchsupport\" title=\"\">\\n                    Get Support\\n                   </a>\\n                  </li>\\n                  <li class=\"iNDef\">\\n                   <a href=\"https://www209.americanexpress.com/merchant/services/en_US/accept-credit-cards?inav=menu_business_merchgetaccount\" id=\"menu_business_merchgetaccount\" title=\"\">\\n                    Get a Merchant Account\\n                   </a>\\n                  </li>\\n                  <li class=\"iNDef\">\\n                   <a href=\"http://ad.doubleclick.net/clk;282650642;109401302;q;pc=[TPAS_ID]?https://merchantfinancing.americanexpress.com/merchantfinancing/index.htm?intlink=db-&amp;inav=menu_business_merch_financing\" id=\"menu_business_merch_financing\" title=\"\">\\n                    Get Financing for Your Business\\n                   </a>\\n                  </li>\\n                 </ul>\\n                </div>\\n                <div class=\"iNavCols iNavLast\">\\n                 <div class=\"iNFirstEl\">\\n                  <div class=\"iNavCategory\">\\n                   <a class=\"iNCat\" href=\"#\" id=\"iNCatGlobalNetwork\" title=\"\">\\n                    Global Network\\n                    <span class=\"iNAcsTxt\">\\n                     Expand / Collapse\\n                    </span>\\n                   </a>\\n                  </div>\\n                  <ul class=\"iNavTier2Nav\">\\n                   <li class=\"iNDef\">\\n                    <a href=\"https://network.americanexpress.com/en/globalnetwork/default/?ref=prop&amp;inav=menu_business_Issuers_Acquirers\" id=\"menu_business_Issuers_Acquirers\" title=\"\">\\n                     Issuers and Acquirers\\n                    </a>\\n                   </li>\\n                   <li class=\"iNDef\">\\n                    <a href=\"https://network.americanexpress.com/en/globalnetwork/default/?ref=prop&amp;inav=menu_business_Providers_Developer\" id=\"menu_business_Providers_Developer\" title=\"\">\\n                     Providers and Developers\\n                    </a>\\n                   </li>\\n                  </ul>\\n                 </div>\\n                 <div class=\"iNSecEl\">\\n                  <div class=\"iNavCategory\" id=\"iNavPZNHd5\">\\n                   Powerful Connections\\n                  </div>\\n                  <div class=\"iNavPZNContentBox\">\\n                   <div class=\"iNavPZNContent\" id=\"iNavPZNContent5\">\\n                    <div class=\"iNavPZNImg\">\\n                     <img alt=\"\" class=\"defOffer\" src=\"https://www.aexp-static.com/nav/ngn/img/clear.gif\" title=\"\"/>\\n                    </div>\\n                    <div class=\"iNavPZNCnt\">\\n                     Grow your business  network at OPEN Forum\\xae.\\n                     <br/>\\n                     <a href=\"https://www.openforum.com/?cid=inav_home\" id=\"menu_xsell_openforum\" title=\"\">\\n                      Learn More\\n                     </a>\\n                    </div>\\n                   </div>\\n                  </div>\\n                 </div>\\n                </div>\\n               </div>\\n              </div>\\n             </li>\\n            </ul>\\n           </div>\\n          </div>\\n          <div id=\"iNavUtilitySection\">\\n           <div id=\"iNavUtilityArea\">\\n            <div id=\"iNavUtilityLinks\">\\n             <ul>\\n              <li class=\"iNavFirstItem\">\\n               <span id=\"iNavUtilCountryFlag\">\\n               </span>\\n               <span id=\"iNavUtilCountryName\">\\n                United States\\n               </span>\\n               <a class=\"iNavChangeCountry\" href=\"https://www.americanexpress.com/change-country/?inav=iNavUtilChangeCountry\" id=\"iNavUtilChangeCountry\" title=\"\">\\n                (Change Country)\\n               </a>\\n              </li>\\n             </ul>\\n            </div>\\n            <div id=\"iNavLogin\">\\n             <span class=\"iNavLoginLtDoor\">\\n             </span>\\n             <a class=\"iNavLinkLogin\" href=\"https://online.americanexpress.com/myca/logon/us/action/LogonHandler?request_type=LogonHandler&amp;Face=en_US&amp;inav=iNavLnkLog\" id=\"iNavLnkLog\" title=\"\">\\n              Log In\\n             </a>\\n             <noscript>\\n              <a class=\"iNavLinkLogout\" href=\"https://online.americanexpress.com/myca/logon/us/action/LogLogoffHandler?request_type=LogLogoffHandler&amp;Face=en_US&amp;inav=Logout\" id=\"Logout\" title=\"Log out from the account\">\\n               Log Out\\n              </a>\\n             </noscript>\\n             <span class=\"iNavLoginRtDoor\">\\n             </span>\\n            </div>\\n           </div>\\n           <div id=\"iNavSearch\">\\n            <div class=\"iNavSearchBox\" id=\"iNavSearchBox\">\\n             <div class=\"iNavSearchLtDoor\">\\n             </div>\\n             <div class=\"iNavSearchCenter\">\\n              <form action=\"https://www.americanexpress.com/us/content/search/\" enctype=\"application/x-www-form-urlencoded\" id=\"iNavSearchForm\" method=\"get\" name=\"iNMblSearchForm\">\\n               <fieldset>\\n                <legend>\\n                 Search US website\\n                </legend>\\n                <label for=\"iNavSrchBox\">\\n                 Search\\n                </label>\\n                <input id=\"iNavSrchBox\" name=\"q\" title=\"Search\" type=\"text\" value=\"Need help?\"/>\\n                <button id=\"iNavSrchBtn\" title=\"Search\" type=\"submit\" value=\"\">\\n                 Search\\n                </button>\\n               </fieldset>\\n              </form>\\n             </div>\\n             <div class=\"iNavSearchRtDoor\">\\n             </div>\\n            </div>\\n           </div>\\n          </div>\\n          <div id=\"iNMbUtilLinks\">\\n           <ul>\\n            <li>\\n             <a href=\"https://online.americanexpress.com/myca/mobl/us/static.do?page=un_help&amp;content=Faq&amp;inav=iNUtlFaq\" id=\"iNUtlFaq\" title=\"\">\\n              <span class=\"iNIco\">\\n              </span>\\n              <span class=\"iNLbl\">\\n               Site FAQ\\n              </span>\\n             </a>\\n            </li>\\n            <li>\\n             <a href=\"https://online.americanexpress.com/myca/mobl/us/static.do?page=un_help&amp;content=CntUs&amp;inav=iNUtlContact\" id=\"iNUtlContact\" title=\"\">\\n              <span class=\"iNIco\">\\n              </span>\\n              <span class=\"iNLbl\">\\n               Contact Us\\n              </span>\\n             </a>\\n            </li>\\n            <li>\\n             <a href=\"https://www.americanexpress.com/change-country/?inav=iNUtlChCountry\" id=\"iNUtlChCountry\" title=\"\">\\n              <span class=\"iNIco\">\\n              </span>\\n              <span class=\"iNLbl\">\\n               Change Country\\n              </span>\\n             </a>\\n            </li>\\n           </ul>\\n          </div>\\n          <a class=\"iNAcsTxt\" href=\"#\" id=\"iNMenuEnd\" title=\"\">\\n           Close Menu\\n          </a>\\n         </div>\\n        </div>\\n        <div class=\"iNavShadow\">\\n        </div>\\n        <div id=\"c-main-content\">\\n        </div>\\n       </div>\\n       <script id=\"iNavConfigurator\" type=\"text/javascript\">\\n        // <![CDATA[\\r\\n\\t\\tvar iNavConfig = [[\\'true\\',\\'PZN_PES.OfferService.init(iNavAchr.id, \\\\\"RTD\\\\\",iNavNGI.iNavPZNIntegration, iNavNGI.iNavInitDefOffers , \\\\\"/Internet/PZN/en_US/AmexUSMarket/Default/iNav_MyAccount.html\\\\\", \\\\\"\\\\\", \\\\\"PlacementId=P4:ActivePageId=\\\\\"+curiNavPage)\\',\\'\\',\\'PZN_PES.OfferService.init(iNavAchr.id, \\\\\"RTD\\\\\",iNavNGI.iNavPZNIntegration, iNavNGI.iNavInitDefOffers , \\\\\"/Internet/PZN/en_US/AmexUSMarket/Default/iNav_Travel.html\\\\\", \\\\\"\\\\\", \\\\\"PlacementId=P4:ActivePageId=\\\\\"+curiNavPage)\\',\\'PZN_PES.OfferService.init(iNavAchr.id, \\\\\"RTD\\\\\",iNavNGI.iNavPZNIntegration, iNavNGI.iNavInitDefOffers , \\\\\"/Internet/PZN/en_US/AmexUSMarket/Default/iNav_Rewards.html\\\\\", \\\\\"\\\\\", \\\\\"PlacementId=P4:ActivePageId=\\\\\"+curiNavPage)\\',\\'PZN_PES.OfferService.init(iNavAchr.id, \\\\\"RTD\\\\\",iNavNGI.iNavPZNIntegration, iNavNGI.iNavInitDefOffers , \\\\\"/Internet/PZN/en_US/AmexUSMarket/Default/iNav_Business.html\\\\\", \\\\\"\\\\\", \\\\\"PlacementId=P4:ActivePageId=\\\\\"+curiNavPage)\\'], [\\'e3\\',\\'true\\', \\'https://online.americanexpress.com/myca/logon/us/action/LogLogoffHandler?request_type=LogLogoffHandler&Face=en_US&inav=Logout\\',\"Log Out\",\"Log out from the account\",\"Need help?\"]]; var s_TopNav =\"US|en|NGN|H|Generic\";if(NAV.RWD.body.className.match(/AXP_HybridApp/i)){ document.getElementById(\\'iNMblLogo\\').onclick = function(){ return false; }}  \\r\\n\\t// ]]>\\n       </script>\\n       <!--End File: US_en_NGN_H_Generic.html-->\\n      </noindex>\\n      <div id=\"appContent\">\\n       <!-- end iNav boilerplate, closing </divs> in footer -->\\n       <div class=\"noindex\" id=\"navigation\">\\n       </div>\\n       <noindex>\\n       </noindex>\\n       <div class=\"taxonomy-bucket\" id=\"container\">\\n       </div>\\n       <script name=\"dtm_page_load\" type=\"text/javascript\">\\n        var digitalData = {\\n\\t            version: \"2.4\",\\n\\t            page: {\\n\\t                pageInfo:{\"country\":\"US\",\"language\":\"en\",\"pageName\":\"AccountsReceivable\\\\/Payable\"},\\n\\t                category:{\"businessUnit\":\"OPENForum\",\"primaryCategory\":\"Topic\"},\\n\\t                attributes:[],\\n\\t            },\\n\\t            user: {\\n\\t            },\\n\\t            event:[]\\n\\t        };\\n       </script>\\n       <div id=\"footer\">\\n        <script src=\"https://use.typekit.net/adr2smm.js\">\\n        </script>\\n        <script>\\n         try{Typekit.load({ async: true });}catch(e){}\\n        </script>\\n        <script type=\"text/javaScript\">\\n         var OFBDKillSwitch = 1;\\n        </script>\\n        <script src=\"https://www.americanexpress.com/us/small-business/openforum/wp-content/themes/mercury/_inc/require-config-60bef50465e631f2c86e24752173032e.js\" type=\"text/javascript\">\\n        </script>\\n        <script src=\"https://www.americanexpress.com/us/small-business/openforum/wp-content/themes/mercury/_inc/jsmin/templates/templates-39922bf6ff4b3238245ad2aeecbbf2a6.js\" type=\"text/javascript\">\\n        </script>\\n        <script src=\"https://www.americanexpress.com/us/small-business/openforum/wp-content/themes/mercury/_inc/jsmin/page-topics-64bc595c335433fa63c5eb740f1c7ea5.js\" type=\"text/javascript\">\\n        </script>\\n       </div>\\n       <div class=\"noindex\" id=\"iNavFooter\">\\n        <!--Created by CMAX:iCM 11-03-2016 08:45:05 File: US_en_NGN_F_Generic.html DO NOT MODIFY-->\\n        <meta content=\"text/html; charset=utf-8\" http-equiv=\"Content-Type\"/>\\n        <noscript>\\n         <link href=\"https://www.aexp-static.com/nav/ngn/css/inav_responsive.css\" media=\"all\" rel=\"stylesheet\" type=\"text/css\"/>\\n        </noscript>\\n        <!--[if lt IE 7]><div id=\"iNavNGI_FooterMain\" class=\"ie ie6 us-en iNNewFoot\"><![endif]-->\\n        <!--[if IE 7]><div id=\"iNavNGI_FooterMain\" class=\"ie ie7 us-en iNNewFoot\"><![endif]-->\\n        <!--[if IE 8]><div id=\"iNavNGI_FooterMain\" class=\"ie ie8 us-en iNNewFoot\"><![endif]-->\\n        <!--[if IE 9]><div id=\"iNavNGI_FooterMain\" class=\"ie ie9 us-en iNNewFoot\"><![endif]-->\\n        <!--[if IE 10]><div id=\"iNavNGI_FooterMain\" class=\"ie ie10 us-en iNNewFoot\"><![endif]-->\\n        <!--[if !IE]>-->\\n        <div class=\"us-en iNNewFoot\" id=\"iNavNGI_FooterMain\">\\n         <!--<![endif]-->\\n         <div id=\"iNavNGI_FooterWrap\">\\n          <div id=\"iNavNGI_FooterCont\">\\n           <div id=\"iNavNGI_Footer\">\\n            <div id=\"iNMblFootUtil\">\\n             <div id=\"iNMblUtilCont\">\\n              <input data-location=\"https://online.americanexpress.com/myca/mobl/us/static.do?page=un_help&amp;content=CntUs&amp;inav=iNFootCntBtn\" id=\"iNFootCntBtn\" title=\"\" type=\"button\" value=\"Contact Us\"/>\\n              <input data-location=\"https://online.americanexpress.com/myca/logon/us/action/LogonHandler?request_type=LogonHandler&amp;Face=en_US&amp;inav=iNFootLgBtn\" id=\"iNFootLgBtn\" title=\"Log In\" type=\"button\" value=\"Log In\"/>\\n             </div>\\n            </div>\\n            <div id=\"iNavFootMain\">\\n             <ul>\\n              <li class=\"iNDef\" id=\"gNFtCI1\">\\n               <a href=\"http://about.americanexpress.com/?inav=footer_about_american_express\" id=\"footer_about_american_express\" title=\"About American Express\">\\n                About American Express\\n               </a>\\n              </li>\\n              <li class=\"iNNMb\" id=\"gNFtCI2\">\\n               <a class=\"iNOmn\" data-omn-click-args=\"US:Amex:Nav,click&gt;InvestRel\" data-omn-click-fn=\"omn_rmaction\" data-omn-once=\"Yes\" href=\"http://ir.americanexpress.com\" id=\"footer_investor_relations\" title=\"Investor events, materials &amp; filings\">\\n                Investor Relations\\n               </a>\\n              </li>\\n              <li class=\"iNDef\" id=\"gNFtCI3\">\\n               <a href=\"https://careers.americanexpress.com/?inav=footer_careers\" id=\"footer_careers\" title=\"What will you do for a living?\">\\n                Careers\\n               </a>\\n              </li>\\n              <li class=\"iNNMb\" id=\"gNFtCI4\">\\n               <a href=\"https://www.americanexpress.com/us/content/sitemap.html?inav=footer_sitemap\" id=\"footer_sitemap\" title=\"Site Map\">\\n                Site Map\\n               </a>\\n              </li>\\n              <li class=\"iNNMb\" id=\"gNFtCI5\">\\n               <a href=\"https://www.americanexpress.com/us/content/contact-us/personal-cards.html?page=1&amp;inav=footer_contact_us\" id=\"footer_contact_us\" title=\"Contact Us - Answers by phone in minutes\">\\n                Contact Us\\n               </a>\\n              </li>\\n              <li class=\"iNMb\" id=\"gNFtCI6\">\\n               <a href=\"https://www.americanexpress.com/us/content/mobile/?inav=footer_mobile_mob\" id=\"footer_mobile_mob\" title=\"Mobile access to your Card account\">\\n                Mobile &amp; Tablet Apps\\n               </a>\\n              </li>\\n             </ul>\\n            </div>\\n            <div id=\"iNavFootSub\">\\n             <ul id=\"iNavSocial\">\\n              <li class=\"iNDef\" id=\"gNFtSM1\">\\n               <a class=\"iNWin iNOmn\" data-omn-click-args=\"US:Amex:Nav,click&gt;FaceBook,e\" data-omn-click-fn=\"omn_rmaction\" data-omn-once=\"Yes\" data-window=\"new\" href=\"https://www.facebook.com/AmericanExpressUS\" id=\"icoFb\" title=\"Facebook - Link will open in a new window\">\\n                <img alt=\"Facebook - Link will open in a new window\" class=\"icoFb\" src=\"https://www.aexp-static.com/nav/ngn/img/clear.gif\" title=\"Facebook - Link will open in a new window\"/>\\n               </a>\\n              </li>\\n              <li class=\"iNDef\" id=\"gNFtSM2\">\\n               <a class=\"iNWin iNOmn\" data-omn-click-args=\"US:Amex:Nav,click&gt;FourSquare,e\" data-omn-click-fn=\"omn_rmaction\" data-omn-once=\"Yes\" data-window=\"new\" href=\"https://foursquare.com/americanexpress\" id=\"icoFs\" title=\"Foursquare - Link will open in a new window\">\\n                <img alt=\"Foursquare - Link will open in a new window\" class=\"icoFs\" src=\"https://www.aexp-static.com/nav/ngn/img/clear.gif\" title=\"Foursquare - Link will open in a new window\"/>\\n               </a>\\n              </li>\\n              <li class=\"iNDef\" id=\"gNFtSM3\">\\n               <a class=\"iNWin iNOmn\" data-omn-click-args=\"US:Amex:Nav,click&gt;Twitter,e\" data-omn-click-fn=\"omn_rmaction\" data-omn-once=\"Yes\" data-window=\"new\" href=\"https://twitter.com/americanexpress\" id=\"icoTw\" title=\"Twitter - Link will open in a new window\">\\n                <img alt=\"Twitter - Link will open in a new window\" class=\"icoTw\" src=\"https://www.aexp-static.com/nav/ngn/img/clear.gif\" title=\"Twitter - Link will open in a new window\"/>\\n               </a>\\n              </li>\\n              <li class=\"iNNMb\" id=\"gNFtSM4\">\\n               <a class=\"iNWin iNOmn\" data-omn-click-args=\"US:Amex:Nav,click&gt;YouTube,e\" data-omn-click-fn=\"omn_rmaction\" data-omn-once=\"Yes\" data-window=\"new\" href=\"http://www.youtube.com/user/AmericanExpress\" id=\"icoYt\" title=\"YouTube - Link will open in a new window\">\\n                <img alt=\"YouTube - Link will open in a new window\" class=\"icoYt\" src=\"https://www.aexp-static.com/nav/ngn/img/clear.gif\" title=\"YouTube - Link will open in a new window\"/>\\n               </a>\\n              </li>\\n              <li class=\"iNDef\" id=\"gNFtSM5\">\\n               <a class=\"iNWin iNOmn\" data-omn-click-args=\"US:Amex:Nav,click&gt;LinkedIn,e\" data-omn-click-fn=\"omn_rmaction\" data-omn-once=\"Yes\" data-window=\"new\" href=\"https://www.linkedin.com/company/american-express\" id=\"icoLi\" title=\"LinkedIn - Link will open in a new window\">\\n                <img alt=\"LinkedIn - Link will open in a new window\" class=\"icoLi\" src=\"https://www.aexp-static.com/nav/ngn/img/clear.gif\" title=\"LinkedIn - Link will open in a new window\"/>\\n               </a>\\n              </li>\\n              <li class=\"iNNMb iNavLast\" id=\"gNFtSM6\">\\n               <a class=\"iNWin iNOmn\" data-omn-click-args=\"US:Amex:Nav,click&gt;GooglePlus,e\" data-omn-click-fn=\"omn_rmaction\" data-omn-once=\"Yes\" data-window=\"new\" href=\"https://plus.google.com/102155862500050097100/\" id=\"icoGp\" title=\"Google+ - Link will open in a new window\">\\n                <img alt=\"Google+ - Link will open in a new window\" class=\"icoGp\" src=\"https://www.aexp-static.com/nav/ngn/img/clear.gif\" title=\"Google+ - Link will open in a new window\"/>\\n               </a>\\n              </li>\\n             </ul>\\n            </div>\\n           </div>\\n           <div id=\"iNavFootOthers\">\\n            <div class=\"iNavFootRow\">\\n             <ul>\\n              <li class=\"iNavFootHd\">\\n               Products &amp; Services\\n              </li>\\n              <li class=\"iNNMb\" id=\"gNFtLink1_1\">\\n               <a href=\"https://www.americanexpress.com/us/credit-cards/?inav=footer_cards_personal\" id=\"footer_cards_personal\" title=\"American Express credit cards\">\\n                Credit Cards\\n               </a>\\n              </li>\\n              <li class=\"iNNMb\" id=\"gNFtLink1_2\">\\n               <a href=\"https://www.americanexpress.com/us/small-business/credit-cards/?inav=footer_cards_sm_bus\" id=\"footer_cards_sm_bus\" title=\"Find OPEN small business credit cards\">\\n                Small Business Credit Cards\\n               </a>\\n              </li>\\n              <li class=\"iNNMb\" id=\"gNFtLink1_3\">\\n               <a href=\"https://business.americanexpress.com/us?inav=footer_cards_corp\" id=\"footer_cards_corp\" title=\"Corporate Card and payment solutions\">\\n                Corporate Cards\\n               </a>\\n              </li>\\n              <li class=\"iNNMb\" id=\"gNFtLink1_4\">\\n               <a href=\"https://www.americanexpress.com/serve/?SOLID=5AMEX&amp;intlink=us-amex-home-footer&amp;inav=footer_cards_reload\" id=\"footer_cards_reload\" title=\"Spends like cash, feels like Membership\">\\n                Prepaid Cards\\n               </a>\\n              </li>\\n              <li class=\"iNNMb\" id=\"gNFtLink1_5\">\\n               <a href=\"https://personalsavings.americanexpress.com/?inav=footer_personal_savings\" id=\"footer_personal_savings\" title=\"No minimum balance, 24/7 account access\">\\n                Savings Accounts &amp; CDs\\n               </a>\\n              </li>\\n              <li class=\"iNNMb iNavLast\" id=\"gNFtLink1_6\">\\n               <a href=\"https://www.americanexpress.com/gift-cards/?inav=menu_cards_giftcards&amp;source=Amex_iNavFooter\" id=\"footer_giftcards\" title=\"Order gift cards for friends or business\">\\n                Gift Cards\\n               </a>\\n              </li>\\n             </ul>\\n            </div>\\n            <div class=\"iNavFootRow\">\\n             <ul>\\n              <li class=\"iNavFootHd\">\\n               Links You May Like\\n              </li>\\n              <li class=\"iNNMb\" id=\"gNFtLink2_1\">\\n               <a href=\"https://rewards.americanexpress.com/myca/loyalty/us/catalog/mrhome.do?inav=footer_mr\" id=\"footer_mr\" title=\"Use Points for your favorite rewards\">\\n                Membership Rewards\\n                <sup>\\n                 \\xae\\n                </sup>\\n               </a>\\n              </li>\\n              <li class=\"iNMb\" id=\"gNFtLink2_2\">\\n               <a href=\"https://www.americanexpress.com/us/content/mobile/?inav=footer_mobile\" id=\"footer_mobile\" title=\"Mobile access to your Card account\">\\n                Mobile &amp; Tablet Apps\\n               </a>\\n              </li>\\n              <li class=\"iNNMb\" id=\"gNFtLink2_3\">\\n               <a href=\"https://www295.americanexpress.com/premium/credit-report-monitoring/home.do?SC=TJN&amp;BC=0001&amp;PC=0001&amp;inav=footer_credit_secure\" id=\"footer_credit_secure\" title=\"Get up to 3 reports, daily monitoring, alerts\">\\n                CreditSecure\\xae\\n               </a>\\n              </li>\\n              <li class=\"iNNMb\" id=\"gNFtLink2_4\">\\n               <a class=\"iNWin\" data-window=\"new\" href=\"https://www.americanexpress.com/serve/?SOLID=5AMEX&amp;intlink=us-amex-home-footer&amp;inav=footer_serve\" id=\"footer_serve\" title=\"Prepaid account with card and mobile app\">\\n                Serve\\n                <sup>\\n                 \\xae\\n                </sup>\\n               </a>\\n              </li>\\n              <li class=\"iNDef\" id=\"gNFtLink2_5\">\\n               <a class=\"iNWin\" data-window=\"new\" href=\"https://www.bluebird.com/?solid=BBDAMEXHPBBAR&amp;inav=footer_bluebird&amp;intlink=us-amex-prepaid-bluebird-inav_footer_bluebird&amp;inav=footer_bluebird\" id=\"footer_bluebird\" title=\"Bluebird Alternative to Banking - Link will open in a new window\">\\n                Bluebird\\n                <sup>\\n                 \\xae\\n                </sup>\\n               </a>\\n              </li>\\n              <li class=\"iNNMb\" id=\"gNFtLink2_6\">\\n               <a href=\"https://www209.americanexpress.com/merchant/services/en_US/accept-credit-cards?merch_van=ENT_FOOT&amp;intlink=us-mer-Ent_Foot&amp;inav=footer_accept_amex\" id=\"footer_accept_amex\" title=\"Accept Amex Cards\">\\n                Accept Amex Cards\\n               </a>\\n              </li>\\n              <li class=\"iNDef iNavLast\" id=\"gNFtLink2_7\">\\n               <a href=\"https://www262.americanexpress.com/business-card-application/raf/200196-MIXED?inav=footer_refer_friend\" id=\"footer_refer_friend\" title=\"Refer a Friend\">\\n                Refer a Friend\\n               </a>\\n              </li>\\n             </ul>\\n            </div>\\n           </div>\\n           <div id=\"copyrightInfo\">\\n            <ul>\\n             <li class=\"iNDef\" id=\"gNFtLC1\">\\n              <a href=\"https://www.americanexpress.com/us/content/supplier-management/?inav=footer_supplier_management\" id=\"footer_supplier_management\" title=\"\">\\n               Supplier Management\\n              </a>\\n             </li>\\n             <li class=\"iNDef\" id=\"gNFtLC2\">\\n              <a href=\"https://www.americanexpress.com/us/content/legal-disclosures/website-rules-and-regulations.html?inav=footer_Terms_of_Use\" id=\"footer_Terms_of_Use\" title=\"\">\\n               Terms of Service\\n              </a>\\n             </li>\\n             <li class=\"iNDef\" id=\"gNFtLC3\">\\n              <a href=\"https://www.americanexpress.com/us/content/legal-disclosures/privacy-center.html?inav=footer_privacy_statement\" id=\"footer_privacy_statement\" title=\"\">\\n               Privacy Center\\n              </a>\\n             </li>\\n             <li class=\"iNDef\" id=\"gNFtLC4\">\\n              <a class=\"iNWin\" data-window=\"new\" href=\"https://info.evidon.com/pub_info/1328?v=1&amp;nt=1&amp;nw=true&amp;inav=footer_adChoices\" id=\"footer_adChoices\" title=\"\">\\n               AdChoices\\n              </a>\\n             </li>\\n             <li class=\"iNDef\" id=\"gNFtLC5\">\\n              <a href=\"https://www.americanexpress.com/us/content/cardmember-agreements/all-us.html?inav=footer_card_agreements\" id=\"footer_card_agreements\" title=\"\">\\n               Card Agreements\\n              </a>\\n             </li>\\n             <li class=\"iNDef\" id=\"gNFtLC6\">\\n              <a href=\"https://www.americanexpress.com/us/content/fraud-protection-center/home.html?inav=footer_fraud_protection_center\" id=\"footer_fraud_protection_center\" title=\"\">\\n               Security Center\\n              </a>\\n             </li>\\n             <li class=\"iNDef\" id=\"gNFtLC7\">\\n              <a href=\"https://www.americanexpress.com/us/content/financial-education/?inav=footer_credit_basics\" id=\"footer_credit_basics\" title=\"\">\\n               Financial Education\\n              </a>\\n             </li>\\n             <li class=\"iNDef iNavLast\" id=\"gNFtLC8\">\\n              <a href=\"https://www.americanexpress.com/us/content/help/service-members-civil-relief.html?inav=footer_servicemember_benefits\" id=\"footer_servicemember_benefits\" title=\"\">\\n               Servicemember Benefits\\n              </a>\\n             </li>\\n            </ul>\\n            <p class=\"iNLegal\">\\n             All users of our online services subject to Privacy Statement and agree to be bound by Terms of Service. Please review.\\n            </p>\\n            <p class=\"iNCopy\">\\n             \\xa9 2016 American Express Company. All rights reserved.\\n            </p>\\n           </div>\\n          </div>\\n          <div id=\"iNavObjects\">\\n          </div>\\n          <div id=\"iNavScripts\">\\n          </div>\\n         </div>\\n        </div>\\n        <script data-uri=\"https://www.aexp-static.com/nav/ngn/js/inav_ccc_r2.js?v=0922_01\" id=\"iNCCCJS\" type=\"text/javascript\">\\n        </script>\\n        <script data-uri=\"https://www.aexp-static.com/nav/ngn/js/commonFunctionsResponsive.js\" id=\"iNCmnJS\" type=\"text/javascript\">\\n        </script>\\n        <script type=\"text/javascript\">\\n         if(document.getElementById(\\'iNavMainContainer\\')) { \\n var jsObj = document.getElementById(\\'iNCCCJS\\');\\n document.write(\"<scrip\" + \"t type=\\'text/javascript\\' src=\\'\" + jsObj.getAttribute(\\'data-uri\\') + \"\\'></scrip\" + \"t>\");\\n} else {\\n    var jsObj = document.getElementById(\\'iNCmnJS\\');\\n    document.write(\"<scrip\" + \"t type=\\'text/javascript\\' src=\\'\" + jsObj.getAttribute(\\'data-uri\\') + \"\\'></scrip\" + \"t>\");\\n}\\n        </script>\\n        <!--End File: US_en_NGN_F_Generic.html-->\\n       </div>\\n       <script>\\n        DTMEnabled = false;\\n\\tif(typeof(_satellite) != \\'undefined\\'){\\n\\t   _satellite.pageBottom();\\n\\t   DTMEnabled = true;\\n\\t}\\n       </script>\\n       <!--\\nb_71aac66\\n_s2.101-->\\n       <div class=\"noindex\" id=\"tooltips\">\\n       </div>\\n       <noscript>\\n        Sorry, but this page requires javascript to function correctly. Please enable javascript in your browser and reload the page.\\n       </noscript>\\n      </div>\\n      <!--Closing the sub responsive wrapper-->\\n     </div>\\n     <!--Closing the main responsive wrapper-->\\n    </div>\\n    <!--Closing the mobile nav main content wrapper -->\\n   </div>\\n   <!--Closing the mobile nav wrapper -->\\n  </div>\\n </body>\\n</html>\\n<!-- Performance optimized by W3 Total Cache. Learn more: http://www.w3-edge.com/wordpress-plugins/\\r\\n\\r\\nContent Delivery Network via Rackspace Cloud Files: 61d4c23b2d4274052dd4-1fd282026c3ff4ae711d11ecc95a1d47.r3.cf1.rackcdn.com\\r\\n\\r\\n Served from: www.americanexpress.com @ 2016-11-10 23:05:18 by W3 Total Cache -->\\n'"
      ]
     },
     "execution_count": 2,
     "metadata": {},
     "output_type": "execute_result"
    }
   ],
   "source": [
    "# Obtain a list of urls from various sections of the site\n",
    "starting_point_website = \"https://www.americanexpress.com/us/small-business/openforum/topics/accounts-receivablepayable/?linknav=us-of-article-digdeeper-bottom\"\n",
    "page = urllib2.urlopen(starting_point_website)\n",
    "soup = BeautifulSoup(page)\n",
    "\n",
    "# print soup.prettify()\n",
    "\n",
    "for a in soup.find_all('a', href=True):\n",
    "#     if (\"https://www.americanexpress.com/us/small-business/openforum\") in a['href']: \n",
    "        print \"Found the URL:\", a['href']\n",
    "    \n",
    "soup.prettify()    "
   ]
  },
  {
   "cell_type": "code",
   "execution_count": 3,
   "metadata": {
    "collapsed": false
   },
   "outputs": [],
   "source": [
    "# Create a \"soup\" for a webpage\n",
    "website1 = \"https://www.americanexpress.com/us/small-business/openforum/videos/5-ways-help-grow-small-business-saving-money/?linknav=us-of-topics-getstarted-readmore\"\n",
    "website2 = \"https://www.americanexpress.com/us/small-business/openforum/articles/keep-cash-flow-flowing/?linknav=us-of-article-trending-1\"\n",
    "page = urllib2.urlopen(website2)\n",
    "soup = BeautifulSoup(page) #\"html.parser\""
   ]
  },
  {
   "cell_type": "code",
   "execution_count": 82,
   "metadata": {
    "collapsed": false
   },
   "outputs": [
    {
     "data": {
      "text/html": [
       "<div>\n",
       "<table border=\"1\" class=\"dataframe\">\n",
       "  <thead>\n",
       "    <tr style=\"text-align: right;\">\n",
       "      <th></th>\n",
       "      <th>article_description</th>\n",
       "      <th>article_pubtime</th>\n",
       "      <th>article_section</th>\n",
       "      <th>article_subtopic</th>\n",
       "      <th>article_tags</th>\n",
       "      <th>article_topic</th>\n",
       "      <th>author_name</th>\n",
       "      <th>content</th>\n",
       "      <th>title</th>\n",
       "    </tr>\n",
       "  </thead>\n",
       "  <tbody>\n",
       "    <tr>\n",
       "      <th>0</th>\n",
       "      <td>Five suggestions for cutting spending at your ...</td>\n",
       "      <td>2016-10-16T12:00:10+00:00</td>\n",
       "      <td>Managing Money</td>\n",
       "      <td>Cash Flow</td>\n",
       "      <td>[Cash Flow, Managing Money, Saving Money, MSNB...</td>\n",
       "      <td>Managing Money</td>\n",
       "      <td>JJ Ramberg</td>\n",
       "      <td>&lt;noscript id=\"seo-output\"&gt;\n",
       "&lt;h1 id=\"title\"&gt;5 Wa...</td>\n",
       "      <td>5 Ways to Help Grow Your Small Business by Sav...</td>\n",
       "    </tr>\n",
       "    <tr>\n",
       "      <th>1</th>\n",
       "      <td>Mishandling your finances could spell big prob...</td>\n",
       "      <td>2016-10-13T20:00:00+00:00</td>\n",
       "      <td>Managing Money</td>\n",
       "      <td>Cash Flow</td>\n",
       "      <td>[Accounts Receivable/Payable, Cash Flow, Manag...</td>\n",
       "      <td>Managing Money</td>\n",
       "      <td>Meredith Wood</td>\n",
       "      <td>&lt;noscript id=\"seo-output\"&gt;\n",
       "&lt;h1 id=\"title\"&gt;How ...</td>\n",
       "      <td>How to Help Keep Your Cash Flow Flowing</td>\n",
       "    </tr>\n",
       "  </tbody>\n",
       "</table>\n",
       "</div>"
      ],
      "text/plain": [
       "                                 article_description  \\\n",
       "0  Five suggestions for cutting spending at your ...   \n",
       "1  Mishandling your finances could spell big prob...   \n",
       "\n",
       "             article_pubtime article_section article_subtopic  \\\n",
       "0  2016-10-16T12:00:10+00:00  Managing Money        Cash Flow   \n",
       "1  2016-10-13T20:00:00+00:00  Managing Money        Cash Flow   \n",
       "\n",
       "                                        article_tags   article_topic  \\\n",
       "0  [Cash Flow, Managing Money, Saving Money, MSNB...  Managing Money   \n",
       "1  [Accounts Receivable/Payable, Cash Flow, Manag...  Managing Money   \n",
       "\n",
       "     author_name                                            content  \\\n",
       "0     JJ Ramberg  <noscript id=\"seo-output\">\n",
       "<h1 id=\"title\">5 Wa...   \n",
       "1  Meredith Wood  <noscript id=\"seo-output\">\n",
       "<h1 id=\"title\">How ...   \n",
       "\n",
       "                                               title  \n",
       "0  5 Ways to Help Grow Your Small Business by Sav...  \n",
       "1            How to Help Keep Your Cash Flow Flowing  "
      ]
     },
     "execution_count": 82,
     "metadata": {},
     "output_type": "execute_result"
    }
   ],
   "source": [
    "websites = [website1, website2]\n",
    "\n",
    "data = {\n",
    "    'title' : [],\n",
    "    'author_name' : [],\n",
    "    'article_section' : [],\n",
    "    'article_topic' : [],\n",
    "    'article_subtopic' : [],\n",
    "    'article_pubtime' : [],\n",
    "    'article_description' : [],\n",
    "    'article_tags' : [],\n",
    "    'content' : []\n",
    "}\n",
    "\n",
    "for website in websites:\n",
    "    page = urllib2.urlopen(website)\n",
    "    soup = BeautifulSoup(page)\n",
    "    \n",
    "    title = soup.find(lambda tag: tag.name == 'meta' and 'property' in tag.attrs and tag.attrs['property'] == \"og:title\")\n",
    "    data['title'].append(title['content'])\n",
    "    \n",
    "    author_name = soup.find(lambda tag: tag.name == 'meta' and 'property' in tag.attrs and tag.attrs['property'] == \"article:author_name\")\n",
    "    data['author_name'].append(author_name['content'])\n",
    "    \n",
    "    article_section = soup.find(lambda tag: tag.name == 'meta' and 'property' in tag.attrs and tag.attrs['property'] == \"article:section\")\n",
    "    data['article_section'].append(article_section['content'])\n",
    "    \n",
    "    article_topic = soup.find(lambda tag: tag.name == 'meta' and 'property' in tag.attrs and tag.attrs['property'] == \"article:topic\")\n",
    "    data['article_topic'].append(article_topic['content'])\n",
    "    \n",
    "    article_subtopic = soup.find(lambda tag: tag.name == 'meta' and 'property' in tag.attrs and tag.attrs['property'] == \"article:sub_topic\")\n",
    "    data['article_subtopic'].append(article_subtopic['content'])\n",
    "\n",
    "    article_pubtime = soup.find(lambda tag: tag.name == 'meta' and 'property' in tag.attrs and tag.attrs['property'] == \"article:published_time\")\n",
    "    data['article_pubtime'].append(article_pubtime['content'])\n",
    "    \n",
    "    article_description = soup.find(lambda tag: tag.name == 'meta' and 'property' in tag.attrs and tag.attrs['property'] == \"og:description\")\n",
    "    data['article_description'].append(article_description['content'])\n",
    "    \n",
    "    article_tags = soup.find_all(lambda tag: tag.name == 'meta' and 'property' in tag.attrs and tag.attrs['property'] == \"article:tag\")\n",
    "    article_tags = [tag['content'] for tag in article_tags]\n",
    "    data['article_tags'].append(article_tags)\n",
    "    \n",
    "    content = soup.findAll('noscript', attrs={'id':'seo-output'})\n",
    "    data['content'].append(content[0])\n",
    "\n",
    "    \n",
    "pd.DataFrame(data)   \n"
   ]
  },
  {
   "cell_type": "code",
   "execution_count": 77,
   "metadata": {
    "collapsed": false
   },
   "outputs": [],
   "source": [
    "# print soup.prettify()"
   ]
  },
  {
   "cell_type": "code",
   "execution_count": 56,
   "metadata": {
    "collapsed": true
   },
   "outputs": [],
   "source": [
    "data = {\n",
    "    'title' : [],\n",
    "    'author_name' : [],\n",
    "    'article_section' : [],\n",
    "    'article_topic' : [],\n",
    "    'article_subtopic' : [],\n",
    "    'article_pubtime' : [],\n",
    "    'article_description' : [],\n",
    "    'article_tags' : [],\n",
    "    'content' : []\n",
    "}"
   ]
  },
  {
   "cell_type": "code",
   "execution_count": 57,
   "metadata": {
    "collapsed": false
   },
   "outputs": [],
   "source": [
    "title = soup.find(lambda tag: tag.name == 'meta' and 'property' in tag.attrs and tag.attrs['property'] == \"og:title\")\n",
    "data['title'].append(title['content'])"
   ]
  },
  {
   "cell_type": "code",
   "execution_count": 58,
   "metadata": {
    "collapsed": false
   },
   "outputs": [],
   "source": [
    "author_name = soup.find(lambda tag: tag.name == 'meta' and 'property' in tag.attrs and tag.attrs['property'] == \"article:author_name\")\n",
    "data['author_name'].append(author_name['content'])"
   ]
  },
  {
   "cell_type": "code",
   "execution_count": 59,
   "metadata": {
    "collapsed": false
   },
   "outputs": [],
   "source": [
    "# author_first_name = soup.find(lambda tag: tag.name == 'meta' and 'property' in tag.attrs and tag.attrs['property'] == \"article:author_first_name\")\n",
    "# author_first_name['content']"
   ]
  },
  {
   "cell_type": "code",
   "execution_count": 60,
   "metadata": {
    "collapsed": false
   },
   "outputs": [],
   "source": [
    "# author_last_name = soup.find(lambda tag: tag.name == 'meta' and 'property' in tag.attrs and tag.attrs['property'] == \"article:author_last_name\")\n",
    "# author_last_name['content']"
   ]
  },
  {
   "cell_type": "code",
   "execution_count": 61,
   "metadata": {
    "collapsed": false
   },
   "outputs": [],
   "source": [
    "article_section = soup.find(lambda tag: tag.name == 'meta' and 'property' in tag.attrs and tag.attrs['property'] == \"article:section\")\n",
    "article_section['content']\n",
    "data['article_section'].append(article_section['content'])"
   ]
  },
  {
   "cell_type": "code",
   "execution_count": 62,
   "metadata": {
    "collapsed": false
   },
   "outputs": [],
   "source": [
    "article_topic = soup.find(lambda tag: tag.name == 'meta' and 'property' in tag.attrs and tag.attrs['property'] == \"article:topic\")\n",
    "data['article_topic'].append(article_topic['content'])"
   ]
  },
  {
   "cell_type": "code",
   "execution_count": 63,
   "metadata": {
    "collapsed": false
   },
   "outputs": [],
   "source": [
    "article_subtopic = soup.find(lambda tag: tag.name == 'meta' and 'property' in tag.attrs and tag.attrs['property'] == \"article:sub_topic\")\n",
    "article_subtopic['content']\n",
    "data['article_subtopic'].append(article_subtopic['content'])"
   ]
  },
  {
   "cell_type": "code",
   "execution_count": 64,
   "metadata": {
    "collapsed": false
   },
   "outputs": [
    {
     "data": {
      "text/plain": [
       "{'article_description': [],\n",
       " 'article_pubtime': ['2016-10-13T20:00:00+00:00'],\n",
       " 'article_section': ['Managing Money'],\n",
       " 'article_subtopic': ['Cash Flow'],\n",
       " 'article_tags': [],\n",
       " 'article_topic': ['Managing Money'],\n",
       " 'author_name': ['Meredith Wood'],\n",
       " 'content': [],\n",
       " 'title': ['How to Help Keep Your Cash Flow Flowing']}"
      ]
     },
     "execution_count": 64,
     "metadata": {},
     "output_type": "execute_result"
    }
   ],
   "source": [
    "article_pubtime = soup.find(lambda tag: tag.name == 'meta' and 'property' in tag.attrs and tag.attrs['property'] == \"article:published_time\")\n",
    "article_pubtime['content']\n",
    "data['article_pubtime'].append(article_pubtime['content'])\n",
    "data"
   ]
  },
  {
   "cell_type": "code",
   "execution_count": 65,
   "metadata": {
    "collapsed": false
   },
   "outputs": [],
   "source": [
    "article_description = soup.find(lambda tag: tag.name == 'meta' and 'property' in tag.attrs and tag.attrs['property'] == \"og:description\")\n",
    "article_description['content']\n",
    "data['article_description'].append(article_description['content'])"
   ]
  },
  {
   "cell_type": "code",
   "execution_count": 66,
   "metadata": {
    "collapsed": false
   },
   "outputs": [],
   "source": [
    "article_tags = soup.find_all(lambda tag: tag.name == 'meta' and 'property' in tag.attrs and tag.attrs['property'] == \"article:tag\")\n",
    "article_tags = [tag['content'] for tag in article_tags]\n",
    "article_tags\n",
    "data['article_tags'].append(article_tags)"
   ]
  },
  {
   "cell_type": "code",
   "execution_count": 67,
   "metadata": {
    "collapsed": false
   },
   "outputs": [
    {
     "data": {
      "text/plain": [
       "{'article_description': ['Mishandling your finances could spell big problems for your business. Here are a few tips on how you can help save a lot by saving a little. '],\n",
       " 'article_pubtime': ['2016-10-13T20:00:00+00:00'],\n",
       " 'article_section': ['Managing Money'],\n",
       " 'article_subtopic': ['Cash Flow'],\n",
       " 'article_tags': [['Accounts Receivable/Payable',\n",
       "   'Cash Flow',\n",
       "   'Managing Money',\n",
       "   'Saving Money']],\n",
       " 'article_topic': ['Managing Money'],\n",
       " 'author_name': ['Meredith Wood'],\n",
       " 'content': [<noscript id=\"seo-output\">\\n<h1 id=\"title\">How to Help Keep Your Cash Flow Flowing</h1>\\n<div id=\"author\">\\n<div id=\"name\">Meredith Wood</div>\\n<div id=\"title\">Head of Content and Editor-in-Chief, Fundera</div>\\n<div id=\"bio\">Editor-in-Chief at Fundera, the most trusted online marketplace for small business loans.</div>\\n</div>\\n<div id=\"content\"><p>You could have an absolutely dynamite product or service. Your business model could be impeccable. But if you don't manage your cash correctly, you very well could fail.</p><p>Clearly, to run a successful business, you need more than just a good idea. You need a solid managerial strategy. You must focus on the books. Because if you mishandle your finances, your business could be toast.</p><p>One way to help improve your company's finances is to look for areas in which you are losing cash. You'll probably find that you are spending money that you simply don't have to spend. So, wise up and fix the issue. Here are five signs that your business could be bleeding cash\\u2014and some advice on how to stop it.</p><h2>1. Management tasks are done manually.</h2><p>Is too much time being wasted on sending invoices, processing payroll, sorting emails and scheduling appointments? It's alarming that, according to a 2015 survey of nearly 1,000 managers in the U.S. and U.K. by ServiceNow, nearly <a href=\"https://www.servicenow.com/content/dam/servicenow/documents/whitepapers/sn-state-of-work-report.pdf\" target=\"_blank\">half of managers say this type of administrative work leaves them with less time</a> for strategic initiatives.</p><p>While these duties are certainly important, they can be automated with today's technological solutions. And you and your team can spend more time on what matters\\u2014producing a great product or service.</p><p>For example, to process payments to employees, you can <a href=\"https://www.fundera.com/blog/2016/08/09/intuit-online-payroll\" target=\"_blank\">use payroll solutions like Intuit Online Payroll</a> or Quickbooks Online Payroll. If you run social-media marketing campaigns, try a service like Hootsuite to schedule posts to go live across all your channels. And for scheduling meetings, try a tool like Calendly.</p><h2>2. Clients aren't paying on time.</h2><p>Every startup and small business has been left waiting for payment at some point. Even if you know you'll eventually get paid, this is still costing you money.</p><p>While waiting for payment, you may have to get money from other sources to pay employees, fund marketing initiatives, cover rent and handle other requirements. Obtaining that money from a business line of credit or business credit card, for instance, is very possible. But this can cost you in interest (which would be totally unnecessary if the client had paid you on time).</p><p>To stop this from happening, politely establish clear payment policies with each client. You could ask for a percentage up front, and the rest once the project's completed. Also, automate invoicing and reminders if the payment is late, and set a timeframe for charging a late fee. If payment is significantly late (like four weeks), you might consider stopping work until the balance is paid.</p><h2>3. Rent is just too much.</h2><p>Yes, a swanky downtown office is nice, but you don't necessarily need it. Put that cash toward other activities, like marketing and advertising campaigns.</p><p>Co-working spaces can offer flexible short-term leasing plans for shared office space. You can also allow employees to work from home, which may raise productivity and workplace satisfaction all around. When your team needs to meet, you can do so virtually or in a public setting, like a cafe or library.</p><h2>4. Daily expenses are too high.</h2><p>Sure, it's nice to have the newest computers for your employees. Going out to eat each Friday is cool, too. And keeping the office super clean makes you feel good. But it's all probably unnecessary. Or, at the very least, you can choose much cheaper alternatives.</p><p>Just think about the classic coffee example. If a cup of coffee costs $3 with tip, that runs you $15 per week for each worker if you buy outside. Make it in the office, and you can help get those costs down considerably (probably to just a few bucks per worker).</p><p>Everything adds up over time, so you should try to save wherever you can. Do your best to track all your expenses and your wallet will thank you for it.</p><h2>5. You don't negotiate deals.</h2><p>If you don't at least attempt to negotiate pricing with your vendors, you are leaving money on the table. Whenever you hire outside help to provide goods or services, don't be hesitant to counteroffer. At worst, the price remains the same. At best, you save lots of money over time.</p><p>Getting the <a href=\"https://www.americanexpress.com/us/small-business/openforum/articles/8-ways-your-business-is-hemorrhaging-money/\" target=\"_blank\">price of goods or services cut down by 5 to 10 percent</a> (or more) is not impossible. Even if you already have a contract with most of your vendors, don't hesitate to reach out and discuss rates. When negotiating a deal, don't be contentious. Be professional, and explain your business situation. Make sure to offer them something in return for cutting rates, such as a contract extension.</p><p>Also, if you can, gather bids from multiple vendors when looking for help. Compare and choose the best offer for your company.</p><h2>Stop the bleeding and build for the future.</h2><p>It's tough to grow a business when you are constantly paying off debt, waiting on client payments and paying more than you should for services, products and property. It's also difficult to see how to turn your financial situation around when you don't track it.</p><p>Going forward, be completely clear on where your money is coming from and going to. Then, address the pain points with prejudice. By securing your cash flow, your company won't be held back by poor money management\\u2014and you can grow and scale when the demand arises.</p><h5><em>Photo: iStock</em></h5><h5><em>The information contained in this article is for generalized informational and educational purposes only and is not designed to substitute for, or replace, a professional opinion about any particular business or situation or judgment about the risks or appropriateness of any </em><em><u>financial or business</u></em><em> strategy or approach for any specific business or situation. THIS ARTICLE IS NOT A SUBSTITUTE FOR PROFESSIONAL </em><em>ADVICE. The views and opinions expressed in authored articles on OPEN Forum represent the opinion of their author and do not necessarily represent the views, opinions and/or judgments of American Express Company or any of its affiliates, subsidiaries or divisions (including, without limitation, American Express OPEN). American Express makes no representation as to, and is not responsible for, the accuracy, timeliness, completeness or reliability of any opinion, advice or statement made in this article.</em></h5></div>\\n<img src=\"https://d8a8a12b527478184df8-1fd282026c3ff4ae711d11ecc95a1d47.ssl.cf1.rackcdn.com//us/small-business/openforum/wp-content/uploads/2016/10/cash-flow-flowing-wood-display.jpg\" title=\"Preview Image\"/>\\n</noscript>],\n",
       " 'title': ['How to Help Keep Your Cash Flow Flowing']}"
      ]
     },
     "execution_count": 67,
     "metadata": {},
     "output_type": "execute_result"
    }
   ],
   "source": [
    "content = soup.findAll('noscript', attrs={'id':'seo-output'})\n",
    "# article_content = soup.select(\"div\")\n",
    "data['content'].append(content[0])"
   ]
  },
  {
   "cell_type": "code",
   "execution_count": 68,
   "metadata": {
    "collapsed": false
   },
   "outputs": [
    {
     "data": {
      "text/html": [
       "<div>\n",
       "<table border=\"1\" class=\"dataframe\">\n",
       "  <thead>\n",
       "    <tr style=\"text-align: right;\">\n",
       "      <th></th>\n",
       "      <th>article_description</th>\n",
       "      <th>article_pubtime</th>\n",
       "      <th>article_section</th>\n",
       "      <th>article_subtopic</th>\n",
       "      <th>article_tags</th>\n",
       "      <th>article_topic</th>\n",
       "      <th>author_name</th>\n",
       "      <th>content</th>\n",
       "      <th>title</th>\n",
       "    </tr>\n",
       "  </thead>\n",
       "  <tbody>\n",
       "    <tr>\n",
       "      <th>0</th>\n",
       "      <td>Mishandling your finances could spell big prob...</td>\n",
       "      <td>2016-10-13T20:00:00+00:00</td>\n",
       "      <td>Managing Money</td>\n",
       "      <td>Cash Flow</td>\n",
       "      <td>[Accounts Receivable/Payable, Cash Flow, Manag...</td>\n",
       "      <td>Managing Money</td>\n",
       "      <td>Meredith Wood</td>\n",
       "      <td>&lt;noscript id=\"seo-output\"&gt;\n",
       "&lt;h1 id=\"title\"&gt;How ...</td>\n",
       "      <td>How to Help Keep Your Cash Flow Flowing</td>\n",
       "    </tr>\n",
       "  </tbody>\n",
       "</table>\n",
       "</div>"
      ],
      "text/plain": [
       "                                 article_description  \\\n",
       "0  Mishandling your finances could spell big prob...   \n",
       "\n",
       "             article_pubtime article_section article_subtopic  \\\n",
       "0  2016-10-13T20:00:00+00:00  Managing Money        Cash Flow   \n",
       "\n",
       "                                        article_tags   article_topic  \\\n",
       "0  [Accounts Receivable/Payable, Cash Flow, Manag...  Managing Money   \n",
       "\n",
       "     author_name                                            content  \\\n",
       "0  Meredith Wood  <noscript id=\"seo-output\">\n",
       "<h1 id=\"title\">How ...   \n",
       "\n",
       "                                     title  \n",
       "0  How to Help Keep Your Cash Flow Flowing  "
      ]
     },
     "execution_count": 68,
     "metadata": {},
     "output_type": "execute_result"
    }
   ],
   "source": [
    "pd.DataFrame(data)"
   ]
  },
  {
   "cell_type": "code",
   "execution_count": null,
   "metadata": {
    "collapsed": true
   },
   "outputs": [],
   "source": []
  }
 ],
 "metadata": {
  "anaconda-cloud": {},
  "kernelspec": {
   "display_name": "Python [Root]",
   "language": "python",
   "name": "Python [Root]"
  },
  "language_info": {
   "codemirror_mode": {
    "name": "ipython",
    "version": 2
   },
   "file_extension": ".py",
   "mimetype": "text/x-python",
   "name": "python",
   "nbconvert_exporter": "python",
   "pygments_lexer": "ipython2",
   "version": "2.7.12"
  }
 },
 "nbformat": 4,
 "nbformat_minor": 0
}
