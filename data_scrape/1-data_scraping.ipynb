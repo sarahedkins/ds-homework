{
 "cells": [
  {
   "cell_type": "markdown",
   "metadata": {},
   "source": [
    "# 1. Data Scraping"
   ]
  },
  {
   "cell_type": "code",
   "execution_count": 46,
   "metadata": {
    "collapsed": true
   },
   "outputs": [],
   "source": [
    "import pandas as pd\n",
    "import numpy as np\n",
    "import urllib2\n",
    "import bs4\n",
    "from bs4 import BeautifulSoup\n",
    "import json\n",
    "from urllib2 import Request, urlopen, URLError"
   ]
  },
  {
   "cell_type": "code",
   "execution_count": 65,
   "metadata": {
    "collapsed": false
   },
   "outputs": [
    {
     "name": "stdout",
     "output_type": "stream",
     "text": [
      "\n",
      "\n",
      "each:\n",
      "followerCount\n",
      "\n",
      "\n",
      "each:\n",
      "topicPage\n",
      "\n",
      "\n",
      "each:\n",
      "shareToolsData\n",
      "\n",
      "\n",
      "each:\n",
      "headerImageUrl\n",
      "\n",
      "\n",
      "each:\n",
      "topicDescription\n",
      "\n",
      "\n",
      "each:\n",
      "isThirdLevelTopic\n",
      "\n",
      "\n",
      "each:\n",
      "isSubtopic\n",
      "\n",
      "\n",
      "each:\n",
      "parentTopic\n",
      "\n",
      "\n",
      "each:\n",
      "meetTheExpert\n",
      "\n",
      "\n",
      "each:\n",
      "topicUrl\n",
      "\n",
      "\n",
      "each:\n",
      "topicId\n",
      "\n",
      "\n",
      "each:\n",
      "checkTheseOut\n",
      "\n",
      "\n",
      "each:\n",
      "topicSlug\n",
      "\n",
      "\n",
      "each:\n",
      "seeWhatOthers\n",
      "\n",
      "\n",
      "each:\n",
      "isConfigured\n",
      "\n",
      "\n",
      "each:\n",
      "pageType\n",
      "\n",
      "\n",
      "each:\n",
      "topicName\n",
      "\n",
      "\n",
      "each:\n",
      "shareData\n",
      "\n",
      "\n",
      "each:\n",
      "getStartedData\n",
      "\n",
      "\n",
      "each:\n",
      "marketingBanner\n",
      "\n",
      "\n",
      "each:\n",
      "accessFeatures\n",
      "\n",
      "\n",
      "each:\n",
      "subtopics\n",
      "key: postDate\n",
      "key: postClasses\n",
      "key: author\n",
      "key: isEditorial\n",
      "key: title\n",
      "key: excerpt\n",
      "key: permalink\n",
      "key: topic\n",
      "key: isOpenBranded\n",
      "key: omniture\n",
      "key: previewImage\n",
      "key: isFirst\n",
      "key: postId\n",
      "key: type\n",
      "key: isArticle\n"
     ]
    },
    {
     "ename": "AttributeError",
     "evalue": "'dict' object has no attribute 'isArticle'",
     "output_type": "error",
     "traceback": [
      "\u001b[0;31m---------------------------------------------------------------------------\u001b[0m",
      "\u001b[0;31mAttributeError\u001b[0m                            Traceback (most recent call last)",
      "\u001b[0;32m<ipython-input-65-2dfd57785dcf>\u001b[0m in \u001b[0;36m<module>\u001b[0;34m()\u001b[0m\n\u001b[1;32m     20\u001b[0m             \u001b[0;32mprint\u001b[0m \u001b[0;34m\"key:\"\u001b[0m\u001b[0;34m,\u001b[0m \u001b[0mkey\u001b[0m\u001b[0;34m\u001b[0m\u001b[0m\n\u001b[1;32m     21\u001b[0m         \u001b[0;32mif\u001b[0m \u001b[0marticle\u001b[0m\u001b[0;34m.\u001b[0m\u001b[0mhas_key\u001b[0m\u001b[0;34m(\u001b[0m\u001b[0;34m'isArticle'\u001b[0m\u001b[0;34m)\u001b[0m\u001b[0;34m:\u001b[0m\u001b[0;34m\u001b[0m\u001b[0m\n\u001b[0;32m---> 22\u001b[0;31m             \u001b[0;32mif\u001b[0m \u001b[0marticle\u001b[0m\u001b[0;34m.\u001b[0m\u001b[0misArticle\u001b[0m \u001b[0;34m==\u001b[0m \u001b[0mTrue\u001b[0m\u001b[0;34m:\u001b[0m\u001b[0;34m\u001b[0m\u001b[0m\n\u001b[0m\u001b[1;32m     23\u001b[0m                 \u001b[0mscrapeURLS\u001b[0m\u001b[0;34m.\u001b[0m\u001b[0mappend\u001b[0m\u001b[0;34m(\u001b[0m\u001b[0marticle\u001b[0m\u001b[0;34m[\u001b[0m\u001b[0;34m\"permalink\"\u001b[0m\u001b[0;34m]\u001b[0m\u001b[0;34m)\u001b[0m\u001b[0;34m\u001b[0m\u001b[0m\n\u001b[1;32m     24\u001b[0m \u001b[0;34m\u001b[0m\u001b[0m\n",
      "\u001b[0;31mAttributeError\u001b[0m: 'dict' object has no attribute 'isArticle'"
     ]
    }
   ],
   "source": [
    "request = Request('https://www.americanexpress.com/us/small-business/openforum/wp-admin/admin-ajax.php?action=getTopicPageData&topicId=20970&pageType=topic')\n",
    "\n",
    "scrapeURLS = []\n",
    "\n",
    "try:\n",
    "    response = urlopen(request)\n",
    "    resp = response.read()\n",
    "    scriptdata = json.loads(resp)\n",
    "    \n",
    "    for each in scriptdata:\n",
    "        print \"\\n\"\n",
    "        print \"each:\"\n",
    "        print each\n",
    "    \n",
    "    for article in scriptdata[\"getStartedData\"]:\n",
    "#         print \"\\n\"\n",
    "#         print \"PERMALINK:\"\n",
    "#         print article[\"permalink\"]\n",
    "        for key in article:\n",
    "            print \"key:\", key\n",
    "            if key == \n",
    "        if article.has_key('isArticle'):\n",
    "            if article.isArticle == True:\n",
    "                scrapeURLS.append(article[\"permalink\"])    \n",
    "    \n",
    "    print \"scrapeURLS:\"\n",
    "    print scrapeURLS\n",
    "except URLError, e:\n",
    "    print 'Got an error code:', e    "
   ]
  },
  {
   "cell_type": "code",
   "execution_count": 56,
   "metadata": {
    "collapsed": false
   },
   "outputs": [],
   "source": [
    "# # Obtain a list of urls from various sections of the site\n",
    "# starting_point_website = \"https://www.americanexpress.com/us/small-business/openforum/topics/accounts-receivablepayable/?linknav=us-of-article-digdeeper-bottom\"\n",
    "# page = urllib2.urlopen(starting_point_website)\n",
    "# soup = BeautifulSoup(page)\n",
    "\n",
    "# # print soup.prettify()\n",
    "\n",
    "# for a in soup.find_all('a', href=True):\n",
    "# #     if (\"https://www.americanexpress.com/us/small-business/openforum\") in a['href']: \n",
    "#         print \"Found the URL:\", a['href']\n",
    "    \n",
    "# soup.prettify()    "
   ]
  },
  {
   "cell_type": "code",
   "execution_count": 57,
   "metadata": {
    "collapsed": false
   },
   "outputs": [],
   "source": [
    "# # Create a \"soup\" for a webpage\n",
    "# website1 = \"https://www.americanexpress.com/us/small-business/openforum/videos/5-ways-help-grow-small-business-saving-money/?linknav=us-of-topics-getstarted-readmore\"\n",
    "# website2 = \"https://www.americanexpress.com/us/small-business/openforum/articles/keep-cash-flow-flowing/?linknav=us-of-article-trending-1\"\n",
    "# page = urllib2.urlopen(website2)\n",
    "# soup = BeautifulSoup(page) #\"html.parser\""
   ]
  },
  {
   "cell_type": "code",
   "execution_count": 58,
   "metadata": {
    "collapsed": false
   },
   "outputs": [
    {
     "name": "stdout",
     "output_type": "stream",
     "text": [
      "website is: https://www.americanexpress.com/us/small-business/openforum/articles/3-spooky-debt-collection-stories-to-scare-you-straight/?linknav=us-of-topics-getstarted-readmore\n",
      "page is: <addinfourl at 4651190968 whose fp = <socket._fileobject object at 0x1150490d0>>\n",
      "website is: https://www.americanexpress.com/us/small-business/openforum/articles/losing-client-5-signs-important-customer-may-bolting-soon/?linknav=us-of-topics-getstarted-readmore\n",
      "page is: <addinfourl at 4649290496 whose fp = <socket._fileobject object at 0x113db80d0>>\n",
      "website is: https://www.americanexpress.com/us/small-business/openforum/articles/keep-cash-flow-flowing/?linknav=us-of-topics-getstarted-readmore\n",
      "page is: <addinfourl at 4648585336 whose fp = <socket._fileobject object at 0x114ce9b50>>\n",
      "website is: https://www.americanexpress.com/us/small-business/openforum/guides/money-matters-guide-small-business-financing/?linknav=us-of-topics-getstarted-readmore\n",
      "page is: <addinfourl at 4647919488 whose fp = <socket._fileobject object at 0x1150497d0>>\n"
     ]
    },
    {
     "ename": "TypeError",
     "evalue": "'NoneType' object has no attribute '__getitem__'",
     "output_type": "error",
     "traceback": [
      "\u001b[0;31m---------------------------------------------------------------------------\u001b[0m",
      "\u001b[0;31mTypeError\u001b[0m                                 Traceback (most recent call last)",
      "\u001b[0;32m<ipython-input-58-d02457aa0cba>\u001b[0m in \u001b[0;36m<module>\u001b[0;34m()\u001b[0m\n\u001b[1;32m     27\u001b[0m \u001b[0;34m\u001b[0m\u001b[0m\n\u001b[1;32m     28\u001b[0m     \u001b[0marticle_section\u001b[0m \u001b[0;34m=\u001b[0m \u001b[0msoup\u001b[0m\u001b[0;34m.\u001b[0m\u001b[0mfind\u001b[0m\u001b[0;34m(\u001b[0m\u001b[0;32mlambda\u001b[0m \u001b[0mtag\u001b[0m\u001b[0;34m:\u001b[0m \u001b[0mtag\u001b[0m\u001b[0;34m.\u001b[0m\u001b[0mname\u001b[0m \u001b[0;34m==\u001b[0m \u001b[0;34m'meta'\u001b[0m \u001b[0;32mand\u001b[0m \u001b[0;34m'property'\u001b[0m \u001b[0;32min\u001b[0m \u001b[0mtag\u001b[0m\u001b[0;34m.\u001b[0m\u001b[0mattrs\u001b[0m \u001b[0;32mand\u001b[0m \u001b[0mtag\u001b[0m\u001b[0;34m.\u001b[0m\u001b[0mattrs\u001b[0m\u001b[0;34m[\u001b[0m\u001b[0;34m'property'\u001b[0m\u001b[0;34m]\u001b[0m \u001b[0;34m==\u001b[0m \u001b[0;34m\"article:section\"\u001b[0m\u001b[0;34m)\u001b[0m\u001b[0;34m\u001b[0m\u001b[0m\n\u001b[0;32m---> 29\u001b[0;31m     \u001b[0mdata\u001b[0m\u001b[0;34m[\u001b[0m\u001b[0;34m'article_section'\u001b[0m\u001b[0;34m]\u001b[0m\u001b[0;34m.\u001b[0m\u001b[0mappend\u001b[0m\u001b[0;34m(\u001b[0m\u001b[0marticle_section\u001b[0m\u001b[0;34m[\u001b[0m\u001b[0;34m'content'\u001b[0m\u001b[0;34m]\u001b[0m\u001b[0;34m)\u001b[0m\u001b[0;34m\u001b[0m\u001b[0m\n\u001b[0m\u001b[1;32m     30\u001b[0m \u001b[0;34m\u001b[0m\u001b[0m\n\u001b[1;32m     31\u001b[0m     \u001b[0marticle_topic\u001b[0m \u001b[0;34m=\u001b[0m \u001b[0msoup\u001b[0m\u001b[0;34m.\u001b[0m\u001b[0mfind\u001b[0m\u001b[0;34m(\u001b[0m\u001b[0;32mlambda\u001b[0m \u001b[0mtag\u001b[0m\u001b[0;34m:\u001b[0m \u001b[0mtag\u001b[0m\u001b[0;34m.\u001b[0m\u001b[0mname\u001b[0m \u001b[0;34m==\u001b[0m \u001b[0;34m'meta'\u001b[0m \u001b[0;32mand\u001b[0m \u001b[0;34m'property'\u001b[0m \u001b[0;32min\u001b[0m \u001b[0mtag\u001b[0m\u001b[0;34m.\u001b[0m\u001b[0mattrs\u001b[0m \u001b[0;32mand\u001b[0m \u001b[0mtag\u001b[0m\u001b[0;34m.\u001b[0m\u001b[0mattrs\u001b[0m\u001b[0;34m[\u001b[0m\u001b[0;34m'property'\u001b[0m\u001b[0;34m]\u001b[0m \u001b[0;34m==\u001b[0m \u001b[0;34m\"article:topic\"\u001b[0m\u001b[0;34m)\u001b[0m\u001b[0;34m\u001b[0m\u001b[0m\n",
      "\u001b[0;31mTypeError\u001b[0m: 'NoneType' object has no attribute '__getitem__'"
     ]
    }
   ],
   "source": [
    "websites = scrapeURLS\n",
    "\n",
    "data = {\n",
    "    'title' : [],\n",
    "    'author_name' : [],\n",
    "    'article_section' : [],\n",
    "    'article_topic' : [],\n",
    "    'article_subtopic' : [],\n",
    "    'article_pubtime' : [],\n",
    "    'article_description' : [],\n",
    "    'article_tags' : [],\n",
    "    'content' : []\n",
    "}\n",
    "\n",
    "for website in websites:\n",
    "    print \"website is:\", website\n",
    "    page = urllib2.urlopen(website)\n",
    "    print \"page is:\", page\n",
    "    soup = BeautifulSoup(page)\n",
    "    soup.prettify()\n",
    "    \n",
    "    title = soup.find(lambda tag: tag.name == 'meta' and 'property' in tag.attrs and tag.attrs['property'] == \"og:title\")\n",
    "    data['title'].append(title['content'])\n",
    "    \n",
    "    author_name = soup.find(lambda tag: tag.name == 'meta' and 'property' in tag.attrs and tag.attrs['property'] == \"article:author_name\")\n",
    "    data['author_name'].append(author_name['content'])\n",
    "    \n",
    "    article_section = soup.find(lambda tag: tag.name == 'meta' and 'property' in tag.attrs and tag.attrs['property'] == \"article:section\")\n",
    "    data['article_section'].append(article_section['content'])\n",
    "    \n",
    "    article_topic = soup.find(lambda tag: tag.name == 'meta' and 'property' in tag.attrs and tag.attrs['property'] == \"article:topic\")\n",
    "    data['article_topic'].append(article_topic['content'])\n",
    "    \n",
    "    article_subtopic = soup.find(lambda tag: tag.name == 'meta' and 'property' in tag.attrs and tag.attrs['property'] == \"article:sub_topic\")\n",
    "    data['article_subtopic'].append(article_subtopic['content'])\n",
    "\n",
    "    article_pubtime = soup.find(lambda tag: tag.name == 'meta' and 'property' in tag.attrs and tag.attrs['property'] == \"article:published_time\")\n",
    "    data['article_pubtime'].append(article_pubtime['content'])\n",
    "    \n",
    "    article_description = soup.find(lambda tag: tag.name == 'meta' and 'property' in tag.attrs and tag.attrs['property'] == \"og:description\")\n",
    "    data['article_description'].append(article_description['content'])\n",
    "    \n",
    "    article_tags = soup.find_all(lambda tag: tag.name == 'meta' and 'property' in tag.attrs and tag.attrs['property'] == \"article:tag\")\n",
    "    article_tags = [tag['content'] for tag in article_tags]\n",
    "    data['article_tags'].append(article_tags)\n",
    "    \n",
    "    content = soup.findAll('noscript', attrs={'id':'seo-output'})\n",
    "    data['content'].append(content[0])\n",
    "\n",
    "    \n",
    "pd.DataFrame(data)   \n"
   ]
  },
  {
   "cell_type": "code",
   "execution_count": 77,
   "metadata": {
    "collapsed": false
   },
   "outputs": [],
   "source": [
    "# print soup.prettify()"
   ]
  },
  {
   "cell_type": "code",
   "execution_count": 56,
   "metadata": {
    "collapsed": true
   },
   "outputs": [],
   "source": [
    "data = {\n",
    "    'title' : [],\n",
    "    'author_name' : [],\n",
    "    'article_section' : [],\n",
    "    'article_topic' : [],\n",
    "    'article_subtopic' : [],\n",
    "    'article_pubtime' : [],\n",
    "    'article_description' : [],\n",
    "    'article_tags' : [],\n",
    "    'content' : []\n",
    "}"
   ]
  },
  {
   "cell_type": "code",
   "execution_count": 57,
   "metadata": {
    "collapsed": false
   },
   "outputs": [],
   "source": [
    "title = soup.find(lambda tag: tag.name == 'meta' and 'property' in tag.attrs and tag.attrs['property'] == \"og:title\")\n",
    "data['title'].append(title['content'])"
   ]
  },
  {
   "cell_type": "code",
   "execution_count": 58,
   "metadata": {
    "collapsed": false
   },
   "outputs": [],
   "source": [
    "author_name = soup.find(lambda tag: tag.name == 'meta' and 'property' in tag.attrs and tag.attrs['property'] == \"article:author_name\")\n",
    "data['author_name'].append(author_name['content'])"
   ]
  },
  {
   "cell_type": "code",
   "execution_count": 59,
   "metadata": {
    "collapsed": false
   },
   "outputs": [],
   "source": [
    "# author_first_name = soup.find(lambda tag: tag.name == 'meta' and 'property' in tag.attrs and tag.attrs['property'] == \"article:author_first_name\")\n",
    "# author_first_name['content']"
   ]
  },
  {
   "cell_type": "code",
   "execution_count": 60,
   "metadata": {
    "collapsed": false
   },
   "outputs": [],
   "source": [
    "# author_last_name = soup.find(lambda tag: tag.name == 'meta' and 'property' in tag.attrs and tag.attrs['property'] == \"article:author_last_name\")\n",
    "# author_last_name['content']"
   ]
  },
  {
   "cell_type": "code",
   "execution_count": 61,
   "metadata": {
    "collapsed": false
   },
   "outputs": [],
   "source": [
    "article_section = soup.find(lambda tag: tag.name == 'meta' and 'property' in tag.attrs and tag.attrs['property'] == \"article:section\")\n",
    "article_section['content']\n",
    "data['article_section'].append(article_section['content'])"
   ]
  },
  {
   "cell_type": "code",
   "execution_count": 62,
   "metadata": {
    "collapsed": false
   },
   "outputs": [],
   "source": [
    "article_topic = soup.find(lambda tag: tag.name == 'meta' and 'property' in tag.attrs and tag.attrs['property'] == \"article:topic\")\n",
    "data['article_topic'].append(article_topic['content'])"
   ]
  },
  {
   "cell_type": "code",
   "execution_count": 63,
   "metadata": {
    "collapsed": false
   },
   "outputs": [],
   "source": [
    "article_subtopic = soup.find(lambda tag: tag.name == 'meta' and 'property' in tag.attrs and tag.attrs['property'] == \"article:sub_topic\")\n",
    "article_subtopic['content']\n",
    "data['article_subtopic'].append(article_subtopic['content'])"
   ]
  },
  {
   "cell_type": "code",
   "execution_count": 64,
   "metadata": {
    "collapsed": false
   },
   "outputs": [
    {
     "data": {
      "text/plain": [
       "{'article_description': [],\n",
       " 'article_pubtime': ['2016-10-13T20:00:00+00:00'],\n",
       " 'article_section': ['Managing Money'],\n",
       " 'article_subtopic': ['Cash Flow'],\n",
       " 'article_tags': [],\n",
       " 'article_topic': ['Managing Money'],\n",
       " 'author_name': ['Meredith Wood'],\n",
       " 'content': [],\n",
       " 'title': ['How to Help Keep Your Cash Flow Flowing']}"
      ]
     },
     "execution_count": 64,
     "metadata": {},
     "output_type": "execute_result"
    }
   ],
   "source": [
    "article_pubtime = soup.find(lambda tag: tag.name == 'meta' and 'property' in tag.attrs and tag.attrs['property'] == \"article:published_time\")\n",
    "article_pubtime['content']\n",
    "data['article_pubtime'].append(article_pubtime['content'])\n",
    "data"
   ]
  },
  {
   "cell_type": "code",
   "execution_count": 65,
   "metadata": {
    "collapsed": false
   },
   "outputs": [],
   "source": [
    "article_description = soup.find(lambda tag: tag.name == 'meta' and 'property' in tag.attrs and tag.attrs['property'] == \"og:description\")\n",
    "article_description['content']\n",
    "data['article_description'].append(article_description['content'])"
   ]
  },
  {
   "cell_type": "code",
   "execution_count": 66,
   "metadata": {
    "collapsed": false
   },
   "outputs": [],
   "source": [
    "article_tags = soup.find_all(lambda tag: tag.name == 'meta' and 'property' in tag.attrs and tag.attrs['property'] == \"article:tag\")\n",
    "article_tags = [tag['content'] for tag in article_tags]\n",
    "article_tags\n",
    "data['article_tags'].append(article_tags)"
   ]
  },
  {
   "cell_type": "code",
   "execution_count": 67,
   "metadata": {
    "collapsed": false
   },
   "outputs": [
    {
     "data": {
      "text/plain": [
       "{'article_description': ['Mishandling your finances could spell big problems for your business. Here are a few tips on how you can help save a lot by saving a little. '],\n",
       " 'article_pubtime': ['2016-10-13T20:00:00+00:00'],\n",
       " 'article_section': ['Managing Money'],\n",
       " 'article_subtopic': ['Cash Flow'],\n",
       " 'article_tags': [['Accounts Receivable/Payable',\n",
       "   'Cash Flow',\n",
       "   'Managing Money',\n",
       "   'Saving Money']],\n",
       " 'article_topic': ['Managing Money'],\n",
       " 'author_name': ['Meredith Wood'],\n",
       " 'content': [<noscript id=\"seo-output\">\\n<h1 id=\"title\">How to Help Keep Your Cash Flow Flowing</h1>\\n<div id=\"author\">\\n<div id=\"name\">Meredith Wood</div>\\n<div id=\"title\">Head of Content and Editor-in-Chief, Fundera</div>\\n<div id=\"bio\">Editor-in-Chief at Fundera, the most trusted online marketplace for small business loans.</div>\\n</div>\\n<div id=\"content\"><p>You could have an absolutely dynamite product or service. Your business model could be impeccable. But if you don't manage your cash correctly, you very well could fail.</p><p>Clearly, to run a successful business, you need more than just a good idea. You need a solid managerial strategy. You must focus on the books. Because if you mishandle your finances, your business could be toast.</p><p>One way to help improve your company's finances is to look for areas in which you are losing cash. You'll probably find that you are spending money that you simply don't have to spend. So, wise up and fix the issue. Here are five signs that your business could be bleeding cash\\u2014and some advice on how to stop it.</p><h2>1. Management tasks are done manually.</h2><p>Is too much time being wasted on sending invoices, processing payroll, sorting emails and scheduling appointments? It's alarming that, according to a 2015 survey of nearly 1,000 managers in the U.S. and U.K. by ServiceNow, nearly <a href=\"https://www.servicenow.com/content/dam/servicenow/documents/whitepapers/sn-state-of-work-report.pdf\" target=\"_blank\">half of managers say this type of administrative work leaves them with less time</a> for strategic initiatives.</p><p>While these duties are certainly important, they can be automated with today's technological solutions. And you and your team can spend more time on what matters\\u2014producing a great product or service.</p><p>For example, to process payments to employees, you can <a href=\"https://www.fundera.com/blog/2016/08/09/intuit-online-payroll\" target=\"_blank\">use payroll solutions like Intuit Online Payroll</a> or Quickbooks Online Payroll. If you run social-media marketing campaigns, try a service like Hootsuite to schedule posts to go live across all your channels. And for scheduling meetings, try a tool like Calendly.</p><h2>2. Clients aren't paying on time.</h2><p>Every startup and small business has been left waiting for payment at some point. Even if you know you'll eventually get paid, this is still costing you money.</p><p>While waiting for payment, you may have to get money from other sources to pay employees, fund marketing initiatives, cover rent and handle other requirements. Obtaining that money from a business line of credit or business credit card, for instance, is very possible. But this can cost you in interest (which would be totally unnecessary if the client had paid you on time).</p><p>To stop this from happening, politely establish clear payment policies with each client. You could ask for a percentage up front, and the rest once the project's completed. Also, automate invoicing and reminders if the payment is late, and set a timeframe for charging a late fee. If payment is significantly late (like four weeks), you might consider stopping work until the balance is paid.</p><h2>3. Rent is just too much.</h2><p>Yes, a swanky downtown office is nice, but you don't necessarily need it. Put that cash toward other activities, like marketing and advertising campaigns.</p><p>Co-working spaces can offer flexible short-term leasing plans for shared office space. You can also allow employees to work from home, which may raise productivity and workplace satisfaction all around. When your team needs to meet, you can do so virtually or in a public setting, like a cafe or library.</p><h2>4. Daily expenses are too high.</h2><p>Sure, it's nice to have the newest computers for your employees. Going out to eat each Friday is cool, too. And keeping the office super clean makes you feel good. But it's all probably unnecessary. Or, at the very least, you can choose much cheaper alternatives.</p><p>Just think about the classic coffee example. If a cup of coffee costs $3 with tip, that runs you $15 per week for each worker if you buy outside. Make it in the office, and you can help get those costs down considerably (probably to just a few bucks per worker).</p><p>Everything adds up over time, so you should try to save wherever you can. Do your best to track all your expenses and your wallet will thank you for it.</p><h2>5. You don't negotiate deals.</h2><p>If you don't at least attempt to negotiate pricing with your vendors, you are leaving money on the table. Whenever you hire outside help to provide goods or services, don't be hesitant to counteroffer. At worst, the price remains the same. At best, you save lots of money over time.</p><p>Getting the <a href=\"https://www.americanexpress.com/us/small-business/openforum/articles/8-ways-your-business-is-hemorrhaging-money/\" target=\"_blank\">price of goods or services cut down by 5 to 10 percent</a> (or more) is not impossible. Even if you already have a contract with most of your vendors, don't hesitate to reach out and discuss rates. When negotiating a deal, don't be contentious. Be professional, and explain your business situation. Make sure to offer them something in return for cutting rates, such as a contract extension.</p><p>Also, if you can, gather bids from multiple vendors when looking for help. Compare and choose the best offer for your company.</p><h2>Stop the bleeding and build for the future.</h2><p>It's tough to grow a business when you are constantly paying off debt, waiting on client payments and paying more than you should for services, products and property. It's also difficult to see how to turn your financial situation around when you don't track it.</p><p>Going forward, be completely clear on where your money is coming from and going to. Then, address the pain points with prejudice. By securing your cash flow, your company won't be held back by poor money management\\u2014and you can grow and scale when the demand arises.</p><h5><em>Photo: iStock</em></h5><h5><em>The information contained in this article is for generalized informational and educational purposes only and is not designed to substitute for, or replace, a professional opinion about any particular business or situation or judgment about the risks or appropriateness of any </em><em><u>financial or business</u></em><em> strategy or approach for any specific business or situation. THIS ARTICLE IS NOT A SUBSTITUTE FOR PROFESSIONAL </em><em>ADVICE. The views and opinions expressed in authored articles on OPEN Forum represent the opinion of their author and do not necessarily represent the views, opinions and/or judgments of American Express Company or any of its affiliates, subsidiaries or divisions (including, without limitation, American Express OPEN). American Express makes no representation as to, and is not responsible for, the accuracy, timeliness, completeness or reliability of any opinion, advice or statement made in this article.</em></h5></div>\\n<img src=\"https://d8a8a12b527478184df8-1fd282026c3ff4ae711d11ecc95a1d47.ssl.cf1.rackcdn.com//us/small-business/openforum/wp-content/uploads/2016/10/cash-flow-flowing-wood-display.jpg\" title=\"Preview Image\"/>\\n</noscript>],\n",
       " 'title': ['How to Help Keep Your Cash Flow Flowing']}"
      ]
     },
     "execution_count": 67,
     "metadata": {},
     "output_type": "execute_result"
    }
   ],
   "source": [
    "content = soup.findAll('noscript', attrs={'id':'seo-output'})\n",
    "# article_content = soup.select(\"div\")\n",
    "data['content'].append(content[0])"
   ]
  },
  {
   "cell_type": "code",
   "execution_count": 68,
   "metadata": {
    "collapsed": false
   },
   "outputs": [
    {
     "data": {
      "text/html": [
       "<div>\n",
       "<table border=\"1\" class=\"dataframe\">\n",
       "  <thead>\n",
       "    <tr style=\"text-align: right;\">\n",
       "      <th></th>\n",
       "      <th>article_description</th>\n",
       "      <th>article_pubtime</th>\n",
       "      <th>article_section</th>\n",
       "      <th>article_subtopic</th>\n",
       "      <th>article_tags</th>\n",
       "      <th>article_topic</th>\n",
       "      <th>author_name</th>\n",
       "      <th>content</th>\n",
       "      <th>title</th>\n",
       "    </tr>\n",
       "  </thead>\n",
       "  <tbody>\n",
       "    <tr>\n",
       "      <th>0</th>\n",
       "      <td>Mishandling your finances could spell big prob...</td>\n",
       "      <td>2016-10-13T20:00:00+00:00</td>\n",
       "      <td>Managing Money</td>\n",
       "      <td>Cash Flow</td>\n",
       "      <td>[Accounts Receivable/Payable, Cash Flow, Manag...</td>\n",
       "      <td>Managing Money</td>\n",
       "      <td>Meredith Wood</td>\n",
       "      <td>&lt;noscript id=\"seo-output\"&gt;\n",
       "&lt;h1 id=\"title\"&gt;How ...</td>\n",
       "      <td>How to Help Keep Your Cash Flow Flowing</td>\n",
       "    </tr>\n",
       "  </tbody>\n",
       "</table>\n",
       "</div>"
      ],
      "text/plain": [
       "                                 article_description  \\\n",
       "0  Mishandling your finances could spell big prob...   \n",
       "\n",
       "             article_pubtime article_section article_subtopic  \\\n",
       "0  2016-10-13T20:00:00+00:00  Managing Money        Cash Flow   \n",
       "\n",
       "                                        article_tags   article_topic  \\\n",
       "0  [Accounts Receivable/Payable, Cash Flow, Manag...  Managing Money   \n",
       "\n",
       "     author_name                                            content  \\\n",
       "0  Meredith Wood  <noscript id=\"seo-output\">\n",
       "<h1 id=\"title\">How ...   \n",
       "\n",
       "                                     title  \n",
       "0  How to Help Keep Your Cash Flow Flowing  "
      ]
     },
     "execution_count": 68,
     "metadata": {},
     "output_type": "execute_result"
    }
   ],
   "source": [
    "pd.DataFrame(data)"
   ]
  },
  {
   "cell_type": "code",
   "execution_count": null,
   "metadata": {
    "collapsed": true
   },
   "outputs": [],
   "source": []
  }
 ],
 "metadata": {
  "anaconda-cloud": {},
  "kernelspec": {
   "display_name": "Python [Root]",
   "language": "python",
   "name": "Python [Root]"
  },
  "language_info": {
   "codemirror_mode": {
    "name": "ipython",
    "version": 2
   },
   "file_extension": ".py",
   "mimetype": "text/x-python",
   "name": "python",
   "nbconvert_exporter": "python",
   "pygments_lexer": "ipython2",
   "version": "2.7.12"
  }
 },
 "nbformat": 4,
 "nbformat_minor": 0
}
